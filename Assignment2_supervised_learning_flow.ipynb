{
 "cells": [
  {
   "cell_type": "markdown",
   "id": "b06a2810",
   "metadata": {},
   "source": [
    "### Part 1 - Student details:\n",
    "* Please write the First Name and last 4 digits of the i.d. for each student. For example:\n",
    "<pre>Israel 7938</pre>"
   ]
  },
  {
   "cell_type": "code",
   "id": "ca16486b",
   "metadata": {
    "ExecuteTime": {
     "end_time": "2024-06-03T08:49:42.108928Z",
     "start_time": "2024-06-03T08:49:42.105909Z"
    }
   },
   "source": [
    "# student 1: Israel 7938\n",
    "# student 2: Eran 6215\n",
    "# student 3: Avihai 2474\n",
    "# student 4: Almog 8269\n",
    "# student 5: Liron 5068\n",
    "# student 6: Matan ####"
   ],
   "outputs": [],
   "execution_count": 25
  },
  {
   "cell_type": "code",
   "id": "bac1a236",
   "metadata": {
    "ExecuteTime": {
     "end_time": "2024-06-03T08:49:42.138469Z",
     "start_time": "2024-06-03T08:49:42.135464Z"
    }
   },
   "source": "",
   "outputs": [],
   "execution_count": 25
  },
  {
   "cell_type": "markdown",
   "id": "fb36672a",
   "metadata": {},
   "source": [
    "## Part 2 - Experiments\n",
    "You could add as many code cells as needed"
   ]
  },
  {
   "cell_type": "code",
   "id": "b7098585",
   "metadata": {
    "ExecuteTime": {
     "end_time": "2024-06-03T08:49:42.168792Z",
     "start_time": "2024-06-03T08:49:42.165287Z"
    }
   },
   "source": [
    "import numpy as np\n",
    "import pandas as pd\n",
    "import matplotlib.pyplot as plt\n",
    "import sklearn as sklearn"
   ],
   "outputs": [],
   "execution_count": 26
  },
  {
   "cell_type": "code",
   "id": "097afb02",
   "metadata": {
    "ExecuteTime": {
     "end_time": "2024-06-03T08:49:42.193020Z",
     "start_time": "2024-06-03T08:49:42.184315Z"
    }
   },
   "source": [
    "df_train = pd.read_csv('titanic_train.csv')\n",
    "survivedMan = df_train[(df_train['Sex'] == 1) & (df_train['Age'] > 18) & (df_train['Survived'] == 1)]\n",
    "survivedManCount = len(survivedMan)\n",
    "print(\"Survived man :\",survivedManCount)\n",
    "\n",
    "#Women\n",
    "survivedWomen = df_train[(df_train['Sex'] == 0) & (df_train['Age'] > 18) & (df_train['Survived'] == 1)]\n",
    "survivedWomenCount = len(survivedWomen)\n",
    "print(\"survived women:\",survivedWomenCount)\n",
    "\n",
    "survivedKids = df_train[(df_train['Age'] <= 18) & (df_train['Survived'] == 1)]\n",
    "survivedKidsCount = len(survivedKids)\n",
    "print(\"survived kids\",survivedKidsCount)\n",
    "\n",
    "survivedCount = len(df_train[df_train['Survived'] == 1])"
   ],
   "outputs": [
    {
     "name": "stdout",
     "output_type": "stream",
     "text": [
      "Survived man : 69\n",
      "survived women: 156\n",
      "survived kids 56\n"
     ]
    }
   ],
   "execution_count": 27
  },
  {
   "cell_type": "code",
   "id": "1fa9ec73",
   "metadata": {
    "ExecuteTime": {
     "end_time": "2024-06-03T08:51:51.282839Z",
     "start_time": "2024-06-03T08:51:51.277768Z"
    }
   },
   "source": "df_train.isnull().sum() ",
   "outputs": [
    {
     "data": {
      "text/plain": [
       "Pclass      0\n",
       "Sex         0\n",
       "Age         0\n",
       "SibSp       0\n",
       "Parch       0\n",
       "Fare        0\n",
       "Embarked    0\n",
       "Survived    0\n",
       "dtype: int64"
      ]
     },
     "execution_count": 32,
     "metadata": {},
     "output_type": "execute_result"
    }
   ],
   "execution_count": 32
  },
  {
   "cell_type": "code",
   "id": "a725c28b",
   "metadata": {
    "ExecuteTime": {
     "end_time": "2024-06-03T08:49:42.221327Z",
     "start_time": "2024-06-03T08:49:42.219185Z"
    }
   },
   "source": "",
   "outputs": [],
   "execution_count": 27
  },
  {
   "cell_type": "markdown",
   "id": "67d97f11",
   "metadata": {},
   "source": [
    "## Part 3 - Training flow\n",
    "Use the best combination of feature engineering, model (algorithm and hyperparameters) from the experiment part (part 2)"
   ]
  },
  {
   "cell_type": "code",
   "id": "93713ead",
   "metadata": {
    "ExecuteTime": {
     "end_time": "2024-06-03T08:50:24.455556Z",
     "start_time": "2024-06-03T08:50:24.447374Z"
    }
   },
   "source": [
    "train_set = pd.read_csv(\"titanic_train.csv\")\n",
    "train_set.head()"
   ],
   "outputs": [
    {
     "data": {
      "text/plain": [
       "   Pclass  Sex   Age  SibSp  Parch     Fare  Embarked  Survived\n",
       "0       1    0  54.0      1      0  78.2667         1         1\n",
       "1       2    0  45.0      0      0  13.5000         0         1\n",
       "2       3    1  20.0      0      0   9.5000         0         0\n",
       "3       3    1  36.0      0      0   7.8958         0         0\n",
       "4       3    1  22.0      0      0   8.0500         0         0"
      ],
      "text/html": [
       "<div>\n",
       "<style scoped>\n",
       "    .dataframe tbody tr th:only-of-type {\n",
       "        vertical-align: middle;\n",
       "    }\n",
       "\n",
       "    .dataframe tbody tr th {\n",
       "        vertical-align: top;\n",
       "    }\n",
       "\n",
       "    .dataframe thead th {\n",
       "        text-align: right;\n",
       "    }\n",
       "</style>\n",
       "<table border=\"1\" class=\"dataframe\">\n",
       "  <thead>\n",
       "    <tr style=\"text-align: right;\">\n",
       "      <th></th>\n",
       "      <th>Pclass</th>\n",
       "      <th>Sex</th>\n",
       "      <th>Age</th>\n",
       "      <th>SibSp</th>\n",
       "      <th>Parch</th>\n",
       "      <th>Fare</th>\n",
       "      <th>Embarked</th>\n",
       "      <th>Survived</th>\n",
       "    </tr>\n",
       "  </thead>\n",
       "  <tbody>\n",
       "    <tr>\n",
       "      <th>0</th>\n",
       "      <td>1</td>\n",
       "      <td>0</td>\n",
       "      <td>54.0</td>\n",
       "      <td>1</td>\n",
       "      <td>0</td>\n",
       "      <td>78.2667</td>\n",
       "      <td>1</td>\n",
       "      <td>1</td>\n",
       "    </tr>\n",
       "    <tr>\n",
       "      <th>1</th>\n",
       "      <td>2</td>\n",
       "      <td>0</td>\n",
       "      <td>45.0</td>\n",
       "      <td>0</td>\n",
       "      <td>0</td>\n",
       "      <td>13.5000</td>\n",
       "      <td>0</td>\n",
       "      <td>1</td>\n",
       "    </tr>\n",
       "    <tr>\n",
       "      <th>2</th>\n",
       "      <td>3</td>\n",
       "      <td>1</td>\n",
       "      <td>20.0</td>\n",
       "      <td>0</td>\n",
       "      <td>0</td>\n",
       "      <td>9.5000</td>\n",
       "      <td>0</td>\n",
       "      <td>0</td>\n",
       "    </tr>\n",
       "    <tr>\n",
       "      <th>3</th>\n",
       "      <td>3</td>\n",
       "      <td>1</td>\n",
       "      <td>36.0</td>\n",
       "      <td>0</td>\n",
       "      <td>0</td>\n",
       "      <td>7.8958</td>\n",
       "      <td>0</td>\n",
       "      <td>0</td>\n",
       "    </tr>\n",
       "    <tr>\n",
       "      <th>4</th>\n",
       "      <td>3</td>\n",
       "      <td>1</td>\n",
       "      <td>22.0</td>\n",
       "      <td>0</td>\n",
       "      <td>0</td>\n",
       "      <td>8.0500</td>\n",
       "      <td>0</td>\n",
       "      <td>0</td>\n",
       "    </tr>\n",
       "  </tbody>\n",
       "</table>\n",
       "</div>"
      ]
     },
     "execution_count": 31,
     "metadata": {},
     "output_type": "execute_result"
    }
   ],
   "execution_count": 31
  },
  {
   "cell_type": "code",
   "id": "c0fc460d",
   "metadata": {
    "ExecuteTime": {
     "end_time": "2024-06-03T08:49:42.353118Z",
     "start_time": "2024-06-03T08:49:42.351117Z"
    }
   },
   "source": "",
   "outputs": [],
   "execution_count": 29
  },
  {
   "cell_type": "code",
   "id": "064ad0a0",
   "metadata": {
    "ExecuteTime": {
     "end_time": "2024-06-03T08:49:42.439946Z",
     "start_time": "2024-06-03T08:49:42.437267Z"
    }
   },
   "source": "",
   "outputs": [],
   "execution_count": 29
  },
  {
   "cell_type": "code",
   "id": "2122a400",
   "metadata": {
    "ExecuteTime": {
     "end_time": "2024-06-03T08:49:42.470229Z",
     "start_time": "2024-06-03T08:49:42.468518Z"
    }
   },
   "source": "",
   "outputs": [],
   "execution_count": 29
  },
  {
   "cell_type": "code",
   "id": "f1043bb1",
   "metadata": {
    "ExecuteTime": {
     "end_time": "2024-06-03T08:49:42.479933Z",
     "start_time": "2024-06-03T08:49:42.477234Z"
    }
   },
   "source": "",
   "outputs": [],
   "execution_count": 29
  },
  {
   "cell_type": "code",
   "id": "71369aa8",
   "metadata": {
    "ExecuteTime": {
     "end_time": "2024-06-03T08:49:42.493910Z",
     "start_time": "2024-06-03T08:49:42.491446Z"
    }
   },
   "source": [],
   "outputs": [],
   "execution_count": 29
  },
  {
   "cell_type": "code",
   "id": "43eaef8b",
   "metadata": {
    "ExecuteTime": {
     "end_time": "2024-06-03T08:49:42.513642Z",
     "start_time": "2024-06-03T08:49:42.511483Z"
    }
   },
   "source": [],
   "outputs": [],
   "execution_count": 29
  },
  {
   "cell_type": "code",
   "id": "511adbc3",
   "metadata": {
    "ExecuteTime": {
     "end_time": "2024-06-03T08:49:42.517105Z",
     "start_time": "2024-06-03T08:49:42.514646Z"
    }
   },
   "source": [],
   "outputs": [],
   "execution_count": 29
  },
  {
   "cell_type": "markdown",
   "id": "259ab902",
   "metadata": {},
   "source": [
    "## Part 4 - Apply on test and show model performance estimation"
   ]
  },
  {
   "cell_type": "code",
   "id": "d9971aa5",
   "metadata": {
    "ExecuteTime": {
     "end_time": "2024-06-03T08:49:42.532254Z",
     "start_time": "2024-06-03T08:49:42.522630Z"
    }
   },
   "source": "test_set = pd.read_csv(\"titanic_test.csv\")",
   "outputs": [],
   "execution_count": 30
  },
  {
   "cell_type": "code",
   "id": "00d8aa96",
   "metadata": {
    "ExecuteTime": {
     "end_time": "2024-06-03T08:49:42.535762Z",
     "start_time": "2024-06-03T08:49:42.533258Z"
    }
   },
   "source": [],
   "outputs": [],
   "execution_count": 30
  },
  {
   "cell_type": "code",
   "id": "686b0d71",
   "metadata": {
    "ExecuteTime": {
     "end_time": "2024-06-03T08:49:42.538767Z",
     "start_time": "2024-06-03T08:49:42.536767Z"
    }
   },
   "source": [],
   "outputs": [],
   "execution_count": 30
  },
  {
   "cell_type": "code",
   "id": "874a9887",
   "metadata": {
    "ExecuteTime": {
     "end_time": "2024-06-03T08:49:42.541722Z",
     "start_time": "2024-06-03T08:49:42.539820Z"
    }
   },
   "source": [],
   "outputs": [],
   "execution_count": 30
  },
  {
   "cell_type": "code",
   "id": "8a68001f",
   "metadata": {
    "ExecuteTime": {
     "end_time": "2024-06-03T08:49:42.553271Z",
     "start_time": "2024-06-03T08:49:42.550794Z"
    }
   },
   "source": [],
   "outputs": [],
   "execution_count": 30
  }
 ],
 "metadata": {
  "kernelspec": {
   "display_name": "Python 3.7.6 ('base')",
   "language": "python",
   "name": "python3"
  },
  "language_info": {
   "codemirror_mode": {
    "name": "ipython",
    "version": 3
   },
   "file_extension": ".py",
   "mimetype": "text/x-python",
   "name": "python",
   "nbconvert_exporter": "python",
   "pygments_lexer": "ipython3",
   "version": "3.7.6"
  },
  "vscode": {
   "interpreter": {
    "hash": "49cb93f377a7abe7414b7b0f21fb3017538004a126cf690fb524202736b7fb92"
   }
  }
 },
 "nbformat": 4,
 "nbformat_minor": 5
}
