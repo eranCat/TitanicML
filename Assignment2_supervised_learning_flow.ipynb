{
 "cells": [
  {
   "cell_type": "markdown",
   "id": "b06a2810",
   "metadata": {},
   "source": [
    "### Part 1 - Student details:\n",
    "* Please write the First Name and last 4 digits of the i.d. for each student. For example:\n",
    "<pre>Israel 7938</pre>"
   ]
  },
  {
   "cell_type": "code",
   "execution_count": 1745,
   "id": "ca16486b",
   "metadata": {
    "ExecuteTime": {
     "end_time": "2024-06-08T09:38:17.706196Z",
     "start_time": "2024-06-08T09:38:17.703824Z"
    }
   },
   "outputs": [],
   "source": [
    "# student 1: Israel 7938\n",
    "# student 2: Eran 6215\n",
    "# student 3: Avihai 2474\n",
    "# student 4: Almog 8269\n",
    "# student 5: Liron 5068\n",
    "# student 6: Matan 9999"
   ]
  },
  {
   "cell_type": "markdown",
   "id": "fb36672a",
   "metadata": {},
   "source": [
    "## Part 2 - Experiments\n",
    "You could add as many code cells as needed"
   ]
  },
  {
   "cell_type": "code",
   "execution_count": 1746,
   "id": "b7098585",
   "metadata": {
    "ExecuteTime": {
     "end_time": "2024-06-08T09:38:17.870516Z",
     "start_time": "2024-06-08T09:38:17.866716Z"
    }
   },
   "outputs": [],
   "source": [
    "import numpy as np\n",
    "import pandas as pd\n",
    "import matplotlib.pyplot as plt\n",
    "import sklearn as sklearn\n",
    "import seaborn as sns\n",
    "from sklearn.preprocessing import StandardScaler\n",
    "from sklearn.neighbors import KNeighborsClassifier\n",
    "from sklearn.metrics import accuracy_score, confusion_matrix, classification_report, f1_score, recall_score, precision_score\n",
    "from sklearn.naive_bayes import GaussianNB\n",
    "from sklearn.model_selection import train_test_split\n",
    "from sklearn.pipeline import Pipeline\n",
    "from sklearn.decomposition import PCA"
   ]
  },
  {
   "cell_type": "code",
   "execution_count": 1747,
   "id": "3b63b9d3-65e3-4151-a240-8d7236e7d9f1",
   "metadata": {
    "ExecuteTime": {
     "end_time": "2024-06-08T09:38:17.897036Z",
     "start_time": "2024-06-08T09:38:17.889534Z"
    }
   },
   "outputs": [],
   "source": [
    "train_set = pd.read_csv('titanic_train.csv')\n",
    "test_set = pd.read_csv(\"titanic_test.csv\")"
   ]
  },
  {
   "cell_type": "code",
   "execution_count": 1748,
   "id": "fad49cb1f89e16a6",
   "metadata": {
    "ExecuteTime": {
     "end_time": "2024-06-08T09:38:17.915649Z",
     "start_time": "2024-06-08T09:38:17.908056Z"
    }
   },
   "outputs": [
    {
     "data": {
      "text/html": [
       "<div>\n",
       "<style scoped>\n",
       "    .dataframe tbody tr th:only-of-type {\n",
       "        vertical-align: middle;\n",
       "    }\n",
       "\n",
       "    .dataframe tbody tr th {\n",
       "        vertical-align: top;\n",
       "    }\n",
       "\n",
       "    .dataframe thead th {\n",
       "        text-align: right;\n",
       "    }\n",
       "</style>\n",
       "<table border=\"1\" class=\"dataframe\">\n",
       "  <thead>\n",
       "    <tr style=\"text-align: right;\">\n",
       "      <th></th>\n",
       "      <th>Pclass</th>\n",
       "      <th>Sex</th>\n",
       "      <th>Age</th>\n",
       "      <th>SibSp</th>\n",
       "      <th>Parch</th>\n",
       "      <th>Fare</th>\n",
       "      <th>Embarked</th>\n",
       "      <th>Survived</th>\n",
       "    </tr>\n",
       "  </thead>\n",
       "  <tbody>\n",
       "    <tr>\n",
       "      <th>0</th>\n",
       "      <td>1</td>\n",
       "      <td>0</td>\n",
       "      <td>54.0</td>\n",
       "      <td>1</td>\n",
       "      <td>0</td>\n",
       "      <td>78.2667</td>\n",
       "      <td>1</td>\n",
       "      <td>1</td>\n",
       "    </tr>\n",
       "    <tr>\n",
       "      <th>1</th>\n",
       "      <td>2</td>\n",
       "      <td>0</td>\n",
       "      <td>45.0</td>\n",
       "      <td>0</td>\n",
       "      <td>0</td>\n",
       "      <td>13.5000</td>\n",
       "      <td>0</td>\n",
       "      <td>1</td>\n",
       "    </tr>\n",
       "    <tr>\n",
       "      <th>2</th>\n",
       "      <td>3</td>\n",
       "      <td>1</td>\n",
       "      <td>20.0</td>\n",
       "      <td>0</td>\n",
       "      <td>0</td>\n",
       "      <td>9.5000</td>\n",
       "      <td>0</td>\n",
       "      <td>0</td>\n",
       "    </tr>\n",
       "    <tr>\n",
       "      <th>3</th>\n",
       "      <td>3</td>\n",
       "      <td>1</td>\n",
       "      <td>36.0</td>\n",
       "      <td>0</td>\n",
       "      <td>0</td>\n",
       "      <td>7.8958</td>\n",
       "      <td>0</td>\n",
       "      <td>0</td>\n",
       "    </tr>\n",
       "    <tr>\n",
       "      <th>4</th>\n",
       "      <td>3</td>\n",
       "      <td>1</td>\n",
       "      <td>22.0</td>\n",
       "      <td>0</td>\n",
       "      <td>0</td>\n",
       "      <td>8.0500</td>\n",
       "      <td>0</td>\n",
       "      <td>0</td>\n",
       "    </tr>\n",
       "  </tbody>\n",
       "</table>\n",
       "</div>"
      ],
      "text/plain": [
       "   Pclass  Sex   Age  SibSp  Parch     Fare  Embarked  Survived\n",
       "0       1    0  54.0      1      0  78.2667         1         1\n",
       "1       2    0  45.0      0      0  13.5000         0         1\n",
       "2       3    1  20.0      0      0   9.5000         0         0\n",
       "3       3    1  36.0      0      0   7.8958         0         0\n",
       "4       3    1  22.0      0      0   8.0500         0         0"
      ]
     },
     "execution_count": 1748,
     "metadata": {},
     "output_type": "execute_result"
    }
   ],
   "source": [
    "train_set.head(5)"
   ]
  },
  {
   "cell_type": "code",
   "execution_count": 1749,
   "id": "44e1892e76c7f660",
   "metadata": {
    "ExecuteTime": {
     "end_time": "2024-06-08T09:38:17.948993Z",
     "start_time": "2024-06-08T09:38:17.942180Z"
    }
   },
   "outputs": [
    {
     "data": {
      "text/html": [
       "<div>\n",
       "<style scoped>\n",
       "    .dataframe tbody tr th:only-of-type {\n",
       "        vertical-align: middle;\n",
       "    }\n",
       "\n",
       "    .dataframe tbody tr th {\n",
       "        vertical-align: top;\n",
       "    }\n",
       "\n",
       "    .dataframe thead th {\n",
       "        text-align: right;\n",
       "    }\n",
       "</style>\n",
       "<table border=\"1\" class=\"dataframe\">\n",
       "  <thead>\n",
       "    <tr style=\"text-align: right;\">\n",
       "      <th></th>\n",
       "      <th>Pclass</th>\n",
       "      <th>Sex</th>\n",
       "      <th>Age</th>\n",
       "      <th>SibSp</th>\n",
       "      <th>Parch</th>\n",
       "      <th>Fare</th>\n",
       "      <th>Embarked</th>\n",
       "      <th>Survived</th>\n",
       "    </tr>\n",
       "  </thead>\n",
       "  <tbody>\n",
       "    <tr>\n",
       "      <th>0</th>\n",
       "      <td>3</td>\n",
       "      <td>1</td>\n",
       "      <td>35.000000</td>\n",
       "      <td>0</td>\n",
       "      <td>0</td>\n",
       "      <td>7.0500</td>\n",
       "      <td>0</td>\n",
       "      <td>0</td>\n",
       "    </tr>\n",
       "    <tr>\n",
       "      <th>1</th>\n",
       "      <td>3</td>\n",
       "      <td>1</td>\n",
       "      <td>30.000000</td>\n",
       "      <td>0</td>\n",
       "      <td>0</td>\n",
       "      <td>7.2500</td>\n",
       "      <td>0</td>\n",
       "      <td>0</td>\n",
       "    </tr>\n",
       "    <tr>\n",
       "      <th>2</th>\n",
       "      <td>3</td>\n",
       "      <td>1</td>\n",
       "      <td>29.699118</td>\n",
       "      <td>0</td>\n",
       "      <td>0</td>\n",
       "      <td>14.5000</td>\n",
       "      <td>0</td>\n",
       "      <td>0</td>\n",
       "    </tr>\n",
       "    <tr>\n",
       "      <th>3</th>\n",
       "      <td>3</td>\n",
       "      <td>0</td>\n",
       "      <td>21.000000</td>\n",
       "      <td>0</td>\n",
       "      <td>0</td>\n",
       "      <td>7.7500</td>\n",
       "      <td>2</td>\n",
       "      <td>0</td>\n",
       "    </tr>\n",
       "    <tr>\n",
       "      <th>4</th>\n",
       "      <td>3</td>\n",
       "      <td>1</td>\n",
       "      <td>32.000000</td>\n",
       "      <td>0</td>\n",
       "      <td>0</td>\n",
       "      <td>56.4958</td>\n",
       "      <td>0</td>\n",
       "      <td>1</td>\n",
       "    </tr>\n",
       "  </tbody>\n",
       "</table>\n",
       "</div>"
      ],
      "text/plain": [
       "   Pclass  Sex        Age  SibSp  Parch     Fare  Embarked  Survived\n",
       "0       3    1  35.000000      0      0   7.0500         0         0\n",
       "1       3    1  30.000000      0      0   7.2500         0         0\n",
       "2       3    1  29.699118      0      0  14.5000         0         0\n",
       "3       3    0  21.000000      0      0   7.7500         2         0\n",
       "4       3    1  32.000000      0      0  56.4958         0         1"
      ]
     },
     "execution_count": 1749,
     "metadata": {},
     "output_type": "execute_result"
    }
   ],
   "source": [
    "test_set.head(5)"
   ]
  },
  {
   "cell_type": "code",
   "execution_count": 1750,
   "id": "097afb02",
   "metadata": {
    "ExecuteTime": {
     "end_time": "2024-06-08T09:38:17.980196Z",
     "start_time": "2024-06-08T09:38:17.972533Z"
    }
   },
   "outputs": [
    {
     "name": "stdout",
     "output_type": "stream",
     "text": [
      "Survived man : 69\n",
      "survived women: 156\n",
      "survived kids 56\n",
      "survivels:  281\n"
     ]
    }
   ],
   "source": [
    "#Men\n",
    "survivedMan = train_set[(train_set['Sex'] == 1) & (train_set['Age'] > 18) & (train_set['Survived'] == 1)]\n",
    "survivedManCount = len(survivedMan)\n",
    "print(\"Survived man :\",survivedManCount)\n",
    "\n",
    "#Women\n",
    "survivedWomen = train_set[(train_set['Sex'] == 0) & (train_set['Age'] > 18) & (train_set['Survived'] == 1)]\n",
    "survivedWomenCount = len(survivedWomen)\n",
    "print(\"survived women:\",survivedWomenCount)\n",
    "#Kids\n",
    "survivedKids = train_set[(train_set['Age'] <= 18) & (train_set['Survived'] == 1)]\n",
    "survivedKidsCount = len(survivedKids)\n",
    "print(\"survived kids\",survivedKidsCount)\n",
    "\n",
    "survivedCount = len(train_set[train_set['Survived'] == 1])\n",
    "print(\"survivels: \",survivedCount)"
   ]
  },
  {
   "cell_type": "code",
   "execution_count": 1751,
   "id": "1fa9ec73",
   "metadata": {
    "ExecuteTime": {
     "end_time": "2024-06-08T09:38:18.036722Z",
     "start_time": "2024-06-08T09:38:18.031273Z"
    }
   },
   "outputs": [
    {
     "data": {
      "text/plain": [
       "Pclass      0\n",
       "Sex         0\n",
       "Age         0\n",
       "SibSp       0\n",
       "Parch       0\n",
       "Fare        0\n",
       "Embarked    0\n",
       "Survived    0\n",
       "dtype: int64"
      ]
     },
     "execution_count": 1751,
     "metadata": {},
     "output_type": "execute_result"
    }
   ],
   "source": [
    "train_set.isnull().sum() "
   ]
  },
  {
   "cell_type": "markdown",
   "id": "e37306794f874a57",
   "metadata": {},
   "source": [
    "## Visualization"
   ]
  },
  {
   "cell_type": "code",
   "execution_count": 1752,
   "id": "3cf7c4e832f50405",
   "metadata": {
    "ExecuteTime": {
     "end_time": "2024-06-08T09:38:18.207287Z",
     "start_time": "2024-06-08T09:38:18.116344Z"
    }
   },
   "outputs": [
    {
     "data": {
      "image/png": "[encoded data removed]",
      "text/plain": [
       "<Figure size 2000x1500 with 1 Axes>"
      ]
     },
     "metadata": {},
     "output_type": "display_data"
    }
   ],
   "source": [
    "population = [survivedManCount,survivedWomenCount,survivedKidsCount]\n",
    "labels = ['Male', 'Female','Kids']\n",
    "colors = ['#E91694', '#94E916', '#1694E9']\n",
    "fig,ax = plt.subplots(figsize=(20, 15))\n",
    "ax.pie(population,labels = labels,autopct='%1.1f%%',colors=colors, textprops={'fontsize': 20})\n",
    "plt.title('Survivors of the Titanic', fontsize=20)\n",
    "fig.patch.set_facecolor('white')\n",
    "plt.show()"
   ]
  },
  {
   "cell_type": "code",
   "execution_count": 1753,
   "id": "c46e520d",
   "metadata": {
    "ExecuteTime": {
     "end_time": "2024-06-08T09:38:18.238425Z",
     "start_time": "2024-06-08T09:38:18.230808Z"
    }
   },
   "outputs": [],
   "source": [
    "# Creating a dataframe for the pie plot using the given parameters\n",
    "def createPieTable(survivedManCount, survivedWomenCount, survivedKidsCount, survivedCount):\n",
    "        data = {'Category': ['Male', 'Female', 'Kids', 'Total'],\n",
    "                'Survived': [survivedManCount, survivedWomenCount, survivedKidsCount, survivedCount]}\n",
    "        Survivors1 = pd.DataFrame(data)\n",
    "        Survivors1['Percentage'] = Survivors1['Survived'].apply(lambda x: round((x / survivedCount) * 100, 1))\n",
    "        return Survivors1"
   ]
  },
  {
   "cell_type": "code",
   "execution_count": 1754,
   "id": "579bc36b",
   "metadata": {},
   "outputs": [
    {
     "data": {
      "text/html": [
       "<div>\n",
       "<style scoped>\n",
       "    .dataframe tbody tr th:only-of-type {\n",
       "        vertical-align: middle;\n",
       "    }\n",
       "\n",
       "    .dataframe tbody tr th {\n",
       "        vertical-align: top;\n",
       "    }\n",
       "\n",
       "    .dataframe thead th {\n",
       "        text-align: right;\n",
       "    }\n",
       "</style>\n",
       "<table border=\"1\" class=\"dataframe\">\n",
       "  <thead>\n",
       "    <tr style=\"text-align: right;\">\n",
       "      <th></th>\n",
       "      <th>Category</th>\n",
       "      <th>Survived</th>\n",
       "      <th>Percentage</th>\n",
       "    </tr>\n",
       "  </thead>\n",
       "  <tbody>\n",
       "    <tr>\n",
       "      <th>0</th>\n",
       "      <td>Male</td>\n",
       "      <td>69</td>\n",
       "      <td>24.6</td>\n",
       "    </tr>\n",
       "    <tr>\n",
       "      <th>1</th>\n",
       "      <td>Female</td>\n",
       "      <td>156</td>\n",
       "      <td>55.5</td>\n",
       "    </tr>\n",
       "    <tr>\n",
       "      <th>2</th>\n",
       "      <td>Kids</td>\n",
       "      <td>56</td>\n",
       "      <td>19.9</td>\n",
       "    </tr>\n",
       "    <tr>\n",
       "      <th>3</th>\n",
       "      <td>Total</td>\n",
       "      <td>281</td>\n",
       "      <td>100.0</td>\n",
       "    </tr>\n",
       "  </tbody>\n",
       "</table>\n",
       "</div>"
      ],
      "text/plain": [
       "  Category  Survived  Percentage\n",
       "0     Male        69        24.6\n",
       "1   Female       156        55.5\n",
       "2     Kids        56        19.9\n",
       "3    Total       281       100.0"
      ]
     },
     "metadata": {},
     "output_type": "display_data"
    }
   ],
   "source": [
    "# Creating a data table for the pie plot\n",
    "pieTable = createPieTable(survivedManCount, survivedWomenCount, survivedKidsCount, survivedCount)\n",
    "if not pieTable.empty:\n",
    "    display(pieTable)\n",
    "else:\n",
    "    print(\"No data was not found during the process\")"
   ]
  },
  {
   "cell_type": "code",
   "execution_count": 1755,
   "id": "400e9b09",
   "metadata": {
    "ExecuteTime": {
     "end_time": "2024-06-08T09:38:18.701364Z",
     "start_time": "2024-06-08T09:38:18.271554Z"
    }
   },
   "outputs": [
    {
     "data": {
      "image/png": "[encoded data removed]",
      "text/plain": [
       "<Figure size 2400x1200 with 2 Axes>"
      ]
     },
     "metadata": {},
     "output_type": "display_data"
    }
   ],
   "source": [
    "survived = 'survived'\n",
    "not_survived = 'not survived'\n",
    "fig, axes = plt.subplots(nrows=1, ncols=2,figsize=(24, 12))\n",
    "women = train_set[train_set['Sex']==0]\n",
    "men = train_set[train_set['Sex']==1]\n",
    "ax = sns.histplot(women[women['Survived']==1].Age.dropna(), bins=10, label = survived, ax = axes[0], kde =False, color=\"#76FF00\")\n",
    "ax = sns.histplot(women[women['Survived']==0].Age.dropna(), bins=10, label = not_survived, ax = axes[0], kde =False, color=\"#8900FF\")\n",
    "ax.legend()\n",
    "ax.set_title('Female')\n",
    "ax = sns.histplot(men[men['Survived']==1].Age.dropna(), bins=10, label = survived, ax = axes[1], kde = False, color=\"#FF5100\")\n",
    "ax = sns.histplot(men[men['Survived']==0].Age.dropna(), bins=10, label = not_survived, ax = axes[1], kde = False, color=\"#00AEFF\")\n",
    "ax.legend()\n",
    "_ = ax.set_title('Male')"
   ]
  },
  {
   "cell_type": "code",
   "execution_count": 1756,
   "id": "8997a33f",
   "metadata": {
    "ExecuteTime": {
     "end_time": "2024-06-08T09:38:18.712558Z",
     "start_time": "2024-06-08T09:38:18.703367Z"
    }
   },
   "outputs": [],
   "source": [
    "# Making DataFrame for the histogram above without age group\n",
    "def createHistTable(data_frame):\n",
    "        # Defining categories (survived, not survived)\n",
    "        categories = ['survived', 'not survived']\n",
    "\n",
    "        women_survived = data_frame[(data_frame[\"Sex\"] == 1) & (data_frame[\"Survived\"] == 1)]  # survived women\n",
    "        women_not_survived = data_frame[(data_frame[\"Sex\"] == 1) & (data_frame[\"Survived\"] == 0)]  # non-survived women\n",
    "        men_survived = data_frame[(data_frame[\"Sex\"] == 0) & (data_frame[\"Survived\"] == 1)]  # Ages of survived men\n",
    "        men_not_survived = data_frame[(data_frame[\"Sex\"] == 0) & (data_frame[\"Survived\"] == 0)]  # Ages of non-survived men\n",
    "\n",
    "\n",
    "        data = {'Category': ['survived men', 'survived women', 'not-survived women', 'not-survived men'], \n",
    "                'Survived': [len(men_survived), len(women_survived), len(women_not_survived), len(men_not_survived)]}\n",
    "\n",
    "\n",
    "        Survivors2 = pd.DataFrame.from_dict(data, orient='index').transpose()\n",
    "\n",
    "        return Survivors2\n"
   ]
  },
  {
   "cell_type": "code",
   "execution_count": 1757,
   "id": "72ca77fc",
   "metadata": {},
   "outputs": [
    {
     "data": {
      "text/html": [
       "<div>\n",
       "<style scoped>\n",
       "    .dataframe tbody tr th:only-of-type {\n",
       "        vertical-align: middle;\n",
       "    }\n",
       "\n",
       "    .dataframe tbody tr th {\n",
       "        vertical-align: top;\n",
       "    }\n",
       "\n",
       "    .dataframe thead th {\n",
       "        text-align: right;\n",
       "    }\n",
       "</style>\n",
       "<table border=\"1\" class=\"dataframe\">\n",
       "  <thead>\n",
       "    <tr style=\"text-align: right;\">\n",
       "      <th></th>\n",
       "      <th>Category</th>\n",
       "      <th>Survived</th>\n",
       "    </tr>\n",
       "  </thead>\n",
       "  <tbody>\n",
       "    <tr>\n",
       "      <th>0</th>\n",
       "      <td>survived men</td>\n",
       "      <td>193</td>\n",
       "    </tr>\n",
       "    <tr>\n",
       "      <th>1</th>\n",
       "      <td>survived women</td>\n",
       "      <td>88</td>\n",
       "    </tr>\n",
       "    <tr>\n",
       "      <th>2</th>\n",
       "      <td>not-survived women</td>\n",
       "      <td>368</td>\n",
       "    </tr>\n",
       "    <tr>\n",
       "      <th>3</th>\n",
       "      <td>not-survived men</td>\n",
       "      <td>63</td>\n",
       "    </tr>\n",
       "  </tbody>\n",
       "</table>\n",
       "</div>"
      ],
      "text/plain": [
       "             Category Survived\n",
       "0        survived men      193\n",
       "1      survived women       88\n",
       "2  not-survived women      368\n",
       "3    not-survived men       63"
      ]
     },
     "metadata": {},
     "output_type": "display_data"
    }
   ],
   "source": [
    "# Creating data table for the histogram above without age group\n",
    "histTable = createHistTable(train_set)\n",
    "if not histTable.empty:\n",
    "    display(histTable)\n",
    "else:\n",
    "    print(\"No dataframe was not found during the process\")\n",
    "\n"
   ]
  },
  {
   "cell_type": "code",
   "execution_count": 1758,
   "id": "f68ab96a",
   "metadata": {
    "ExecuteTime": {
     "end_time": "2024-06-08T09:38:18.733589Z",
     "start_time": "2024-06-08T09:38:18.713563Z"
    }
   },
   "outputs": [],
   "source": [
    "# Making DataFrame for the histogram above with age group\n",
    "def createHistTableAG(data_frame):\n",
    "    age_bins = [0, 10, 20, 30, 40, 50, 60, 70, 80]\n",
    "    age_labels = ['0-10', '11-20', '21-30', '31-40', '41-50', '51-60', '61-70', '71-80']\n",
    "\n",
    "    data_frame =  data_frame.copy()\n",
    "    data_frame['AgeGroup'] = pd.cut(data_frame['Age'], bins=age_bins, labels=age_labels, right=False)\n",
    "\n",
    "    data = {\n",
    "        'AgeGroup': age_labels,\n",
    "        'Survived Women': [],\n",
    "        'Not Survived Women': [],\n",
    "        'Survived Men': [],\n",
    "        'Not Survived Men': []\n",
    "    }\n",
    "\n",
    "    for age_group in age_labels:\n",
    "        survived_women = len(data_frame[(data_frame['AgeGroup'] == age_group) & (data_frame['Sex'] == 0) & (data_frame['Survived'] == 1)])\n",
    "        not_survived_women = len(data_frame[(data_frame['AgeGroup'] == age_group) & (data_frame['Sex'] == 0) & (data_frame['Survived'] == 0)])\n",
    "        survived_men = len(data_frame[(data_frame['AgeGroup'] == age_group) & (data_frame['Sex'] == 1) & (data_frame['Survived'] == 1)])\n",
    "        not_survived_men = len(data_frame[(data_frame['AgeGroup'] == age_group) & (data_frame['Sex'] == 1) & (data_frame['Survived'] == 0)])\n",
    "        \n",
    "        data['Survived Women'].append(survived_women)\n",
    "        data['Not Survived Women'].append(not_survived_women)\n",
    "        data['Survived Men'].append(survived_men)\n",
    "        data['Not Survived Men'].append(not_survived_men)\n",
    "\n",
    "    survivors_by_age = pd.DataFrame(data)\n",
    "\n",
    "    return survivors_by_age"
   ]
  },
  {
   "cell_type": "code",
   "execution_count": 1759,
   "id": "ec27ace9",
   "metadata": {},
   "outputs": [
    {
     "data": {
      "text/html": [
       "<div>\n",
       "<style scoped>\n",
       "    .dataframe tbody tr th:only-of-type {\n",
       "        vertical-align: middle;\n",
       "    }\n",
       "\n",
       "    .dataframe tbody tr th {\n",
       "        vertical-align: top;\n",
       "    }\n",
       "\n",
       "    .dataframe thead th {\n",
       "        text-align: right;\n",
       "    }\n",
       "</style>\n",
       "<table border=\"1\" class=\"dataframe\">\n",
       "  <thead>\n",
       "    <tr style=\"text-align: right;\">\n",
       "      <th></th>\n",
       "      <th>AgeGroup</th>\n",
       "      <th>Survived Women</th>\n",
       "      <th>Not Survived Women</th>\n",
       "      <th>Survived Men</th>\n",
       "      <th>Not Survived Men</th>\n",
       "    </tr>\n",
       "  </thead>\n",
       "  <tbody>\n",
       "    <tr>\n",
       "      <th>0</th>\n",
       "      <td>0-10</td>\n",
       "      <td>16</td>\n",
       "      <td>9</td>\n",
       "      <td>15</td>\n",
       "      <td>12</td>\n",
       "    </tr>\n",
       "    <tr>\n",
       "      <th>1</th>\n",
       "      <td>11-20</td>\n",
       "      <td>28</td>\n",
       "      <td>8</td>\n",
       "      <td>5</td>\n",
       "      <td>44</td>\n",
       "    </tr>\n",
       "    <tr>\n",
       "      <th>2</th>\n",
       "      <td>21-30</td>\n",
       "      <td>75</td>\n",
       "      <td>28</td>\n",
       "      <td>33</td>\n",
       "      <td>180</td>\n",
       "    </tr>\n",
       "    <tr>\n",
       "      <th>3</th>\n",
       "      <td>31-40</td>\n",
       "      <td>44</td>\n",
       "      <td>7</td>\n",
       "      <td>19</td>\n",
       "      <td>59</td>\n",
       "    </tr>\n",
       "    <tr>\n",
       "      <th>4</th>\n",
       "      <td>41-50</td>\n",
       "      <td>18</td>\n",
       "      <td>9</td>\n",
       "      <td>9</td>\n",
       "      <td>35</td>\n",
       "    </tr>\n",
       "    <tr>\n",
       "      <th>5</th>\n",
       "      <td>51-60</td>\n",
       "      <td>9</td>\n",
       "      <td>2</td>\n",
       "      <td>4</td>\n",
       "      <td>23</td>\n",
       "    </tr>\n",
       "    <tr>\n",
       "      <th>6</th>\n",
       "      <td>61-70</td>\n",
       "      <td>3</td>\n",
       "      <td>0</td>\n",
       "      <td>2</td>\n",
       "      <td>10</td>\n",
       "    </tr>\n",
       "    <tr>\n",
       "      <th>7</th>\n",
       "      <td>71-80</td>\n",
       "      <td>0</td>\n",
       "      <td>0</td>\n",
       "      <td>0</td>\n",
       "      <td>5</td>\n",
       "    </tr>\n",
       "  </tbody>\n",
       "</table>\n",
       "</div>"
      ],
      "text/plain": [
       "  AgeGroup  Survived Women  Not Survived Women  Survived Men  Not Survived Men\n",
       "0     0-10              16                   9            15                12\n",
       "1    11-20              28                   8             5                44\n",
       "2    21-30              75                  28            33               180\n",
       "3    31-40              44                   7            19                59\n",
       "4    41-50              18                   9             9                35\n",
       "5    51-60               9                   2             4                23\n",
       "6    61-70               3                   0             2                10\n",
       "7    71-80               0                   0             0                 5"
      ]
     },
     "metadata": {},
     "output_type": "display_data"
    }
   ],
   "source": [
    "#Creating a data table for the histogram with age group\n",
    "\n",
    "histTableAG = createHistTableAG(train_set)\n",
    "if not histTableAG.empty:\n",
    "    display(histTableAG)\n",
    "else:\n",
    "    print(\"No dataframe was not found during the process\")"
   ]
  },
  {
   "cell_type": "code",
   "execution_count": null,
   "id": "193d2ba6",
   "metadata": {},
   "outputs": [],
   "source": []
  },
  {
   "cell_type": "markdown",
   "id": "1eae09fb",
   "metadata": {},
   "source": [
    "# Feature engineering"
   ]
  },
  {
   "cell_type": "markdown",
   "id": "5024577c",
   "metadata": {},
   "source": [
    "#### For Numeric values:\n",
    "#### Descriptive statistics: min, max, percentile, mean, std etc for numeric values:"
   ]
  },
  {
   "cell_type": "code",
   "execution_count": 1760,
   "id": "e2139cc3",
   "metadata": {},
   "outputs": [
    {
     "data": {
      "text/html": [
       "<div>\n",
       "<style scoped>\n",
       "    .dataframe tbody tr th:only-of-type {\n",
       "        vertical-align: middle;\n",
       "    }\n",
       "\n",
       "    .dataframe tbody tr th {\n",
       "        vertical-align: top;\n",
       "    }\n",
       "\n",
       "    .dataframe thead th {\n",
       "        text-align: right;\n",
       "    }\n",
       "</style>\n",
       "<table border=\"1\" class=\"dataframe\">\n",
       "  <thead>\n",
       "    <tr style=\"text-align: right;\">\n",
       "      <th></th>\n",
       "      <th>Pclass</th>\n",
       "      <th>Sex</th>\n",
       "      <th>Age</th>\n",
       "      <th>SibSp</th>\n",
       "      <th>Parch</th>\n",
       "      <th>Fare</th>\n",
       "      <th>Embarked</th>\n",
       "      <th>Survived</th>\n",
       "    </tr>\n",
       "  </thead>\n",
       "  <tbody>\n",
       "    <tr>\n",
       "      <th>count</th>\n",
       "      <td>712.000000</td>\n",
       "      <td>712.000000</td>\n",
       "      <td>712.000000</td>\n",
       "      <td>712.000000</td>\n",
       "      <td>712.000000</td>\n",
       "      <td>712.000000</td>\n",
       "      <td>712.000000</td>\n",
       "      <td>712.000000</td>\n",
       "    </tr>\n",
       "    <tr>\n",
       "      <th>mean</th>\n",
       "      <td>2.294944</td>\n",
       "      <td>0.640449</td>\n",
       "      <td>29.531213</td>\n",
       "      <td>0.528090</td>\n",
       "      <td>0.384831</td>\n",
       "      <td>32.379429</td>\n",
       "      <td>0.372191</td>\n",
       "      <td>0.394663</td>\n",
       "    </tr>\n",
       "    <tr>\n",
       "      <th>std</th>\n",
       "      <td>0.841990</td>\n",
       "      <td>0.480206</td>\n",
       "      <td>13.188028</td>\n",
       "      <td>1.055052</td>\n",
       "      <td>0.803085</td>\n",
       "      <td>49.836074</td>\n",
       "      <td>0.649970</td>\n",
       "      <td>0.489122</td>\n",
       "    </tr>\n",
       "    <tr>\n",
       "      <th>min</th>\n",
       "      <td>1.000000</td>\n",
       "      <td>0.000000</td>\n",
       "      <td>0.670000</td>\n",
       "      <td>0.000000</td>\n",
       "      <td>0.000000</td>\n",
       "      <td>0.000000</td>\n",
       "      <td>0.000000</td>\n",
       "      <td>0.000000</td>\n",
       "    </tr>\n",
       "    <tr>\n",
       "      <th>25%</th>\n",
       "      <td>1.750000</td>\n",
       "      <td>0.000000</td>\n",
       "      <td>22.000000</td>\n",
       "      <td>0.000000</td>\n",
       "      <td>0.000000</td>\n",
       "      <td>7.925000</td>\n",
       "      <td>0.000000</td>\n",
       "      <td>0.000000</td>\n",
       "    </tr>\n",
       "    <tr>\n",
       "      <th>50%</th>\n",
       "      <td>3.000000</td>\n",
       "      <td>1.000000</td>\n",
       "      <td>29.699118</td>\n",
       "      <td>0.000000</td>\n",
       "      <td>0.000000</td>\n",
       "      <td>14.500000</td>\n",
       "      <td>0.000000</td>\n",
       "      <td>0.000000</td>\n",
       "    </tr>\n",
       "    <tr>\n",
       "      <th>75%</th>\n",
       "      <td>3.000000</td>\n",
       "      <td>1.000000</td>\n",
       "      <td>35.000000</td>\n",
       "      <td>1.000000</td>\n",
       "      <td>0.000000</td>\n",
       "      <td>31.275000</td>\n",
       "      <td>1.000000</td>\n",
       "      <td>1.000000</td>\n",
       "    </tr>\n",
       "    <tr>\n",
       "      <th>max</th>\n",
       "      <td>3.000000</td>\n",
       "      <td>1.000000</td>\n",
       "      <td>80.000000</td>\n",
       "      <td>8.000000</td>\n",
       "      <td>6.000000</td>\n",
       "      <td>512.329200</td>\n",
       "      <td>3.000000</td>\n",
       "      <td>1.000000</td>\n",
       "    </tr>\n",
       "  </tbody>\n",
       "</table>\n",
       "</div>"
      ],
      "text/plain": [
       "           Pclass         Sex         Age       SibSp       Parch        Fare  \\\n",
       "count  712.000000  712.000000  712.000000  712.000000  712.000000  712.000000   \n",
       "mean     2.294944    0.640449   29.531213    0.528090    0.384831   32.379429   \n",
       "std      0.841990    0.480206   13.188028    1.055052    0.803085   49.836074   \n",
       "min      1.000000    0.000000    0.670000    0.000000    0.000000    0.000000   \n",
       "25%      1.750000    0.000000   22.000000    0.000000    0.000000    7.925000   \n",
       "50%      3.000000    1.000000   29.699118    0.000000    0.000000   14.500000   \n",
       "75%      3.000000    1.000000   35.000000    1.000000    0.000000   31.275000   \n",
       "max      3.000000    1.000000   80.000000    8.000000    6.000000  512.329200   \n",
       "\n",
       "         Embarked    Survived  \n",
       "count  712.000000  712.000000  \n",
       "mean     0.372191    0.394663  \n",
       "std      0.649970    0.489122  \n",
       "min      0.000000    0.000000  \n",
       "25%      0.000000    0.000000  \n",
       "50%      0.000000    0.000000  \n",
       "75%      1.000000    1.000000  \n",
       "max      3.000000    1.000000  "
      ]
     },
     "execution_count": 1760,
     "metadata": {},
     "output_type": "execute_result"
    }
   ],
   "source": [
    "train_set.describe(include=np.number)"
   ]
  },
  {
   "cell_type": "markdown",
   "id": "a50169d4",
   "metadata": {},
   "source": [
    "### Check for missing Data"
   ]
  },
  {
   "cell_type": "code",
   "execution_count": 1761,
   "id": "8c80158a",
   "metadata": {},
   "outputs": [],
   "source": [
    "# Lets start by finding the missing values\n",
    "def checkIfDataMissed(dataFrame):\n",
    "    null_columns = train_set.isnull().any()\n",
    "\n",
    "    if null_columns.iloc[0:].all() == False:\n",
    "        print(\"Great! we don't have any missing data\")\n",
    "        return True\n",
    "    else:\n",
    "        print(\"Oops! we have missing data\")\n",
    "        return False"
   ]
  },
  {
   "cell_type": "code",
   "execution_count": 1762,
   "id": "6bfe02d9",
   "metadata": {},
   "outputs": [
    {
     "data": {
      "text/plain": [
       "Pclass      0\n",
       "Sex         0\n",
       "Age         0\n",
       "SibSp       0\n",
       "Parch       0\n",
       "Fare        0\n",
       "Embarked    0\n",
       "Survived    0\n",
       "dtype: int64"
      ]
     },
     "execution_count": 1762,
     "metadata": {},
     "output_type": "execute_result"
    }
   ],
   "source": [
    "# Number of missing values per feature:\n",
    "\n",
    "train_set.iloc[:].isnull().sum()"
   ]
  },
  {
   "cell_type": "code",
   "execution_count": 1763,
   "id": "241f574a",
   "metadata": {},
   "outputs": [
    {
     "name": "stdout",
     "output_type": "stream",
     "text": [
      "Great! we don't have any missing data\n"
     ]
    },
    {
     "name": "stderr",
     "output_type": "stream",
     "text": [
      "C:\\Users\\Avihai Levi\\AppData\\Local\\Temp\\ipykernel_26660\\3547506348.py:6: FutureWarning: DataFrame.fillna with 'method' is deprecated and will raise in a future version. Use obj.ffill() or obj.bfill() instead.\n",
      "  train_set = train_set.fillna(method = 'ffill')\n"
     ]
    },
    {
     "data": {
      "text/html": [
       "<div>\n",
       "<style scoped>\n",
       "    .dataframe tbody tr th:only-of-type {\n",
       "        vertical-align: middle;\n",
       "    }\n",
       "\n",
       "    .dataframe tbody tr th {\n",
       "        vertical-align: top;\n",
       "    }\n",
       "\n",
       "    .dataframe thead th {\n",
       "        text-align: right;\n",
       "    }\n",
       "</style>\n",
       "<table border=\"1\" class=\"dataframe\">\n",
       "  <thead>\n",
       "    <tr style=\"text-align: right;\">\n",
       "      <th></th>\n",
       "      <th>Pclass</th>\n",
       "      <th>Sex</th>\n",
       "      <th>Age</th>\n",
       "      <th>SibSp</th>\n",
       "      <th>Parch</th>\n",
       "      <th>Fare</th>\n",
       "      <th>Embarked</th>\n",
       "      <th>Survived</th>\n",
       "    </tr>\n",
       "  </thead>\n",
       "  <tbody>\n",
       "    <tr>\n",
       "      <th>0</th>\n",
       "      <td>1</td>\n",
       "      <td>0</td>\n",
       "      <td>54.000000</td>\n",
       "      <td>1</td>\n",
       "      <td>0</td>\n",
       "      <td>78.2667</td>\n",
       "      <td>1</td>\n",
       "      <td>1</td>\n",
       "    </tr>\n",
       "    <tr>\n",
       "      <th>1</th>\n",
       "      <td>2</td>\n",
       "      <td>0</td>\n",
       "      <td>45.000000</td>\n",
       "      <td>0</td>\n",
       "      <td>0</td>\n",
       "      <td>13.5000</td>\n",
       "      <td>0</td>\n",
       "      <td>1</td>\n",
       "    </tr>\n",
       "    <tr>\n",
       "      <th>2</th>\n",
       "      <td>3</td>\n",
       "      <td>1</td>\n",
       "      <td>20.000000</td>\n",
       "      <td>0</td>\n",
       "      <td>0</td>\n",
       "      <td>9.5000</td>\n",
       "      <td>0</td>\n",
       "      <td>0</td>\n",
       "    </tr>\n",
       "    <tr>\n",
       "      <th>3</th>\n",
       "      <td>3</td>\n",
       "      <td>1</td>\n",
       "      <td>36.000000</td>\n",
       "      <td>0</td>\n",
       "      <td>0</td>\n",
       "      <td>7.8958</td>\n",
       "      <td>0</td>\n",
       "      <td>0</td>\n",
       "    </tr>\n",
       "    <tr>\n",
       "      <th>4</th>\n",
       "      <td>3</td>\n",
       "      <td>1</td>\n",
       "      <td>22.000000</td>\n",
       "      <td>0</td>\n",
       "      <td>0</td>\n",
       "      <td>8.0500</td>\n",
       "      <td>0</td>\n",
       "      <td>0</td>\n",
       "    </tr>\n",
       "    <tr>\n",
       "      <th>...</th>\n",
       "      <td>...</td>\n",
       "      <td>...</td>\n",
       "      <td>...</td>\n",
       "      <td>...</td>\n",
       "      <td>...</td>\n",
       "      <td>...</td>\n",
       "      <td>...</td>\n",
       "      <td>...</td>\n",
       "    </tr>\n",
       "    <tr>\n",
       "      <th>707</th>\n",
       "      <td>1</td>\n",
       "      <td>1</td>\n",
       "      <td>54.000000</td>\n",
       "      <td>0</td>\n",
       "      <td>0</td>\n",
       "      <td>51.8625</td>\n",
       "      <td>0</td>\n",
       "      <td>0</td>\n",
       "    </tr>\n",
       "    <tr>\n",
       "      <th>708</th>\n",
       "      <td>3</td>\n",
       "      <td>1</td>\n",
       "      <td>14.000000</td>\n",
       "      <td>5</td>\n",
       "      <td>2</td>\n",
       "      <td>46.9000</td>\n",
       "      <td>0</td>\n",
       "      <td>0</td>\n",
       "    </tr>\n",
       "    <tr>\n",
       "      <th>709</th>\n",
       "      <td>2</td>\n",
       "      <td>0</td>\n",
       "      <td>6.000000</td>\n",
       "      <td>0</td>\n",
       "      <td>1</td>\n",
       "      <td>33.0000</td>\n",
       "      <td>0</td>\n",
       "      <td>1</td>\n",
       "    </tr>\n",
       "    <tr>\n",
       "      <th>710</th>\n",
       "      <td>2</td>\n",
       "      <td>1</td>\n",
       "      <td>29.699118</td>\n",
       "      <td>0</td>\n",
       "      <td>0</td>\n",
       "      <td>0.0000</td>\n",
       "      <td>0</td>\n",
       "      <td>0</td>\n",
       "    </tr>\n",
       "    <tr>\n",
       "      <th>711</th>\n",
       "      <td>1</td>\n",
       "      <td>0</td>\n",
       "      <td>25.000000</td>\n",
       "      <td>1</td>\n",
       "      <td>2</td>\n",
       "      <td>151.5500</td>\n",
       "      <td>0</td>\n",
       "      <td>0</td>\n",
       "    </tr>\n",
       "  </tbody>\n",
       "</table>\n",
       "<p>712 rows × 8 columns</p>\n",
       "</div>"
      ],
      "text/plain": [
       "     Pclass  Sex        Age  SibSp  Parch      Fare  Embarked  Survived\n",
       "0         1    0  54.000000      1      0   78.2667         1         1\n",
       "1         2    0  45.000000      0      0   13.5000         0         1\n",
       "2         3    1  20.000000      0      0    9.5000         0         0\n",
       "3         3    1  36.000000      0      0    7.8958         0         0\n",
       "4         3    1  22.000000      0      0    8.0500         0         0\n",
       "..      ...  ...        ...    ...    ...       ...       ...       ...\n",
       "707       1    1  54.000000      0      0   51.8625         0         0\n",
       "708       3    1  14.000000      5      2   46.9000         0         0\n",
       "709       2    0   6.000000      0      1   33.0000         0         1\n",
       "710       2    1  29.699118      0      0    0.0000         0         0\n",
       "711       1    0  25.000000      1      2  151.5500         0         0\n",
       "\n",
       "[712 rows x 8 columns]"
      ]
     },
     "execution_count": 1763,
     "metadata": {},
     "output_type": "execute_result"
    }
   ],
   "source": [
    "# Filling all missing values with 0 if there is \n",
    "\n",
    "isMissed = checkIfDataMissed(train_set)\n",
    "\n",
    "if isMissed == True:\n",
    "    train_set = train_set.fillna(method = 'ffill')\n",
    "    \n",
    "train_set"
   ]
  },
  {
   "cell_type": "code",
   "execution_count": 1764,
   "id": "d609803c",
   "metadata": {},
   "outputs": [],
   "source": [
    "# Use the NumPy percentile() method to find the percentiles\n",
    "\n",
    "def agePercentile(dataFrame):\n",
    "\n",
    "    x_age = np.percentile(dataFrame[\"Age\"], 75)\n",
    "    y_age = np.percentile(dataFrame[\"Age\"], 90)\n",
    "\n",
    "    print(f'x_age meaning that 75% of the people on the Titanic are {x_age} years old')\n",
    "    print(f'y_age meaning that 90% of the people on the Titanic are {y_age} years old')"
   ]
  },
  {
   "cell_type": "code",
   "execution_count": 1765,
   "id": "af628545",
   "metadata": {},
   "outputs": [
    {
     "name": "stdout",
     "output_type": "stream",
     "text": [
      "x_age meaning that 75% of the people on the Titanic are 35.0 years old\n",
      "y_age meaning that 90% of the people on the Titanic are 47.0 years old\n"
     ]
    }
   ],
   "source": [
    "agePercentile(train_set)"
   ]
  },
  {
   "cell_type": "code",
   "execution_count": 1766,
   "id": "277c7bf1",
   "metadata": {},
   "outputs": [],
   "source": [
    "\n",
    "\n",
    "def SurvivedbyAge():\n",
    "    counts, bins = np.histogram(train_set.Age, bins=16)\n",
    "    max_bin = np.argmax(counts)\n",
    "\n",
    "    max_bin_midpoint = (bins[max_bin] + bins[max_bin + 1]) / 2\n",
    "\n",
    "# Plot histogram\n",
    "    plt.hist(train_set.Age, bins=16)\n",
    "    plt.title(\"Survived by Age\")\n",
    "    plt.xlabel(\"Age\")\n",
    "    plt.ylabel(\"Survived\")\n",
    "\n",
    "# Add text annotation at the maximum point\n",
    "    plt.text(max_bin_midpoint, counts[max_bin], f\"Max survivers: {counts[max_bin]}\", ha='center', va='bottom', bbox=dict(facecolor='blue', alpha=0))\n",
    "\n",
    "    plt.show()"
   ]
  },
  {
   "cell_type": "code",
   "execution_count": 1767,
   "id": "502fccac",
   "metadata": {},
   "outputs": [
    {
     "data": {
      "image/png": "[encoded data removed]",
      "text/plain": [
       "<Figure size 640x480 with 1 Axes>"
      ]
     },
     "metadata": {},
     "output_type": "display_data"
    }
   ],
   "source": [
    "SurvivedbyAge()"
   ]
  },
  {
   "cell_type": "markdown",
   "id": "36f7d419",
   "metadata": {},
   "source": [
    "### Find Outliers"
   ]
  },
  {
   "cell_type": "markdown",
   "id": "e327ea55",
   "metadata": {},
   "source": [
    "#### let's check for Age & Fare outliers (using boxplot)"
   ]
  },
  {
   "cell_type": "code",
   "execution_count": 1768,
   "id": "fe24dce1",
   "metadata": {},
   "outputs": [
    {
     "data": {
      "text/plain": [
       "<Axes: ylabel='Fare'>"
      ]
     },
     "execution_count": 1768,
     "metadata": {},
     "output_type": "execute_result"
    },
    {
     "data": {
      "image/png": "[encoded data removed]",
      "text/plain": [
       "<Figure size 640x480 with 1 Axes>"
      ]
     },
     "metadata": {},
     "output_type": "display_data"
    }
   ],
   "source": [
    "# Fare outliers\n",
    "\n",
    "sns.boxplot(train_set.Fare)"
   ]
  },
  {
   "cell_type": "code",
   "execution_count": 1769,
   "id": "e814b84e",
   "metadata": {},
   "outputs": [
    {
     "data": {
      "text/plain": [
       "14.5"
      ]
     },
     "execution_count": 1769,
     "metadata": {},
     "output_type": "execute_result"
    }
   ],
   "source": [
    "train_set[\"Fare\"].median()"
   ]
  },
  {
   "cell_type": "code",
   "execution_count": 1770,
   "id": "7add523c",
   "metadata": {},
   "outputs": [
    {
     "data": {
      "text/plain": [
       "count    712.000000\n",
       "mean      32.379429\n",
       "std       49.836074\n",
       "min        0.000000\n",
       "25%        7.925000\n",
       "50%       14.500000\n",
       "75%       31.275000\n",
       "max      512.329200\n",
       "Name: Fare, dtype: float64"
      ]
     },
     "execution_count": 1770,
     "metadata": {},
     "output_type": "execute_result"
    }
   ],
   "source": [
    "train_set[\"Fare\"].describe()"
   ]
  },
  {
   "cell_type": "code",
   "execution_count": 1771,
   "id": "9b1cb178",
   "metadata": {},
   "outputs": [],
   "source": [
    "# Find Fare outliers:\n",
    "\n",
    "# \"mimimum\" = Q1 - 1.5 * IQR\n",
    "# \"maximum\" = Q3 + 1.5 * IQR\n",
    "\n",
    "\n",
    "def outliersByIQR(col_name):\n",
    "   \n",
    "    Q1 = np.percentile(train_set[col_name], 25)\n",
    "    Q3 = np.percentile(train_set[col_name], 75)\n",
    "    IQR = Q3 - Q1\n",
    "\n",
    "    Fare_Outliers = train_set[(train_set[col_name] < Q1 - 1.5*IQR) | (train_set[col_name] > Q3 + 1.5*IQR )].index\n",
    "    print(f'Sum of Age_outliers: {len(Fare_Outliers)}')\n",
    "\n",
    "\n"
   ]
  },
  {
   "cell_type": "code",
   "execution_count": 1772,
   "id": "893acc9f",
   "metadata": {},
   "outputs": [
    {
     "name": "stdout",
     "output_type": "stream",
     "text": [
      "Sum of Age_outliers: 93\n"
     ]
    }
   ],
   "source": [
    "outliersByIQR(\"Fare\")"
   ]
  },
  {
   "cell_type": "code",
   "execution_count": 1773,
   "id": "596787bc",
   "metadata": {},
   "outputs": [
    {
     "data": {
      "text/plain": [
       "<Axes: ylabel='Age'>"
      ]
     },
     "execution_count": 1773,
     "metadata": {},
     "output_type": "execute_result"
    },
    {
     "data": {
      "image/png": "[encoded data removed]",
      "text/plain": [
       "<Figure size 640x480 with 1 Axes>"
      ]
     },
     "metadata": {},
     "output_type": "display_data"
    }
   ],
   "source": [
    "# check outliers for Age\n",
    "\n",
    "sns.boxplot(train_set.Age)"
   ]
  },
  {
   "cell_type": "code",
   "execution_count": 1774,
   "id": "c9369881",
   "metadata": {},
   "outputs": [
    {
     "data": {
      "text/plain": [
       "29.69911765"
      ]
     },
     "execution_count": 1774,
     "metadata": {},
     "output_type": "execute_result"
    }
   ],
   "source": [
    "train_set[\"Age\"].median()"
   ]
  },
  {
   "cell_type": "code",
   "execution_count": 1775,
   "id": "55e74398",
   "metadata": {},
   "outputs": [
    {
     "data": {
      "text/plain": [
       "count    712.000000\n",
       "mean      29.531213\n",
       "std       13.188028\n",
       "min        0.670000\n",
       "25%       22.000000\n",
       "50%       29.699118\n",
       "75%       35.000000\n",
       "max       80.000000\n",
       "Name: Age, dtype: float64"
      ]
     },
     "execution_count": 1775,
     "metadata": {},
     "output_type": "execute_result"
    }
   ],
   "source": [
    "train_set[\"Age\"].describe()"
   ]
  },
  {
   "cell_type": "code",
   "execution_count": 1776,
   "id": "872700f7",
   "metadata": {},
   "outputs": [
    {
     "name": "stdout",
     "output_type": "stream",
     "text": [
      "Sum of Age_outliers: 54\n"
     ]
    }
   ],
   "source": [
    "# Find Age outliers:\n",
    "outliersByIQR(\"Age\")\n"
   ]
  },
  {
   "cell_type": "code",
   "execution_count": 1777,
   "id": "4f92eaf7",
   "metadata": {},
   "outputs": [],
   "source": [
    "# Let's remove outliers\n",
    "\n",
    "def remove_outlier(df_in, col_name):\n",
    "    q1 = df_in[col_name].quantile(0.25)\n",
    "    q3 = df_in[col_name].quantile(0.75)\n",
    "    iqr = q3-q1 \n",
    "    fence_low  = q1-1.5*iqr\n",
    "    fence_high = q3+1.5*iqr\n",
    "    df_out = df_in.loc[(df_in[col_name] > fence_low) & (df_in[col_name] < fence_high)]\n",
    "    return df_out\n",
    "\n",
    "\n",
    "re_dat = remove_outlier(train_set, \"Fare\")\n",
    "re_dat = remove_outlier(train_set, \"Age\")"
   ]
  },
  {
   "cell_type": "code",
   "execution_count": 1778,
   "id": "8b8ac8f2",
   "metadata": {},
   "outputs": [
    {
     "name": "stdout",
     "output_type": "stream",
     "text": [
      "Pclass      658\n",
      "Sex         658\n",
      "Age         658\n",
      "SibSp       658\n",
      "Parch       658\n",
      "Fare        658\n",
      "Embarked    658\n",
      "Survived    658\n",
      "dtype: int64\n"
     ]
    }
   ],
   "source": [
    "print(re_dat.count())"
   ]
  },
  {
   "cell_type": "markdown",
   "id": "5a72cef8",
   "metadata": {},
   "source": [
    "#### Feature engineering for Naive Bayes:"
   ]
  },
  {
   "cell_type": "code",
   "execution_count": 1779,
   "id": "d45274df",
   "metadata": {},
   "outputs": [],
   "source": [
    "#defining a training function to NB algorithm:\n",
    "def nb_train(train_set):\n",
    "    features = ['Pclass', 'Sex', 'Age', 'SibSp', 'Parch', 'Fare']\n",
    "    x_train = train_set[features]\n",
    "    y_train = train_set['Survived']\n",
    "    return x_train,y_train\n",
    "x_train,y_train = nb_train(train_set)"
   ]
  },
  {
   "cell_type": "code",
   "execution_count": 1780,
   "id": "3f8ddb0f",
   "metadata": {},
   "outputs": [],
   "source": [
    "def nb_test(x_train,y_train):\n",
    "    nb = GaussianNB()\n",
    "    training_sizes = np.linspace(0.1, 0.9, 9)\n",
    "    accuracies = []\n",
    "    for size in training_sizes:\n",
    "        x_train_split,x_val_split, y_train_split, y_val_split = train_test_split(x_train, y_train, train_size=size, random_state=42)\n",
    "        nb.fit(x_train_split, y_train_split)\n",
    "        val_predictions = nb.predict(x_val_split)\n",
    "        accuracy = accuracy_score(y_val_split, val_predictions)\n",
    "        accuracies.append(accuracy)\n",
    "    max_accuracy = max(accuracies)\n",
    "    max_index = accuracies.index(max_accuracy) #choosing the highest accuracy value from all accuracies\n",
    "\n",
    "    return training_sizes,accuracies,max_accuracy,max_index"
   ]
  },
  {
   "cell_type": "code",
   "execution_count": 1781,
   "id": "711027cd",
   "metadata": {},
   "outputs": [],
   "source": [
    "def show_acc(training_sizes, accuracies, max_accuracy, max_index):\n",
    "    plt.figure(figsize=(10, 6))\n",
    "    plt.plot(training_sizes, accuracies, marker='o', linestyle='-', color='b')\n",
    "    plt.annotate(\n",
    "    f'Max accuracy: {max_accuracy:.3f}',\n",
    "    xy=(training_sizes[max_index], accuracies[max_index]),\n",
    "    xytext=(training_sizes[max_index] + 0.1, accuracies[max_index] - 0.050),\n",
    "    arrowprops=dict(facecolor='orange', shrink=0.05),\n",
    "    fontsize=15,\n",
    "    color='black', bbox=dict(facecolor='white', edgecolor='black', boxstyle='round,pad=0.5')\n",
    ")\n",
    "\n",
    "    plt.xlabel('Training Size', fontsize=20)\n",
    "    plt.ylabel('Accuracy', fontsize=20)\n",
    "    plt.title('Validation Accuracy of Naive Bayes Classifier', fontsize=20)\n",
    "    plt.grid(True)\n",
    "    print(f\"Max accuracy for Naive Bayes algorithm: {max_accuracy:.3f}\")\n",
    "    plt.show()\n"
   ]
  },
  {
   "cell_type": "code",
   "execution_count": 1782,
   "id": "28720a1b",
   "metadata": {},
   "outputs": [],
   "source": [
    "#feature engineering by PCA and scaling (pipelining):\n",
    "def create_pipeline(train_set,scaler,pca,dim):\n",
    "        x_train = train_set[['Pclass','Sex','Age','SibSp','Parch','Fare']]\n",
    "        steps = []\n",
    "        if scaler:\n",
    "                steps.append(('scaler', StandardScaler()))\n",
    "        if pca:\n",
    "                steps.append(('pca', PCA(n_components=dim)))\n",
    "                \n",
    "        pipeline = Pipeline(steps)\n",
    "        fe_train = pipeline.fit_transform(x_train)\n",
    "        return fe_train"
   ]
  },
  {
   "cell_type": "code",
   "execution_count": 1783,
   "id": "87491360",
   "metadata": {},
   "outputs": [
    {
     "name": "stdout",
     "output_type": "stream",
     "text": [
      "   Scaler    PCA  Best Dim  Max Accuracy\n",
      "0    True   True         5      0.775439\n",
      "1    True  False         1      0.768421\n",
      "2   False   True         6      0.782456\n",
      "Max accuracy for Naive Bayes algorithm: 0.782\n"
     ]
    },
    {
     "data": {
      "image/png": "[encoded data removed]",
      "text/plain": [
       "<Figure size 1000x600 with 1 Axes>"
      ]
     },
     "metadata": {},
     "output_type": "display_data"
    }
   ],
   "source": [
    "\n",
    "# Define the combinations of parameters and the range of `dim` values\n",
    "def best_fe():\n",
    "    combinations = [\n",
    "    (True, True),\n",
    "    (True, False),\n",
    "    (False, True)\n",
    "]\n",
    "    dim_values = range(1, len(train_set.columns) - 1 )  # Assuming we want to test dimensions from 1 to col len - 1 \n",
    "\n",
    "# Initialize a list to store the results\n",
    "    results = []\n",
    "    y_train = train_set['Survived']\n",
    "# Iterate over each combination and each dim value\n",
    "    for scaler, pca in combinations:\n",
    "        best_accuracy = 0\n",
    "        best_dim = None\n",
    "        for dim in dim_values:\n",
    "            fe_train = create_pipeline(train_set, scaler, pca, dim)\n",
    "            training_sizes, accuracies, max_accuracy, max_index = nb_test(fe_train, y_train)\n",
    "        \n",
    "            if max_accuracy > best_accuracy:\n",
    "                best_accuracy = max_accuracy\n",
    "                best_dim = dim\n",
    "        \n",
    "    \n",
    "        results.append({\n",
    "        'Scaler': scaler,\n",
    "        'PCA': pca,\n",
    "        'Best Dim': best_dim,\n",
    "        'Max Accuracy': best_accuracy\n",
    "    })\n",
    "\n",
    "# Create a DataFrame to display the results\n",
    "    results_df = pd.DataFrame(results)\n",
    "    return training_sizes,accuracies,max_index,results_df\n",
    "\n",
    "training_sizes, accuracies, max_index, results_df = best_fe()\n",
    "\n",
    "# Display the results table\n",
    "print(results_df)\n",
    "best_accuracy = results_df['Max Accuracy'].max()\n",
    "show_acc(training_sizes, accuracies, best_accuracy, max_index)"
   ]
  },
  {
   "cell_type": "markdown",
   "id": "67d97f11",
   "metadata": {},
   "source": [
    "## Part 3 - Training flow\n",
    "Use the best combination of feature engineering, model (algorithm and hyperparameters) from the experiment part (part 2)"
   ]
  },
  {
   "cell_type": "code",
   "execution_count": 1784,
   "id": "97786599",
   "metadata": {
    "ExecuteTime": {
     "end_time": "2024-06-08T09:38:18.741745Z",
     "start_time": "2024-06-08T09:38:18.738745Z"
    }
   },
   "outputs": [],
   "source": [
    "def min_max_scale(series, feature_range=(1, -1)):\n",
    "    min_val = series.min()\n",
    "    max_val = series.max()\n",
    "    scale = (feature_range[1] - feature_range[0]) / (max_val - min_val)\n",
    "    scaled_series = scale * (series - min_val) + feature_range[0]\n",
    "    return scaled_series"
   ]
  },
  {
   "cell_type": "markdown",
   "id": "f2beb9f2",
   "metadata": {},
   "source": [
    "## KNN training:"
   ]
  },
  {
   "cell_type": "code",
   "execution_count": 1785,
   "id": "2122a400",
   "metadata": {
    "ExecuteTime": {
     "end_time": "2024-06-08T09:38:18.746614Z",
     "start_time": "2024-06-08T09:38:18.742749Z"
    }
   },
   "outputs": [],
   "source": [
    "x_train = train_set[['Pclass','Sex','Age','SibSp','Parch','Fare']]\n",
    "y_train = train_set['Survived']"
   ]
  },
  {
   "cell_type": "code",
   "execution_count": 1786,
   "id": "f1043bb1",
   "metadata": {
    "ExecuteTime": {
     "end_time": "2024-06-08T09:38:18.753524Z",
     "start_time": "2024-06-08T09:38:18.747618Z"
    }
   },
   "outputs": [
    {
     "data": {
      "text/html": [
       "<style>#sk-container-id-44 {\n",
       "  /* Definition of color scheme common for light and dark mode */\n",
       "  --sklearn-color-text: black;\n",
       "  --sklearn-color-line: gray;\n",
       "  /* Definition of color scheme for unfitted estimators */\n",
       "  --sklearn-color-unfitted-level-0: #fff5e6;\n",
       "  --sklearn-color-unfitted-level-1: #f6e4d2;\n",
       "  --sklearn-color-unfitted-level-2: #ffe0b3;\n",
       "  --sklearn-color-unfitted-level-3: chocolate;\n",
       "  /* Definition of color scheme for fitted estimators */\n",
       "  --sklearn-color-fitted-level-0: #f0f8ff;\n",
       "  --sklearn-color-fitted-level-1: #d4ebff;\n",
       "  --sklearn-color-fitted-level-2: #b3dbfd;\n",
       "  --sklearn-color-fitted-level-3: cornflowerblue;\n",
       "\n",
       "  /* Specific color for light theme */\n",
       "  --sklearn-color-text-on-default-background: var(--sg-text-color, var(--theme-code-foreground, var(--jp-content-font-color1, black)));\n",
       "  --sklearn-color-background: var(--sg-background-color, var(--theme-background, var(--jp-layout-color0, white)));\n",
       "  --sklearn-color-border-box: var(--sg-text-color, var(--theme-code-foreground, var(--jp-content-font-color1, black)));\n",
       "  --sklearn-color-icon: #696969;\n",
       "\n",
       "  @media (prefers-color-scheme: dark) {\n",
       "    /* Redefinition of color scheme for dark theme */\n",
       "    --sklearn-color-text-on-default-background: var(--sg-text-color, var(--theme-code-foreground, var(--jp-content-font-color1, white)));\n",
       "    --sklearn-color-background: var(--sg-background-color, var(--theme-background, var(--jp-layout-color0, #111)));\n",
       "    --sklearn-color-border-box: var(--sg-text-color, var(--theme-code-foreground, var(--jp-content-font-color1, white)));\n",
       "    --sklearn-color-icon: #878787;\n",
       "  }\n",
       "}\n",
       "\n",
       "#sk-container-id-44 {\n",
       "  color: var(--sklearn-color-text);\n",
       "}\n",
       "\n",
       "#sk-container-id-44 pre {\n",
       "  padding: 0;\n",
       "}\n",
       "\n",
       "#sk-container-id-44 input.sk-hidden--visually {\n",
       "  border: 0;\n",
       "  clip: rect(1px 1px 1px 1px);\n",
       "  clip: rect(1px, 1px, 1px, 1px);\n",
       "  height: 1px;\n",
       "  margin: -1px;\n",
       "  overflow: hidden;\n",
       "  padding: 0;\n",
       "  position: absolute;\n",
       "  width: 1px;\n",
       "}\n",
       "\n",
       "#sk-container-id-44 div.sk-dashed-wrapped {\n",
       "  border: 1px dashed var(--sklearn-color-line);\n",
       "  margin: 0 0.4em 0.5em 0.4em;\n",
       "  box-sizing: border-box;\n",
       "  padding-bottom: 0.4em;\n",
       "  background-color: var(--sklearn-color-background);\n",
       "}\n",
       "\n",
       "#sk-container-id-44 div.sk-container {\n",
       "  /* jupyter's `normalize.less` sets `[hidden] { display: none; }`\n",
       "     but bootstrap.min.css set `[hidden] { display: none !important; }`\n",
       "     so we also need the `!important` here to be able to override the\n",
       "     default hidden behavior on the sphinx rendered scikit-learn.org.\n",
       "     See: https://github.com/scikit-learn/scikit-learn/issues/21755 */\n",
       "  display: inline-block !important;\n",
       "  position: relative;\n",
       "}\n",
       "\n",
       "#sk-container-id-44 div.sk-text-repr-fallback {\n",
       "  display: none;\n",
       "}\n",
       "\n",
       "div.sk-parallel-item,\n",
       "div.sk-serial,\n",
       "div.sk-item {\n",
       "  /* draw centered vertical line to link estimators */\n",
       "  background-image: linear-gradient(var(--sklearn-color-text-on-default-background), var(--sklearn-color-text-on-default-background));\n",
       "  background-size: 2px 100%;\n",
       "  background-repeat: no-repeat;\n",
       "  background-position: center center;\n",
       "}\n",
       "\n",
       "/* Parallel-specific style estimator block */\n",
       "\n",
       "#sk-container-id-44 div.sk-parallel-item::after {\n",
       "  content: \"\";\n",
       "  width: 100%;\n",
       "  border-bottom: 2px solid var(--sklearn-color-text-on-default-background);\n",
       "  flex-grow: 1;\n",
       "}\n",
       "\n",
       "#sk-container-id-44 div.sk-parallel {\n",
       "  display: flex;\n",
       "  align-items: stretch;\n",
       "  justify-content: center;\n",
       "  background-color: var(--sklearn-color-background);\n",
       "  position: relative;\n",
       "}\n",
       "\n",
       "#sk-container-id-44 div.sk-parallel-item {\n",
       "  display: flex;\n",
       "  flex-direction: column;\n",
       "}\n",
       "\n",
       "#sk-container-id-44 div.sk-parallel-item:first-child::after {\n",
       "  align-self: flex-end;\n",
       "  width: 50%;\n",
       "}\n",
       "\n",
       "#sk-container-id-44 div.sk-parallel-item:last-child::after {\n",
       "  align-self: flex-start;\n",
       "  width: 50%;\n",
       "}\n",
       "\n",
       "#sk-container-id-44 div.sk-parallel-item:only-child::after {\n",
       "  width: 0;\n",
       "}\n",
       "\n",
       "/* Serial-specific style estimator block */\n",
       "\n",
       "#sk-container-id-44 div.sk-serial {\n",
       "  display: flex;\n",
       "  flex-direction: column;\n",
       "  align-items: center;\n",
       "  background-color: var(--sklearn-color-background);\n",
       "  padding-right: 1em;\n",
       "  padding-left: 1em;\n",
       "}\n",
       "\n",
       "\n",
       "/* Toggleable style: style used for estimator/Pipeline/ColumnTransformer box that is\n",
       "clickable and can be expanded/collapsed.\n",
       "- Pipeline and ColumnTransformer use this feature and define the default style\n",
       "- Estimators will overwrite some part of the style using the `sk-estimator` class\n",
       "*/\n",
       "\n",
       "/* Pipeline and ColumnTransformer style (default) */\n",
       "\n",
       "#sk-container-id-44 div.sk-toggleable {\n",
       "  /* Default theme specific background. It is overwritten whether we have a\n",
       "  specific estimator or a Pipeline/ColumnTransformer */\n",
       "  background-color: var(--sklearn-color-background);\n",
       "}\n",
       "\n",
       "/* Toggleable label */\n",
       "#sk-container-id-44 label.sk-toggleable__label {\n",
       "  cursor: pointer;\n",
       "  display: block;\n",
       "  width: 100%;\n",
       "  margin-bottom: 0;\n",
       "  padding: 0.5em;\n",
       "  box-sizing: border-box;\n",
       "  text-align: center;\n",
       "}\n",
       "\n",
       "#sk-container-id-44 label.sk-toggleable__label-arrow:before {\n",
       "  /* Arrow on the left of the label */\n",
       "  content: \"▸\";\n",
       "  float: left;\n",
       "  margin-right: 0.25em;\n",
       "  color: var(--sklearn-color-icon);\n",
       "}\n",
       "\n",
       "#sk-container-id-44 label.sk-toggleable__label-arrow:hover:before {\n",
       "  color: var(--sklearn-color-text);\n",
       "}\n",
       "\n",
       "/* Toggleable content - dropdown */\n",
       "\n",
       "#sk-container-id-44 div.sk-toggleable__content {\n",
       "  max-height: 0;\n",
       "  max-width: 0;\n",
       "  overflow: hidden;\n",
       "  text-align: left;\n",
       "  /* unfitted */\n",
       "  background-color: var(--sklearn-color-unfitted-level-0);\n",
       "}\n",
       "\n",
       "#sk-container-id-44 div.sk-toggleable__content.fitted {\n",
       "  /* fitted */\n",
       "  background-color: var(--sklearn-color-fitted-level-0);\n",
       "}\n",
       "\n",
       "#sk-container-id-44 div.sk-toggleable__content pre {\n",
       "  margin: 0.2em;\n",
       "  border-radius: 0.25em;\n",
       "  color: var(--sklearn-color-text);\n",
       "  /* unfitted */\n",
       "  background-color: var(--sklearn-color-unfitted-level-0);\n",
       "}\n",
       "\n",
       "#sk-container-id-44 div.sk-toggleable__content.fitted pre {\n",
       "  /* unfitted */\n",
       "  background-color: var(--sklearn-color-fitted-level-0);\n",
       "}\n",
       "\n",
       "#sk-container-id-44 input.sk-toggleable__control:checked~div.sk-toggleable__content {\n",
       "  /* Expand drop-down */\n",
       "  max-height: 200px;\n",
       "  max-width: 100%;\n",
       "  overflow: auto;\n",
       "}\n",
       "\n",
       "#sk-container-id-44 input.sk-toggleable__control:checked~label.sk-toggleable__label-arrow:before {\n",
       "  content: \"▾\";\n",
       "}\n",
       "\n",
       "/* Pipeline/ColumnTransformer-specific style */\n",
       "\n",
       "#sk-container-id-44 div.sk-label input.sk-toggleable__control:checked~label.sk-toggleable__label {\n",
       "  color: var(--sklearn-color-text);\n",
       "  background-color: var(--sklearn-color-unfitted-level-2);\n",
       "}\n",
       "\n",
       "#sk-container-id-44 div.sk-label.fitted input.sk-toggleable__control:checked~label.sk-toggleable__label {\n",
       "  background-color: var(--sklearn-color-fitted-level-2);\n",
       "}\n",
       "\n",
       "/* Estimator-specific style */\n",
       "\n",
       "/* Colorize estimator box */\n",
       "#sk-container-id-44 div.sk-estimator input.sk-toggleable__control:checked~label.sk-toggleable__label {\n",
       "  /* unfitted */\n",
       "  background-color: var(--sklearn-color-unfitted-level-2);\n",
       "}\n",
       "\n",
       "#sk-container-id-44 div.sk-estimator.fitted input.sk-toggleable__control:checked~label.sk-toggleable__label {\n",
       "  /* fitted */\n",
       "  background-color: var(--sklearn-color-fitted-level-2);\n",
       "}\n",
       "\n",
       "#sk-container-id-44 div.sk-label label.sk-toggleable__label,\n",
       "#sk-container-id-44 div.sk-label label {\n",
       "  /* The background is the default theme color */\n",
       "  color: var(--sklearn-color-text-on-default-background);\n",
       "}\n",
       "\n",
       "/* On hover, darken the color of the background */\n",
       "#sk-container-id-44 div.sk-label:hover label.sk-toggleable__label {\n",
       "  color: var(--sklearn-color-text);\n",
       "  background-color: var(--sklearn-color-unfitted-level-2);\n",
       "}\n",
       "\n",
       "/* Label box, darken color on hover, fitted */\n",
       "#sk-container-id-44 div.sk-label.fitted:hover label.sk-toggleable__label.fitted {\n",
       "  color: var(--sklearn-color-text);\n",
       "  background-color: var(--sklearn-color-fitted-level-2);\n",
       "}\n",
       "\n",
       "/* Estimator label */\n",
       "\n",
       "#sk-container-id-44 div.sk-label label {\n",
       "  font-family: monospace;\n",
       "  font-weight: bold;\n",
       "  display: inline-block;\n",
       "  line-height: 1.2em;\n",
       "}\n",
       "\n",
       "#sk-container-id-44 div.sk-label-container {\n",
       "  text-align: center;\n",
       "}\n",
       "\n",
       "/* Estimator-specific */\n",
       "#sk-container-id-44 div.sk-estimator {\n",
       "  font-family: monospace;\n",
       "  border: 1px dotted var(--sklearn-color-border-box);\n",
       "  border-radius: 0.25em;\n",
       "  box-sizing: border-box;\n",
       "  margin-bottom: 0.5em;\n",
       "  /* unfitted */\n",
       "  background-color: var(--sklearn-color-unfitted-level-0);\n",
       "}\n",
       "\n",
       "#sk-container-id-44 div.sk-estimator.fitted {\n",
       "  /* fitted */\n",
       "  background-color: var(--sklearn-color-fitted-level-0);\n",
       "}\n",
       "\n",
       "/* on hover */\n",
       "#sk-container-id-44 div.sk-estimator:hover {\n",
       "  /* unfitted */\n",
       "  background-color: var(--sklearn-color-unfitted-level-2);\n",
       "}\n",
       "\n",
       "#sk-container-id-44 div.sk-estimator.fitted:hover {\n",
       "  /* fitted */\n",
       "  background-color: var(--sklearn-color-fitted-level-2);\n",
       "}\n",
       "\n",
       "/* Specification for estimator info (e.g. \"i\" and \"?\") */\n",
       "\n",
       "/* Common style for \"i\" and \"?\" */\n",
       "\n",
       ".sk-estimator-doc-link,\n",
       "a:link.sk-estimator-doc-link,\n",
       "a:visited.sk-estimator-doc-link {\n",
       "  float: right;\n",
       "  font-size: smaller;\n",
       "  line-height: 1em;\n",
       "  font-family: monospace;\n",
       "  background-color: var(--sklearn-color-background);\n",
       "  border-radius: 1em;\n",
       "  height: 1em;\n",
       "  width: 1em;\n",
       "  text-decoration: none !important;\n",
       "  margin-left: 1ex;\n",
       "  /* unfitted */\n",
       "  border: var(--sklearn-color-unfitted-level-1) 1pt solid;\n",
       "  color: var(--sklearn-color-unfitted-level-1);\n",
       "}\n",
       "\n",
       ".sk-estimator-doc-link.fitted,\n",
       "a:link.sk-estimator-doc-link.fitted,\n",
       "a:visited.sk-estimator-doc-link.fitted {\n",
       "  /* fitted */\n",
       "  border: var(--sklearn-color-fitted-level-1) 1pt solid;\n",
       "  color: var(--sklearn-color-fitted-level-1);\n",
       "}\n",
       "\n",
       "/* On hover */\n",
       "div.sk-estimator:hover .sk-estimator-doc-link:hover,\n",
       ".sk-estimator-doc-link:hover,\n",
       "div.sk-label-container:hover .sk-estimator-doc-link:hover,\n",
       ".sk-estimator-doc-link:hover {\n",
       "  /* unfitted */\n",
       "  background-color: var(--sklearn-color-unfitted-level-3);\n",
       "  color: var(--sklearn-color-background);\n",
       "  text-decoration: none;\n",
       "}\n",
       "\n",
       "div.sk-estimator.fitted:hover .sk-estimator-doc-link.fitted:hover,\n",
       ".sk-estimator-doc-link.fitted:hover,\n",
       "div.sk-label-container:hover .sk-estimator-doc-link.fitted:hover,\n",
       ".sk-estimator-doc-link.fitted:hover {\n",
       "  /* fitted */\n",
       "  background-color: var(--sklearn-color-fitted-level-3);\n",
       "  color: var(--sklearn-color-background);\n",
       "  text-decoration: none;\n",
       "}\n",
       "\n",
       "/* Span, style for the box shown on hovering the info icon */\n",
       ".sk-estimator-doc-link span {\n",
       "  display: none;\n",
       "  z-index: 9999;\n",
       "  position: relative;\n",
       "  font-weight: normal;\n",
       "  right: .2ex;\n",
       "  padding: .5ex;\n",
       "  margin: .5ex;\n",
       "  width: min-content;\n",
       "  min-width: 20ex;\n",
       "  max-width: 50ex;\n",
       "  color: var(--sklearn-color-text);\n",
       "  box-shadow: 2pt 2pt 4pt #999;\n",
       "  /* unfitted */\n",
       "  background: var(--sklearn-color-unfitted-level-0);\n",
       "  border: .5pt solid var(--sklearn-color-unfitted-level-3);\n",
       "}\n",
       "\n",
       ".sk-estimator-doc-link.fitted span {\n",
       "  /* fitted */\n",
       "  background: var(--sklearn-color-fitted-level-0);\n",
       "  border: var(--sklearn-color-fitted-level-3);\n",
       "}\n",
       "\n",
       ".sk-estimator-doc-link:hover span {\n",
       "  display: block;\n",
       "}\n",
       "\n",
       "/* \"?\"-specific style due to the `<a>` HTML tag */\n",
       "\n",
       "#sk-container-id-44 a.estimator_doc_link {\n",
       "  float: right;\n",
       "  font-size: 1rem;\n",
       "  line-height: 1em;\n",
       "  font-family: monospace;\n",
       "  background-color: var(--sklearn-color-background);\n",
       "  border-radius: 1rem;\n",
       "  height: 1rem;\n",
       "  width: 1rem;\n",
       "  text-decoration: none;\n",
       "  /* unfitted */\n",
       "  color: var(--sklearn-color-unfitted-level-1);\n",
       "  border: var(--sklearn-color-unfitted-level-1) 1pt solid;\n",
       "}\n",
       "\n",
       "#sk-container-id-44 a.estimator_doc_link.fitted {\n",
       "  /* fitted */\n",
       "  border: var(--sklearn-color-fitted-level-1) 1pt solid;\n",
       "  color: var(--sklearn-color-fitted-level-1);\n",
       "}\n",
       "\n",
       "/* On hover */\n",
       "#sk-container-id-44 a.estimator_doc_link:hover {\n",
       "  /* unfitted */\n",
       "  background-color: var(--sklearn-color-unfitted-level-3);\n",
       "  color: var(--sklearn-color-background);\n",
       "  text-decoration: none;\n",
       "}\n",
       "\n",
       "#sk-container-id-44 a.estimator_doc_link.fitted:hover {\n",
       "  /* fitted */\n",
       "  background-color: var(--sklearn-color-fitted-level-3);\n",
       "}\n",
       "</style><div id=\"sk-container-id-44\" class=\"sk-top-container\"><div class=\"sk-text-repr-fallback\"><pre>KNeighborsClassifier(n_neighbors=11)</pre><b>In a Jupyter environment, please rerun this cell to show the HTML representation or trust the notebook. <br />On GitHub, the HTML representation is unable to render, please try loading this page with nbviewer.org.</b></div><div class=\"sk-container\" hidden><div class=\"sk-item\"><div class=\"sk-estimator fitted sk-toggleable\"><input class=\"sk-toggleable__control sk-hidden--visually\" id=\"sk-estimator-id-44\" type=\"checkbox\" checked><label for=\"sk-estimator-id-44\" class=\"sk-toggleable__label fitted sk-toggleable__label-arrow fitted\">&nbsp;&nbsp;KNeighborsClassifier<a class=\"sk-estimator-doc-link fitted\" rel=\"noreferrer\" target=\"_blank\" href=\"https://scikit-learn.org/1.5/modules/generated/sklearn.neighbors.KNeighborsClassifier.html\">?<span>Documentation for KNeighborsClassifier</span></a><span class=\"sk-estimator-doc-link fitted\">i<span>Fitted</span></span></label><div class=\"sk-toggleable__content fitted\"><pre>KNeighborsClassifier(n_neighbors=11)</pre></div> </div></div></div></div>"
      ],
      "text/plain": [
       "KNeighborsClassifier(n_neighbors=11)"
      ]
     },
     "execution_count": 1786,
     "metadata": {},
     "output_type": "execute_result"
    }
   ],
   "source": [
    "knn = KNeighborsClassifier(n_neighbors=11)\n",
    "knn.fit(x_train,y_train)"
   ]
  },
  {
   "cell_type": "markdown",
   "id": "d820924c",
   "metadata": {},
   "source": [
    "# Naive Bayes training:"
   ]
  },
  {
   "cell_type": "code",
   "execution_count": 1787,
   "id": "71369aa8",
   "metadata": {
    "ExecuteTime": {
     "end_time": "2024-06-08T09:38:18.763001Z",
     "start_time": "2024-06-08T09:38:18.754529Z"
    }
   },
   "outputs": [
    {
     "data": {
      "text/html": [
       "<div>\n",
       "<style scoped>\n",
       "    .dataframe tbody tr th:only-of-type {\n",
       "        vertical-align: middle;\n",
       "    }\n",
       "\n",
       "    .dataframe tbody tr th {\n",
       "        vertical-align: top;\n",
       "    }\n",
       "\n",
       "    .dataframe thead th {\n",
       "        text-align: right;\n",
       "    }\n",
       "</style>\n",
       "<table border=\"1\" class=\"dataframe\">\n",
       "  <thead>\n",
       "    <tr style=\"text-align: right;\">\n",
       "      <th></th>\n",
       "      <th>Pclass</th>\n",
       "      <th>Sex</th>\n",
       "      <th>Age</th>\n",
       "      <th>SibSp</th>\n",
       "      <th>Parch</th>\n",
       "      <th>Fare</th>\n",
       "    </tr>\n",
       "  </thead>\n",
       "  <tbody>\n",
       "    <tr>\n",
       "      <th>0</th>\n",
       "      <td>1</td>\n",
       "      <td>0</td>\n",
       "      <td>54.000000</td>\n",
       "      <td>1</td>\n",
       "      <td>0</td>\n",
       "      <td>78.2667</td>\n",
       "    </tr>\n",
       "    <tr>\n",
       "      <th>1</th>\n",
       "      <td>2</td>\n",
       "      <td>0</td>\n",
       "      <td>45.000000</td>\n",
       "      <td>0</td>\n",
       "      <td>0</td>\n",
       "      <td>13.5000</td>\n",
       "    </tr>\n",
       "    <tr>\n",
       "      <th>2</th>\n",
       "      <td>3</td>\n",
       "      <td>1</td>\n",
       "      <td>20.000000</td>\n",
       "      <td>0</td>\n",
       "      <td>0</td>\n",
       "      <td>9.5000</td>\n",
       "    </tr>\n",
       "    <tr>\n",
       "      <th>3</th>\n",
       "      <td>3</td>\n",
       "      <td>1</td>\n",
       "      <td>36.000000</td>\n",
       "      <td>0</td>\n",
       "      <td>0</td>\n",
       "      <td>7.8958</td>\n",
       "    </tr>\n",
       "    <tr>\n",
       "      <th>4</th>\n",
       "      <td>3</td>\n",
       "      <td>1</td>\n",
       "      <td>22.000000</td>\n",
       "      <td>0</td>\n",
       "      <td>0</td>\n",
       "      <td>8.0500</td>\n",
       "    </tr>\n",
       "    <tr>\n",
       "      <th>...</th>\n",
       "      <td>...</td>\n",
       "      <td>...</td>\n",
       "      <td>...</td>\n",
       "      <td>...</td>\n",
       "      <td>...</td>\n",
       "      <td>...</td>\n",
       "    </tr>\n",
       "    <tr>\n",
       "      <th>707</th>\n",
       "      <td>1</td>\n",
       "      <td>1</td>\n",
       "      <td>54.000000</td>\n",
       "      <td>0</td>\n",
       "      <td>0</td>\n",
       "      <td>51.8625</td>\n",
       "    </tr>\n",
       "    <tr>\n",
       "      <th>708</th>\n",
       "      <td>3</td>\n",
       "      <td>1</td>\n",
       "      <td>14.000000</td>\n",
       "      <td>5</td>\n",
       "      <td>2</td>\n",
       "      <td>46.9000</td>\n",
       "    </tr>\n",
       "    <tr>\n",
       "      <th>709</th>\n",
       "      <td>2</td>\n",
       "      <td>0</td>\n",
       "      <td>6.000000</td>\n",
       "      <td>0</td>\n",
       "      <td>1</td>\n",
       "      <td>33.0000</td>\n",
       "    </tr>\n",
       "    <tr>\n",
       "      <th>710</th>\n",
       "      <td>2</td>\n",
       "      <td>1</td>\n",
       "      <td>29.699118</td>\n",
       "      <td>0</td>\n",
       "      <td>0</td>\n",
       "      <td>0.0000</td>\n",
       "    </tr>\n",
       "    <tr>\n",
       "      <th>711</th>\n",
       "      <td>1</td>\n",
       "      <td>0</td>\n",
       "      <td>25.000000</td>\n",
       "      <td>1</td>\n",
       "      <td>2</td>\n",
       "      <td>151.5500</td>\n",
       "    </tr>\n",
       "  </tbody>\n",
       "</table>\n",
       "<p>712 rows × 6 columns</p>\n",
       "</div>"
      ],
      "text/plain": [
       "     Pclass  Sex        Age  SibSp  Parch      Fare\n",
       "0         1    0  54.000000      1      0   78.2667\n",
       "1         2    0  45.000000      0      0   13.5000\n",
       "2         3    1  20.000000      0      0    9.5000\n",
       "3         3    1  36.000000      0      0    7.8958\n",
       "4         3    1  22.000000      0      0    8.0500\n",
       "..      ...  ...        ...    ...    ...       ...\n",
       "707       1    1  54.000000      0      0   51.8625\n",
       "708       3    1  14.000000      5      2   46.9000\n",
       "709       2    0   6.000000      0      1   33.0000\n",
       "710       2    1  29.699118      0      0    0.0000\n",
       "711       1    0  25.000000      1      2  151.5500\n",
       "\n",
       "[712 rows x 6 columns]"
      ]
     },
     "metadata": {},
     "output_type": "display_data"
    }
   ],
   "source": [
    "#defining a training function to NB algorithm:\n",
    "def nb_train(train_set):\n",
    "    features = ['Pclass', 'Sex', 'Age', 'SibSp', 'Parch', 'Fare']\n",
    "    x_train = train_set[features]\n",
    "    y_train = train_set['Survived']\n",
    "    return x_train,y_train\n",
    "x_train,y_train = nb_train(train_set)\n",
    "display(x_train)"
   ]
  },
  {
   "cell_type": "code",
   "execution_count": null,
   "id": "43eaef8b",
   "metadata": {
    "ExecuteTime": {
     "end_time": "2024-06-08T09:38:18.766458Z",
     "start_time": "2024-06-08T09:38:18.763950Z"
    }
   },
   "outputs": [],
   "source": []
  },
  {
   "cell_type": "code",
   "execution_count": null,
   "id": "511adbc3",
   "metadata": {
    "ExecuteTime": {
     "end_time": "2024-06-08T09:38:18.769226Z",
     "start_time": "2024-06-08T09:38:18.767463Z"
    }
   },
   "outputs": [],
   "source": []
  },
  {
   "cell_type": "markdown",
   "id": "259ab902",
   "metadata": {},
   "source": [
    "## Part 4 - Apply on test and show model performance estimation"
   ]
  },
  {
   "cell_type": "markdown",
   "id": "982fd267",
   "metadata": {},
   "source": [
    "## KNN algorithm testing:"
   ]
  },
  {
   "cell_type": "code",
   "execution_count": 1788,
   "id": "d9971aa5",
   "metadata": {
    "ExecuteTime": {
     "end_time": "2024-06-08T09:38:18.774176Z",
     "start_time": "2024-06-08T09:38:18.770229Z"
    }
   },
   "outputs": [],
   "source": [
    "test_set = pd.read_csv(\"titanic_test.csv\")"
   ]
  },
  {
   "cell_type": "code",
   "execution_count": 1789,
   "id": "00d8aa96",
   "metadata": {
    "ExecuteTime": {
     "end_time": "2024-06-08T09:38:18.778250Z",
     "start_time": "2024-06-08T09:38:18.775179Z"
    }
   },
   "outputs": [],
   "source": [
    "x_test = test_set[['Pclass','Sex','Age','SibSp','Parch','Fare']]\n",
    "y_test = test_set['Survived']"
   ]
  },
  {
   "cell_type": "code",
   "execution_count": 1790,
   "id": "686b0d71",
   "metadata": {
    "ExecuteTime": {
     "end_time": "2024-06-08T09:38:18.790049Z",
     "start_time": "2024-06-08T09:38:18.779257Z"
    }
   },
   "outputs": [
    {
     "name": "stdout",
     "output_type": "stream",
     "text": [
      "accuracy:  0.7374301675977654\n"
     ]
    }
   ],
   "source": [
    "y_predict = knn.predict(x_test)\n",
    "accuracy = accuracy_score(y_test,y_predict)\n",
    "print(\"accuracy: \", accuracy)"
   ]
  },
  {
   "cell_type": "code",
   "execution_count": 1791,
   "id": "874a9887",
   "metadata": {
    "ExecuteTime": {
     "end_time": "2024-06-08T09:38:19.632754Z",
     "start_time": "2024-06-08T09:38:18.792053Z"
    }
   },
   "outputs": [],
   "source": [
    "neighbors = np.arange(1, 100)\n",
    "accuracy_scores=[]\n",
    "for n in neighbors:\n",
    "    knn = KNeighborsClassifier(n_neighbors=n)\n",
    "    knn.fit(x_train,y_train)\n",
    "    y_pred = knn.predict(x_test)\n",
    "    accuracy = accuracy_score(y_test, y_pred)\n",
    "    accuracy_scores.append(accuracy)"
   ]
  },
  {
   "cell_type": "code",
   "execution_count": 1792,
   "id": "8a68001f",
   "metadata": {
    "ExecuteTime": {
     "end_time": "2024-06-08T09:38:19.779078Z",
     "start_time": "2024-06-08T09:38:19.633758Z"
    }
   },
   "outputs": [
    {
     "data": {
      "image/png": "[encoded data removed]",
      "text/plain": [
       "<Figure size 1500x1000 with 1 Axes>"
      ]
     },
     "metadata": {},
     "output_type": "display_data"
    }
   ],
   "source": [
    "plt.figure(figsize=(15, 10))\n",
    "plt.plot(neighbors, accuracy_scores)\n",
    "plt.xlabel('Number of Neighbors', fontsize=20)\n",
    "plt.ylabel('Accuracy', fontsize=20)\n",
    "plt.title('Accuracy vs. Number of Neighbors', fontsize=20)\n",
    "\n",
    "# Finding the maximum accuracy and its corresponding neighbor\n",
    "max_index = accuracy_scores.index(max(accuracy_scores))\n",
    "max_neighbor = neighbors[max_index]\n",
    "max_accuracy = accuracy_scores[max_index]\n",
    "\n",
    "# Adding annotation\n",
    "plt.annotate(f'Max Accuracy: {max_accuracy:.2f}', \n",
    "             xy=(max_neighbor, max_accuracy),  # Arrowhead position\n",
    "             xytext=(max_neighbor-10, max_accuracy),  # Text position above the point\n",
    "             arrowprops=dict(facecolor='orange', shrink=0.05),\n",
    "             ha='right', fontsize=14)\n",
    "plt.show()"
   ]
  },
  {
   "cell_type": "markdown",
   "id": "aa7b1f9b",
   "metadata": {},
   "source": [
    "## Naive Bayes algorithm testing:"
   ]
  }
 ],
 "metadata": {
  "kernelspec": {
   "display_name": "Python 3 (ipykernel)",
   "language": "python",
   "name": "python3"
  },
  "language_info": {
   "codemirror_mode": {
    "name": "ipython",
    "version": 3
   },
   "file_extension": ".py",
   "mimetype": "text/x-python",
   "name": "python",
   "nbconvert_exporter": "python",
   "pygments_lexer": "ipython3",
   "version": "3.7.6"
  },
  "vscode": {
   "interpreter": {
    "hash": "49cb93f377a7abe7414b7b0f21fb3017538004a126cf690fb524202736b7fb92"
   }
  }
 },
 "nbformat": 4,
 "nbformat_minor": 5
}
