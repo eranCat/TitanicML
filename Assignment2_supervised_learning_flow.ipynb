{
 "cells": [
  {
   "cell_type": "markdown",
   "id": "b06a2810",
   "metadata": {},
   "source": [
    "### Part 1 - Student details:\n",
    "* Please write the First Name and last 4 digits of the i.d. for each student. For example:\n",
    "<pre>Israel 7938</pre>"
   ]
  },
  {
   "cell_type": "code",
   "execution_count": 99,
   "id": "ca16486b",
   "metadata": {
    "ExecuteTime": {
     "end_time": "2024-06-05T16:01:43.336489Z",
     "start_time": "2024-06-05T16:01:43.333332Z"
    }
   },
   "outputs": [],
   "source": [
    "# student 1: Israel 7938\n",
    "# student 2: Eran 6215\n",
    "# student 3: Avihai 2474\n",
    "# student 4: Almog 8269\n",
    "# student 5: Liron 5068\n",
    "# student 6: Matan ####"
   ]
  },
  {
   "cell_type": "code",
   "execution_count": 100,
   "id": "bac1a236",
   "metadata": {
    "ExecuteTime": {
     "end_time": "2024-06-05T16:01:43.341063Z",
     "start_time": "2024-06-05T16:01:43.337493Z"
    }
   },
   "outputs": [],
   "source": [
    "#test"
   ]
  },
  {
   "cell_type": "markdown",
   "id": "fb36672a",
   "metadata": {},
   "source": [
    "## Part 2 - Experiments\n",
    "You could add as many code cells as needed"
   ]
  },
  {
   "cell_type": "code",
   "execution_count": 101,
   "id": "b7098585",
   "metadata": {
    "ExecuteTime": {
     "end_time": "2024-06-05T16:01:43.609865Z",
     "start_time": "2024-06-05T16:01:43.342067Z"
    }
   },
   "outputs": [],
   "source": [
    "import numpy as np\n",
    "import pandas as pd\n",
    "import matplotlib.pyplot as plt\n",
    "import sklearn as sklearn\n",
    "import seaborn as sns\n",
    "from sklearn.preprocessing import StandardScaler\n",
    "from sklearn.neighbors import KNeighborsClassifier\n",
    "from sklearn.metrics import accuracy_score, confusion_matrix, classification_report, f1_score, recall_score, precision_score\n",
    "from sklearn.naive_bayes import GaussianNB\n",
    "from sklearn.model_selection import train_test_split"
   ]
  },
  {
   "cell_type": "code",
   "execution_count": 102,
   "id": "3b63b9d3-65e3-4151-a240-8d7236e7d9f1",
   "metadata": {
    "ExecuteTime": {
     "end_time": "2024-06-05T16:01:43.618103Z",
     "start_time": "2024-06-05T16:01:43.610743Z"
    }
   },
   "outputs": [],
   "source": [
    "df_train = pd.read_csv('titanic_train.csv')\n",
    "train_set = pd.read_csv(\"titanic_train.csv\")"
   ]
  },
  {
   "cell_type": "code",
   "execution_count": 103,
   "id": "fad49cb1f89e16a6",
   "metadata": {
    "ExecuteTime": {
     "end_time": "2024-06-05T18:05:20.791215Z",
     "start_time": "2024-06-05T18:05:20.784637Z"
    }
   },
   "outputs": [
    {
     "data": {
      "text/html": [
       "<div>\n",
       "<style scoped>\n",
       "    .dataframe tbody tr th:only-of-type {\n",
       "        vertical-align: middle;\n",
       "    }\n",
       "\n",
       "    .dataframe tbody tr th {\n",
       "        vertical-align: top;\n",
       "    }\n",
       "\n",
       "    .dataframe thead th {\n",
       "        text-align: right;\n",
       "    }\n",
       "</style>\n",
       "<table border=\"1\" class=\"dataframe\">\n",
       "  <thead>\n",
       "    <tr style=\"text-align: right;\">\n",
       "      <th></th>\n",
       "      <th>Pclass</th>\n",
       "      <th>Sex</th>\n",
       "      <th>Age</th>\n",
       "      <th>SibSp</th>\n",
       "      <th>Parch</th>\n",
       "      <th>Fare</th>\n",
       "      <th>Embarked</th>\n",
       "      <th>Survived</th>\n",
       "    </tr>\n",
       "  </thead>\n",
       "  <tbody>\n",
       "    <tr>\n",
       "      <th>0</th>\n",
       "      <td>1</td>\n",
       "      <td>0</td>\n",
       "      <td>54.0</td>\n",
       "      <td>1</td>\n",
       "      <td>0</td>\n",
       "      <td>78.2667</td>\n",
       "      <td>1</td>\n",
       "      <td>1</td>\n",
       "    </tr>\n",
       "    <tr>\n",
       "      <th>1</th>\n",
       "      <td>2</td>\n",
       "      <td>0</td>\n",
       "      <td>45.0</td>\n",
       "      <td>0</td>\n",
       "      <td>0</td>\n",
       "      <td>13.5000</td>\n",
       "      <td>0</td>\n",
       "      <td>1</td>\n",
       "    </tr>\n",
       "    <tr>\n",
       "      <th>2</th>\n",
       "      <td>3</td>\n",
       "      <td>1</td>\n",
       "      <td>20.0</td>\n",
       "      <td>0</td>\n",
       "      <td>0</td>\n",
       "      <td>9.5000</td>\n",
       "      <td>0</td>\n",
       "      <td>0</td>\n",
       "    </tr>\n",
       "    <tr>\n",
       "      <th>3</th>\n",
       "      <td>3</td>\n",
       "      <td>1</td>\n",
       "      <td>36.0</td>\n",
       "      <td>0</td>\n",
       "      <td>0</td>\n",
       "      <td>7.8958</td>\n",
       "      <td>0</td>\n",
       "      <td>0</td>\n",
       "    </tr>\n",
       "    <tr>\n",
       "      <th>4</th>\n",
       "      <td>3</td>\n",
       "      <td>1</td>\n",
       "      <td>22.0</td>\n",
       "      <td>0</td>\n",
       "      <td>0</td>\n",
       "      <td>8.0500</td>\n",
       "      <td>0</td>\n",
       "      <td>0</td>\n",
       "    </tr>\n",
       "  </tbody>\n",
       "</table>\n",
       "</div>"
      ],
      "text/plain": [
       "   Pclass  Sex   Age  SibSp  Parch     Fare  Embarked  Survived\n",
       "0       1    0  54.0      1      0  78.2667         1         1\n",
       "1       2    0  45.0      0      0  13.5000         0         1\n",
       "2       3    1  20.0      0      0   9.5000         0         0\n",
       "3       3    1  36.0      0      0   7.8958         0         0\n",
       "4       3    1  22.0      0      0   8.0500         0         0"
      ]
     },
     "execution_count": 103,
     "metadata": {},
     "output_type": "execute_result"
    }
   ],
   "source": [
    "df_train.head(5)"
   ]
  },
  {
   "cell_type": "code",
   "execution_count": 104,
   "id": "44e1892e76c7f660",
   "metadata": {
    "ExecuteTime": {
     "end_time": "2024-06-05T18:05:21.303160Z",
     "start_time": "2024-06-05T18:05:21.296847Z"
    }
   },
   "outputs": [
    {
     "data": {
      "text/html": [
       "<div>\n",
       "<style scoped>\n",
       "    .dataframe tbody tr th:only-of-type {\n",
       "        vertical-align: middle;\n",
       "    }\n",
       "\n",
       "    .dataframe tbody tr th {\n",
       "        vertical-align: top;\n",
       "    }\n",
       "\n",
       "    .dataframe thead th {\n",
       "        text-align: right;\n",
       "    }\n",
       "</style>\n",
       "<table border=\"1\" class=\"dataframe\">\n",
       "  <thead>\n",
       "    <tr style=\"text-align: right;\">\n",
       "      <th></th>\n",
       "      <th>Pclass</th>\n",
       "      <th>Sex</th>\n",
       "      <th>Age</th>\n",
       "      <th>SibSp</th>\n",
       "      <th>Parch</th>\n",
       "      <th>Fare</th>\n",
       "      <th>Embarked</th>\n",
       "      <th>Survived</th>\n",
       "    </tr>\n",
       "  </thead>\n",
       "  <tbody>\n",
       "    <tr>\n",
       "      <th>0</th>\n",
       "      <td>1</td>\n",
       "      <td>0</td>\n",
       "      <td>54.0</td>\n",
       "      <td>1</td>\n",
       "      <td>0</td>\n",
       "      <td>78.2667</td>\n",
       "      <td>1</td>\n",
       "      <td>1</td>\n",
       "    </tr>\n",
       "    <tr>\n",
       "      <th>1</th>\n",
       "      <td>2</td>\n",
       "      <td>0</td>\n",
       "      <td>45.0</td>\n",
       "      <td>0</td>\n",
       "      <td>0</td>\n",
       "      <td>13.5000</td>\n",
       "      <td>0</td>\n",
       "      <td>1</td>\n",
       "    </tr>\n",
       "    <tr>\n",
       "      <th>2</th>\n",
       "      <td>3</td>\n",
       "      <td>1</td>\n",
       "      <td>20.0</td>\n",
       "      <td>0</td>\n",
       "      <td>0</td>\n",
       "      <td>9.5000</td>\n",
       "      <td>0</td>\n",
       "      <td>0</td>\n",
       "    </tr>\n",
       "    <tr>\n",
       "      <th>3</th>\n",
       "      <td>3</td>\n",
       "      <td>1</td>\n",
       "      <td>36.0</td>\n",
       "      <td>0</td>\n",
       "      <td>0</td>\n",
       "      <td>7.8958</td>\n",
       "      <td>0</td>\n",
       "      <td>0</td>\n",
       "    </tr>\n",
       "    <tr>\n",
       "      <th>4</th>\n",
       "      <td>3</td>\n",
       "      <td>1</td>\n",
       "      <td>22.0</td>\n",
       "      <td>0</td>\n",
       "      <td>0</td>\n",
       "      <td>8.0500</td>\n",
       "      <td>0</td>\n",
       "      <td>0</td>\n",
       "    </tr>\n",
       "  </tbody>\n",
       "</table>\n",
       "</div>"
      ],
      "text/plain": [
       "   Pclass  Sex   Age  SibSp  Parch     Fare  Embarked  Survived\n",
       "0       1    0  54.0      1      0  78.2667         1         1\n",
       "1       2    0  45.0      0      0  13.5000         0         1\n",
       "2       3    1  20.0      0      0   9.5000         0         0\n",
       "3       3    1  36.0      0      0   7.8958         0         0\n",
       "4       3    1  22.0      0      0   8.0500         0         0"
      ]
     },
     "execution_count": 104,
     "metadata": {},
     "output_type": "execute_result"
    }
   ],
   "source": [
    "train_set.head(5)"
   ]
  },
  {
   "cell_type": "code",
   "execution_count": 105,
   "id": "097afb02",
   "metadata": {
    "ExecuteTime": {
     "end_time": "2024-06-05T16:01:43.625841Z",
     "start_time": "2024-06-05T16:01:43.619107Z"
    }
   },
   "outputs": [
    {
     "name": "stdout",
     "output_type": "stream",
     "text": [
      "Survived man : 69\n",
      "survived women: 156\n",
      "survived kids 56\n",
      "survivels:  281\n"
     ]
    }
   ],
   "source": [
    "#Men\n",
    "survivedMan = df_train[(df_train['Sex'] == 1) & (df_train['Age'] > 18) & (df_train['Survived'] == 1)]\n",
    "survivedManCount = len(survivedMan)\n",
    "print(\"Survived man :\",survivedManCount)\n",
    "\n",
    "#Women\n",
    "survivedWomen = df_train[(df_train['Sex'] == 0) & (df_train['Age'] > 18) & (df_train['Survived'] == 1)]\n",
    "survivedWomenCount = len(survivedWomen)\n",
    "print(\"survived women:\",survivedWomenCount)\n",
    "#Kids\n",
    "survivedKids = df_train[(df_train['Age'] <= 18) & (df_train['Survived'] == 1)]\n",
    "survivedKidsCount = len(survivedKids)\n",
    "print(\"survived kids\",survivedKidsCount)\n",
    "\n",
    "survivedCount = len(df_train[df_train['Survived'] == 1])\n",
    "print(\"survivels: \",survivedCount)"
   ]
  },
  {
   "cell_type": "code",
   "execution_count": 106,
   "id": "1fa9ec73",
   "metadata": {
    "ExecuteTime": {
     "end_time": "2024-06-05T16:01:43.631963Z",
     "start_time": "2024-06-05T16:01:43.626846Z"
    }
   },
   "outputs": [
    {
     "data": {
      "text/plain": [
       "Pclass      0\n",
       "Sex         0\n",
       "Age         0\n",
       "SibSp       0\n",
       "Parch       0\n",
       "Fare        0\n",
       "Embarked    0\n",
       "Survived    0\n",
       "dtype: int64"
      ]
     },
     "execution_count": 106,
     "metadata": {},
     "output_type": "execute_result"
    }
   ],
   "source": [
    "df_train.isnull().sum() "
   ]
  },
  {
   "cell_type": "markdown",
   "id": "e37306794f874a57",
   "metadata": {},
   "source": [
    "## Visualization"
   ]
  },
  {
   "cell_type": "code",
   "execution_count": 107,
   "id": "3cf7c4e832f50405",
   "metadata": {
    "ExecuteTime": {
     "end_time": "2024-06-05T16:01:43.745155Z",
     "start_time": "2024-06-05T16:01:43.631963Z"
    }
   },
   "outputs": [
    {
     "data": {
      "image/png": "[encoded data removed]",
      "text/plain": [
       "<Figure size 1440x1080 with 1 Axes>"
      ]
     },
     "metadata": {},
     "output_type": "display_data"
    }
   ],
   "source": [
    "population = [survivedManCount,survivedWomenCount,survivedKidsCount]\n",
    "labels = ['Male', 'Female','Kids']\n",
    "colors = ['#E91694', '#94E916', '#1694E9']\n",
    "fig,ax = plt.subplots(figsize=(20, 15))\n",
    "ax.pie(population,labels = labels,autopct='%1.1f%%',colors=colors, textprops={'fontsize': 20})\n",
    "plt.title('Survivors of the Titanic', fontsize=20)\n",
    "fig.patch.set_facecolor('white')\n",
    "plt.show()"
   ]
  },
  {
   "cell_type": "code",
   "execution_count": 108,
   "id": "c46e520d",
   "metadata": {
    "ExecuteTime": {
     "end_time": "2024-06-05T16:01:43.756107Z",
     "start_time": "2024-06-05T16:01:43.746160Z"
    }
   },
   "outputs": [
    {
     "data": {
      "text/html": [
       "<div>\n",
       "<style scoped>\n",
       "    .dataframe tbody tr th:only-of-type {\n",
       "        vertical-align: middle;\n",
       "    }\n",
       "\n",
       "    .dataframe tbody tr th {\n",
       "        vertical-align: top;\n",
       "    }\n",
       "\n",
       "    .dataframe thead th {\n",
       "        text-align: right;\n",
       "    }\n",
       "</style>\n",
       "<table border=\"1\" class=\"dataframe\">\n",
       "  <thead>\n",
       "    <tr style=\"text-align: right;\">\n",
       "      <th></th>\n",
       "      <th>Category</th>\n",
       "      <th>Survived</th>\n",
       "      <th>Percentage</th>\n",
       "    </tr>\n",
       "  </thead>\n",
       "  <tbody>\n",
       "    <tr>\n",
       "      <th>0</th>\n",
       "      <td>Male</td>\n",
       "      <td>69</td>\n",
       "      <td>24.6</td>\n",
       "    </tr>\n",
       "    <tr>\n",
       "      <th>1</th>\n",
       "      <td>Female</td>\n",
       "      <td>156</td>\n",
       "      <td>55.5</td>\n",
       "    </tr>\n",
       "    <tr>\n",
       "      <th>2</th>\n",
       "      <td>Kids</td>\n",
       "      <td>56</td>\n",
       "      <td>19.9</td>\n",
       "    </tr>\n",
       "    <tr>\n",
       "      <th>3</th>\n",
       "      <td>Total</td>\n",
       "      <td>281</td>\n",
       "      <td>100.0</td>\n",
       "    </tr>\n",
       "  </tbody>\n",
       "</table>\n",
       "</div>"
      ],
      "text/plain": [
       "  Category  Survived  Percentage\n",
       "0     Male        69        24.6\n",
       "1   Female       156        55.5\n",
       "2     Kids        56        19.9\n",
       "3    Total       281       100.0"
      ]
     },
     "execution_count": 108,
     "metadata": {},
     "output_type": "execute_result"
    }
   ],
   "source": [
    "data = {'Category': ['Male', 'Female', 'Kids', 'Total'],\n",
    "        'Survived': [survivedManCount, survivedWomenCount, survivedKidsCount, survivedCount]}\n",
    "Survivors1 = pd.DataFrame(data)\n",
    "Survivors1['Percentage'] = Survivors1['Survived'].apply(lambda x: round((x / survivedCount) * 100, 1))\n",
    "Survivors1"
   ]
  },
  {
   "cell_type": "code",
   "execution_count": 109,
   "id": "400e9b09",
   "metadata": {
    "ExecuteTime": {
     "end_time": "2024-06-05T16:01:44.154612Z",
     "start_time": "2024-06-05T16:01:43.757111Z"
    }
   },
   "outputs": [
    {
     "data": {
      "image/png": "[encoded data removed]",
      "text/plain": [
       "<Figure size 1728x864 with 2 Axes>"
      ]
     },
     "metadata": {
      "needs_background": "light"
     },
     "output_type": "display_data"
    }
   ],
   "source": [
    "survived = 'survived'\n",
    "not_survived = 'not survived'\n",
    "fig, axes = plt.subplots(nrows=1, ncols=2,figsize=(24, 12))\n",
    "women = df_train[df_train['Sex']==0]\n",
    "men = df_train[df_train['Sex']==1]\n",
    "ax = sns.histplot(women[women['Survived']==1].Age.dropna(), bins=10, label = survived, ax = axes[0], kde =False, color=\"#76FF00\")\n",
    "ax = sns.histplot(women[women['Survived']==0].Age.dropna(), bins=10, label = not_survived, ax = axes[0], kde =False, color=\"#8900FF\")\n",
    "ax.legend()\n",
    "ax.set_title('Female')\n",
    "ax = sns.histplot(men[men['Survived']==1].Age.dropna(), bins=10, label = survived, ax = axes[1], kde = False, color=\"#FF5100\")\n",
    "ax = sns.histplot(men[men['Survived']==0].Age.dropna(), bins=10, label = not_survived, ax = axes[1], kde = False, color=\"#00AEFF\")\n",
    "ax.legend()\n",
    "_ = ax.set_title('Male')"
   ]
  },
  {
   "cell_type": "code",
   "execution_count": 110,
   "id": "8997a33f",
   "metadata": {
    "ExecuteTime": {
     "end_time": "2024-06-05T16:01:44.165698Z",
     "start_time": "2024-06-05T16:01:44.154612Z"
    }
   },
   "outputs": [
    {
     "data": {
      "text/html": [
       "<div>\n",
       "<style scoped>\n",
       "    .dataframe tbody tr th:only-of-type {\n",
       "        vertical-align: middle;\n",
       "    }\n",
       "\n",
       "    .dataframe tbody tr th {\n",
       "        vertical-align: top;\n",
       "    }\n",
       "\n",
       "    .dataframe thead th {\n",
       "        text-align: right;\n",
       "    }\n",
       "</style>\n",
       "<table border=\"1\" class=\"dataframe\">\n",
       "  <thead>\n",
       "    <tr style=\"text-align: right;\">\n",
       "      <th></th>\n",
       "      <th>Category</th>\n",
       "      <th>Survived</th>\n",
       "    </tr>\n",
       "  </thead>\n",
       "  <tbody>\n",
       "    <tr>\n",
       "      <th>0</th>\n",
       "      <td>survived men</td>\n",
       "      <td>193</td>\n",
       "    </tr>\n",
       "    <tr>\n",
       "      <th>1</th>\n",
       "      <td>survived women</td>\n",
       "      <td>88</td>\n",
       "    </tr>\n",
       "    <tr>\n",
       "      <th>2</th>\n",
       "      <td>not-survived women</td>\n",
       "      <td>368</td>\n",
       "    </tr>\n",
       "    <tr>\n",
       "      <th>3</th>\n",
       "      <td>not-survived men</td>\n",
       "      <td>63</td>\n",
       "    </tr>\n",
       "  </tbody>\n",
       "</table>\n",
       "</div>"
      ],
      "text/plain": [
       "             Category Survived\n",
       "0        survived men      193\n",
       "1      survived women       88\n",
       "2  not-survived women      368\n",
       "3    not-survived men       63"
      ]
     },
     "execution_count": 110,
     "metadata": {},
     "output_type": "execute_result"
    }
   ],
   "source": [
    "# Define categories (survived, not survived)\n",
    "categories = ['survived', 'not survived']\n",
    "\n",
    "women_survived = df_train[(df_train[\"Sex\"] == 1) & (df_train[\"Survived\"] == 1)]  # survived women\n",
    "women_not_survived = df_train[(df_train[\"Sex\"] == 1) & (df_train[\"Survived\"] == 0)]  # non-survived women\n",
    "men_survived = df_train[(df_train[\"Sex\"] == 0) & (df_train[\"Survived\"] == 1)]  # Ages of survived men\n",
    "men_not_survived = df_train[(df_train[\"Sex\"] == 0) & (df_train[\"Survived\"] == 0)]  # Ages of non-survived men\n",
    "\n",
    "\n",
    "data = {'Category': ['survived men', 'survived women', 'not-survived women', 'not-survived men'], \n",
    "        'Survived': [len(men_survived), len(women_survived), len(women_not_survived), len(men_not_survived)]}\n",
    "\n",
    "\n",
    "Survivors2 = pd.DataFrame.from_dict(data, orient='index').transpose()\n",
    "\n",
    "# Display the DataFrame\n",
    "Survivors2\n"
   ]
  },
  {
   "cell_type": "code",
   "execution_count": 123,
   "id": "f68ab96a",
   "metadata": {},
   "outputs": [
    {
     "data": {
      "text/html": [
       "<div>\n",
       "<style scoped>\n",
       "    .dataframe tbody tr th:only-of-type {\n",
       "        vertical-align: middle;\n",
       "    }\n",
       "\n",
       "    .dataframe tbody tr th {\n",
       "        vertical-align: top;\n",
       "    }\n",
       "\n",
       "    .dataframe thead th {\n",
       "        text-align: right;\n",
       "    }\n",
       "</style>\n",
       "<table border=\"1\" class=\"dataframe\">\n",
       "  <thead>\n",
       "    <tr style=\"text-align: right;\">\n",
       "      <th></th>\n",
       "      <th>AgeGroup</th>\n",
       "      <th>Survived Women</th>\n",
       "      <th>Not Survived Women</th>\n",
       "      <th>Survived Men</th>\n",
       "      <th>Not Survived Men</th>\n",
       "    </tr>\n",
       "  </thead>\n",
       "  <tbody>\n",
       "    <tr>\n",
       "      <th>0</th>\n",
       "      <td>0-10</td>\n",
       "      <td>16</td>\n",
       "      <td>9</td>\n",
       "      <td>15</td>\n",
       "      <td>12</td>\n",
       "    </tr>\n",
       "    <tr>\n",
       "      <th>1</th>\n",
       "      <td>11-20</td>\n",
       "      <td>28</td>\n",
       "      <td>8</td>\n",
       "      <td>5</td>\n",
       "      <td>44</td>\n",
       "    </tr>\n",
       "    <tr>\n",
       "      <th>2</th>\n",
       "      <td>21-30</td>\n",
       "      <td>75</td>\n",
       "      <td>28</td>\n",
       "      <td>33</td>\n",
       "      <td>180</td>\n",
       "    </tr>\n",
       "    <tr>\n",
       "      <th>3</th>\n",
       "      <td>31-40</td>\n",
       "      <td>44</td>\n",
       "      <td>7</td>\n",
       "      <td>19</td>\n",
       "      <td>59</td>\n",
       "    </tr>\n",
       "    <tr>\n",
       "      <th>4</th>\n",
       "      <td>41-50</td>\n",
       "      <td>18</td>\n",
       "      <td>9</td>\n",
       "      <td>9</td>\n",
       "      <td>35</td>\n",
       "    </tr>\n",
       "    <tr>\n",
       "      <th>5</th>\n",
       "      <td>51-60</td>\n",
       "      <td>9</td>\n",
       "      <td>2</td>\n",
       "      <td>4</td>\n",
       "      <td>23</td>\n",
       "    </tr>\n",
       "    <tr>\n",
       "      <th>6</th>\n",
       "      <td>61-70</td>\n",
       "      <td>3</td>\n",
       "      <td>0</td>\n",
       "      <td>2</td>\n",
       "      <td>10</td>\n",
       "    </tr>\n",
       "    <tr>\n",
       "      <th>7</th>\n",
       "      <td>71-80</td>\n",
       "      <td>0</td>\n",
       "      <td>0</td>\n",
       "      <td>0</td>\n",
       "      <td>5</td>\n",
       "    </tr>\n",
       "  </tbody>\n",
       "</table>\n",
       "</div>"
      ],
      "text/plain": [
       "  AgeGroup  Survived Women  Not Survived Women  Survived Men  Not Survived Men\n",
       "0     0-10              16                   9            15                12\n",
       "1    11-20              28                   8             5                44\n",
       "2    21-30              75                  28            33               180\n",
       "3    31-40              44                   7            19                59\n",
       "4    41-50              18                   9             9                35\n",
       "5    51-60               9                   2             4                23\n",
       "6    61-70               3                   0             2                10\n",
       "7    71-80               0                   0             0                 5"
      ]
     },
     "execution_count": 123,
     "metadata": {},
     "output_type": "execute_result"
    }
   ],
   "source": [
    "# Making DataFrame for the histogram above\n",
    "age_bins = [0, 10, 20, 30, 40, 50, 60, 70, 80]\n",
    "age_labels = ['0-10', '11-20', '21-30', '31-40', '41-50', '51-60', '61-70', '71-80']\n",
    "\n",
    "df_train['AgeGroup'] = pd.cut(df_train['Age'], bins=age_bins, labels=age_labels, right=False)\n",
    "\n",
    "data = {\n",
    "    'AgeGroup': age_labels,\n",
    "    'Survived Women': [],\n",
    "    'Not Survived Women': [],\n",
    "    'Survived Men': [],\n",
    "    'Not Survived Men': []\n",
    "}\n",
    "\n",
    "for age_group in age_labels:\n",
    "    survived_women = len(df_train[(df_train['AgeGroup'] == age_group) & (df_train['Sex'] == 0) & (df_train['Survived'] == 1)])\n",
    "    not_survived_women = len(df_train[(df_train['AgeGroup'] == age_group) & (df_train['Sex'] == 0) & (df_train['Survived'] == 0)])\n",
    "    survived_men = len(df_train[(df_train['AgeGroup'] == age_group) & (df_train['Sex'] == 1) & (df_train['Survived'] == 1)])\n",
    "    not_survived_men = len(df_train[(df_train['AgeGroup'] == age_group) & (df_train['Sex'] == 1) & (df_train['Survived'] == 0)])\n",
    "    \n",
    "    data['Survived Women'].append(survived_women)\n",
    "    data['Not Survived Women'].append(not_survived_women)\n",
    "    data['Survived Men'].append(survived_men)\n",
    "    data['Not Survived Men'].append(not_survived_men)\n",
    "\n",
    "survivors_by_age = pd.DataFrame(data)\n",
    "\n",
    "survivors_by_age"
   ]
  },
  {
   "cell_type": "markdown",
   "id": "67d97f11",
   "metadata": {},
   "source": [
    "## Part 3 - Training flow\n",
    "Use the best combination of feature engineering, model (algorithm and hyperparameters) from the experiment part (part 2)"
   ]
  },
  {
   "cell_type": "code",
   "execution_count": null,
   "id": "93713ead",
   "metadata": {
    "ExecuteTime": {
     "end_time": "2024-06-05T18:03:00.154311Z",
     "start_time": "2024-06-05T18:03:00.151928Z"
    }
   },
   "outputs": [],
   "source": []
  },
  {
   "cell_type": "code",
   "execution_count": 111,
   "id": "97786599",
   "metadata": {},
   "outputs": [],
   "source": [
    "def min_max_scale(series, feature_range=(1, -1)):\n",
    "    min_val = series.min()\n",
    "    max_val = series.max()\n",
    "    scale = (feature_range[1] - feature_range[0]) / (max_val - min_val)\n",
    "    scaled_series = scale * (series - min_val) + feature_range[0]\n",
    "    return scaled_series"
   ]
  },
  {
   "cell_type": "markdown",
   "id": "f2beb9f2",
   "metadata": {},
   "source": [
    "## KNN training:"
   ]
  },
  {
   "cell_type": "code",
   "execution_count": 112,
   "id": "2122a400",
   "metadata": {
    "ExecuteTime": {
     "end_time": "2024-06-05T16:01:44.185050Z",
     "start_time": "2024-06-05T16:01:44.180877Z"
    }
   },
   "outputs": [],
   "source": [
    "x_train = train_set[['Pclass','Sex','Age','SibSp','Parch','Fare']]\n",
    "y_train = train_set['Survived']"
   ]
  },
  {
   "cell_type": "code",
   "execution_count": 113,
   "id": "f1043bb1",
   "metadata": {
    "ExecuteTime": {
     "end_time": "2024-06-05T16:01:44.193559Z",
     "start_time": "2024-06-05T16:01:44.186055Z"
    }
   },
   "outputs": [
    {
     "data": {
      "text/plain": [
       "KNeighborsClassifier(algorithm='auto', leaf_size=30, metric='minkowski',\n",
       "                     metric_params=None, n_jobs=None, n_neighbors=11, p=2,\n",
       "                     weights='uniform')"
      ]
     },
     "execution_count": 113,
     "metadata": {},
     "output_type": "execute_result"
    }
   ],
   "source": [
    "knn = KNeighborsClassifier(n_neighbors=11)\n",
    "knn.fit(x_train,y_train)"
   ]
  },
  {
   "cell_type": "markdown",
   "id": "d820924c",
   "metadata": {},
   "source": [
    "# Naive Bayes training:"
   ]
  },
  {
   "cell_type": "code",
   "execution_count": 114,
   "id": "71369aa8",
   "metadata": {
    "ExecuteTime": {
     "end_time": "2024-06-05T16:01:44.196376Z",
     "start_time": "2024-06-05T16:01:44.194564Z"
    }
   },
   "outputs": [
    {
     "data": {
      "text/html": [
       "<div>\n",
       "<style scoped>\n",
       "    .dataframe tbody tr th:only-of-type {\n",
       "        vertical-align: middle;\n",
       "    }\n",
       "\n",
       "    .dataframe tbody tr th {\n",
       "        vertical-align: top;\n",
       "    }\n",
       "\n",
       "    .dataframe thead th {\n",
       "        text-align: right;\n",
       "    }\n",
       "</style>\n",
       "<table border=\"1\" class=\"dataframe\">\n",
       "  <thead>\n",
       "    <tr style=\"text-align: right;\">\n",
       "      <th></th>\n",
       "      <th>Pclass</th>\n",
       "      <th>Sex</th>\n",
       "      <th>Age</th>\n",
       "      <th>SibSp</th>\n",
       "      <th>Parch</th>\n",
       "      <th>Fare</th>\n",
       "    </tr>\n",
       "  </thead>\n",
       "  <tbody>\n",
       "    <tr>\n",
       "      <th>0</th>\n",
       "      <td>1</td>\n",
       "      <td>0</td>\n",
       "      <td>54.000000</td>\n",
       "      <td>1</td>\n",
       "      <td>0</td>\n",
       "      <td>78.2667</td>\n",
       "    </tr>\n",
       "    <tr>\n",
       "      <th>1</th>\n",
       "      <td>2</td>\n",
       "      <td>0</td>\n",
       "      <td>45.000000</td>\n",
       "      <td>0</td>\n",
       "      <td>0</td>\n",
       "      <td>13.5000</td>\n",
       "    </tr>\n",
       "    <tr>\n",
       "      <th>2</th>\n",
       "      <td>3</td>\n",
       "      <td>1</td>\n",
       "      <td>20.000000</td>\n",
       "      <td>0</td>\n",
       "      <td>0</td>\n",
       "      <td>9.5000</td>\n",
       "    </tr>\n",
       "    <tr>\n",
       "      <th>3</th>\n",
       "      <td>3</td>\n",
       "      <td>1</td>\n",
       "      <td>36.000000</td>\n",
       "      <td>0</td>\n",
       "      <td>0</td>\n",
       "      <td>7.8958</td>\n",
       "    </tr>\n",
       "    <tr>\n",
       "      <th>4</th>\n",
       "      <td>3</td>\n",
       "      <td>1</td>\n",
       "      <td>22.000000</td>\n",
       "      <td>0</td>\n",
       "      <td>0</td>\n",
       "      <td>8.0500</td>\n",
       "    </tr>\n",
       "    <tr>\n",
       "      <th>...</th>\n",
       "      <td>...</td>\n",
       "      <td>...</td>\n",
       "      <td>...</td>\n",
       "      <td>...</td>\n",
       "      <td>...</td>\n",
       "      <td>...</td>\n",
       "    </tr>\n",
       "    <tr>\n",
       "      <th>707</th>\n",
       "      <td>1</td>\n",
       "      <td>1</td>\n",
       "      <td>54.000000</td>\n",
       "      <td>0</td>\n",
       "      <td>0</td>\n",
       "      <td>51.8625</td>\n",
       "    </tr>\n",
       "    <tr>\n",
       "      <th>708</th>\n",
       "      <td>3</td>\n",
       "      <td>1</td>\n",
       "      <td>14.000000</td>\n",
       "      <td>5</td>\n",
       "      <td>2</td>\n",
       "      <td>46.9000</td>\n",
       "    </tr>\n",
       "    <tr>\n",
       "      <th>709</th>\n",
       "      <td>2</td>\n",
       "      <td>0</td>\n",
       "      <td>6.000000</td>\n",
       "      <td>0</td>\n",
       "      <td>1</td>\n",
       "      <td>33.0000</td>\n",
       "    </tr>\n",
       "    <tr>\n",
       "      <th>710</th>\n",
       "      <td>2</td>\n",
       "      <td>1</td>\n",
       "      <td>29.699118</td>\n",
       "      <td>0</td>\n",
       "      <td>0</td>\n",
       "      <td>0.0000</td>\n",
       "    </tr>\n",
       "    <tr>\n",
       "      <th>711</th>\n",
       "      <td>1</td>\n",
       "      <td>0</td>\n",
       "      <td>25.000000</td>\n",
       "      <td>1</td>\n",
       "      <td>2</td>\n",
       "      <td>151.5500</td>\n",
       "    </tr>\n",
       "  </tbody>\n",
       "</table>\n",
       "<p>712 rows × 6 columns</p>\n",
       "</div>"
      ],
      "text/plain": [
       "     Pclass  Sex        Age  SibSp  Parch      Fare\n",
       "0         1    0  54.000000      1      0   78.2667\n",
       "1         2    0  45.000000      0      0   13.5000\n",
       "2         3    1  20.000000      0      0    9.5000\n",
       "3         3    1  36.000000      0      0    7.8958\n",
       "4         3    1  22.000000      0      0    8.0500\n",
       "..      ...  ...        ...    ...    ...       ...\n",
       "707       1    1  54.000000      0      0   51.8625\n",
       "708       3    1  14.000000      5      2   46.9000\n",
       "709       2    0   6.000000      0      1   33.0000\n",
       "710       2    1  29.699118      0      0    0.0000\n",
       "711       1    0  25.000000      1      2  151.5500\n",
       "\n",
       "[712 rows x 6 columns]"
      ]
     },
     "metadata": {},
     "output_type": "display_data"
    }
   ],
   "source": [
    "#defining a training function to NB algorithm:\n",
    "def nb_train(train_set):\n",
    "    features = ['Pclass', 'Sex', 'Age', 'SibSp', 'Parch', 'Fare']\n",
    "    x_train = train_set[features]\n",
    "    y_train = train_set['Survived']\n",
    "    return x_train,y_train\n",
    "x_train,y_train = nb_train(train_set)\n",
    "display(x_train)"
   ]
  },
  {
   "cell_type": "code",
   "execution_count": null,
   "id": "43eaef8b",
   "metadata": {
    "ExecuteTime": {
     "end_time": "2024-06-05T16:01:44.200242Z",
     "start_time": "2024-06-05T16:01:44.198380Z"
    }
   },
   "outputs": [],
   "source": []
  },
  {
   "cell_type": "code",
   "execution_count": null,
   "id": "511adbc3",
   "metadata": {
    "ExecuteTime": {
     "end_time": "2024-06-05T16:01:44.203247Z",
     "start_time": "2024-06-05T16:01:44.201248Z"
    }
   },
   "outputs": [],
   "source": []
  },
  {
   "cell_type": "markdown",
   "id": "259ab902",
   "metadata": {},
   "source": [
    "## Part 4 - Apply on test and show model performance estimation"
   ]
  },
  {
   "cell_type": "markdown",
   "id": "982fd267",
   "metadata": {},
   "source": [
    "## KNN algorithm testing:"
   ]
  },
  {
   "cell_type": "code",
   "execution_count": 115,
   "id": "d9971aa5",
   "metadata": {
    "ExecuteTime": {
     "end_time": "2024-06-05T16:01:44.208566Z",
     "start_time": "2024-06-05T16:01:44.203750Z"
    }
   },
   "outputs": [],
   "source": [
    "test_set = pd.read_csv(\"titanic_test.csv\")"
   ]
  },
  {
   "cell_type": "code",
   "execution_count": 116,
   "id": "00d8aa96",
   "metadata": {
    "ExecuteTime": {
     "end_time": "2024-06-05T16:01:44.213077Z",
     "start_time": "2024-06-05T16:01:44.209571Z"
    }
   },
   "outputs": [],
   "source": [
    "x_test = test_set[['Pclass','Sex','Age','SibSp','Parch','Fare']]\n",
    "y_test = test_set['Survived']"
   ]
  },
  {
   "cell_type": "code",
   "execution_count": 117,
   "id": "686b0d71",
   "metadata": {
    "ExecuteTime": {
     "end_time": "2024-06-05T16:01:44.224096Z",
     "start_time": "2024-06-05T16:01:44.213588Z"
    }
   },
   "outputs": [
    {
     "name": "stdout",
     "output_type": "stream",
     "text": [
      "accuracy:  0.7486033519553073\n"
     ]
    }
   ],
   "source": [
    "y_predict = knn.predict(x_test)\n",
    "accuracy = accuracy_score(y_test,y_predict)\n",
    "print(\"accuracy: \", accuracy)"
   ]
  },
  {
   "cell_type": "code",
   "execution_count": 118,
   "id": "874a9887",
   "metadata": {
    "ExecuteTime": {
     "end_time": "2024-06-05T16:01:44.936745Z",
     "start_time": "2024-06-05T16:01:44.225100Z"
    }
   },
   "outputs": [],
   "source": [
    "neighbors = np.arange(1, 100)\n",
    "accuracy_scores=[]\n",
    "for n in neighbors:\n",
    "    knn = KNeighborsClassifier(n_neighbors=n)\n",
    "    knn.fit(x_train,y_train)\n",
    "    y_pred = knn.predict(x_test)\n",
    "    accuracy = accuracy_score(y_test, y_pred)\n",
    "    accuracy_scores.append(accuracy)"
   ]
  },
  {
   "cell_type": "code",
   "execution_count": 119,
   "id": "8a68001f",
   "metadata": {
    "ExecuteTime": {
     "end_time": "2024-06-05T16:01:45.093585Z",
     "start_time": "2024-06-05T16:01:44.937748Z"
    }
   },
   "outputs": [
    {
     "data": {
      "image/png": "[encoded data removed]",
      "text/plain": [
       "<Figure size 1080x720 with 1 Axes>"
      ]
     },
     "metadata": {
      "needs_background": "light"
     },
     "output_type": "display_data"
    }
   ],
   "source": [
    "plt.figure(figsize=(15, 10))\n",
    "plt.plot(neighbors, accuracy_scores)\n",
    "plt.xlabel('Number of Neighbors', fontsize=20)\n",
    "plt.ylabel('Accuracy', fontsize=20)\n",
    "plt.title('Accuracy vs. Number of Neighbors', fontsize=20)\n",
    "\n",
    "# Finding the maximum accuracy and its corresponding neighbor\n",
    "max_index = accuracy_scores.index(max(accuracy_scores))\n",
    "max_neighbor = neighbors[max_index]\n",
    "max_accuracy = accuracy_scores[max_index]\n",
    "\n",
    "# Adding annotation\n",
    "plt.annotate(f'Max Accuracy: {max_accuracy:.2f}', \n",
    "             xy=(max_neighbor, max_accuracy),  # Arrowhead position\n",
    "             xytext=(max_neighbor-10, max_accuracy),  # Text position above the point\n",
    "             arrowprops=dict(facecolor='orange', shrink=0.05),\n",
    "             ha='right', fontsize=14)\n",
    "plt.show()"
   ]
  },
  {
   "cell_type": "markdown",
   "id": "aa7b1f9b",
   "metadata": {},
   "source": [
    "## Naive Bayes algorithm testing:"
   ]
  },
  {
   "cell_type": "code",
   "execution_count": 120,
   "id": "578ca581",
   "metadata": {
    "ExecuteTime": {
     "end_time": "2024-06-05T16:01:45.108427Z",
     "start_time": "2024-06-05T16:01:45.102208Z"
    }
   },
   "outputs": [],
   "source": [
    "features = ['Pclass', 'Sex', 'Age', 'SibSp', 'Parch', 'Fare']\n",
    "x_test = test_set[features]"
   ]
  },
  {
   "cell_type": "code",
   "execution_count": 121,
   "id": "7624e86f",
   "metadata": {
    "ExecuteTime": {
     "end_time": "2024-06-05T16:01:45.257721Z",
     "start_time": "2024-06-05T16:01:45.109448Z"
    }
   },
   "outputs": [
    {
     "name": "stdout",
     "output_type": "stream",
     "text": [
      "Max accuracy for Naive Bayes algorithm: 0.768\n"
     ]
    },
    {
     "data": {
      "image/png": "[encoded data removed]",
      "text/plain": [
       "<Figure size 720x432 with 1 Axes>"
      ]
     },
     "metadata": {
      "needs_background": "light"
     },
     "output_type": "display_data"
    }
   ],
   "source": [
    "#defining a testing function for Naive Bayes:\n",
    "def nb_test(x_train,y_train):\n",
    "    nb = GaussianNB()\n",
    "    training_sizes = np.linspace(0.1, 0.9, 9)\n",
    "    accuracies = []\n",
    "    for size in training_sizes:\n",
    "        x_train_split,x_val_split, y_train_split, y_val_split = train_test_split(x_train, y_train, train_size=size, random_state=42)\n",
    "        nb.fit(x_train_split, y_train_split)\n",
    "        val_predictions = nb.predict(x_val_split)\n",
    "        accuracy = accuracy_score(y_val_split, val_predictions)\n",
    "        accuracies.append(accuracy)\n",
    "    max_accuracy = max(accuracies)\n",
    "    max_index = accuracies.index(max_accuracy) #choosing the highest accuracy value from all accuracies\n",
    "\n",
    "    return training_sizes,accuracies,max_accuracy,max_index\n",
    "\n",
    "training_sizes, accuracies, max_accuracy,max_index = nb_test(x_train,y_train)\n",
    "\n",
    "plt.figure(figsize=(10, 6))\n",
    "plt.plot(training_sizes, accuracies, marker='o', linestyle='-', color='b')\n",
    "plt.annotate(\n",
    "    f'Max accuracy: {max_accuracy:.3f}',\n",
    "    xy=(training_sizes[max_index], accuracies[max_index]),\n",
    "    xytext=(training_sizes[max_index] + 0.1, accuracies[max_index] - 0.030),\n",
    "    arrowprops=dict(facecolor='orange', shrink=0.05),\n",
    "    fontsize=15,\n",
    "    color='black'\n",
    ")\n",
    "\n",
    "plt.xlabel('Training Size', fontsize=20)\n",
    "plt.ylabel('Accuracy', fontsize=20)\n",
    "plt.title('Validation Accuracy of Naive Bayes Classifier', fontsize=20)\n",
    "plt.grid(True)\n",
    "print(f\"Max accuracy for Naive Bayes algorithm: {max_accuracy:.3f}\")\n",
    "plt.show()"
   ]
  }
 ],
 "metadata": {
  "kernelspec": {
   "display_name": "Python 3 (ipykernel)",
   "language": "python",
   "name": "python3"
  },
  "language_info": {
   "codemirror_mode": {
    "name": "ipython",
    "version": 3
   },
   "file_extension": ".py",
   "mimetype": "text/x-python",
   "name": "python",
   "nbconvert_exporter": "python",
   "pygments_lexer": "ipython3",
   "version": "3.11.2"
  },
  "vscode": {
   "interpreter": {
    "hash": "49cb93f377a7abe7414b7b0f21fb3017538004a126cf690fb524202736b7fb92"
   }
  }
 },
 "nbformat": 4,
 "nbformat_minor": 5
}
