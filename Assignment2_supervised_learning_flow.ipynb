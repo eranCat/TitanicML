{
 "cells": [
  {
   "cell_type": "markdown",
   "id": "b06a2810",
   "metadata": {},
   "source": [
    "### Part 1 - Student details:\n",
    "* Please write the First Name and last 4 digits of the i.d. for each student. For example:\n",
    "<pre>Israel 7938</pre>"
   ]
  },
  {
   "cell_type": "code",
   "id": "ca16486b",
   "metadata": {
    "ExecuteTime": {
     "end_time": "2024-06-10T15:09:22.205068Z",
     "start_time": "2024-06-10T15:09:22.202309Z"
    }
   },
   "source": [
    "# student 1: Israel 7938\n",
    "# student 2: Eran 6215\n",
    "# student 3: Avihai 2474\n",
    "# student 4: Almog 8269\n",
    "# student 5: Liron 5068\n",
    "# student 6: Matan 9999"
   ],
   "outputs": [],
   "execution_count": 1236
  },
  {
   "cell_type": "markdown",
   "id": "fb36672a",
   "metadata": {},
   "source": [
    "## Part 2 - Experiments\n",
    "You could add as many code cells as needed"
   ]
  },
  {
   "cell_type": "code",
   "id": "b7098585",
   "metadata": {
    "ExecuteTime": {
     "end_time": "2024-06-10T15:09:22.408082Z",
     "start_time": "2024-06-10T15:09:22.404498Z"
    }
   },
   "source": [
    "import matplotlib.pyplot as plt\n",
    "import numpy as np\n",
    "import pandas as pd\n",
    "import seaborn as sns\n",
    "from sklearn.decomposition import PCA\n",
    "from sklearn.metrics import accuracy_score\n",
    "from sklearn.model_selection import train_test_split\n",
    "from sklearn.naive_bayes import GaussianNB\n",
    "from sklearn.neighbors import KNeighborsClassifier\n",
    "from sklearn.pipeline import Pipeline\n",
    "from sklearn.preprocessing import StandardScaler"
   ],
   "outputs": [],
   "execution_count": 1237
  },
  {
   "cell_type": "code",
   "id": "3b63b9d3-65e3-4151-a240-8d7236e7d9f1",
   "metadata": {
    "ExecuteTime": {
     "end_time": "2024-06-10T15:09:22.416654Z",
     "start_time": "2024-06-10T15:09:22.411088Z"
    }
   },
   "source": [
    "train_set = pd.read_csv('titanic_train.csv')\n",
    "test_set = pd.read_csv(\"titanic_test.csv\")"
   ],
   "outputs": [],
   "execution_count": 1238
  },
  {
   "cell_type": "code",
   "id": "fad49cb1f89e16a6",
   "metadata": {
    "ExecuteTime": {
     "end_time": "2024-06-10T15:09:22.445511Z",
     "start_time": "2024-06-10T15:09:22.439187Z"
    }
   },
   "source": "train_set.head(5)",
   "outputs": [
    {
     "data": {
      "text/plain": [
       "   Pclass  Sex   Age  SibSp  Parch     Fare  Embarked  Survived\n",
       "0       1    0  54.0      1      0  78.2667         1         1\n",
       "1       2    0  45.0      0      0  13.5000         0         1\n",
       "2       3    1  20.0      0      0   9.5000         0         0\n",
       "3       3    1  36.0      0      0   7.8958         0         0\n",
       "4       3    1  22.0      0      0   8.0500         0         0"
      ],
      "text/html": [
       "<div>\n",
       "<style scoped>\n",
       "    .dataframe tbody tr th:only-of-type {\n",
       "        vertical-align: middle;\n",
       "    }\n",
       "\n",
       "    .dataframe tbody tr th {\n",
       "        vertical-align: top;\n",
       "    }\n",
       "\n",
       "    .dataframe thead th {\n",
       "        text-align: right;\n",
       "    }\n",
       "</style>\n",
       "<table border=\"1\" class=\"dataframe\">\n",
       "  <thead>\n",
       "    <tr style=\"text-align: right;\">\n",
       "      <th></th>\n",
       "      <th>Pclass</th>\n",
       "      <th>Sex</th>\n",
       "      <th>Age</th>\n",
       "      <th>SibSp</th>\n",
       "      <th>Parch</th>\n",
       "      <th>Fare</th>\n",
       "      <th>Embarked</th>\n",
       "      <th>Survived</th>\n",
       "    </tr>\n",
       "  </thead>\n",
       "  <tbody>\n",
       "    <tr>\n",
       "      <th>0</th>\n",
       "      <td>1</td>\n",
       "      <td>0</td>\n",
       "      <td>54.0</td>\n",
       "      <td>1</td>\n",
       "      <td>0</td>\n",
       "      <td>78.2667</td>\n",
       "      <td>1</td>\n",
       "      <td>1</td>\n",
       "    </tr>\n",
       "    <tr>\n",
       "      <th>1</th>\n",
       "      <td>2</td>\n",
       "      <td>0</td>\n",
       "      <td>45.0</td>\n",
       "      <td>0</td>\n",
       "      <td>0</td>\n",
       "      <td>13.5000</td>\n",
       "      <td>0</td>\n",
       "      <td>1</td>\n",
       "    </tr>\n",
       "    <tr>\n",
       "      <th>2</th>\n",
       "      <td>3</td>\n",
       "      <td>1</td>\n",
       "      <td>20.0</td>\n",
       "      <td>0</td>\n",
       "      <td>0</td>\n",
       "      <td>9.5000</td>\n",
       "      <td>0</td>\n",
       "      <td>0</td>\n",
       "    </tr>\n",
       "    <tr>\n",
       "      <th>3</th>\n",
       "      <td>3</td>\n",
       "      <td>1</td>\n",
       "      <td>36.0</td>\n",
       "      <td>0</td>\n",
       "      <td>0</td>\n",
       "      <td>7.8958</td>\n",
       "      <td>0</td>\n",
       "      <td>0</td>\n",
       "    </tr>\n",
       "    <tr>\n",
       "      <th>4</th>\n",
       "      <td>3</td>\n",
       "      <td>1</td>\n",
       "      <td>22.0</td>\n",
       "      <td>0</td>\n",
       "      <td>0</td>\n",
       "      <td>8.0500</td>\n",
       "      <td>0</td>\n",
       "      <td>0</td>\n",
       "    </tr>\n",
       "  </tbody>\n",
       "</table>\n",
       "</div>"
      ]
     },
     "execution_count": 1239,
     "metadata": {},
     "output_type": "execute_result"
    }
   ],
   "execution_count": 1239
  },
  {
   "cell_type": "code",
   "id": "44e1892e76c7f660",
   "metadata": {
    "ExecuteTime": {
     "end_time": "2024-06-10T15:09:22.466279Z",
     "start_time": "2024-06-10T15:09:22.460024Z"
    }
   },
   "source": [
    "test_set.head(5)"
   ],
   "outputs": [
    {
     "data": {
      "text/plain": [
       "   Pclass  Sex        Age  SibSp  Parch     Fare  Embarked  Survived\n",
       "0       3    1  35.000000      0      0   7.0500         0         0\n",
       "1       3    1  30.000000      0      0   7.2500         0         0\n",
       "2       3    1  29.699118      0      0  14.5000         0         0\n",
       "3       3    0  21.000000      0      0   7.7500         2         0\n",
       "4       3    1  32.000000      0      0  56.4958         0         1"
      ],
      "text/html": [
       "<div>\n",
       "<style scoped>\n",
       "    .dataframe tbody tr th:only-of-type {\n",
       "        vertical-align: middle;\n",
       "    }\n",
       "\n",
       "    .dataframe tbody tr th {\n",
       "        vertical-align: top;\n",
       "    }\n",
       "\n",
       "    .dataframe thead th {\n",
       "        text-align: right;\n",
       "    }\n",
       "</style>\n",
       "<table border=\"1\" class=\"dataframe\">\n",
       "  <thead>\n",
       "    <tr style=\"text-align: right;\">\n",
       "      <th></th>\n",
       "      <th>Pclass</th>\n",
       "      <th>Sex</th>\n",
       "      <th>Age</th>\n",
       "      <th>SibSp</th>\n",
       "      <th>Parch</th>\n",
       "      <th>Fare</th>\n",
       "      <th>Embarked</th>\n",
       "      <th>Survived</th>\n",
       "    </tr>\n",
       "  </thead>\n",
       "  <tbody>\n",
       "    <tr>\n",
       "      <th>0</th>\n",
       "      <td>3</td>\n",
       "      <td>1</td>\n",
       "      <td>35.000000</td>\n",
       "      <td>0</td>\n",
       "      <td>0</td>\n",
       "      <td>7.0500</td>\n",
       "      <td>0</td>\n",
       "      <td>0</td>\n",
       "    </tr>\n",
       "    <tr>\n",
       "      <th>1</th>\n",
       "      <td>3</td>\n",
       "      <td>1</td>\n",
       "      <td>30.000000</td>\n",
       "      <td>0</td>\n",
       "      <td>0</td>\n",
       "      <td>7.2500</td>\n",
       "      <td>0</td>\n",
       "      <td>0</td>\n",
       "    </tr>\n",
       "    <tr>\n",
       "      <th>2</th>\n",
       "      <td>3</td>\n",
       "      <td>1</td>\n",
       "      <td>29.699118</td>\n",
       "      <td>0</td>\n",
       "      <td>0</td>\n",
       "      <td>14.5000</td>\n",
       "      <td>0</td>\n",
       "      <td>0</td>\n",
       "    </tr>\n",
       "    <tr>\n",
       "      <th>3</th>\n",
       "      <td>3</td>\n",
       "      <td>0</td>\n",
       "      <td>21.000000</td>\n",
       "      <td>0</td>\n",
       "      <td>0</td>\n",
       "      <td>7.7500</td>\n",
       "      <td>2</td>\n",
       "      <td>0</td>\n",
       "    </tr>\n",
       "    <tr>\n",
       "      <th>4</th>\n",
       "      <td>3</td>\n",
       "      <td>1</td>\n",
       "      <td>32.000000</td>\n",
       "      <td>0</td>\n",
       "      <td>0</td>\n",
       "      <td>56.4958</td>\n",
       "      <td>0</td>\n",
       "      <td>1</td>\n",
       "    </tr>\n",
       "  </tbody>\n",
       "</table>\n",
       "</div>"
      ]
     },
     "execution_count": 1240,
     "metadata": {},
     "output_type": "execute_result"
    }
   ],
   "execution_count": 1240
  },
  {
   "cell_type": "code",
   "id": "097afb02",
   "metadata": {
    "ExecuteTime": {
     "end_time": "2024-06-10T15:09:22.479992Z",
     "start_time": "2024-06-10T15:09:22.475801Z"
    }
   },
   "source": [
    "def showSurvivorsByGenderAndChildren():\n",
    "    survivors = train_set[train_set['Survived'] == 1]\n",
    "\n",
    "    #Men\n",
    "    survived_man = survivors[(survivors['Sex'] == 1) & (survivors['Age'] > 18)]\n",
    "    survived_man_count = len(survived_man)\n",
    "\n",
    "    #Women\n",
    "    survived_women = survivors[(survivors['Sex'] == 0) & (survivors['Age'] > 18)]\n",
    "    survived_women_count = len(survived_women)\n",
    "\n",
    "    #Kids\n",
    "    survived_kids = survivors[survivors['Age'] <= 18]\n",
    "    survived_kids_count = len(survived_kids)\n",
    "\n",
    "    survived_count = len(survivors)\n",
    "\n",
    "    return [survived_man_count, survived_women_count, survived_kids_count, survived_count]"
   ],
   "outputs": [],
   "execution_count": 1241
  },
  {
   "metadata": {
    "ExecuteTime": {
     "end_time": "2024-06-10T15:09:22.498089Z",
     "start_time": "2024-06-10T15:09:22.493400Z"
    }
   },
   "cell_type": "code",
   "source": [
    "display(train_set.isnull().sum())\n",
    "print(\"No missing values in train set\")"
   ],
   "id": "bb935bb89ff5944a",
   "outputs": [
    {
     "data": {
      "text/plain": [
       "Pclass      0\n",
       "Sex         0\n",
       "Age         0\n",
       "SibSp       0\n",
       "Parch       0\n",
       "Fare        0\n",
       "Embarked    0\n",
       "Survived    0\n",
       "dtype: int64"
      ]
     },
     "metadata": {},
     "output_type": "display_data"
    },
    {
     "name": "stdout",
     "output_type": "stream",
     "text": [
      "No missing values in train set\n"
     ]
    }
   ],
   "execution_count": 1242
  },
  {
   "cell_type": "markdown",
   "id": "e37306794f874a57",
   "metadata": {},
   "source": [
    "## Visualization"
   ]
  },
  {
   "metadata": {
    "ExecuteTime": {
     "end_time": "2024-06-10T15:09:22.526801Z",
     "start_time": "2024-06-10T15:09:22.522122Z"
    }
   },
   "cell_type": "code",
   "source": [
    "# Creating a dataframe for the pie plot using the given parameters\n",
    "def create_pie_table(population):\n",
    "    data = {'Category': ['Male', 'Female', 'Kids', 'Total'],\n",
    "            'Survived': population}\n",
    "\n",
    "    survivors_df = pd.DataFrame(data)\n",
    "    survived_count = population[-1]  #get last item\n",
    "\n",
    "    survivors_df['Percentage'] = survivors_df['Survived'].apply(lambda x: round((x / survived_count) * 100, 1))\n",
    "    return survivors_df\n",
    "\n",
    "\n",
    "def show_pie_survived(population_counts):\n",
    "    labels = ['Male', 'Female', 'Kids']\n",
    "    colors = ['#E91694', '#94E916', '#1694E9']\n",
    "    fig, ax = plt.subplots(figsize=(18, 10))\n",
    "    ax.pie(population_counts, labels=labels, autopct='%1.1f%%', colors=colors, textprops={'fontsize': 20})\n",
    "    plt.title('Survivors of the Titanic', fontsize=20)\n",
    "    fig.patch.set_facecolor('white')\n",
    "    plt.show()"
   ],
   "id": "fc8c19fde8f6d1a7",
   "outputs": [],
   "execution_count": 1243
  },
  {
   "cell_type": "code",
   "id": "3cf7c4e832f50405",
   "metadata": {
    "ExecuteTime": {
     "end_time": "2024-06-10T15:09:22.670357Z",
     "start_time": "2024-06-10T15:09:22.601886Z"
    }
   },
   "source": [
    "population = showSurvivorsByGenderAndChildren()\n",
    "\n",
    "# Creating a data table for the pie plot\n",
    "survived_percentage_df = create_pie_table(population)\n",
    "display(survived_percentage_df)\n",
    "\n",
    "population.pop()  #remove last item - total count\n",
    "show_pie_survived(population)"
   ],
   "outputs": [
    {
     "data": {
      "text/plain": [
       "  Category  Survived  Percentage\n",
       "0     Male        69        24.6\n",
       "1   Female       156        55.5\n",
       "2     Kids        56        19.9\n",
       "3    Total       281       100.0"
      ],
      "text/html": [
       "<div>\n",
       "<style scoped>\n",
       "    .dataframe tbody tr th:only-of-type {\n",
       "        vertical-align: middle;\n",
       "    }\n",
       "\n",
       "    .dataframe tbody tr th {\n",
       "        vertical-align: top;\n",
       "    }\n",
       "\n",
       "    .dataframe thead th {\n",
       "        text-align: right;\n",
       "    }\n",
       "</style>\n",
       "<table border=\"1\" class=\"dataframe\">\n",
       "  <thead>\n",
       "    <tr style=\"text-align: right;\">\n",
       "      <th></th>\n",
       "      <th>Category</th>\n",
       "      <th>Survived</th>\n",
       "      <th>Percentage</th>\n",
       "    </tr>\n",
       "  </thead>\n",
       "  <tbody>\n",
       "    <tr>\n",
       "      <th>0</th>\n",
       "      <td>Male</td>\n",
       "      <td>69</td>\n",
       "      <td>24.6</td>\n",
       "    </tr>\n",
       "    <tr>\n",
       "      <th>1</th>\n",
       "      <td>Female</td>\n",
       "      <td>156</td>\n",
       "      <td>55.5</td>\n",
       "    </tr>\n",
       "    <tr>\n",
       "      <th>2</th>\n",
       "      <td>Kids</td>\n",
       "      <td>56</td>\n",
       "      <td>19.9</td>\n",
       "    </tr>\n",
       "    <tr>\n",
       "      <th>3</th>\n",
       "      <td>Total</td>\n",
       "      <td>281</td>\n",
       "      <td>100.0</td>\n",
       "    </tr>\n",
       "  </tbody>\n",
       "</table>\n",
       "</div>"
      ]
     },
     "metadata": {},
     "output_type": "display_data"
    },
    {
     "data": {
      "text/plain": [
       "<Figure size 1800x1000 with 1 Axes>"
      ],
      "image/png": "[encoded data removed]"
     },
     "metadata": {},
     "output_type": "display_data"
    }
   ],
   "execution_count": 1244
  },
  {
   "metadata": {
    "ExecuteTime": {
     "end_time": "2024-06-10T15:09:22.730964Z",
     "start_time": "2024-06-10T15:09:22.727127Z"
    }
   },
   "cell_type": "code",
   "source": [
    "def plot_hist_gender_survivors():\n",
    "    fig, axes = plt.subplots(nrows=1, ncols=2, figsize=(20, 8))\n",
    "    \n",
    "    genders = {'Female': 0, 'Male': 1}\n",
    "    colors = {'survived': [\"#76FF00\", \"#FF5100\"], 'not_survived': [\"#8900FF\", \"#00AEFF\"]}\n",
    "    \n",
    "    #loop through the combinations of gender and survived status\n",
    "    for ax, (title, sex) in zip(axes, genders.items()):\n",
    "        for status, color in colors.items():\n",
    "            ages = train_set[(train_set['Sex'] == sex) & (train_set['Survived'] == (status == 'survived'))].Age\n",
    "            sns.histplot(ages, bins=10, label=status, ax=ax, kde=False, color=color[sex])\n",
    "        \n",
    "        ax.legend()\n",
    "        ax.set_title(title)\n",
    "    \n",
    "    plt.show()"
   ],
   "id": "9e5fbd1ece780578",
   "outputs": [],
   "execution_count": 1245
  },
  {
   "cell_type": "code",
   "id": "f68ab96a",
   "metadata": {
    "ExecuteTime": {
     "end_time": "2024-06-10T15:09:22.772232Z",
     "start_time": "2024-06-10T15:09:22.766856Z"
    }
   },
   "source": [
    "# Making DataFrame for the histogram above with age group\n",
    "def createHistTableAG(data_frame):\n",
    "    age_bins = [0, 10, 20, 30, 40, 50, 60, 70, 80]\n",
    "    age_labels = ['0-10', '11-20', '21-30', '31-40', '41-50', '51-60', '61-70', '71-80']\n",
    "\n",
    "    data_frame = data_frame.copy()\n",
    "    data_frame['AgeGroup'] = pd.cut(data_frame['Age'], bins=age_bins, labels=age_labels, right=False)\n",
    "\n",
    "    data = {\n",
    "        'AgeGroup': age_labels,\n",
    "        'Survived Women': [],\n",
    "        'Not Survived Women': [],\n",
    "        'Survived Men': [],\n",
    "        'Not Survived Men': []\n",
    "    }\n",
    "\n",
    "    for age_group in age_labels:\n",
    "        survived_women = len(data_frame[(data_frame['AgeGroup'] == age_group) & (data_frame['Sex'] == 0) & (\n",
    "                data_frame['Survived'] == 1)])\n",
    "        not_survived_women = len(data_frame[(data_frame['AgeGroup'] == age_group) & (data_frame['Sex'] == 0) & (\n",
    "                data_frame['Survived'] == 0)])\n",
    "        survived_men = len(data_frame[(data_frame['AgeGroup'] == age_group) & (data_frame['Sex'] == 1) & (\n",
    "                data_frame['Survived'] == 1)])\n",
    "        not_survived_men = len(data_frame[(data_frame['AgeGroup'] == age_group) & (data_frame['Sex'] == 1) & (\n",
    "                data_frame['Survived'] == 0)])\n",
    "\n",
    "        data['Survived Women'].append(survived_women)\n",
    "        data['Not Survived Women'].append(not_survived_women)\n",
    "        data['Survived Men'].append(survived_men)\n",
    "        data['Not Survived Men'].append(not_survived_men)\n",
    "\n",
    "    survivors_by_age = pd.DataFrame(data)\n",
    "\n",
    "    return survivors_by_age"
   ],
   "outputs": [],
   "execution_count": 1246
  },
  {
   "cell_type": "code",
   "id": "ec27ace9",
   "metadata": {
    "ExecuteTime": {
     "end_time": "2024-06-10T15:09:23.133770Z",
     "start_time": "2024-06-10T15:09:22.816362Z"
    }
   },
   "source": [
    "#Creating a data table for the histogram with age group\n",
    "histTableAges = createHistTableAG(train_set)\n",
    "display(histTableAges)\n",
    "\n",
    "plot_hist_gender_survivors()"
   ],
   "outputs": [
    {
     "data": {
      "text/plain": [
       "  AgeGroup  Survived Women  Not Survived Women  Survived Men  Not Survived Men\n",
       "0     0-10              16                   9            15                12\n",
       "1    11-20              28                   8             5                44\n",
       "2    21-30              75                  28            33               180\n",
       "3    31-40              44                   7            19                59\n",
       "4    41-50              18                   9             9                35\n",
       "5    51-60               9                   2             4                23\n",
       "6    61-70               3                   0             2                10\n",
       "7    71-80               0                   0             0                 5"
      ],
      "text/html": [
       "<div>\n",
       "<style scoped>\n",
       "    .dataframe tbody tr th:only-of-type {\n",
       "        vertical-align: middle;\n",
       "    }\n",
       "\n",
       "    .dataframe tbody tr th {\n",
       "        vertical-align: top;\n",
       "    }\n",
       "\n",
       "    .dataframe thead th {\n",
       "        text-align: right;\n",
       "    }\n",
       "</style>\n",
       "<table border=\"1\" class=\"dataframe\">\n",
       "  <thead>\n",
       "    <tr style=\"text-align: right;\">\n",
       "      <th></th>\n",
       "      <th>AgeGroup</th>\n",
       "      <th>Survived Women</th>\n",
       "      <th>Not Survived Women</th>\n",
       "      <th>Survived Men</th>\n",
       "      <th>Not Survived Men</th>\n",
       "    </tr>\n",
       "  </thead>\n",
       "  <tbody>\n",
       "    <tr>\n",
       "      <th>0</th>\n",
       "      <td>0-10</td>\n",
       "      <td>16</td>\n",
       "      <td>9</td>\n",
       "      <td>15</td>\n",
       "      <td>12</td>\n",
       "    </tr>\n",
       "    <tr>\n",
       "      <th>1</th>\n",
       "      <td>11-20</td>\n",
       "      <td>28</td>\n",
       "      <td>8</td>\n",
       "      <td>5</td>\n",
       "      <td>44</td>\n",
       "    </tr>\n",
       "    <tr>\n",
       "      <th>2</th>\n",
       "      <td>21-30</td>\n",
       "      <td>75</td>\n",
       "      <td>28</td>\n",
       "      <td>33</td>\n",
       "      <td>180</td>\n",
       "    </tr>\n",
       "    <tr>\n",
       "      <th>3</th>\n",
       "      <td>31-40</td>\n",
       "      <td>44</td>\n",
       "      <td>7</td>\n",
       "      <td>19</td>\n",
       "      <td>59</td>\n",
       "    </tr>\n",
       "    <tr>\n",
       "      <th>4</th>\n",
       "      <td>41-50</td>\n",
       "      <td>18</td>\n",
       "      <td>9</td>\n",
       "      <td>9</td>\n",
       "      <td>35</td>\n",
       "    </tr>\n",
       "    <tr>\n",
       "      <th>5</th>\n",
       "      <td>51-60</td>\n",
       "      <td>9</td>\n",
       "      <td>2</td>\n",
       "      <td>4</td>\n",
       "      <td>23</td>\n",
       "    </tr>\n",
       "    <tr>\n",
       "      <th>6</th>\n",
       "      <td>61-70</td>\n",
       "      <td>3</td>\n",
       "      <td>0</td>\n",
       "      <td>2</td>\n",
       "      <td>10</td>\n",
       "    </tr>\n",
       "    <tr>\n",
       "      <th>7</th>\n",
       "      <td>71-80</td>\n",
       "      <td>0</td>\n",
       "      <td>0</td>\n",
       "      <td>0</td>\n",
       "      <td>5</td>\n",
       "    </tr>\n",
       "  </tbody>\n",
       "</table>\n",
       "</div>"
      ]
     },
     "metadata": {},
     "output_type": "display_data"
    },
    {
     "data": {
      "text/plain": [
       "<Figure size 2000x800 with 2 Axes>"
      ],
      "image/png": "[encoded data removed]"
     },
     "metadata": {},
     "output_type": "display_data"
    }
   ],
   "execution_count": 1247
  },
  {
   "cell_type": "markdown",
   "id": "1eae09fb",
   "metadata": {},
   "source": [
    "# Feature engineering"
   ]
  },
  {
   "cell_type": "markdown",
   "id": "5024577c",
   "metadata": {},
   "source": [
    "#### For Numeric values:\n",
    "#### Descriptive statistics: min, max, percentile, mean, std etc for numeric values:"
   ]
  },
  {
   "cell_type": "code",
   "id": "e2139cc3",
   "metadata": {
    "ExecuteTime": {
     "end_time": "2024-06-10T15:09:23.146701Z",
     "start_time": "2024-06-10T15:09:23.134776Z"
    }
   },
   "source": [
    "train_set.describe(include=np.number)"
   ],
   "outputs": [
    {
     "data": {
      "text/plain": [
       "           Pclass         Sex         Age       SibSp       Parch        Fare  \\\n",
       "count  712.000000  712.000000  712.000000  712.000000  712.000000  712.000000   \n",
       "mean     2.294944    0.640449   29.531213    0.528090    0.384831   32.379429   \n",
       "std      0.841990    0.480206   13.188028    1.055052    0.803085   49.836074   \n",
       "min      1.000000    0.000000    0.670000    0.000000    0.000000    0.000000   \n",
       "25%      1.750000    0.000000   22.000000    0.000000    0.000000    7.925000   \n",
       "50%      3.000000    1.000000   29.699118    0.000000    0.000000   14.500000   \n",
       "75%      3.000000    1.000000   35.000000    1.000000    0.000000   31.275000   \n",
       "max      3.000000    1.000000   80.000000    8.000000    6.000000  512.329200   \n",
       "\n",
       "         Embarked    Survived  \n",
       "count  712.000000  712.000000  \n",
       "mean     0.372191    0.394663  \n",
       "std      0.649970    0.489122  \n",
       "min      0.000000    0.000000  \n",
       "25%      0.000000    0.000000  \n",
       "50%      0.000000    0.000000  \n",
       "75%      1.000000    1.000000  \n",
       "max      3.000000    1.000000  "
      ],
      "text/html": [
       "<div>\n",
       "<style scoped>\n",
       "    .dataframe tbody tr th:only-of-type {\n",
       "        vertical-align: middle;\n",
       "    }\n",
       "\n",
       "    .dataframe tbody tr th {\n",
       "        vertical-align: top;\n",
       "    }\n",
       "\n",
       "    .dataframe thead th {\n",
       "        text-align: right;\n",
       "    }\n",
       "</style>\n",
       "<table border=\"1\" class=\"dataframe\">\n",
       "  <thead>\n",
       "    <tr style=\"text-align: right;\">\n",
       "      <th></th>\n",
       "      <th>Pclass</th>\n",
       "      <th>Sex</th>\n",
       "      <th>Age</th>\n",
       "      <th>SibSp</th>\n",
       "      <th>Parch</th>\n",
       "      <th>Fare</th>\n",
       "      <th>Embarked</th>\n",
       "      <th>Survived</th>\n",
       "    </tr>\n",
       "  </thead>\n",
       "  <tbody>\n",
       "    <tr>\n",
       "      <th>count</th>\n",
       "      <td>712.000000</td>\n",
       "      <td>712.000000</td>\n",
       "      <td>712.000000</td>\n",
       "      <td>712.000000</td>\n",
       "      <td>712.000000</td>\n",
       "      <td>712.000000</td>\n",
       "      <td>712.000000</td>\n",
       "      <td>712.000000</td>\n",
       "    </tr>\n",
       "    <tr>\n",
       "      <th>mean</th>\n",
       "      <td>2.294944</td>\n",
       "      <td>0.640449</td>\n",
       "      <td>29.531213</td>\n",
       "      <td>0.528090</td>\n",
       "      <td>0.384831</td>\n",
       "      <td>32.379429</td>\n",
       "      <td>0.372191</td>\n",
       "      <td>0.394663</td>\n",
       "    </tr>\n",
       "    <tr>\n",
       "      <th>std</th>\n",
       "      <td>0.841990</td>\n",
       "      <td>0.480206</td>\n",
       "      <td>13.188028</td>\n",
       "      <td>1.055052</td>\n",
       "      <td>0.803085</td>\n",
       "      <td>49.836074</td>\n",
       "      <td>0.649970</td>\n",
       "      <td>0.489122</td>\n",
       "    </tr>\n",
       "    <tr>\n",
       "      <th>min</th>\n",
       "      <td>1.000000</td>\n",
       "      <td>0.000000</td>\n",
       "      <td>0.670000</td>\n",
       "      <td>0.000000</td>\n",
       "      <td>0.000000</td>\n",
       "      <td>0.000000</td>\n",
       "      <td>0.000000</td>\n",
       "      <td>0.000000</td>\n",
       "    </tr>\n",
       "    <tr>\n",
       "      <th>25%</th>\n",
       "      <td>1.750000</td>\n",
       "      <td>0.000000</td>\n",
       "      <td>22.000000</td>\n",
       "      <td>0.000000</td>\n",
       "      <td>0.000000</td>\n",
       "      <td>7.925000</td>\n",
       "      <td>0.000000</td>\n",
       "      <td>0.000000</td>\n",
       "    </tr>\n",
       "    <tr>\n",
       "      <th>50%</th>\n",
       "      <td>3.000000</td>\n",
       "      <td>1.000000</td>\n",
       "      <td>29.699118</td>\n",
       "      <td>0.000000</td>\n",
       "      <td>0.000000</td>\n",
       "      <td>14.500000</td>\n",
       "      <td>0.000000</td>\n",
       "      <td>0.000000</td>\n",
       "    </tr>\n",
       "    <tr>\n",
       "      <th>75%</th>\n",
       "      <td>3.000000</td>\n",
       "      <td>1.000000</td>\n",
       "      <td>35.000000</td>\n",
       "      <td>1.000000</td>\n",
       "      <td>0.000000</td>\n",
       "      <td>31.275000</td>\n",
       "      <td>1.000000</td>\n",
       "      <td>1.000000</td>\n",
       "    </tr>\n",
       "    <tr>\n",
       "      <th>max</th>\n",
       "      <td>3.000000</td>\n",
       "      <td>1.000000</td>\n",
       "      <td>80.000000</td>\n",
       "      <td>8.000000</td>\n",
       "      <td>6.000000</td>\n",
       "      <td>512.329200</td>\n",
       "      <td>3.000000</td>\n",
       "      <td>1.000000</td>\n",
       "    </tr>\n",
       "  </tbody>\n",
       "</table>\n",
       "</div>"
      ]
     },
     "execution_count": 1248,
     "metadata": {},
     "output_type": "execute_result"
    }
   ],
   "execution_count": 1248
  },
  {
   "cell_type": "markdown",
   "id": "a50169d4",
   "metadata": {},
   "source": "### Check for missing Data - and fill when needed"
  },
  {
   "cell_type": "code",
   "id": "8c80158a",
   "metadata": {
    "ExecuteTime": {
     "end_time": "2024-06-10T15:09:23.151730Z",
     "start_time": "2024-06-10T15:09:23.147704Z"
    }
   },
   "source": [
    "# Let's start by finding the missing values\n",
    "def check_missing_data(df):\n",
    "    missing_data = df.isnull().sum()\n",
    "    missing_data = missing_data[missing_data > 0]  # Only show columns with missing data\n",
    "    return missing_data\n",
    "\n",
    "def fix_missing_values(data_frame):\n",
    "    fill_strategies = {\n",
    "        'Pclass': data_frame['Pclass'].mode()[0],\n",
    "        'Sex': data_frame['Sex'].mode()[0],\n",
    "        'Age': data_frame['Age'].mean(),\n",
    "        'SibSp': data_frame['SibSp'].mode()[0],\n",
    "        'Parch': data_frame['Parch'].mode()[0],\n",
    "        'Fare': data_frame['Fare'].median(),\n",
    "        'Embarked': data_frame['Embarked'].mode()[0],\n",
    "        'Survived': data_frame['Survived'].mode()[0]\n",
    "    }\n",
    "    \n",
    "    for column, fill_value in fill_strategies.items():\n",
    "        if column in data_frame.columns:\n",
    "            data_frame[column].fillna(fill_value, inplace=True)\n",
    "    \n",
    "    return data_frame"
   ],
   "outputs": [],
   "execution_count": 1249
  },
  {
   "cell_type": "code",
   "id": "6bfe02d9",
   "metadata": {
    "ExecuteTime": {
     "end_time": "2024-06-10T15:09:23.156582Z",
     "start_time": "2024-06-10T15:09:23.151730Z"
    }
   },
   "source": [
    "missing_data = check_missing_data(train_set)\n",
    "# print(\"Missing data\",missing_data)\n",
    "\n",
    "if len(missing_data) > 0:\n",
    "    fix_missing_values(train_set)\n",
    "    # check_missing_data(train_set)\n",
    "    print(f\"Filled missing data ({missing_data})\")\n",
    "else:\n",
    "    print(\"No missing data\")"
   ],
   "outputs": [
    {
     "name": "stdout",
     "output_type": "stream",
     "text": [
      "No missing data\n"
     ]
    }
   ],
   "execution_count": 1250
  },
  {
   "cell_type": "code",
   "id": "d609803c",
   "metadata": {
    "ExecuteTime": {
     "end_time": "2024-06-10T15:09:23.160747Z",
     "start_time": "2024-06-10T15:09:23.157586Z"
    }
   },
   "source": [
    "# Use the NumPy percentile() method to find the percentiles\n",
    "def agePercentile(dataFrame):\n",
    "    x_age = np.percentile(dataFrame[\"Age\"], 75)\n",
    "    y_age = np.percentile(dataFrame[\"Age\"], 90)\n",
    "\n",
    "    print(f'x_age meaning that 75% of the people on the Titanic are {x_age} years old')\n",
    "    print(f'y_age meaning that 90% of the people on the Titanic are {y_age} years old')"
   ],
   "outputs": [],
   "execution_count": 1251
  },
  {
   "cell_type": "code",
   "id": "af628545",
   "metadata": {
    "ExecuteTime": {
     "end_time": "2024-06-10T15:09:23.165318Z",
     "start_time": "2024-06-10T15:09:23.161750Z"
    }
   },
   "source": [
    "agePercentile(train_set)"
   ],
   "outputs": [
    {
     "name": "stdout",
     "output_type": "stream",
     "text": [
      "x_age meaning that 75% of the people on the Titanic are 35.0 years old\n",
      "y_age meaning that 90% of the people on the Titanic are 47.0 years old\n"
     ]
    }
   ],
   "execution_count": 1252
  },
  {
   "cell_type": "code",
   "id": "277c7bf1",
   "metadata": {
    "ExecuteTime": {
     "end_time": "2024-06-10T15:09:23.169424Z",
     "start_time": "2024-06-10T15:09:23.166322Z"
    }
   },
   "source": [
    "def SurvivedbyAge():\n",
    "    counts, bins = np.histogram(train_set.Age, bins=16)\n",
    "    max_bin = np.argmax(counts)\n",
    "\n",
    "    max_bin_midpoint = (bins[max_bin] + bins[max_bin + 1]) / 2\n",
    "\n",
    "    # Plot histogram\n",
    "    plt.hist(train_set.Age, bins=16)\n",
    "    plt.title(\"Survived by Age\")\n",
    "    plt.xlabel(\"Age\")\n",
    "    plt.ylabel(\"Survived\")\n",
    "\n",
    "    # Add text annotation at the maximum point\n",
    "    plt.text(max_bin_midpoint, counts[max_bin], f\"Max survivers: {counts[max_bin]}\", ha='center', va='bottom',\n",
    "             bbox=dict(facecolor='blue', alpha=0))\n",
    "\n",
    "    plt.show()"
   ],
   "outputs": [],
   "execution_count": 1253
  },
  {
   "cell_type": "code",
   "id": "502fccac",
   "metadata": {
    "ExecuteTime": {
     "end_time": "2024-06-10T15:09:23.284237Z",
     "start_time": "2024-06-10T15:09:23.170428Z"
    }
   },
   "source": [
    "SurvivedbyAge()"
   ],
   "outputs": [
    {
     "data": {
      "text/plain": [
       "<Figure size 640x480 with 1 Axes>"
      ],
      "image/png": "[encoded data removed]"
     },
     "metadata": {},
     "output_type": "display_data"
    }
   ],
   "execution_count": 1254
  },
  {
   "cell_type": "markdown",
   "id": "36f7d419",
   "metadata": {},
   "source": [
    "### Find Outliers"
   ]
  },
  {
   "cell_type": "markdown",
   "id": "e327ea55",
   "metadata": {},
   "source": [
    "#### let's check for Age & Fare outliers (using boxplot)"
   ]
  },
  {
   "cell_type": "code",
   "id": "fe24dce1",
   "metadata": {
    "ExecuteTime": {
     "end_time": "2024-06-10T15:09:23.356677Z",
     "start_time": "2024-06-10T15:09:23.285241Z"
    }
   },
   "source": [
    "# Fare outliers\n",
    "\n",
    "sns.boxplot(train_set.Fare)"
   ],
   "outputs": [
    {
     "data": {
      "text/plain": [
       "<Axes: ylabel='Fare'>"
      ]
     },
     "execution_count": 1255,
     "metadata": {},
     "output_type": "execute_result"
    },
    {
     "data": {
      "text/plain": [
       "<Figure size 640x480 with 1 Axes>"
      ],
      "image/png": "[encoded data removed]"
     },
     "metadata": {},
     "output_type": "display_data"
    }
   ],
   "execution_count": 1255
  },
  {
   "cell_type": "code",
   "id": "e814b84e",
   "metadata": {
    "ExecuteTime": {
     "end_time": "2024-06-10T15:09:23.360952Z",
     "start_time": "2024-06-10T15:09:23.357681Z"
    }
   },
   "source": [
    "train_set[\"Fare\"].median()"
   ],
   "outputs": [
    {
     "data": {
      "text/plain": [
       "14.5"
      ]
     },
     "execution_count": 1256,
     "metadata": {},
     "output_type": "execute_result"
    }
   ],
   "execution_count": 1256
  },
  {
   "cell_type": "code",
   "id": "7add523c",
   "metadata": {
    "ExecuteTime": {
     "end_time": "2024-06-10T15:09:23.367793Z",
     "start_time": "2024-06-10T15:09:23.361956Z"
    }
   },
   "source": [
    "train_set[\"Fare\"].describe()"
   ],
   "outputs": [
    {
     "data": {
      "text/plain": [
       "count    712.000000\n",
       "mean      32.379429\n",
       "std       49.836074\n",
       "min        0.000000\n",
       "25%        7.925000\n",
       "50%       14.500000\n",
       "75%       31.275000\n",
       "max      512.329200\n",
       "Name: Fare, dtype: float64"
      ]
     },
     "execution_count": 1257,
     "metadata": {},
     "output_type": "execute_result"
    }
   ],
   "execution_count": 1257
  },
  {
   "cell_type": "code",
   "id": "9b1cb178",
   "metadata": {
    "ExecuteTime": {
     "end_time": "2024-06-10T15:09:23.371771Z",
     "start_time": "2024-06-10T15:09:23.368799Z"
    }
   },
   "source": [
    "# Find Fare outliers:\n",
    "\n",
    "# \"mimimum\" = Q1 - 1.5 * IQR\n",
    "# \"maximum\" = Q3 + 1.5 * IQR\n",
    "\n",
    "\n",
    "def outliersByIQR(col_name):\n",
    "    Q1 = np.percentile(train_set[col_name], 25)\n",
    "    Q3 = np.percentile(train_set[col_name], 75)\n",
    "    IQR = Q3 - Q1\n",
    "\n",
    "    Fare_Outliers = train_set[(train_set[col_name] < Q1 - 1.5 * IQR) | (train_set[col_name] > Q3 + 1.5 * IQR)].index\n",
    "    print(f'Sum of Age_outliers: {len(Fare_Outliers)}')\n",
    "\n",
    "\n"
   ],
   "outputs": [],
   "execution_count": 1258
  },
  {
   "cell_type": "code",
   "id": "893acc9f",
   "metadata": {
    "ExecuteTime": {
     "end_time": "2024-06-10T15:09:23.376050Z",
     "start_time": "2024-06-10T15:09:23.371771Z"
    }
   },
   "source": [
    "outliersByIQR(\"Fare\")"
   ],
   "outputs": [
    {
     "name": "stdout",
     "output_type": "stream",
     "text": [
      "Sum of Age_outliers: 93\n"
     ]
    }
   ],
   "execution_count": 1259
  },
  {
   "cell_type": "code",
   "id": "596787bc",
   "metadata": {
    "ExecuteTime": {
     "end_time": "2024-06-10T15:09:23.450439Z",
     "start_time": "2024-06-10T15:09:23.378054Z"
    }
   },
   "source": [
    "# check outliers for Age\n",
    "\n",
    "sns.boxplot(train_set.Age)"
   ],
   "outputs": [
    {
     "data": {
      "text/plain": [
       "<Axes: ylabel='Age'>"
      ]
     },
     "execution_count": 1260,
     "metadata": {},
     "output_type": "execute_result"
    },
    {
     "data": {
      "text/plain": [
       "<Figure size 640x480 with 1 Axes>"
      ],
      "image/png": "[encoded data removed]"
     },
     "metadata": {},
     "output_type": "display_data"
    }
   ],
   "execution_count": 1260
  },
  {
   "cell_type": "code",
   "id": "c9369881",
   "metadata": {
    "ExecuteTime": {
     "end_time": "2024-06-10T15:09:23.454754Z",
     "start_time": "2024-06-10T15:09:23.451442Z"
    }
   },
   "source": [
    "train_set[\"Age\"].median()"
   ],
   "outputs": [
    {
     "data": {
      "text/plain": [
       "29.69911765"
      ]
     },
     "execution_count": 1261,
     "metadata": {},
     "output_type": "execute_result"
    }
   ],
   "execution_count": 1261
  },
  {
   "cell_type": "code",
   "id": "55e74398",
   "metadata": {
    "ExecuteTime": {
     "end_time": "2024-06-10T15:09:23.460020Z",
     "start_time": "2024-06-10T15:09:23.454754Z"
    }
   },
   "source": [
    "train_set[\"Age\"].describe()"
   ],
   "outputs": [
    {
     "data": {
      "text/plain": [
       "count    712.000000\n",
       "mean      29.531213\n",
       "std       13.188028\n",
       "min        0.670000\n",
       "25%       22.000000\n",
       "50%       29.699118\n",
       "75%       35.000000\n",
       "max       80.000000\n",
       "Name: Age, dtype: float64"
      ]
     },
     "execution_count": 1262,
     "metadata": {},
     "output_type": "execute_result"
    }
   ],
   "execution_count": 1262
  },
  {
   "cell_type": "code",
   "id": "872700f7",
   "metadata": {
    "ExecuteTime": {
     "end_time": "2024-06-10T15:09:23.463787Z",
     "start_time": "2024-06-10T15:09:23.461023Z"
    }
   },
   "source": [
    "# Find Age outliers:\n",
    "outliersByIQR(\"Age\")\n"
   ],
   "outputs": [
    {
     "name": "stdout",
     "output_type": "stream",
     "text": [
      "Sum of Age_outliers: 54\n"
     ]
    }
   ],
   "execution_count": 1263
  },
  {
   "cell_type": "code",
   "id": "4f92eaf7",
   "metadata": {
    "ExecuteTime": {
     "end_time": "2024-06-10T15:09:23.469711Z",
     "start_time": "2024-06-10T15:09:23.463787Z"
    }
   },
   "source": [
    "# Let's remove outliers\n",
    "\n",
    "def remove_outlier(df_in, col_name):\n",
    "    q1 = df_in[col_name].quantile(0.25)\n",
    "    q3 = df_in[col_name].quantile(0.75)\n",
    "    iqr = q3 - q1\n",
    "    fence_low = q1 - 1.5 * iqr\n",
    "    fence_high = q3 + 1.5 * iqr\n",
    "    df_out = df_in.loc[(df_in[col_name] > fence_low) & (df_in[col_name] < fence_high)]\n",
    "    return df_out\n",
    "\n",
    "\n",
    "re_dat = remove_outlier(train_set, \"Fare\")\n",
    "re_dat = remove_outlier(train_set, \"Age\")"
   ],
   "outputs": [],
   "execution_count": 1264
  },
  {
   "cell_type": "code",
   "id": "8b8ac8f2",
   "metadata": {
    "ExecuteTime": {
     "end_time": "2024-06-10T15:09:23.473728Z",
     "start_time": "2024-06-10T15:09:23.470714Z"
    }
   },
   "source": [
    "print(re_dat.count())"
   ],
   "outputs": [
    {
     "name": "stdout",
     "output_type": "stream",
     "text": [
      "Pclass      658\n",
      "Sex         658\n",
      "Age         658\n",
      "SibSp       658\n",
      "Parch       658\n",
      "Fare        658\n",
      "Embarked    658\n",
      "Survived    658\n",
      "dtype: int64\n"
     ]
    }
   ],
   "execution_count": 1265
  },
  {
   "cell_type": "markdown",
   "id": "5a72cef8",
   "metadata": {},
   "source": [
    "#### Feature engineering for Naive Bayes:"
   ]
  },
  {
   "cell_type": "code",
   "id": "d45274df",
   "metadata": {
    "ExecuteTime": {
     "end_time": "2024-06-10T15:09:23.478228Z",
     "start_time": "2024-06-10T15:09:23.474731Z"
    }
   },
   "source": [
    "#defining a training function to NB algorithm:\n",
    "def nb_train(train_set):\n",
    "    features = ['Pclass', 'Sex', 'Age', 'SibSp', 'Parch', 'Fare']\n",
    "    x_train = train_set[features]\n",
    "    y_train = train_set['Survived']\n",
    "    return x_train, y_train\n",
    "\n",
    "\n",
    "x_train, y_train = nb_train(train_set)"
   ],
   "outputs": [],
   "execution_count": 1266
  },
  {
   "cell_type": "code",
   "id": "3f8ddb0f",
   "metadata": {
    "ExecuteTime": {
     "end_time": "2024-06-10T15:09:23.483233Z",
     "start_time": "2024-06-10T15:09:23.479231Z"
    }
   },
   "source": [
    "def nb_test(x_train, y_train):\n",
    "    nb = GaussianNB()\n",
    "    training_sizes = np.linspace(0.1, 0.9, 9)\n",
    "    accuracies = []\n",
    "    for size in training_sizes:\n",
    "        x_train_split, x_val_split, y_train_split, y_val_split = train_test_split(x_train, y_train, train_size=size,\n",
    "                                                                                  random_state=42)\n",
    "        nb.fit(x_train_split, y_train_split)\n",
    "        val_predictions = nb.predict(x_val_split)\n",
    "        accuracy = accuracy_score(y_val_split, val_predictions)\n",
    "        accuracies.append(accuracy)\n",
    "    max_accuracy = max(accuracies)\n",
    "    max_index = accuracies.index(max_accuracy)  #choosing the highest accuracy value from all accuracies\n",
    "\n",
    "    return training_sizes, accuracies, max_accuracy, max_index"
   ],
   "outputs": [],
   "execution_count": 1267
  },
  {
   "cell_type": "code",
   "id": "711027cd",
   "metadata": {
    "ExecuteTime": {
     "end_time": "2024-06-10T15:09:23.488393Z",
     "start_time": "2024-06-10T15:09:23.484480Z"
    }
   },
   "source": [
    "def show_acc(training_sizes, accuracies, max_accuracy, max_index):\n",
    "    plt.figure(figsize=(10, 6))\n",
    "    plt.plot(training_sizes, accuracies, marker='o', linestyle='-', color='b')\n",
    "    plt.annotate(\n",
    "        f'Max accuracy: {max_accuracy:.3f}',\n",
    "        xy=(training_sizes[max_index], accuracies[max_index]),\n",
    "        xytext=(training_sizes[max_index] + 0.1, accuracies[max_index] - 0.050),\n",
    "        arrowprops=dict(facecolor='orange', shrink=0.05),\n",
    "        fontsize=15,\n",
    "        color='black', bbox=dict(facecolor='white', edgecolor='black', boxstyle='round,pad=0.5')\n",
    "    )\n",
    "\n",
    "    plt.xlabel('Training Size', fontsize=20)\n",
    "    plt.ylabel('Accuracy', fontsize=20)\n",
    "    plt.title('Validation Accuracy of Naive Bayes Classifier', fontsize=20)\n",
    "    plt.grid(True)\n",
    "    print(f\"Max accuracy for Naive Bayes algorithm: {max_accuracy:.3f}\")\n",
    "    plt.show()\n"
   ],
   "outputs": [],
   "execution_count": 1268
  },
  {
   "cell_type": "code",
   "id": "28720a1b",
   "metadata": {
    "ExecuteTime": {
     "end_time": "2024-06-10T15:09:23.492887Z",
     "start_time": "2024-06-10T15:09:23.489398Z"
    }
   },
   "source": [
    "#feature engineering by PCA and scaling (pipelining):\n",
    "def create_pipeline(train_set, scaler, pca, dim):\n",
    "    x_train = train_set[['Pclass', 'Sex', 'Age', 'SibSp', 'Parch', 'Fare']]\n",
    "    steps = []\n",
    "    if scaler:\n",
    "        steps.append(('scaler', StandardScaler()))\n",
    "    if pca:\n",
    "        steps.append(('pca', PCA(n_components=dim)))\n",
    "\n",
    "    pipeline = Pipeline(steps)\n",
    "    fe_train = pipeline.fit_transform(x_train)\n",
    "    return fe_train"
   ],
   "outputs": [],
   "execution_count": 1269
  },
  {
   "cell_type": "code",
   "id": "87491360",
   "metadata": {
    "ExecuteTime": {
     "end_time": "2024-06-10T15:09:23.850689Z",
     "start_time": "2024-06-10T15:09:23.493399Z"
    }
   },
   "source": [
    "\n",
    "# Define the combinations of parameters and the range of `dim` values\n",
    "def best_fe():\n",
    "    combinations = [\n",
    "        (True, True),\n",
    "        (True, False),\n",
    "        (False, True)\n",
    "    ]\n",
    "    dim_values = range(1, len(train_set.columns) - 1)  # Assuming we want to test dimensions from 1 to col len - 1 \n",
    "\n",
    "    # Initialize a list to store the results\n",
    "    results = []\n",
    "    y_train = train_set['Survived']\n",
    "    # Iterate over each combination and each dim value\n",
    "    for scaler, pca in combinations:\n",
    "        best_accuracy = 0\n",
    "        best_dim = None\n",
    "        for dim in dim_values:\n",
    "            fe_train = create_pipeline(train_set, scaler, pca, dim)\n",
    "            training_sizes, accuracies, max_accuracy, max_index = nb_test(fe_train, y_train)\n",
    "\n",
    "            if max_accuracy > best_accuracy:\n",
    "                best_accuracy = max_accuracy\n",
    "                best_dim = dim\n",
    "\n",
    "        results.append({\n",
    "            'Scaler': scaler,\n",
    "            'PCA': pca,\n",
    "            'Best Dim': best_dim,\n",
    "            'Max Accuracy': best_accuracy\n",
    "        })\n",
    "\n",
    "    # Create a DataFrame to display the results\n",
    "    results_df = pd.DataFrame(results)\n",
    "    return training_sizes, accuracies, max_index, results_df\n",
    "\n",
    "\n",
    "training_sizes, accuracies, max_index, results_df = best_fe()\n",
    "\n",
    "# Display the results table\n",
    "print(results_df)\n",
    "best_accuracy = results_df['Max Accuracy'].max()\n",
    "show_acc(training_sizes, accuracies, best_accuracy, max_index)"
   ],
   "outputs": [
    {
     "name": "stdout",
     "output_type": "stream",
     "text": [
      "   Scaler    PCA  Best Dim  Max Accuracy\n",
      "0    True   True         5      0.775439\n",
      "1    True  False         1      0.768421\n",
      "2   False   True         6      0.782456\n",
      "Max accuracy for Naive Bayes algorithm: 0.782\n"
     ]
    },
    {
     "data": {
      "text/plain": [
       "<Figure size 1000x600 with 1 Axes>"
      ],
      "image/png": "[encoded data removed]"
     },
     "metadata": {},
     "output_type": "display_data"
    }
   ],
   "execution_count": 1270
  },
  {
   "cell_type": "markdown",
   "id": "67d97f11",
   "metadata": {},
   "source": [
    "## Part 3 - Training flow\n",
    "Use the best combination of feature engineering, model (algorithm and hyperparameters) from the experiment part (part 2)"
   ]
  },
  {
   "cell_type": "markdown",
   "id": "f2beb9f2",
   "metadata": {},
   "source": [
    "## KNN training:"
   ]
  },
  {
   "cell_type": "code",
   "id": "2122a400",
   "metadata": {
    "ExecuteTime": {
     "end_time": "2024-06-10T15:09:23.856214Z",
     "start_time": "2024-06-10T15:09:23.851692Z"
    }
   },
   "source": [
    "x_train = train_set[['Pclass', 'Sex', 'Age', 'SibSp', 'Parch', 'Fare']]\n",
    "y_train = train_set['Survived']"
   ],
   "outputs": [],
   "execution_count": 1271
  },
  {
   "cell_type": "code",
   "id": "f1043bb1",
   "metadata": {
    "ExecuteTime": {
     "end_time": "2024-06-10T15:09:23.863217Z",
     "start_time": "2024-06-10T15:09:23.857218Z"
    }
   },
   "source": [
    "knn = KNeighborsClassifier(n_neighbors=11)\n",
    "knn.fit(x_train, y_train)"
   ],
   "outputs": [
    {
     "data": {
      "text/plain": [
       "KNeighborsClassifier(n_neighbors=11)"
      ],
      "text/html": [
       "<style>#sk-container-id-27 {color: black;background-color: white;}#sk-container-id-27 pre{padding: 0;}#sk-container-id-27 div.sk-toggleable {background-color: white;}#sk-container-id-27 label.sk-toggleable__label {cursor: pointer;display: block;width: 100%;margin-bottom: 0;padding: 0.3em;box-sizing: border-box;text-align: center;}#sk-container-id-27 label.sk-toggleable__label-arrow:before {content: \"▸\";float: left;margin-right: 0.25em;color: #696969;}#sk-container-id-27 label.sk-toggleable__label-arrow:hover:before {color: black;}#sk-container-id-27 div.sk-estimator:hover label.sk-toggleable__label-arrow:before {color: black;}#sk-container-id-27 div.sk-toggleable__content {max-height: 0;max-width: 0;overflow: hidden;text-align: left;background-color: #f0f8ff;}#sk-container-id-27 div.sk-toggleable__content pre {margin: 0.2em;color: black;border-radius: 0.25em;background-color: #f0f8ff;}#sk-container-id-27 input.sk-toggleable__control:checked~div.sk-toggleable__content {max-height: 200px;max-width: 100%;overflow: auto;}#sk-container-id-27 input.sk-toggleable__control:checked~label.sk-toggleable__label-arrow:before {content: \"▾\";}#sk-container-id-27 div.sk-estimator input.sk-toggleable__control:checked~label.sk-toggleable__label {background-color: #d4ebff;}#sk-container-id-27 div.sk-label input.sk-toggleable__control:checked~label.sk-toggleable__label {background-color: #d4ebff;}#sk-container-id-27 input.sk-hidden--visually {border: 0;clip: rect(1px 1px 1px 1px);clip: rect(1px, 1px, 1px, 1px);height: 1px;margin: -1px;overflow: hidden;padding: 0;position: absolute;width: 1px;}#sk-container-id-27 div.sk-estimator {font-family: monospace;background-color: #f0f8ff;border: 1px dotted black;border-radius: 0.25em;box-sizing: border-box;margin-bottom: 0.5em;}#sk-container-id-27 div.sk-estimator:hover {background-color: #d4ebff;}#sk-container-id-27 div.sk-parallel-item::after {content: \"\";width: 100%;border-bottom: 1px solid gray;flex-grow: 1;}#sk-container-id-27 div.sk-label:hover label.sk-toggleable__label {background-color: #d4ebff;}#sk-container-id-27 div.sk-serial::before {content: \"\";position: absolute;border-left: 1px solid gray;box-sizing: border-box;top: 0;bottom: 0;left: 50%;z-index: 0;}#sk-container-id-27 div.sk-serial {display: flex;flex-direction: column;align-items: center;background-color: white;padding-right: 0.2em;padding-left: 0.2em;position: relative;}#sk-container-id-27 div.sk-item {position: relative;z-index: 1;}#sk-container-id-27 div.sk-parallel {display: flex;align-items: stretch;justify-content: center;background-color: white;position: relative;}#sk-container-id-27 div.sk-item::before, #sk-container-id-27 div.sk-parallel-item::before {content: \"\";position: absolute;border-left: 1px solid gray;box-sizing: border-box;top: 0;bottom: 0;left: 50%;z-index: -1;}#sk-container-id-27 div.sk-parallel-item {display: flex;flex-direction: column;z-index: 1;position: relative;background-color: white;}#sk-container-id-27 div.sk-parallel-item:first-child::after {align-self: flex-end;width: 50%;}#sk-container-id-27 div.sk-parallel-item:last-child::after {align-self: flex-start;width: 50%;}#sk-container-id-27 div.sk-parallel-item:only-child::after {width: 0;}#sk-container-id-27 div.sk-dashed-wrapped {border: 1px dashed gray;margin: 0 0.4em 0.5em 0.4em;box-sizing: border-box;padding-bottom: 0.4em;background-color: white;}#sk-container-id-27 div.sk-label label {font-family: monospace;font-weight: bold;display: inline-block;line-height: 1.2em;}#sk-container-id-27 div.sk-label-container {text-align: center;}#sk-container-id-27 div.sk-container {/* jupyter's `normalize.less` sets `[hidden] { display: none; }` but bootstrap.min.css set `[hidden] { display: none !important; }` so we also need the `!important` here to be able to override the default hidden behavior on the sphinx rendered scikit-learn.org. See: https://github.com/scikit-learn/scikit-learn/issues/21755 */display: inline-block !important;position: relative;}#sk-container-id-27 div.sk-text-repr-fallback {display: none;}</style><div id=\"sk-container-id-27\" class=\"sk-top-container\"><div class=\"sk-text-repr-fallback\"><pre>KNeighborsClassifier(n_neighbors=11)</pre><b>In a Jupyter environment, please rerun this cell to show the HTML representation or trust the notebook. <br />On GitHub, the HTML representation is unable to render, please try loading this page with nbviewer.org.</b></div><div class=\"sk-container\" hidden><div class=\"sk-item\"><div class=\"sk-estimator sk-toggleable\"><input class=\"sk-toggleable__control sk-hidden--visually\" id=\"sk-estimator-id-27\" type=\"checkbox\" checked><label for=\"sk-estimator-id-27\" class=\"sk-toggleable__label sk-toggleable__label-arrow\">KNeighborsClassifier</label><div class=\"sk-toggleable__content\"><pre>KNeighborsClassifier(n_neighbors=11)</pre></div></div></div></div></div>"
      ]
     },
     "execution_count": 1272,
     "metadata": {},
     "output_type": "execute_result"
    }
   ],
   "execution_count": 1272
  },
  {
   "cell_type": "markdown",
   "id": "d820924c",
   "metadata": {},
   "source": [
    "# Naive Bayes training:"
   ]
  },
  {
   "cell_type": "code",
   "id": "71369aa8",
   "metadata": {
    "ExecuteTime": {
     "end_time": "2024-06-10T15:09:23.872287Z",
     "start_time": "2024-06-10T15:09:23.863217Z"
    }
   },
   "source": [
    "#defining a training function to NB algorithm:\n",
    "def nb_train(train_set):\n",
    "    features = ['Pclass', 'Sex', 'Age', 'SibSp', 'Parch', 'Fare']\n",
    "    x_train = train_set[features]\n",
    "    y_train = train_set['Survived']\n",
    "    return x_train, y_train\n",
    "\n",
    "\n",
    "x_train, y_train = nb_train(train_set)\n",
    "display(x_train)"
   ],
   "outputs": [
    {
     "data": {
      "text/plain": [
       "     Pclass  Sex        Age  SibSp  Parch      Fare\n",
       "0         1    0  54.000000      1      0   78.2667\n",
       "1         2    0  45.000000      0      0   13.5000\n",
       "2         3    1  20.000000      0      0    9.5000\n",
       "3         3    1  36.000000      0      0    7.8958\n",
       "4         3    1  22.000000      0      0    8.0500\n",
       "..      ...  ...        ...    ...    ...       ...\n",
       "707       1    1  54.000000      0      0   51.8625\n",
       "708       3    1  14.000000      5      2   46.9000\n",
       "709       2    0   6.000000      0      1   33.0000\n",
       "710       2    1  29.699118      0      0    0.0000\n",
       "711       1    0  25.000000      1      2  151.5500\n",
       "\n",
       "[712 rows x 6 columns]"
      ],
      "text/html": [
       "<div>\n",
       "<style scoped>\n",
       "    .dataframe tbody tr th:only-of-type {\n",
       "        vertical-align: middle;\n",
       "    }\n",
       "\n",
       "    .dataframe tbody tr th {\n",
       "        vertical-align: top;\n",
       "    }\n",
       "\n",
       "    .dataframe thead th {\n",
       "        text-align: right;\n",
       "    }\n",
       "</style>\n",
       "<table border=\"1\" class=\"dataframe\">\n",
       "  <thead>\n",
       "    <tr style=\"text-align: right;\">\n",
       "      <th></th>\n",
       "      <th>Pclass</th>\n",
       "      <th>Sex</th>\n",
       "      <th>Age</th>\n",
       "      <th>SibSp</th>\n",
       "      <th>Parch</th>\n",
       "      <th>Fare</th>\n",
       "    </tr>\n",
       "  </thead>\n",
       "  <tbody>\n",
       "    <tr>\n",
       "      <th>0</th>\n",
       "      <td>1</td>\n",
       "      <td>0</td>\n",
       "      <td>54.000000</td>\n",
       "      <td>1</td>\n",
       "      <td>0</td>\n",
       "      <td>78.2667</td>\n",
       "    </tr>\n",
       "    <tr>\n",
       "      <th>1</th>\n",
       "      <td>2</td>\n",
       "      <td>0</td>\n",
       "      <td>45.000000</td>\n",
       "      <td>0</td>\n",
       "      <td>0</td>\n",
       "      <td>13.5000</td>\n",
       "    </tr>\n",
       "    <tr>\n",
       "      <th>2</th>\n",
       "      <td>3</td>\n",
       "      <td>1</td>\n",
       "      <td>20.000000</td>\n",
       "      <td>0</td>\n",
       "      <td>0</td>\n",
       "      <td>9.5000</td>\n",
       "    </tr>\n",
       "    <tr>\n",
       "      <th>3</th>\n",
       "      <td>3</td>\n",
       "      <td>1</td>\n",
       "      <td>36.000000</td>\n",
       "      <td>0</td>\n",
       "      <td>0</td>\n",
       "      <td>7.8958</td>\n",
       "    </tr>\n",
       "    <tr>\n",
       "      <th>4</th>\n",
       "      <td>3</td>\n",
       "      <td>1</td>\n",
       "      <td>22.000000</td>\n",
       "      <td>0</td>\n",
       "      <td>0</td>\n",
       "      <td>8.0500</td>\n",
       "    </tr>\n",
       "    <tr>\n",
       "      <th>...</th>\n",
       "      <td>...</td>\n",
       "      <td>...</td>\n",
       "      <td>...</td>\n",
       "      <td>...</td>\n",
       "      <td>...</td>\n",
       "      <td>...</td>\n",
       "    </tr>\n",
       "    <tr>\n",
       "      <th>707</th>\n",
       "      <td>1</td>\n",
       "      <td>1</td>\n",
       "      <td>54.000000</td>\n",
       "      <td>0</td>\n",
       "      <td>0</td>\n",
       "      <td>51.8625</td>\n",
       "    </tr>\n",
       "    <tr>\n",
       "      <th>708</th>\n",
       "      <td>3</td>\n",
       "      <td>1</td>\n",
       "      <td>14.000000</td>\n",
       "      <td>5</td>\n",
       "      <td>2</td>\n",
       "      <td>46.9000</td>\n",
       "    </tr>\n",
       "    <tr>\n",
       "      <th>709</th>\n",
       "      <td>2</td>\n",
       "      <td>0</td>\n",
       "      <td>6.000000</td>\n",
       "      <td>0</td>\n",
       "      <td>1</td>\n",
       "      <td>33.0000</td>\n",
       "    </tr>\n",
       "    <tr>\n",
       "      <th>710</th>\n",
       "      <td>2</td>\n",
       "      <td>1</td>\n",
       "      <td>29.699118</td>\n",
       "      <td>0</td>\n",
       "      <td>0</td>\n",
       "      <td>0.0000</td>\n",
       "    </tr>\n",
       "    <tr>\n",
       "      <th>711</th>\n",
       "      <td>1</td>\n",
       "      <td>0</td>\n",
       "      <td>25.000000</td>\n",
       "      <td>1</td>\n",
       "      <td>2</td>\n",
       "      <td>151.5500</td>\n",
       "    </tr>\n",
       "  </tbody>\n",
       "</table>\n",
       "<p>712 rows × 6 columns</p>\n",
       "</div>"
      ]
     },
     "metadata": {},
     "output_type": "display_data"
    }
   ],
   "execution_count": 1273
  },
  {
   "cell_type": "code",
   "id": "43eaef8b",
   "metadata": {
    "ExecuteTime": {
     "end_time": "2024-06-10T15:09:23.874834Z",
     "start_time": "2024-06-10T15:09:23.873291Z"
    }
   },
   "source": [],
   "outputs": [],
   "execution_count": 1273
  },
  {
   "cell_type": "code",
   "id": "511adbc3",
   "metadata": {
    "ExecuteTime": {
     "end_time": "2024-06-10T15:09:23.877413Z",
     "start_time": "2024-06-10T15:09:23.875838Z"
    }
   },
   "source": [],
   "outputs": [],
   "execution_count": 1273
  },
  {
   "cell_type": "markdown",
   "id": "259ab902",
   "metadata": {},
   "source": [
    "## Part 4 - Apply on test and show model performance estimation"
   ]
  },
  {
   "cell_type": "markdown",
   "id": "982fd267",
   "metadata": {},
   "source": [
    "## KNN algorithm testing:"
   ]
  },
  {
   "cell_type": "code",
   "id": "d9971aa5",
   "metadata": {
    "ExecuteTime": {
     "end_time": "2024-06-10T15:09:23.881751Z",
     "start_time": "2024-06-10T15:09:23.877413Z"
    }
   },
   "source": [
    "test_set = pd.read_csv(\"titanic_test.csv\")"
   ],
   "outputs": [],
   "execution_count": 1274
  },
  {
   "cell_type": "code",
   "id": "00d8aa96",
   "metadata": {
    "ExecuteTime": {
     "end_time": "2024-06-10T15:09:23.885999Z",
     "start_time": "2024-06-10T15:09:23.881751Z"
    }
   },
   "source": [
    "x_test = test_set[['Pclass', 'Sex', 'Age', 'SibSp', 'Parch', 'Fare']]\n",
    "y_test = test_set['Survived']"
   ],
   "outputs": [],
   "execution_count": 1275
  },
  {
   "cell_type": "code",
   "id": "686b0d71",
   "metadata": {
    "ExecuteTime": {
     "end_time": "2024-06-10T15:09:23.896632Z",
     "start_time": "2024-06-10T15:09:23.887002Z"
    }
   },
   "source": [
    "y_predict = knn.predict(x_test)\n",
    "accuracy = accuracy_score(y_test, y_predict)\n",
    "print(\"accuracy: \", accuracy)"
   ],
   "outputs": [
    {
     "name": "stdout",
     "output_type": "stream",
     "text": [
      "accuracy:  0.7374301675977654\n"
     ]
    }
   ],
   "execution_count": 1276
  },
  {
   "cell_type": "code",
   "id": "874a9887",
   "metadata": {
    "ExecuteTime": {
     "end_time": "2024-06-10T15:09:24.594424Z",
     "start_time": "2024-06-10T15:09:23.897637Z"
    }
   },
   "source": [
    "neighbors = np.arange(1, 100)\n",
    "accuracy_scores = []\n",
    "for n in neighbors:\n",
    "    knn = KNeighborsClassifier(n_neighbors=n)\n",
    "    knn.fit(x_train, y_train)\n",
    "    y_pred = knn.predict(x_test)\n",
    "    accuracy = accuracy_score(y_test, y_pred)\n",
    "    accuracy_scores.append(accuracy)"
   ],
   "outputs": [],
   "execution_count": 1277
  },
  {
   "cell_type": "code",
   "id": "8a68001f",
   "metadata": {
    "ExecuteTime": {
     "end_time": "2024-06-10T15:09:24.733549Z",
     "start_time": "2024-06-10T15:09:24.595438Z"
    }
   },
   "source": [
    "plt.figure(figsize=(15, 10))\n",
    "plt.plot(neighbors, accuracy_scores)\n",
    "plt.xlabel('Number of Neighbors', fontsize=20)\n",
    "plt.ylabel('Accuracy', fontsize=20)\n",
    "plt.title('Accuracy vs. Number of Neighbors', fontsize=20)\n",
    "\n",
    "# Finding the maximum accuracy and its corresponding neighbor\n",
    "max_index = accuracy_scores.index(max(accuracy_scores))\n",
    "max_neighbor = neighbors[max_index]\n",
    "max_accuracy = accuracy_scores[max_index]\n",
    "\n",
    "# Adding annotation\n",
    "plt.annotate(f'Max Accuracy: {max_accuracy:.2f}',\n",
    "             xy=(max_neighbor, max_accuracy),  # Arrowhead position\n",
    "             xytext=(max_neighbor - 10, max_accuracy),  # Text position above the point\n",
    "             arrowprops=dict(facecolor='orange', shrink=0.05),\n",
    "             ha='right', fontsize=14)\n",
    "plt.show()"
   ],
   "outputs": [
    {
     "data": {
      "text/plain": [
       "<Figure size 1500x1000 with 1 Axes>"
      ],
      "image/png": "[encoded data removed]"
     },
     "metadata": {},
     "output_type": "display_data"
    }
   ],
   "execution_count": 1278
  },
  {
   "cell_type": "markdown",
   "id": "aa7b1f9b",
   "metadata": {},
   "source": [
    "## Naive Bayes algorithm testing:"
   ]
  },
  {
   "cell_type": "code",
   "id": "571697e9",
   "metadata": {
    "ExecuteTime": {
     "end_time": "2024-06-10T15:09:24.737055Z",
     "start_time": "2024-06-10T15:09:24.734551Z"
    }
   },
   "source": [],
   "outputs": [],
   "execution_count": 1278
  }
 ],
 "metadata": {
  "kernelspec": {
   "display_name": "Python 3 (ipykernel)",
   "language": "python",
   "name": "python3"
  },
  "language_info": {
   "codemirror_mode": {
    "name": "ipython",
    "version": 3
   },
   "file_extension": ".py",
   "mimetype": "text/x-python",
   "name": "python",
   "nbconvert_exporter": "python",
   "pygments_lexer": "ipython3",
   "version": "3.7.6"
  },
  "vscode": {
   "interpreter": {
    "hash": "49cb93f377a7abe7414b7b0f21fb3017538004a126cf690fb524202736b7fb92"
   }
  }
 },
 "nbformat": 4,
 "nbformat_minor": 5
}
