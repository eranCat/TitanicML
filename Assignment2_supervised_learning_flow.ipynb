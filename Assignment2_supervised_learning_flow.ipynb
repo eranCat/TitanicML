{
 "cells": [
  {
   "cell_type": "markdown",
   "id": "b06a2810",
   "metadata": {},
   "source": [
    "### Part 1 - Student details:\n",
    "* Please write the First Name and last 4 digits of the i.d. for each student. For example:\n",
    "<pre>Israel 7938</pre>"
   ]
  },
  {
   "cell_type": "code",
   "id": "ca16486b",
   "metadata": {
    "ExecuteTime": {
     "end_time": "2024-06-11T13:56:13.471401Z",
     "start_time": "2024-06-11T13:56:13.468964Z"
    }
   },
   "source": [
    "# student 1: Israel 7938\n",
    "# student 2: Eran 6215\n",
    "# student 3: Avihai 2474\n",
    "# student 4: Almog 8269\n",
    "# student 5: Liron 5068\n",
    "# student 6: Matan 9999"
   ],
   "outputs": [],
   "execution_count": 218
  },
  {
   "cell_type": "markdown",
   "id": "fb36672a",
   "metadata": {},
   "source": [
    "## Part 2 - Experiments\n",
    "You could add as many code cells as needed"
   ]
  },
  {
   "cell_type": "code",
   "id": "b7098585",
   "metadata": {
    "ExecuteTime": {
     "end_time": "2024-06-11T13:56:13.657439Z",
     "start_time": "2024-06-11T13:56:13.653932Z"
    }
   },
   "source": [
    "import matplotlib.pyplot as plt\n",
    "import numpy as np\n",
    "import pandas as pd\n",
    "import seaborn as sns\n",
    "from sklearn.decomposition import PCA\n",
    "from sklearn.metrics import accuracy_score\n",
    "from sklearn.model_selection import train_test_split\n",
    "from sklearn.naive_bayes import GaussianNB\n",
    "from sklearn.neighbors import KNeighborsClassifier\n",
    "from sklearn.pipeline import Pipeline\n",
    "from sklearn.preprocessing import StandardScaler"
   ],
   "outputs": [],
   "execution_count": 219
  },
  {
   "cell_type": "code",
   "id": "3b63b9d3-65e3-4151-a240-8d7236e7d9f1",
   "metadata": {
    "ExecuteTime": {
     "end_time": "2024-06-11T13:56:13.684563Z",
     "start_time": "2024-06-11T13:56:13.678958Z"
    }
   },
   "source": [
    "train_set = pd.read_csv('titanic_train.csv')\n",
    "test_set = pd.read_csv(\"titanic_test.csv\")"
   ],
   "outputs": [],
   "execution_count": 220
  },
  {
   "cell_type": "code",
   "id": "fad49cb1f89e16a6",
   "metadata": {
    "ExecuteTime": {
     "end_time": "2024-06-11T13:56:13.712131Z",
     "start_time": "2024-06-11T13:56:13.705091Z"
    }
   },
   "source": "train_set.head(5)",
   "outputs": [
    {
     "data": {
      "text/plain": [
       "   Pclass  Sex   Age  SibSp  Parch     Fare  Embarked  Survived\n",
       "0       1    0  54.0      1      0  78.2667         1         1\n",
       "1       2    0  45.0      0      0  13.5000         0         1\n",
       "2       3    1  20.0      0      0   9.5000         0         0\n",
       "3       3    1  36.0      0      0   7.8958         0         0\n",
       "4       3    1  22.0      0      0   8.0500         0         0"
      ],
      "text/html": [
       "<div>\n",
       "<style scoped>\n",
       "    .dataframe tbody tr th:only-of-type {\n",
       "        vertical-align: middle;\n",
       "    }\n",
       "\n",
       "    .dataframe tbody tr th {\n",
       "        vertical-align: top;\n",
       "    }\n",
       "\n",
       "    .dataframe thead th {\n",
       "        text-align: right;\n",
       "    }\n",
       "</style>\n",
       "<table border=\"1\" class=\"dataframe\">\n",
       "  <thead>\n",
       "    <tr style=\"text-align: right;\">\n",
       "      <th></th>\n",
       "      <th>Pclass</th>\n",
       "      <th>Sex</th>\n",
       "      <th>Age</th>\n",
       "      <th>SibSp</th>\n",
       "      <th>Parch</th>\n",
       "      <th>Fare</th>\n",
       "      <th>Embarked</th>\n",
       "      <th>Survived</th>\n",
       "    </tr>\n",
       "  </thead>\n",
       "  <tbody>\n",
       "    <tr>\n",
       "      <th>0</th>\n",
       "      <td>1</td>\n",
       "      <td>0</td>\n",
       "      <td>54.0</td>\n",
       "      <td>1</td>\n",
       "      <td>0</td>\n",
       "      <td>78.2667</td>\n",
       "      <td>1</td>\n",
       "      <td>1</td>\n",
       "    </tr>\n",
       "    <tr>\n",
       "      <th>1</th>\n",
       "      <td>2</td>\n",
       "      <td>0</td>\n",
       "      <td>45.0</td>\n",
       "      <td>0</td>\n",
       "      <td>0</td>\n",
       "      <td>13.5000</td>\n",
       "      <td>0</td>\n",
       "      <td>1</td>\n",
       "    </tr>\n",
       "    <tr>\n",
       "      <th>2</th>\n",
       "      <td>3</td>\n",
       "      <td>1</td>\n",
       "      <td>20.0</td>\n",
       "      <td>0</td>\n",
       "      <td>0</td>\n",
       "      <td>9.5000</td>\n",
       "      <td>0</td>\n",
       "      <td>0</td>\n",
       "    </tr>\n",
       "    <tr>\n",
       "      <th>3</th>\n",
       "      <td>3</td>\n",
       "      <td>1</td>\n",
       "      <td>36.0</td>\n",
       "      <td>0</td>\n",
       "      <td>0</td>\n",
       "      <td>7.8958</td>\n",
       "      <td>0</td>\n",
       "      <td>0</td>\n",
       "    </tr>\n",
       "    <tr>\n",
       "      <th>4</th>\n",
       "      <td>3</td>\n",
       "      <td>1</td>\n",
       "      <td>22.0</td>\n",
       "      <td>0</td>\n",
       "      <td>0</td>\n",
       "      <td>8.0500</td>\n",
       "      <td>0</td>\n",
       "      <td>0</td>\n",
       "    </tr>\n",
       "  </tbody>\n",
       "</table>\n",
       "</div>"
      ]
     },
     "execution_count": 221,
     "metadata": {},
     "output_type": "execute_result"
    }
   ],
   "execution_count": 221
  },
  {
   "cell_type": "code",
   "id": "44e1892e76c7f660",
   "metadata": {
    "ExecuteTime": {
     "end_time": "2024-06-11T13:56:13.728562Z",
     "start_time": "2024-06-11T13:56:13.721643Z"
    }
   },
   "source": [
    "test_set.head(5)"
   ],
   "outputs": [
    {
     "data": {
      "text/plain": [
       "   Pclass  Sex        Age  SibSp  Parch     Fare  Embarked  Survived\n",
       "0       3    1  35.000000      0      0   7.0500         0         0\n",
       "1       3    1  30.000000      0      0   7.2500         0         0\n",
       "2       3    1  29.699118      0      0  14.5000         0         0\n",
       "3       3    0  21.000000      0      0   7.7500         2         0\n",
       "4       3    1  32.000000      0      0  56.4958         0         1"
      ],
      "text/html": [
       "<div>\n",
       "<style scoped>\n",
       "    .dataframe tbody tr th:only-of-type {\n",
       "        vertical-align: middle;\n",
       "    }\n",
       "\n",
       "    .dataframe tbody tr th {\n",
       "        vertical-align: top;\n",
       "    }\n",
       "\n",
       "    .dataframe thead th {\n",
       "        text-align: right;\n",
       "    }\n",
       "</style>\n",
       "<table border=\"1\" class=\"dataframe\">\n",
       "  <thead>\n",
       "    <tr style=\"text-align: right;\">\n",
       "      <th></th>\n",
       "      <th>Pclass</th>\n",
       "      <th>Sex</th>\n",
       "      <th>Age</th>\n",
       "      <th>SibSp</th>\n",
       "      <th>Parch</th>\n",
       "      <th>Fare</th>\n",
       "      <th>Embarked</th>\n",
       "      <th>Survived</th>\n",
       "    </tr>\n",
       "  </thead>\n",
       "  <tbody>\n",
       "    <tr>\n",
       "      <th>0</th>\n",
       "      <td>3</td>\n",
       "      <td>1</td>\n",
       "      <td>35.000000</td>\n",
       "      <td>0</td>\n",
       "      <td>0</td>\n",
       "      <td>7.0500</td>\n",
       "      <td>0</td>\n",
       "      <td>0</td>\n",
       "    </tr>\n",
       "    <tr>\n",
       "      <th>1</th>\n",
       "      <td>3</td>\n",
       "      <td>1</td>\n",
       "      <td>30.000000</td>\n",
       "      <td>0</td>\n",
       "      <td>0</td>\n",
       "      <td>7.2500</td>\n",
       "      <td>0</td>\n",
       "      <td>0</td>\n",
       "    </tr>\n",
       "    <tr>\n",
       "      <th>2</th>\n",
       "      <td>3</td>\n",
       "      <td>1</td>\n",
       "      <td>29.699118</td>\n",
       "      <td>0</td>\n",
       "      <td>0</td>\n",
       "      <td>14.5000</td>\n",
       "      <td>0</td>\n",
       "      <td>0</td>\n",
       "    </tr>\n",
       "    <tr>\n",
       "      <th>3</th>\n",
       "      <td>3</td>\n",
       "      <td>0</td>\n",
       "      <td>21.000000</td>\n",
       "      <td>0</td>\n",
       "      <td>0</td>\n",
       "      <td>7.7500</td>\n",
       "      <td>2</td>\n",
       "      <td>0</td>\n",
       "    </tr>\n",
       "    <tr>\n",
       "      <th>4</th>\n",
       "      <td>3</td>\n",
       "      <td>1</td>\n",
       "      <td>32.000000</td>\n",
       "      <td>0</td>\n",
       "      <td>0</td>\n",
       "      <td>56.4958</td>\n",
       "      <td>0</td>\n",
       "      <td>1</td>\n",
       "    </tr>\n",
       "  </tbody>\n",
       "</table>\n",
       "</div>"
      ]
     },
     "execution_count": 222,
     "metadata": {},
     "output_type": "execute_result"
    }
   ],
   "execution_count": 222
  },
  {
   "cell_type": "code",
   "id": "097afb02",
   "metadata": {
    "ExecuteTime": {
     "end_time": "2024-06-11T13:56:13.741215Z",
     "start_time": "2024-06-11T13:56:13.737142Z"
    }
   },
   "source": [
    "def showSurvivorsByGenderAndChildren():\n",
    "    survivors = train_set[train_set['Survived'] == 1]\n",
    "\n",
    "    #Men\n",
    "    survived_man = survivors[(survivors['Sex'] == 1) & (survivors['Age'] > 18)]\n",
    "    survived_man_count = len(survived_man)\n",
    "\n",
    "    #Women\n",
    "    survived_women = survivors[(survivors['Sex'] == 0) & (survivors['Age'] > 18)]\n",
    "    survived_women_count = len(survived_women)\n",
    "\n",
    "    #Kids\n",
    "    survived_kids = survivors[survivors['Age'] <= 18]\n",
    "    survived_kids_count = len(survived_kids)\n",
    "\n",
    "    survived_count = len(survivors)\n",
    "\n",
    "    return [survived_man_count, survived_women_count, survived_kids_count, survived_count]"
   ],
   "outputs": [],
   "execution_count": 223
  },
  {
   "metadata": {
    "ExecuteTime": {
     "end_time": "2024-06-11T13:56:13.781519Z",
     "start_time": "2024-06-11T13:56:13.776828Z"
    }
   },
   "cell_type": "code",
   "source": [
    "display(train_set.isnull().sum())\n",
    "print(\"No missing values in train set\")"
   ],
   "id": "bb935bb89ff5944a",
   "outputs": [
    {
     "data": {
      "text/plain": [
       "Pclass      0\n",
       "Sex         0\n",
       "Age         0\n",
       "SibSp       0\n",
       "Parch       0\n",
       "Fare        0\n",
       "Embarked    0\n",
       "Survived    0\n",
       "dtype: int64"
      ]
     },
     "metadata": {},
     "output_type": "display_data"
    },
    {
     "name": "stdout",
     "output_type": "stream",
     "text": [
      "No missing values in train set\n"
     ]
    }
   ],
   "execution_count": 224
  },
  {
   "cell_type": "markdown",
   "id": "e37306794f874a57",
   "metadata": {},
   "source": "## Visualization"
  },
  {
   "metadata": {
    "ExecuteTime": {
     "end_time": "2024-06-11T13:56:13.813069Z",
     "start_time": "2024-06-11T13:56:13.808597Z"
    }
   },
   "cell_type": "code",
   "source": [
    "# Creating a dataframe for the pie plot using the given parameters\n",
    "def create_pie_table(population):\n",
    "    data = {'Category': ['Male', 'Female', 'Kids', 'Total'],\n",
    "            'Survived': population}\n",
    "\n",
    "    survivors_df = pd.DataFrame(data)\n",
    "    survived_count = population[-1]  #get last item\n",
    "\n",
    "    survivors_df['Percentage'] = survivors_df['Survived'].apply(lambda x: round((x / survived_count) * 100, 1))\n",
    "    return survivors_df\n",
    "\n",
    "\n",
    "def show_pie_survived(population_counts):\n",
    "    labels = ['Male', 'Female', 'Kids']\n",
    "    colors = ['#E91694', '#94E916', '#1694E9']\n",
    "    fig, ax = plt.subplots(figsize=(18, 10))\n",
    "    ax.pie(population_counts, labels=labels, autopct='%1.1f%%', colors=colors, textprops={'fontsize': 20})\n",
    "    plt.title('Survivors of the Titanic', fontsize=20)\n",
    "    fig.patch.set_facecolor('white')\n",
    "    plt.show()"
   ],
   "id": "fc8c19fde8f6d1a7",
   "outputs": [],
   "execution_count": 225
  },
  {
   "cell_type": "code",
   "id": "3cf7c4e832f50405",
   "metadata": {
    "ExecuteTime": {
     "end_time": "2024-06-11T13:56:13.987324Z",
     "start_time": "2024-06-11T13:56:13.901353Z"
    }
   },
   "source": [
    "population = showSurvivorsByGenderAndChildren()\n",
    "\n",
    "# Creating a data table for the pie plot\n",
    "survived_percentage_df = create_pie_table(population)\n",
    "display(survived_percentage_df)\n",
    "\n",
    "population.pop()  #remove last item - total count\n",
    "show_pie_survived(population)"
   ],
   "outputs": [
    {
     "data": {
      "text/plain": [
       "  Category  Survived  Percentage\n",
       "0     Male        69        24.6\n",
       "1   Female       156        55.5\n",
       "2     Kids        56        19.9\n",
       "3    Total       281       100.0"
      ],
      "text/html": [
       "<div>\n",
       "<style scoped>\n",
       "    .dataframe tbody tr th:only-of-type {\n",
       "        vertical-align: middle;\n",
       "    }\n",
       "\n",
       "    .dataframe tbody tr th {\n",
       "        vertical-align: top;\n",
       "    }\n",
       "\n",
       "    .dataframe thead th {\n",
       "        text-align: right;\n",
       "    }\n",
       "</style>\n",
       "<table border=\"1\" class=\"dataframe\">\n",
       "  <thead>\n",
       "    <tr style=\"text-align: right;\">\n",
       "      <th></th>\n",
       "      <th>Category</th>\n",
       "      <th>Survived</th>\n",
       "      <th>Percentage</th>\n",
       "    </tr>\n",
       "  </thead>\n",
       "  <tbody>\n",
       "    <tr>\n",
       "      <th>0</th>\n",
       "      <td>Male</td>\n",
       "      <td>69</td>\n",
       "      <td>24.6</td>\n",
       "    </tr>\n",
       "    <tr>\n",
       "      <th>1</th>\n",
       "      <td>Female</td>\n",
       "      <td>156</td>\n",
       "      <td>55.5</td>\n",
       "    </tr>\n",
       "    <tr>\n",
       "      <th>2</th>\n",
       "      <td>Kids</td>\n",
       "      <td>56</td>\n",
       "      <td>19.9</td>\n",
       "    </tr>\n",
       "    <tr>\n",
       "      <th>3</th>\n",
       "      <td>Total</td>\n",
       "      <td>281</td>\n",
       "      <td>100.0</td>\n",
       "    </tr>\n",
       "  </tbody>\n",
       "</table>\n",
       "</div>"
      ]
     },
     "metadata": {},
     "output_type": "display_data"
    },
    {
     "data": {
      "text/plain": [
       "<Figure size 1800x1000 with 1 Axes>"
      ],
      "image/png": "[encoded data removed]"
     },
     "metadata": {},
     "output_type": "display_data"
    }
   ],
   "execution_count": 226
  },
  {
   "metadata": {
    "ExecuteTime": {
     "end_time": "2024-06-11T13:56:13.995165Z",
     "start_time": "2024-06-11T13:56:13.989329Z"
    }
   },
   "cell_type": "code",
   "source": [
    "def plot_hist_gender_survivors():\n",
    "    fig, axes = plt.subplots(nrows=1, ncols=2, figsize=(20, 8))\n",
    "    \n",
    "    genders = {'Female': 0, 'Male': 1}\n",
    "    colors = {'survived': [\"#76FF00\", \"#FF5100\"], 'not_survived': [\"#8900FF\", \"#00AEFF\"]}\n",
    "    \n",
    "    #loop through the combinations of gender and survived status\n",
    "    for ax, (title, sex) in zip(axes, genders.items()):\n",
    "        for status, color in colors.items():\n",
    "            ages = train_set[(train_set['Sex'] == sex) & (train_set['Survived'] == (status == 'survived'))].Age\n",
    "            sns.histplot(ages, bins=10, label=status, ax=ax, kde=False, color=color[sex])\n",
    "        \n",
    "        ax.legend()\n",
    "        ax.set_title(title)\n",
    "    \n",
    "    plt.show()"
   ],
   "id": "9e5fbd1ece780578",
   "outputs": [],
   "execution_count": 227
  },
  {
   "cell_type": "code",
   "id": "f68ab96a",
   "metadata": {
    "ExecuteTime": {
     "end_time": "2024-06-11T13:56:14.069810Z",
     "start_time": "2024-06-11T13:56:14.063410Z"
    }
   },
   "source": [
    "# Making DataFrame for the histogram above with age group\n",
    "def createHistTableAG(data_frame):\n",
    "    age_bins = [0, 10, 20, 30, 40, 50, 60, 70, 80]\n",
    "    age_labels = ['0-10', '11-20', '21-30', '31-40', '41-50', '51-60', '61-70', '71-80']\n",
    "\n",
    "    data_frame = data_frame.copy()\n",
    "    data_frame['AgeGroup'] = pd.cut(data_frame['Age'], bins=age_bins, labels=age_labels, right=False)\n",
    "\n",
    "    data = {\n",
    "        'AgeGroup': age_labels,\n",
    "        'Survived Women': [],\n",
    "        'Not Survived Women': [],\n",
    "        'Survived Men': [],\n",
    "        'Not Survived Men': []\n",
    "    }\n",
    "\n",
    "    for age_group in age_labels:\n",
    "        survived_women = len(data_frame[(data_frame['AgeGroup'] == age_group) & (data_frame['Sex'] == 0) & (\n",
    "                data_frame['Survived'] == 1)])\n",
    "        not_survived_women = len(data_frame[(data_frame['AgeGroup'] == age_group) & (data_frame['Sex'] == 0) & (\n",
    "                data_frame['Survived'] == 0)])\n",
    "        survived_men = len(data_frame[(data_frame['AgeGroup'] == age_group) & (data_frame['Sex'] == 1) & (\n",
    "                data_frame['Survived'] == 1)])\n",
    "        not_survived_men = len(data_frame[(data_frame['AgeGroup'] == age_group) & (data_frame['Sex'] == 1) & (\n",
    "                data_frame['Survived'] == 0)])\n",
    "\n",
    "        data['Survived Women'].append(survived_women)\n",
    "        data['Not Survived Women'].append(not_survived_women)\n",
    "        data['Survived Men'].append(survived_men)\n",
    "        data['Not Survived Men'].append(not_survived_men)\n",
    "\n",
    "    survivors_by_age = pd.DataFrame(data)\n",
    "\n",
    "    return survivors_by_age"
   ],
   "outputs": [],
   "execution_count": 228
  },
  {
   "cell_type": "code",
   "id": "ec27ace9",
   "metadata": {
    "ExecuteTime": {
     "end_time": "2024-06-11T13:56:14.486355Z",
     "start_time": "2024-06-11T13:56:14.097963Z"
    }
   },
   "source": [
    "#Creating a data table for the histogram with age group\n",
    "histTableAges = createHistTableAG(train_set)\n",
    "display(histTableAges)\n",
    "\n",
    "plot_hist_gender_survivors()"
   ],
   "outputs": [
    {
     "data": {
      "text/plain": [
       "  AgeGroup  Survived Women  Not Survived Women  Survived Men  Not Survived Men\n",
       "0     0-10              16                   9            15                12\n",
       "1    11-20              28                   8             5                44\n",
       "2    21-30              75                  28            33               180\n",
       "3    31-40              44                   7            19                59\n",
       "4    41-50              18                   9             9                35\n",
       "5    51-60               9                   2             4                23\n",
       "6    61-70               3                   0             2                10\n",
       "7    71-80               0                   0             0                 5"
      ],
      "text/html": [
       "<div>\n",
       "<style scoped>\n",
       "    .dataframe tbody tr th:only-of-type {\n",
       "        vertical-align: middle;\n",
       "    }\n",
       "\n",
       "    .dataframe tbody tr th {\n",
       "        vertical-align: top;\n",
       "    }\n",
       "\n",
       "    .dataframe thead th {\n",
       "        text-align: right;\n",
       "    }\n",
       "</style>\n",
       "<table border=\"1\" class=\"dataframe\">\n",
       "  <thead>\n",
       "    <tr style=\"text-align: right;\">\n",
       "      <th></th>\n",
       "      <th>AgeGroup</th>\n",
       "      <th>Survived Women</th>\n",
       "      <th>Not Survived Women</th>\n",
       "      <th>Survived Men</th>\n",
       "      <th>Not Survived Men</th>\n",
       "    </tr>\n",
       "  </thead>\n",
       "  <tbody>\n",
       "    <tr>\n",
       "      <th>0</th>\n",
       "      <td>0-10</td>\n",
       "      <td>16</td>\n",
       "      <td>9</td>\n",
       "      <td>15</td>\n",
       "      <td>12</td>\n",
       "    </tr>\n",
       "    <tr>\n",
       "      <th>1</th>\n",
       "      <td>11-20</td>\n",
       "      <td>28</td>\n",
       "      <td>8</td>\n",
       "      <td>5</td>\n",
       "      <td>44</td>\n",
       "    </tr>\n",
       "    <tr>\n",
       "      <th>2</th>\n",
       "      <td>21-30</td>\n",
       "      <td>75</td>\n",
       "      <td>28</td>\n",
       "      <td>33</td>\n",
       "      <td>180</td>\n",
       "    </tr>\n",
       "    <tr>\n",
       "      <th>3</th>\n",
       "      <td>31-40</td>\n",
       "      <td>44</td>\n",
       "      <td>7</td>\n",
       "      <td>19</td>\n",
       "      <td>59</td>\n",
       "    </tr>\n",
       "    <tr>\n",
       "      <th>4</th>\n",
       "      <td>41-50</td>\n",
       "      <td>18</td>\n",
       "      <td>9</td>\n",
       "      <td>9</td>\n",
       "      <td>35</td>\n",
       "    </tr>\n",
       "    <tr>\n",
       "      <th>5</th>\n",
       "      <td>51-60</td>\n",
       "      <td>9</td>\n",
       "      <td>2</td>\n",
       "      <td>4</td>\n",
       "      <td>23</td>\n",
       "    </tr>\n",
       "    <tr>\n",
       "      <th>6</th>\n",
       "      <td>61-70</td>\n",
       "      <td>3</td>\n",
       "      <td>0</td>\n",
       "      <td>2</td>\n",
       "      <td>10</td>\n",
       "    </tr>\n",
       "    <tr>\n",
       "      <th>7</th>\n",
       "      <td>71-80</td>\n",
       "      <td>0</td>\n",
       "      <td>0</td>\n",
       "      <td>0</td>\n",
       "      <td>5</td>\n",
       "    </tr>\n",
       "  </tbody>\n",
       "</table>\n",
       "</div>"
      ]
     },
     "metadata": {},
     "output_type": "display_data"
    },
    {
     "data": {
      "text/plain": [
       "<Figure size 2000x800 with 2 Axes>"
      ],
      "image/png": "[encoded data removed]"
     },
     "metadata": {},
     "output_type": "display_data"
    }
   ],
   "execution_count": 229
  },
  {
   "metadata": {},
   "cell_type": "markdown",
   "source": "# Feature engineering",
   "id": "1eae09fb"
  },
  {
   "metadata": {},
   "cell_type": "markdown",
   "source": "### Find Outliers",
   "id": "36f7d419"
  },
  {
   "metadata": {},
   "cell_type": "markdown",
   "source": "#### let's check for Age outliers (using boxplot)",
   "id": "e327ea55"
  },
  {
   "metadata": {
    "ExecuteTime": {
     "end_time": "2024-06-11T13:56:14.564976Z",
     "start_time": "2024-06-11T13:56:14.487358Z"
    }
   },
   "cell_type": "code",
   "source": [
    "# Fare outliers\n",
    "sns.boxplot(train_set.Fare)"
   ],
   "id": "fe24dce1",
   "outputs": [
    {
     "data": {
      "text/plain": [
       "<Axes: ylabel='Fare'>"
      ]
     },
     "execution_count": 230,
     "metadata": {},
     "output_type": "execute_result"
    },
    {
     "data": {
      "text/plain": [
       "<Figure size 640x480 with 1 Axes>"
      ],
      "image/png": "[encoded data removed]"
     },
     "metadata": {},
     "output_type": "display_data"
    }
   ],
   "execution_count": 230
  },
  {
   "metadata": {
    "ExecuteTime": {
     "end_time": "2024-06-11T13:56:14.569785Z",
     "start_time": "2024-06-11T13:56:14.565981Z"
    }
   },
   "cell_type": "code",
   "source": "train_set[\"Fare\"].median()",
   "id": "e814b84e",
   "outputs": [
    {
     "data": {
      "text/plain": [
       "14.5"
      ]
     },
     "execution_count": 231,
     "metadata": {},
     "output_type": "execute_result"
    }
   ],
   "execution_count": 231
  },
  {
   "metadata": {
    "ExecuteTime": {
     "end_time": "2024-06-11T13:56:14.575809Z",
     "start_time": "2024-06-11T13:56:14.570788Z"
    }
   },
   "cell_type": "code",
   "source": "train_set[\"Fare\"].describe()",
   "id": "7add523c",
   "outputs": [
    {
     "data": {
      "text/plain": [
       "count    712.000000\n",
       "mean      32.379429\n",
       "std       49.836074\n",
       "min        0.000000\n",
       "25%        7.925000\n",
       "50%       14.500000\n",
       "75%       31.275000\n",
       "max      512.329200\n",
       "Name: Fare, dtype: float64"
      ]
     },
     "execution_count": 232,
     "metadata": {},
     "output_type": "execute_result"
    }
   ],
   "execution_count": 232
  },
  {
   "metadata": {
    "ExecuteTime": {
     "end_time": "2024-06-11T13:56:14.581599Z",
     "start_time": "2024-06-11T13:56:14.576814Z"
    }
   },
   "cell_type": "code",
   "source": [
    "# Find Fare outliers:\n",
    "\n",
    "# \"minimum\" = Q1 - 1.5 * IQR\n",
    "# \"maximum\" = Q3 + 1.5 * IQR\n",
    "def outliersByIQR(col_name):\n",
    "    Q1 = np.percentile(train_set[col_name], 25)\n",
    "    Q3 = np.percentile(train_set[col_name], 75)\n",
    "    IQR = Q3 - Q1\n",
    "\n",
    "    Fare_Outliers = train_set[(train_set[col_name] < Q1 - 1.5 * IQR) | (train_set[col_name] > Q3 + 1.5 * IQR)].index\n",
    "    print(f'Sum of Age_outliers: {len(Fare_Outliers)}')\n",
    "    \n",
    "# remove outliers by column name\n",
    "def remove_outlier(df_in, col_name):\n",
    "    q1 = df_in[col_name].quantile(0.25)\n",
    "    q3 = df_in[col_name].quantile(0.75)\n",
    "    iqr = q3 - q1\n",
    "    fence_low = q1 - 1.5 * iqr\n",
    "    fence_high = q3 + 1.5 * iqr\n",
    "    df_out = df_in.loc[(df_in[col_name] > fence_low) & (df_in[col_name] < fence_high)]\n",
    "    return df_out"
   ],
   "id": "9b1cb178",
   "outputs": [],
   "execution_count": 233
  },
  {
   "metadata": {
    "ExecuteTime": {
     "end_time": "2024-06-11T13:56:14.662820Z",
     "start_time": "2024-06-11T13:56:14.582604Z"
    }
   },
   "cell_type": "code",
   "source": [
    "# check outliers for Age\n",
    "sns.boxplot(train_set.Age)"
   ],
   "id": "596787bc",
   "outputs": [
    {
     "data": {
      "text/plain": [
       "<Axes: ylabel='Age'>"
      ]
     },
     "execution_count": 234,
     "metadata": {},
     "output_type": "execute_result"
    },
    {
     "data": {
      "text/plain": [
       "<Figure size 640x480 with 1 Axes>"
      ],
      "image/png": "[encoded data removed]"
     },
     "metadata": {},
     "output_type": "display_data"
    }
   ],
   "execution_count": 234
  },
  {
   "metadata": {
    "ExecuteTime": {
     "end_time": "2024-06-11T13:56:14.668435Z",
     "start_time": "2024-06-11T13:56:14.663823Z"
    }
   },
   "cell_type": "code",
   "source": [
    "train_set[\"Age\"].median()\n",
    "train_set[\"Age\"].describe()"
   ],
   "id": "c9369881",
   "outputs": [
    {
     "data": {
      "text/plain": [
       "count    712.000000\n",
       "mean      29.531213\n",
       "std       13.188028\n",
       "min        0.670000\n",
       "25%       22.000000\n",
       "50%       29.699118\n",
       "75%       35.000000\n",
       "max       80.000000\n",
       "Name: Age, dtype: float64"
      ]
     },
     "execution_count": 235,
     "metadata": {},
     "output_type": "execute_result"
    }
   ],
   "execution_count": 235
  },
  {
   "metadata": {
    "ExecuteTime": {
     "end_time": "2024-06-11T13:56:14.674457Z",
     "start_time": "2024-06-11T13:56:14.669438Z"
    }
   },
   "cell_type": "code",
   "source": [
    "train_set[\"Fare\"].median()\n",
    "train_set[\"Fare\"].describe()"
   ],
   "id": "55e74398",
   "outputs": [
    {
     "data": {
      "text/plain": [
       "count    712.000000\n",
       "mean      32.379429\n",
       "std       49.836074\n",
       "min        0.000000\n",
       "25%        7.925000\n",
       "50%       14.500000\n",
       "75%       31.275000\n",
       "max      512.329200\n",
       "Name: Fare, dtype: float64"
      ]
     },
     "execution_count": 236,
     "metadata": {},
     "output_type": "execute_result"
    }
   ],
   "execution_count": 236
  },
  {
   "metadata": {
    "ExecuteTime": {
     "end_time": "2024-06-11T13:56:14.697375Z",
     "start_time": "2024-06-11T13:56:14.674457Z"
    }
   },
   "cell_type": "code",
   "source": [
    "# Find Age outliers:\n",
    "outliersByIQR(\"Age\")\n",
    "outliersByIQR(\"Fare\")"
   ],
   "id": "872700f7",
   "outputs": [
    {
     "name": "stdout",
     "output_type": "stream",
     "text": [
      "Sum of Age_outliers: 54\n",
      "Sum of Age_outliers: 93\n"
     ]
    }
   ],
   "execution_count": 237
  },
  {
   "metadata": {
    "ExecuteTime": {
     "end_time": "2024-06-11T13:56:14.703373Z",
     "start_time": "2024-06-11T13:56:14.698379Z"
    }
   },
   "cell_type": "code",
   "source": [
    "#save the dataframe with the removed data\n",
    "updated_df = remove_outlier(train_set, \"Age\")\n",
    "print(updated_df.count())"
   ],
   "id": "2829fb6d3a2c4efc",
   "outputs": [
    {
     "name": "stdout",
     "output_type": "stream",
     "text": [
      "Pclass      658\n",
      "Sex         658\n",
      "Age         658\n",
      "SibSp       658\n",
      "Parch       658\n",
      "Fare        658\n",
      "Embarked    658\n",
      "Survived    658\n",
      "dtype: int64\n"
     ]
    }
   ],
   "execution_count": 238
  },
  {
   "metadata": {
    "ExecuteTime": {
     "end_time": "2024-06-11T13:56:14.710038Z",
     "start_time": "2024-06-11T13:56:14.704378Z"
    }
   },
   "cell_type": "code",
   "source": [
    "#save the dataframe with the removed data\n",
    "train_set = remove_outlier(train_set, \"Fare\")\n",
    "print(train_set.count())"
   ],
   "id": "4f92eaf7",
   "outputs": [
    {
     "name": "stdout",
     "output_type": "stream",
     "text": [
      "Pclass      619\n",
      "Sex         619\n",
      "Age         619\n",
      "SibSp       619\n",
      "Parch       619\n",
      "Fare        619\n",
      "Embarked    619\n",
      "Survived    619\n",
      "dtype: int64\n"
     ]
    }
   ],
   "execution_count": 239
  },
  {
   "metadata": {},
   "cell_type": "markdown",
   "source": [
    "#### For Numeric values:\n",
    "#### Descriptive statistics: min, max, percentile, mean, std etc for numeric values:"
   ],
   "id": "5024577c"
  },
  {
   "metadata": {},
   "cell_type": "markdown",
   "source": "### Check for missing Data - and fill when needed",
   "id": "a50169d4"
  },
  {
   "metadata": {
    "ExecuteTime": {
     "end_time": "2024-06-11T13:56:14.715043Z",
     "start_time": "2024-06-11T13:56:14.711043Z"
    }
   },
   "cell_type": "code",
   "source": [
    "# Let's start by finding the missing values\n",
    "def check_missing_data(df):\n",
    "    missing_data = df.isnull().sum()\n",
    "    missing_data = missing_data[missing_data > 0]  # Only show columns with missing data\n",
    "    return missing_data\n",
    "\n",
    "def fix_missing_values(data_frame):\n",
    "    fill_strategies = {\n",
    "        'Pclass': data_frame['Pclass'].mode()[0],\n",
    "        'Sex': data_frame['Sex'].mode()[0],\n",
    "        'Age': data_frame['Age'].mean(),\n",
    "        'SibSp': data_frame['SibSp'].mode()[0],\n",
    "        'Parch': data_frame['Parch'].mode()[0],\n",
    "        'Fare': data_frame['Fare'].median(),\n",
    "        'Embarked': data_frame['Embarked'].mode()[0],\n",
    "        'Survived': data_frame['Survived'].mode()[0]\n",
    "    }\n",
    "    \n",
    "    for column, fill_value in fill_strategies.items():\n",
    "        if column in data_frame.columns:\n",
    "            data_frame[column].fillna(fill_value, inplace=True)\n",
    "    \n",
    "    return data_frame"
   ],
   "id": "8c80158a",
   "outputs": [],
   "execution_count": 240
  },
  {
   "metadata": {
    "ExecuteTime": {
     "end_time": "2024-06-11T13:56:14.719896Z",
     "start_time": "2024-06-11T13:56:14.716048Z"
    }
   },
   "cell_type": "code",
   "source": [
    "missing_data = check_missing_data(train_set)\n",
    "# print(\"Missing data\",missing_data)\n",
    "\n",
    "if len(missing_data) > 0:\n",
    "    fix_missing_values(train_set)\n",
    "    # check_missing_data(train_set)\n",
    "    print(f\"Filled missing data ({missing_data})\")\n",
    "else:\n",
    "    print(\"No missing data\")"
   ],
   "id": "6bfe02d9",
   "outputs": [
    {
     "name": "stdout",
     "output_type": "stream",
     "text": [
      "No missing data\n"
     ]
    }
   ],
   "execution_count": 241
  },
  {
   "metadata": {
    "ExecuteTime": {
     "end_time": "2024-06-11T13:56:14.724911Z",
     "start_time": "2024-06-11T13:56:14.721901Z"
    }
   },
   "cell_type": "code",
   "source": [
    "# Use the NumPy percentile() method to find the percentiles\n",
    "def agePercentile(dataFrame):\n",
    "    x_age = np.percentile(dataFrame[\"Age\"], 75)\n",
    "    y_age = np.percentile(dataFrame[\"Age\"], 90)\n",
    "\n",
    "    print(f'x_age meaning that 75% of the people on the Titanic are {x_age} years old')\n",
    "    print(f'y_age meaning that 90% of the people on the Titanic are {y_age} years old')"
   ],
   "id": "d609803c",
   "outputs": [],
   "execution_count": 242
  },
  {
   "metadata": {
    "ExecuteTime": {
     "end_time": "2024-06-11T13:56:14.729234Z",
     "start_time": "2024-06-11T13:56:14.725915Z"
    }
   },
   "cell_type": "code",
   "source": "agePercentile(train_set)",
   "id": "af628545",
   "outputs": [
    {
     "name": "stdout",
     "output_type": "stream",
     "text": [
      "x_age meaning that 75% of the people on the Titanic are 34.0 years old\n",
      "y_age meaning that 90% of the people on the Titanic are 46.200000000000045 years old\n"
     ]
    }
   ],
   "execution_count": 243
  },
  {
   "cell_type": "markdown",
   "id": "5a72cef8",
   "metadata": {},
   "source": [
    "#### Feature engineering for Naive Bayes:"
   ]
  },
  {
   "cell_type": "code",
   "id": "d45274df",
   "metadata": {
    "ExecuteTime": {
     "end_time": "2024-06-11T13:56:14.733125Z",
     "start_time": "2024-06-11T13:56:14.729234Z"
    }
   },
   "source": [
    "#defining a training function to NB algorithm:\n",
    "def nb_train(train_set):\n",
    "    features = ['Pclass', 'Sex', 'Age', 'SibSp', 'Parch', 'Fare']\n",
    "    x_train = train_set[features]\n",
    "    y_train = train_set['Survived']\n",
    "    return x_train, y_train"
   ],
   "outputs": [],
   "execution_count": 244
  },
  {
   "cell_type": "code",
   "id": "3f8ddb0f",
   "metadata": {
    "ExecuteTime": {
     "end_time": "2024-06-11T13:56:14.737645Z",
     "start_time": "2024-06-11T13:56:14.734072Z"
    }
   },
   "source": [
    "def nb_test(x_train, y_train):\n",
    "    nb = GaussianNB()\n",
    "    training_sizes = np.linspace(0.1, 0.9, 9)\n",
    "    accuracies = []\n",
    "    for size in training_sizes:\n",
    "        x_train_split, x_val_split, y_train_split, y_val_split =\\\n",
    "            train_test_split(x_train, y_train, train_size=size,random_state=42)\n",
    "        \n",
    "        nb.fit(x_train_split, y_train_split)\n",
    "        val_predictions = nb.predict(x_val_split)\n",
    "        accuracy = accuracy_score(y_val_split, val_predictions)\n",
    "        accuracies.append(accuracy)\n",
    "    max_accuracy = max(accuracies)\n",
    "    max_index = accuracies.index(max_accuracy)  #choosing the highest accuracy value from all accuracies\n",
    "\n",
    "    return training_sizes, accuracies, max_accuracy, max_index"
   ],
   "outputs": [],
   "execution_count": 245
  },
  {
   "cell_type": "code",
   "id": "711027cd",
   "metadata": {
    "ExecuteTime": {
     "end_time": "2024-06-11T13:56:14.742889Z",
     "start_time": "2024-06-11T13:56:14.738650Z"
    }
   },
   "source": [
    "def show_accuracies_nb(training_sizes, accuracies, max_accuracy, max_index):\n",
    "    plt.figure(figsize=(10, 6))\n",
    "    plt.plot(training_sizes, accuracies, marker='o', linestyle='-', color='b')\n",
    "    plt.annotate(\n",
    "        f'Max accuracy: {max_accuracy:.3f}',\n",
    "        xy=(training_sizes[max_index], accuracies[max_index]),\n",
    "        xytext=(training_sizes[max_index] + 0.1, accuracies[max_index] - 0.050),\n",
    "        arrowprops=dict(facecolor='orange', shrink=0.05),\n",
    "        fontsize=15,\n",
    "        color='black', bbox=dict(facecolor='white', edgecolor='black', boxstyle='round,pad=0.5')\n",
    "    )\n",
    "\n",
    "    plt.xlabel('Training Size', fontsize=20)\n",
    "    plt.ylabel('Accuracy', fontsize=20)\n",
    "    plt.title('Validation Accuracy of Naive Bayes Classifier', fontsize=20)\n",
    "    plt.grid(True)\n",
    "    print(f\"Max accuracy for Naive Bayes algorithm: {max_accuracy:.3f}\")\n",
    "    plt.show()\n"
   ],
   "outputs": [],
   "execution_count": 246
  },
  {
   "cell_type": "code",
   "id": "28720a1b",
   "metadata": {
    "ExecuteTime": {
     "end_time": "2024-06-11T13:56:14.747655Z",
     "start_time": "2024-06-11T13:56:14.743894Z"
    }
   },
   "source": [
    "#feature engineering by PCA and scaling (pipelining):\n",
    "def create_pipeline_nb(train_set, scaler, pca, dim):\n",
    "    x_train = train_set[['Pclass', 'Sex', 'Age', 'SibSp', 'Parch', 'Fare']]\n",
    "    steps = []\n",
    "    if scaler:\n",
    "        steps.append(('scaler', StandardScaler()))\n",
    "    if pca:\n",
    "        steps.append(('pca', PCA(n_components=dim)))\n",
    "\n",
    "    pipeline = Pipeline(steps)\n",
    "    fe_train = pipeline.fit_transform(x_train)\n",
    "    return fe_train"
   ],
   "outputs": [],
   "execution_count": 247
  },
  {
   "cell_type": "code",
   "id": "87491360",
   "metadata": {
    "ExecuteTime": {
     "end_time": "2024-06-11T13:56:15.152843Z",
     "start_time": "2024-06-11T13:56:14.748659Z"
    }
   },
   "source": [
    "# Define the combinations of parameters and the range of `dim` values\n",
    "def best_feature_engineering():\n",
    "    combinations = [\n",
    "        (True, True),\n",
    "        (True, False),\n",
    "        (False, True)\n",
    "    ]\n",
    "    dim_values = range(1, len(train_set.columns) - 1)  # Assuming we want to test dimensions from 1 to col len - 1 \n",
    "\n",
    "    # Initialize a list to store the results\n",
    "    results = []\n",
    "    training_sizes = None #TODO check default assignment\n",
    "    accuracies = []\n",
    "    max_index = 0\n",
    "    y_train = train_set['Survived']\n",
    "    # Iterate over each combination and each dim value\n",
    "    for scaler, pca in combinations:\n",
    "        best_accuracy = 0\n",
    "        best_dim = None\n",
    "        for dim in dim_values:\n",
    "            fe_train = create_pipeline_nb(train_set, scaler, pca, dim)\n",
    "            training_sizes, accuracies, max_accuracy, max_index = nb_test(fe_train, y_train)\n",
    "\n",
    "            if max_accuracy > best_accuracy:\n",
    "                best_accuracy = max_accuracy\n",
    "                best_dim = dim\n",
    "\n",
    "        results.append({\n",
    "            'Scaler': scaler,\n",
    "            'PCA': pca,\n",
    "            'Best Dim': best_dim,\n",
    "            'Max Accuracy': best_accuracy\n",
    "        })\n",
    "\n",
    "    # Create a DataFrame to display the results\n",
    "    results_df = pd.DataFrame(results)\n",
    "    return training_sizes, accuracies, max_index, results_df\n",
    "\n",
    "\n",
    "training_sizes, accuracies, max_index_nb, results_nb_df = best_feature_engineering()\n",
    "\n",
    "# Display the results table\n",
    "print(results_nb_df)\n",
    "best_accuracy = results_nb_df['Max Accuracy'].max()\n",
    "show_accuracies_nb(training_sizes, accuracies, best_accuracy, max_index_nb)"
   ],
   "outputs": [
    {
     "name": "stdout",
     "output_type": "stream",
     "text": [
      "   Scaler    PCA  Best Dim  Max Accuracy\n",
      "0    True   True         4      0.811828\n",
      "1    True  False         1      0.796774\n",
      "2   False   True         5      0.822581\n",
      "Max accuracy for Naive Bayes algorithm: 0.823\n"
     ]
    },
    {
     "data": {
      "text/plain": [
       "<Figure size 1000x600 with 1 Axes>"
      ],
      "image/png": "[encoded data removed]"
     },
     "metadata": {},
     "output_type": "display_data"
    }
   ],
   "execution_count": 248
  },
  {
   "cell_type": "markdown",
   "id": "67d97f11",
   "metadata": {},
   "source": [
    "## Part 3 - Training flow\n",
    "Use the best combination of feature engineering, model (algorithm and hyperparameters) from the experiment part (part 2)"
   ]
  },
  {
   "cell_type": "markdown",
   "id": "f2beb9f2",
   "metadata": {},
   "source": [
    "## KNN training:"
   ]
  },
  {
   "cell_type": "code",
   "id": "2122a400",
   "metadata": {
    "ExecuteTime": {
     "end_time": "2024-06-11T13:56:15.160245Z",
     "start_time": "2024-06-11T13:56:15.153848Z"
    }
   },
   "source": [
    "x_train_knn = train_set[['Pclass', 'Sex', 'Age', 'SibSp', 'Parch', 'Fare']]\n",
    "y_train_knn = train_set['Survived']\n",
    "def train_KNN():\n",
    "    knn = KNeighborsClassifier(n_neighbors=11)\n",
    "    knn.fit(x_train_knn, y_train_knn)\n",
    "    return knn\n",
    "\n",
    "knn_trained = train_KNN()"
   ],
   "outputs": [],
   "execution_count": 249
  },
  {
   "cell_type": "markdown",
   "id": "d820924c",
   "metadata": {},
   "source": [
    "# Naive Bayes training:"
   ]
  },
  {
   "cell_type": "code",
   "id": "71369aa8",
   "metadata": {
    "ExecuteTime": {
     "end_time": "2024-06-11T13:56:15.169739Z",
     "start_time": "2024-06-11T13:56:15.161250Z"
    }
   },
   "source": [
    "#call the training function to NB algorithm:\n",
    "x_train_nb, y_train_nb = nb_train(train_set)\n",
    "display(x_train_nb)\n",
    "\n",
    "#TODO use the best Feature engineering from the result of the function above"
   ],
   "outputs": [
    {
     "data": {
      "text/plain": [
       "     Pclass  Sex        Age  SibSp  Parch     Fare\n",
       "1         2    0  45.000000      0      0  13.5000\n",
       "2         3    1  20.000000      0      0   9.5000\n",
       "3         3    1  36.000000      0      0   7.8958\n",
       "4         3    1  22.000000      0      0   8.0500\n",
       "5         3    1  29.699118      0      0   7.2500\n",
       "..      ...  ...        ...    ...    ...      ...\n",
       "706       3    1  29.699118      0      0   7.8958\n",
       "707       1    1  54.000000      0      0  51.8625\n",
       "708       3    1  14.000000      5      2  46.9000\n",
       "709       2    0   6.000000      0      1  33.0000\n",
       "710       2    1  29.699118      0      0   0.0000\n",
       "\n",
       "[619 rows x 6 columns]"
      ],
      "text/html": [
       "<div>\n",
       "<style scoped>\n",
       "    .dataframe tbody tr th:only-of-type {\n",
       "        vertical-align: middle;\n",
       "    }\n",
       "\n",
       "    .dataframe tbody tr th {\n",
       "        vertical-align: top;\n",
       "    }\n",
       "\n",
       "    .dataframe thead th {\n",
       "        text-align: right;\n",
       "    }\n",
       "</style>\n",
       "<table border=\"1\" class=\"dataframe\">\n",
       "  <thead>\n",
       "    <tr style=\"text-align: right;\">\n",
       "      <th></th>\n",
       "      <th>Pclass</th>\n",
       "      <th>Sex</th>\n",
       "      <th>Age</th>\n",
       "      <th>SibSp</th>\n",
       "      <th>Parch</th>\n",
       "      <th>Fare</th>\n",
       "    </tr>\n",
       "  </thead>\n",
       "  <tbody>\n",
       "    <tr>\n",
       "      <th>1</th>\n",
       "      <td>2</td>\n",
       "      <td>0</td>\n",
       "      <td>45.000000</td>\n",
       "      <td>0</td>\n",
       "      <td>0</td>\n",
       "      <td>13.5000</td>\n",
       "    </tr>\n",
       "    <tr>\n",
       "      <th>2</th>\n",
       "      <td>3</td>\n",
       "      <td>1</td>\n",
       "      <td>20.000000</td>\n",
       "      <td>0</td>\n",
       "      <td>0</td>\n",
       "      <td>9.5000</td>\n",
       "    </tr>\n",
       "    <tr>\n",
       "      <th>3</th>\n",
       "      <td>3</td>\n",
       "      <td>1</td>\n",
       "      <td>36.000000</td>\n",
       "      <td>0</td>\n",
       "      <td>0</td>\n",
       "      <td>7.8958</td>\n",
       "    </tr>\n",
       "    <tr>\n",
       "      <th>4</th>\n",
       "      <td>3</td>\n",
       "      <td>1</td>\n",
       "      <td>22.000000</td>\n",
       "      <td>0</td>\n",
       "      <td>0</td>\n",
       "      <td>8.0500</td>\n",
       "    </tr>\n",
       "    <tr>\n",
       "      <th>5</th>\n",
       "      <td>3</td>\n",
       "      <td>1</td>\n",
       "      <td>29.699118</td>\n",
       "      <td>0</td>\n",
       "      <td>0</td>\n",
       "      <td>7.2500</td>\n",
       "    </tr>\n",
       "    <tr>\n",
       "      <th>...</th>\n",
       "      <td>...</td>\n",
       "      <td>...</td>\n",
       "      <td>...</td>\n",
       "      <td>...</td>\n",
       "      <td>...</td>\n",
       "      <td>...</td>\n",
       "    </tr>\n",
       "    <tr>\n",
       "      <th>706</th>\n",
       "      <td>3</td>\n",
       "      <td>1</td>\n",
       "      <td>29.699118</td>\n",
       "      <td>0</td>\n",
       "      <td>0</td>\n",
       "      <td>7.8958</td>\n",
       "    </tr>\n",
       "    <tr>\n",
       "      <th>707</th>\n",
       "      <td>1</td>\n",
       "      <td>1</td>\n",
       "      <td>54.000000</td>\n",
       "      <td>0</td>\n",
       "      <td>0</td>\n",
       "      <td>51.8625</td>\n",
       "    </tr>\n",
       "    <tr>\n",
       "      <th>708</th>\n",
       "      <td>3</td>\n",
       "      <td>1</td>\n",
       "      <td>14.000000</td>\n",
       "      <td>5</td>\n",
       "      <td>2</td>\n",
       "      <td>46.9000</td>\n",
       "    </tr>\n",
       "    <tr>\n",
       "      <th>709</th>\n",
       "      <td>2</td>\n",
       "      <td>0</td>\n",
       "      <td>6.000000</td>\n",
       "      <td>0</td>\n",
       "      <td>1</td>\n",
       "      <td>33.0000</td>\n",
       "    </tr>\n",
       "    <tr>\n",
       "      <th>710</th>\n",
       "      <td>2</td>\n",
       "      <td>1</td>\n",
       "      <td>29.699118</td>\n",
       "      <td>0</td>\n",
       "      <td>0</td>\n",
       "      <td>0.0000</td>\n",
       "    </tr>\n",
       "  </tbody>\n",
       "</table>\n",
       "<p>619 rows × 6 columns</p>\n",
       "</div>"
      ]
     },
     "metadata": {},
     "output_type": "display_data"
    }
   ],
   "execution_count": 250
  },
  {
   "cell_type": "markdown",
   "id": "259ab902",
   "metadata": {},
   "source": [
    "## Part 4 - Apply on test and show model performance estimation"
   ]
  },
  {
   "cell_type": "markdown",
   "id": "982fd267",
   "metadata": {},
   "source": [
    "## KNN algorithm testing:"
   ]
  },
  {
   "cell_type": "code",
   "id": "d9971aa5",
   "metadata": {
    "ExecuteTime": {
     "end_time": "2024-06-11T13:56:15.175094Z",
     "start_time": "2024-06-11T13:56:15.170743Z"
    }
   },
   "source": [
    "test_set = pd.read_csv(\"titanic_test.csv\")"
   ],
   "outputs": [],
   "execution_count": 251
  },
  {
   "cell_type": "code",
   "id": "00d8aa96",
   "metadata": {
    "ExecuteTime": {
     "end_time": "2024-06-11T13:56:15.181551Z",
     "start_time": "2024-06-11T13:56:15.178175Z"
    }
   },
   "source": [
    "x_test_knn = test_set[['Pclass', 'Sex', 'Age', 'SibSp', 'Parch', 'Fare']]\n",
    "y_test_knn = test_set['Survived']"
   ],
   "outputs": [],
   "execution_count": 252
  },
  {
   "cell_type": "code",
   "id": "686b0d71",
   "metadata": {
    "ExecuteTime": {
     "end_time": "2024-06-11T13:56:15.195492Z",
     "start_time": "2024-06-11T13:56:15.182555Z"
    }
   },
   "source": [
    "y_predict_knn = knn_trained.predict(x_test_knn)\n",
    "accuracy = accuracy_score(y_test_knn, y_predict_knn)\n",
    "print(\"accuracy: \", accuracy)"
   ],
   "outputs": [
    {
     "name": "stdout",
     "output_type": "stream",
     "text": [
      "accuracy:  0.7150837988826816\n"
     ]
    }
   ],
   "execution_count": 253
  },
  {
   "cell_type": "code",
   "id": "8a68001f",
   "metadata": {
    "ExecuteTime": {
     "end_time": "2024-06-11T13:57:15.269469Z",
     "start_time": "2024-06-11T13:57:14.724570Z"
    }
   },
   "source": [
    "def knn_test():\n",
    "    neighbors = np.arange(1, 50)\n",
    "    accuracy_scores = []\n",
    "    for n in neighbors:\n",
    "        knn = KNeighborsClassifier(n_neighbors=n)\n",
    "        knn.fit(x_train_knn, y_train_knn)\n",
    "        y_pred = knn.predict(x_test_knn)\n",
    "        accuracy = accuracy_score(y_test_knn, y_pred)\n",
    "        accuracy_scores.append(accuracy)\n",
    "    \n",
    "    return neighbors, accuracy_scores\n",
    "\n",
    "def plot_knn_test(neighbors, accuracy_scores):\n",
    "    plt.figure(figsize=(15, 10))\n",
    "    plt.plot(neighbors, accuracy_scores)\n",
    "    plt.xlabel('Number of Neighbors', fontsize=20)\n",
    "    plt.ylabel('Accuracy', fontsize=20)\n",
    "    plt.title('Accuracy vs. Number of Neighbors', fontsize=20)\n",
    "    \n",
    "    # Finding the maximum accuracy and its corresponding neighbor\n",
    "    max_index = np.argmax(accuracy_scores)\n",
    "    max_neighbor = neighbors[max_index]\n",
    "    max_accuracy = accuracy_scores[max_index]\n",
    "    \n",
    "    # Adding annotation\n",
    "    plt.annotate(f'Max Accuracy: {max_accuracy:.2f} ({max_neighbor} neighbors)',\n",
    "                 xy=(max_neighbor, max_accuracy),  # Arrowhead position\n",
    "                 xytext=(max_neighbor - 10, max_accuracy),  # Text position above the point\n",
    "                 arrowprops=dict(facecolor='orange', shrink=0.05),\n",
    "                 ha='right', fontsize=14, bbox=dict(facecolor='white', edgecolor='black', boxstyle='round,pad=0.5'))\n",
    "    plt.show()\n",
    "\n",
    "# Run the knn_test function and plot results\n",
    "neighbors, accuracy_scores = knn_test()\n",
    "plot_knn_test(neighbors, accuracy_scores)"
   ],
   "outputs": [
    {
     "data": {
      "text/plain": [
       "<Figure size 1500x1000 with 1 Axes>"
      ],
      "image/png": "[encoded data removed]"
     },
     "metadata": {},
     "output_type": "display_data"
    }
   ],
   "execution_count": 255
  },
  {
   "cell_type": "markdown",
   "id": "aa7b1f9b",
   "metadata": {},
   "source": [
    "## Naive Bayes algorithm testing:"
   ]
  },
  {
   "cell_type": "code",
   "id": "571697e9",
   "metadata": {
    "ExecuteTime": {
     "end_time": "2024-06-11T13:56:15.669328Z",
     "start_time": "2024-06-11T13:56:15.666931Z"
    }
   },
   "source": [],
   "outputs": [],
   "execution_count": 254
  }
 ],
 "metadata": {
  "kernelspec": {
   "display_name": "Python 3 (ipykernel)",
   "language": "python",
   "name": "python3"
  },
  "language_info": {
   "codemirror_mode": {
    "name": "ipython",
    "version": 3
   },
   "file_extension": ".py",
   "mimetype": "text/x-python",
   "name": "python",
   "nbconvert_exporter": "python",
   "pygments_lexer": "ipython3",
   "version": "3.7.6"
  },
  "vscode": {
   "interpreter": {
    "hash": "49cb93f377a7abe7414b7b0f21fb3017538004a126cf690fb524202736b7fb92"
   }
  }
 },
 "nbformat": 4,
 "nbformat_minor": 5
}
