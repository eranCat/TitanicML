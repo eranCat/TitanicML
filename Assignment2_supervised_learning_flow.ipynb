{
 "cells": [
  {
   "cell_type": "markdown",
   "id": "b06a2810",
   "metadata": {},
   "source": [
    "### Part 1 - Student details:\n",
    "* Please write the First Name and last 4 digits of the i.d. for each student. For example:\n",
    "<pre>Israel 7938</pre>"
   ]
  },
  {
   "cell_type": "code",
   "id": "ca16486b",
   "metadata": {
    "ExecuteTime": {
     "end_time": "2024-06-12T16:28:29.632376Z",
     "start_time": "2024-06-12T16:28:29.629856Z"
    }
   },
   "source": [
    "# student 1: Israel 7938\n",
    "# student 2: Eran 6215\n",
    "# student 3: Avihai 2474\n",
    "# student 4: Almog 8269\n",
    "# student 5: Liron 5068\n",
    "# student 6: Matan 9999"
   ],
   "outputs": [],
   "execution_count": 721
  },
  {
   "cell_type": "markdown",
   "id": "fb36672a",
   "metadata": {},
   "source": [
    "## Part 2 - Experiments\n",
    "You could add as many code cells as needed"
   ]
  },
  {
   "cell_type": "code",
   "id": "b7098585",
   "metadata": {
    "ExecuteTime": {
     "end_time": "2024-06-12T16:28:29.801879Z",
     "start_time": "2024-06-12T16:28:29.798741Z"
    }
   },
   "source": [
    "import matplotlib.pyplot as plt\n",
    "import numpy as np\n",
    "import pandas as pd\n",
    "import seaborn as sns\n",
    "from sklearn.decomposition import PCA\n",
    "from sklearn.metrics import accuracy_score\n",
    "from sklearn.naive_bayes import GaussianNB\n",
    "from sklearn.metrics import accuracy_score, classification_report\n",
    "from sklearn.neighbors import KNeighborsClassifier\n",
    "from sklearn.pipeline import Pipeline\n",
    "from sklearn.preprocessing import StandardScaler"
   ],
   "outputs": [],
   "execution_count": 722
  },
  {
   "cell_type": "code",
   "id": "3b63b9d3-65e3-4151-a240-8d7236e7d9f1",
   "metadata": {
    "ExecuteTime": {
     "end_time": "2024-06-12T16:28:29.818096Z",
     "start_time": "2024-06-12T16:28:29.812965Z"
    }
   },
   "source": [
    "train_set = pd.read_csv('titanic_train.csv')\n",
    "test_set = pd.read_csv(\"titanic_test.csv\")"
   ],
   "outputs": [],
   "execution_count": 723
  },
  {
   "cell_type": "code",
   "id": "fad49cb1f89e16a6",
   "metadata": {
    "ExecuteTime": {
     "end_time": "2024-06-12T16:28:29.853214Z",
     "start_time": "2024-06-12T16:28:29.846666Z"
    }
   },
   "source": "train_set.head(5)",
   "outputs": [
    {
     "data": {
      "text/plain": [
       "   Pclass  Sex   Age  SibSp  Parch     Fare  Embarked  Survived\n",
       "0       1    0  54.0      1      0  78.2667         1         1\n",
       "1       2    0  45.0      0      0  13.5000         0         1\n",
       "2       3    1  20.0      0      0   9.5000         0         0\n",
       "3       3    1  36.0      0      0   7.8958         0         0\n",
       "4       3    1  22.0      0      0   8.0500         0         0"
      ],
      "text/html": [
       "<div>\n",
       "<style scoped>\n",
       "    .dataframe tbody tr th:only-of-type {\n",
       "        vertical-align: middle;\n",
       "    }\n",
       "\n",
       "    .dataframe tbody tr th {\n",
       "        vertical-align: top;\n",
       "    }\n",
       "\n",
       "    .dataframe thead th {\n",
       "        text-align: right;\n",
       "    }\n",
       "</style>\n",
       "<table border=\"1\" class=\"dataframe\">\n",
       "  <thead>\n",
       "    <tr style=\"text-align: right;\">\n",
       "      <th></th>\n",
       "      <th>Pclass</th>\n",
       "      <th>Sex</th>\n",
       "      <th>Age</th>\n",
       "      <th>SibSp</th>\n",
       "      <th>Parch</th>\n",
       "      <th>Fare</th>\n",
       "      <th>Embarked</th>\n",
       "      <th>Survived</th>\n",
       "    </tr>\n",
       "  </thead>\n",
       "  <tbody>\n",
       "    <tr>\n",
       "      <th>0</th>\n",
       "      <td>1</td>\n",
       "      <td>0</td>\n",
       "      <td>54.0</td>\n",
       "      <td>1</td>\n",
       "      <td>0</td>\n",
       "      <td>78.2667</td>\n",
       "      <td>1</td>\n",
       "      <td>1</td>\n",
       "    </tr>\n",
       "    <tr>\n",
       "      <th>1</th>\n",
       "      <td>2</td>\n",
       "      <td>0</td>\n",
       "      <td>45.0</td>\n",
       "      <td>0</td>\n",
       "      <td>0</td>\n",
       "      <td>13.5000</td>\n",
       "      <td>0</td>\n",
       "      <td>1</td>\n",
       "    </tr>\n",
       "    <tr>\n",
       "      <th>2</th>\n",
       "      <td>3</td>\n",
       "      <td>1</td>\n",
       "      <td>20.0</td>\n",
       "      <td>0</td>\n",
       "      <td>0</td>\n",
       "      <td>9.5000</td>\n",
       "      <td>0</td>\n",
       "      <td>0</td>\n",
       "    </tr>\n",
       "    <tr>\n",
       "      <th>3</th>\n",
       "      <td>3</td>\n",
       "      <td>1</td>\n",
       "      <td>36.0</td>\n",
       "      <td>0</td>\n",
       "      <td>0</td>\n",
       "      <td>7.8958</td>\n",
       "      <td>0</td>\n",
       "      <td>0</td>\n",
       "    </tr>\n",
       "    <tr>\n",
       "      <th>4</th>\n",
       "      <td>3</td>\n",
       "      <td>1</td>\n",
       "      <td>22.0</td>\n",
       "      <td>0</td>\n",
       "      <td>0</td>\n",
       "      <td>8.0500</td>\n",
       "      <td>0</td>\n",
       "      <td>0</td>\n",
       "    </tr>\n",
       "  </tbody>\n",
       "</table>\n",
       "</div>"
      ]
     },
     "execution_count": 724,
     "metadata": {},
     "output_type": "execute_result"
    }
   ],
   "execution_count": 724
  },
  {
   "cell_type": "code",
   "id": "44e1892e76c7f660",
   "metadata": {
    "ExecuteTime": {
     "end_time": "2024-06-12T16:28:29.885437Z",
     "start_time": "2024-06-12T16:28:29.879745Z"
    }
   },
   "source": [
    "test_set.head(5)"
   ],
   "outputs": [
    {
     "data": {
      "text/plain": [
       "   Pclass  Sex        Age  SibSp  Parch     Fare  Embarked  Survived\n",
       "0       3    1  35.000000      0      0   7.0500         0         0\n",
       "1       3    1  30.000000      0      0   7.2500         0         0\n",
       "2       3    1  29.699118      0      0  14.5000         0         0\n",
       "3       3    0  21.000000      0      0   7.7500         2         0\n",
       "4       3    1  32.000000      0      0  56.4958         0         1"
      ],
      "text/html": [
       "<div>\n",
       "<style scoped>\n",
       "    .dataframe tbody tr th:only-of-type {\n",
       "        vertical-align: middle;\n",
       "    }\n",
       "\n",
       "    .dataframe tbody tr th {\n",
       "        vertical-align: top;\n",
       "    }\n",
       "\n",
       "    .dataframe thead th {\n",
       "        text-align: right;\n",
       "    }\n",
       "</style>\n",
       "<table border=\"1\" class=\"dataframe\">\n",
       "  <thead>\n",
       "    <tr style=\"text-align: right;\">\n",
       "      <th></th>\n",
       "      <th>Pclass</th>\n",
       "      <th>Sex</th>\n",
       "      <th>Age</th>\n",
       "      <th>SibSp</th>\n",
       "      <th>Parch</th>\n",
       "      <th>Fare</th>\n",
       "      <th>Embarked</th>\n",
       "      <th>Survived</th>\n",
       "    </tr>\n",
       "  </thead>\n",
       "  <tbody>\n",
       "    <tr>\n",
       "      <th>0</th>\n",
       "      <td>3</td>\n",
       "      <td>1</td>\n",
       "      <td>35.000000</td>\n",
       "      <td>0</td>\n",
       "      <td>0</td>\n",
       "      <td>7.0500</td>\n",
       "      <td>0</td>\n",
       "      <td>0</td>\n",
       "    </tr>\n",
       "    <tr>\n",
       "      <th>1</th>\n",
       "      <td>3</td>\n",
       "      <td>1</td>\n",
       "      <td>30.000000</td>\n",
       "      <td>0</td>\n",
       "      <td>0</td>\n",
       "      <td>7.2500</td>\n",
       "      <td>0</td>\n",
       "      <td>0</td>\n",
       "    </tr>\n",
       "    <tr>\n",
       "      <th>2</th>\n",
       "      <td>3</td>\n",
       "      <td>1</td>\n",
       "      <td>29.699118</td>\n",
       "      <td>0</td>\n",
       "      <td>0</td>\n",
       "      <td>14.5000</td>\n",
       "      <td>0</td>\n",
       "      <td>0</td>\n",
       "    </tr>\n",
       "    <tr>\n",
       "      <th>3</th>\n",
       "      <td>3</td>\n",
       "      <td>0</td>\n",
       "      <td>21.000000</td>\n",
       "      <td>0</td>\n",
       "      <td>0</td>\n",
       "      <td>7.7500</td>\n",
       "      <td>2</td>\n",
       "      <td>0</td>\n",
       "    </tr>\n",
       "    <tr>\n",
       "      <th>4</th>\n",
       "      <td>3</td>\n",
       "      <td>1</td>\n",
       "      <td>32.000000</td>\n",
       "      <td>0</td>\n",
       "      <td>0</td>\n",
       "      <td>56.4958</td>\n",
       "      <td>0</td>\n",
       "      <td>1</td>\n",
       "    </tr>\n",
       "  </tbody>\n",
       "</table>\n",
       "</div>"
      ]
     },
     "execution_count": 725,
     "metadata": {},
     "output_type": "execute_result"
    }
   ],
   "execution_count": 725
  },
  {
   "cell_type": "code",
   "id": "097afb02",
   "metadata": {
    "ExecuteTime": {
     "end_time": "2024-06-12T16:28:29.890479Z",
     "start_time": "2024-06-12T16:28:29.886441Z"
    }
   },
   "source": [
    "def showSurvivorsByGenderAndChildren():\n",
    "    survivors = train_set[train_set['Survived'] == 1]\n",
    "\n",
    "    #Men\n",
    "    survived_man = survivors[(survivors['Sex'] == 1) & (survivors['Age'] > 18)]\n",
    "    survived_man_count = len(survived_man)\n",
    "\n",
    "    #Women\n",
    "    survived_women = survivors[(survivors['Sex'] == 0) & (survivors['Age'] > 18)]\n",
    "    survived_women_count = len(survived_women)\n",
    "\n",
    "    #Kids\n",
    "    survived_kids = survivors[survivors['Age'] <= 18]\n",
    "    survived_kids_count = len(survived_kids)\n",
    "\n",
    "    survived_count = len(survivors)\n",
    "\n",
    "    return [survived_man_count, survived_women_count, survived_kids_count, survived_count]"
   ],
   "outputs": [],
   "execution_count": 726
  },
  {
   "metadata": {
    "ExecuteTime": {
     "end_time": "2024-06-12T16:28:29.896880Z",
     "start_time": "2024-06-12T16:28:29.891485Z"
    }
   },
   "cell_type": "code",
   "source": [
    "display(train_set.isnull().sum())\n",
    "print(\"No missing values in train set\")"
   ],
   "id": "bb935bb89ff5944a",
   "outputs": [
    {
     "data": {
      "text/plain": [
       "Pclass      0\n",
       "Sex         0\n",
       "Age         0\n",
       "SibSp       0\n",
       "Parch       0\n",
       "Fare        0\n",
       "Embarked    0\n",
       "Survived    0\n",
       "dtype: int64"
      ]
     },
     "metadata": {},
     "output_type": "display_data"
    },
    {
     "name": "stdout",
     "output_type": "stream",
     "text": [
      "No missing values in train set\n"
     ]
    }
   ],
   "execution_count": 727
  },
  {
   "cell_type": "markdown",
   "id": "e37306794f874a57",
   "metadata": {},
   "source": "## Visualization"
  },
  {
   "metadata": {
    "ExecuteTime": {
     "end_time": "2024-06-12T16:28:29.904740Z",
     "start_time": "2024-06-12T16:28:29.900392Z"
    }
   },
   "cell_type": "code",
   "source": [
    "# Creating a dataframe for the pie plot using the given parameters\n",
    "def create_pie_table(population):\n",
    "    data = {'Category': ['Male', 'Female', 'Kids', 'Total'],\n",
    "            'Survived': population}\n",
    "\n",
    "    survivors_df = pd.DataFrame(data)\n",
    "    survived_count = population[-1]  #get last item\n",
    "\n",
    "    survivors_df['Percentage'] = survivors_df['Survived'].apply(lambda x: round((x / survived_count) * 100, 1))\n",
    "    return survivors_df\n",
    "\n",
    "\n",
    "def show_pie_survived(population_counts):\n",
    "    labels = ['Male', 'Female', 'Kids']\n",
    "    colors = ['#E91694', '#94E916', '#1694E9']\n",
    "    fig, ax = plt.subplots(figsize=(18, 10))\n",
    "    ax.pie(population_counts, labels=labels, autopct='%1.1f%%', colors=colors, textprops={'fontsize': 20})\n",
    "    plt.title('Survivors of the Titanic', fontsize=20)\n",
    "    fig.patch.set_facecolor('white')\n",
    "    plt.show()"
   ],
   "id": "fc8c19fde8f6d1a7",
   "outputs": [],
   "execution_count": 728
  },
  {
   "cell_type": "code",
   "id": "3cf7c4e832f50405",
   "metadata": {
    "ExecuteTime": {
     "end_time": "2024-06-12T16:28:29.984644Z",
     "start_time": "2024-06-12T16:28:29.912151Z"
    }
   },
   "source": [
    "population = showSurvivorsByGenderAndChildren()\n",
    "\n",
    "# Creating a data table for the pie plot\n",
    "survived_percentage_df = create_pie_table(population)\n",
    "display(survived_percentage_df)\n",
    "\n",
    "population.pop()  #remove last item - total count\n",
    "show_pie_survived(population)"
   ],
   "outputs": [
    {
     "data": {
      "text/plain": [
       "  Category  Survived  Percentage\n",
       "0     Male        69        24.6\n",
       "1   Female       156        55.5\n",
       "2     Kids        56        19.9\n",
       "3    Total       281       100.0"
      ],
      "text/html": [
       "<div>\n",
       "<style scoped>\n",
       "    .dataframe tbody tr th:only-of-type {\n",
       "        vertical-align: middle;\n",
       "    }\n",
       "\n",
       "    .dataframe tbody tr th {\n",
       "        vertical-align: top;\n",
       "    }\n",
       "\n",
       "    .dataframe thead th {\n",
       "        text-align: right;\n",
       "    }\n",
       "</style>\n",
       "<table border=\"1\" class=\"dataframe\">\n",
       "  <thead>\n",
       "    <tr style=\"text-align: right;\">\n",
       "      <th></th>\n",
       "      <th>Category</th>\n",
       "      <th>Survived</th>\n",
       "      <th>Percentage</th>\n",
       "    </tr>\n",
       "  </thead>\n",
       "  <tbody>\n",
       "    <tr>\n",
       "      <th>0</th>\n",
       "      <td>Male</td>\n",
       "      <td>69</td>\n",
       "      <td>24.6</td>\n",
       "    </tr>\n",
       "    <tr>\n",
       "      <th>1</th>\n",
       "      <td>Female</td>\n",
       "      <td>156</td>\n",
       "      <td>55.5</td>\n",
       "    </tr>\n",
       "    <tr>\n",
       "      <th>2</th>\n",
       "      <td>Kids</td>\n",
       "      <td>56</td>\n",
       "      <td>19.9</td>\n",
       "    </tr>\n",
       "    <tr>\n",
       "      <th>3</th>\n",
       "      <td>Total</td>\n",
       "      <td>281</td>\n",
       "      <td>100.0</td>\n",
       "    </tr>\n",
       "  </tbody>\n",
       "</table>\n",
       "</div>"
      ]
     },
     "metadata": {},
     "output_type": "display_data"
    },
    {
     "data": {
      "text/plain": [
       "<Figure size 1800x1000 with 1 Axes>"
      ],
      "image/png": "[encoded data removed]"
     },
     "metadata": {},
     "output_type": "display_data"
    }
   ],
   "execution_count": 729
  },
  {
   "metadata": {
    "ExecuteTime": {
     "end_time": "2024-06-12T16:28:29.989649Z",
     "start_time": "2024-06-12T16:28:29.985651Z"
    }
   },
   "cell_type": "code",
   "source": [
    "def plot_hist_gender_survivors():\n",
    "    fig, axes = plt.subplots(nrows=1, ncols=2, figsize=(20, 8))\n",
    "    \n",
    "    genders = {'Female': 0, 'Male': 1}\n",
    "    colors = {'survived': [\"#76FF00\", \"#FF5100\"], 'not_survived': [\"#8900FF\", \"#00AEFF\"]}\n",
    "    \n",
    "    #loop through the combinations of gender and survived status\n",
    "    for ax, (title, sex) in zip(axes, genders.items()):\n",
    "        for status, color in colors.items():\n",
    "            ages = train_set[(train_set['Sex'] == sex) & (train_set['Survived'] == (status == 'survived'))].Age\n",
    "            sns.histplot(ages, bins=10, label=status, ax=ax, kde=False, color=color[sex])\n",
    "        \n",
    "        ax.legend()\n",
    "        ax.set_title(title)\n",
    "    \n",
    "    plt.show()"
   ],
   "id": "9e5fbd1ece780578",
   "outputs": [],
   "execution_count": 730
  },
  {
   "cell_type": "code",
   "id": "f68ab96a",
   "metadata": {
    "ExecuteTime": {
     "end_time": "2024-06-12T16:28:30.056438Z",
     "start_time": "2024-06-12T16:28:30.051527Z"
    }
   },
   "source": [
    "# Making DataFrame for the histogram above with age group\n",
    "def createHistTableAG(data_frame):\n",
    "    age_bins = [0, 10, 20, 30, 40, 50, 60, 70, 80]\n",
    "    age_labels = ['0-10', '11-20', '21-30', '31-40', '41-50', '51-60', '61-70', '71-80']\n",
    "\n",
    "    data_frame = data_frame.copy()\n",
    "    data_frame['AgeGroup'] = pd.cut(data_frame['Age'], bins=age_bins, labels=age_labels, right=False)\n",
    "\n",
    "    data = {\n",
    "        'AgeGroup': age_labels,\n",
    "        'Survived Women': [],\n",
    "        'Not Survived Women': [],\n",
    "        'Survived Men': [],\n",
    "        'Not Survived Men': []\n",
    "    }\n",
    "\n",
    "    for age_group in age_labels:\n",
    "        survived_women = len(data_frame[(data_frame['AgeGroup'] == age_group) & (data_frame['Sex'] == 0) & (\n",
    "                data_frame['Survived'] == 1)])\n",
    "        not_survived_women = len(data_frame[(data_frame['AgeGroup'] == age_group) & (data_frame['Sex'] == 0) & (\n",
    "                data_frame['Survived'] == 0)])\n",
    "        survived_men = len(data_frame[(data_frame['AgeGroup'] == age_group) & (data_frame['Sex'] == 1) & (\n",
    "                data_frame['Survived'] == 1)])\n",
    "        not_survived_men = len(data_frame[(data_frame['AgeGroup'] == age_group) & (data_frame['Sex'] == 1) & (\n",
    "                data_frame['Survived'] == 0)])\n",
    "\n",
    "        data['Survived Women'].append(survived_women)\n",
    "        data['Not Survived Women'].append(not_survived_women)\n",
    "        data['Survived Men'].append(survived_men)\n",
    "        data['Not Survived Men'].append(not_survived_men)\n",
    "\n",
    "    survivors_by_age = pd.DataFrame(data)\n",
    "\n",
    "    return survivors_by_age"
   ],
   "outputs": [],
   "execution_count": 731
  },
  {
   "cell_type": "code",
   "id": "ec27ace9",
   "metadata": {
    "ExecuteTime": {
     "end_time": "2024-06-12T16:28:30.479891Z",
     "start_time": "2024-06-12T16:28:30.162406Z"
    }
   },
   "source": [
    "#Creating a data table for the histogram with age group\n",
    "histTableAges = createHistTableAG(train_set)\n",
    "display(histTableAges)\n",
    "\n",
    "plot_hist_gender_survivors()"
   ],
   "outputs": [
    {
     "data": {
      "text/plain": [
       "  AgeGroup  Survived Women  Not Survived Women  Survived Men  Not Survived Men\n",
       "0     0-10              16                   9            15                12\n",
       "1    11-20              28                   8             5                44\n",
       "2    21-30              75                  28            33               180\n",
       "3    31-40              44                   7            19                59\n",
       "4    41-50              18                   9             9                35\n",
       "5    51-60               9                   2             4                23\n",
       "6    61-70               3                   0             2                10\n",
       "7    71-80               0                   0             0                 5"
      ],
      "text/html": [
       "<div>\n",
       "<style scoped>\n",
       "    .dataframe tbody tr th:only-of-type {\n",
       "        vertical-align: middle;\n",
       "    }\n",
       "\n",
       "    .dataframe tbody tr th {\n",
       "        vertical-align: top;\n",
       "    }\n",
       "\n",
       "    .dataframe thead th {\n",
       "        text-align: right;\n",
       "    }\n",
       "</style>\n",
       "<table border=\"1\" class=\"dataframe\">\n",
       "  <thead>\n",
       "    <tr style=\"text-align: right;\">\n",
       "      <th></th>\n",
       "      <th>AgeGroup</th>\n",
       "      <th>Survived Women</th>\n",
       "      <th>Not Survived Women</th>\n",
       "      <th>Survived Men</th>\n",
       "      <th>Not Survived Men</th>\n",
       "    </tr>\n",
       "  </thead>\n",
       "  <tbody>\n",
       "    <tr>\n",
       "      <th>0</th>\n",
       "      <td>0-10</td>\n",
       "      <td>16</td>\n",
       "      <td>9</td>\n",
       "      <td>15</td>\n",
       "      <td>12</td>\n",
       "    </tr>\n",
       "    <tr>\n",
       "      <th>1</th>\n",
       "      <td>11-20</td>\n",
       "      <td>28</td>\n",
       "      <td>8</td>\n",
       "      <td>5</td>\n",
       "      <td>44</td>\n",
       "    </tr>\n",
       "    <tr>\n",
       "      <th>2</th>\n",
       "      <td>21-30</td>\n",
       "      <td>75</td>\n",
       "      <td>28</td>\n",
       "      <td>33</td>\n",
       "      <td>180</td>\n",
       "    </tr>\n",
       "    <tr>\n",
       "      <th>3</th>\n",
       "      <td>31-40</td>\n",
       "      <td>44</td>\n",
       "      <td>7</td>\n",
       "      <td>19</td>\n",
       "      <td>59</td>\n",
       "    </tr>\n",
       "    <tr>\n",
       "      <th>4</th>\n",
       "      <td>41-50</td>\n",
       "      <td>18</td>\n",
       "      <td>9</td>\n",
       "      <td>9</td>\n",
       "      <td>35</td>\n",
       "    </tr>\n",
       "    <tr>\n",
       "      <th>5</th>\n",
       "      <td>51-60</td>\n",
       "      <td>9</td>\n",
       "      <td>2</td>\n",
       "      <td>4</td>\n",
       "      <td>23</td>\n",
       "    </tr>\n",
       "    <tr>\n",
       "      <th>6</th>\n",
       "      <td>61-70</td>\n",
       "      <td>3</td>\n",
       "      <td>0</td>\n",
       "      <td>2</td>\n",
       "      <td>10</td>\n",
       "    </tr>\n",
       "    <tr>\n",
       "      <th>7</th>\n",
       "      <td>71-80</td>\n",
       "      <td>0</td>\n",
       "      <td>0</td>\n",
       "      <td>0</td>\n",
       "      <td>5</td>\n",
       "    </tr>\n",
       "  </tbody>\n",
       "</table>\n",
       "</div>"
      ]
     },
     "metadata": {},
     "output_type": "display_data"
    },
    {
     "data": {
      "text/plain": [
       "<Figure size 2000x800 with 2 Axes>"
      ],
      "image/png": "[encoded data removed]"
     },
     "metadata": {},
     "output_type": "display_data"
    }
   ],
   "execution_count": 732
  },
  {
   "metadata": {},
   "cell_type": "markdown",
   "source": "## Extract x_train/test and y_train/test",
   "id": "9eabfd0cdcfcb8a1"
  },
  {
   "metadata": {
    "ExecuteTime": {
     "end_time": "2024-06-12T16:28:30.485074Z",
     "start_time": "2024-06-12T16:28:30.480397Z"
    }
   },
   "cell_type": "code",
   "source": [
    "features = ['Pclass', 'Sex', 'Age', 'SibSp', 'Parch', 'Fare']\n",
    "label = 'Survived'\n",
    "x_train = train_set[features]\n",
    "y_train = train_set[label]\n",
    "\n",
    "x_test = test_set[features]\n",
    "y_test = test_set[label]"
   ],
   "id": "eb55838794f5c8d4",
   "outputs": [],
   "execution_count": 733
  },
  {
   "metadata": {},
   "cell_type": "markdown",
   "source": "# Feature engineering",
   "id": "1eae09fb"
  },
  {
   "metadata": {},
   "cell_type": "markdown",
   "source": "### Find Outliers",
   "id": "36f7d419"
  },
  {
   "metadata": {},
   "cell_type": "markdown",
   "source": "#### let's check for Age outliers (using boxplot)",
   "id": "e327ea55"
  },
  {
   "metadata": {
    "ExecuteTime": {
     "end_time": "2024-06-12T16:28:30.555068Z",
     "start_time": "2024-06-12T16:28:30.485074Z"
    }
   },
   "cell_type": "code",
   "source": [
    "# Fare outliers\n",
    "sns.boxplot(train_set.Fare)"
   ],
   "id": "fe24dce1",
   "outputs": [
    {
     "data": {
      "text/plain": [
       "<Axes: ylabel='Fare'>"
      ]
     },
     "execution_count": 734,
     "metadata": {},
     "output_type": "execute_result"
    },
    {
     "data": {
      "text/plain": [
       "<Figure size 640x480 with 1 Axes>"
      ],
      "image/png": "[encoded data removed]"
     },
     "metadata": {},
     "output_type": "display_data"
    }
   ],
   "execution_count": 734
  },
  {
   "metadata": {
    "ExecuteTime": {
     "end_time": "2024-06-12T16:28:30.560074Z",
     "start_time": "2024-06-12T16:28:30.556073Z"
    }
   },
   "cell_type": "code",
   "source": "train_set[\"Fare\"].median()",
   "id": "e814b84e",
   "outputs": [
    {
     "data": {
      "text/plain": [
       "14.5"
      ]
     },
     "execution_count": 735,
     "metadata": {},
     "output_type": "execute_result"
    }
   ],
   "execution_count": 735
  },
  {
   "metadata": {
    "ExecuteTime": {
     "end_time": "2024-06-12T16:28:30.567375Z",
     "start_time": "2024-06-12T16:28:30.561586Z"
    }
   },
   "cell_type": "code",
   "source": "train_set[\"Fare\"].describe()",
   "id": "7add523c",
   "outputs": [
    {
     "data": {
      "text/plain": [
       "count    712.000000\n",
       "mean      32.379429\n",
       "std       49.836074\n",
       "min        0.000000\n",
       "25%        7.925000\n",
       "50%       14.500000\n",
       "75%       31.275000\n",
       "max      512.329200\n",
       "Name: Fare, dtype: float64"
      ]
     },
     "execution_count": 736,
     "metadata": {},
     "output_type": "execute_result"
    }
   ],
   "execution_count": 736
  },
  {
   "metadata": {
    "ExecuteTime": {
     "end_time": "2024-06-12T16:28:30.572671Z",
     "start_time": "2024-06-12T16:28:30.568382Z"
    }
   },
   "cell_type": "code",
   "source": [
    "# Find Fare outliers:\n",
    "\n",
    "# \"minimum\" = Q1 - 1.5 * IQR\n",
    "# \"maximum\" = Q3 + 1.5 * IQR\n",
    "def outliersByIQR(col_name):\n",
    "    Q1 = np.percentile(train_set[col_name], 25)\n",
    "    Q3 = np.percentile(train_set[col_name], 75)\n",
    "    IQR = Q3 - Q1\n",
    "\n",
    "    Fare_Outliers = train_set[(train_set[col_name] < Q1 - 1.5 * IQR) | (train_set[col_name] > Q3 + 1.5 * IQR)].index\n",
    "    print(f'Sum of Age_outliers: {len(Fare_Outliers)}')\n",
    "    \n",
    "# remove outliers by column name\n",
    "def remove_outlier(df_in, col_name):\n",
    "    q1 = df_in[col_name].quantile(0.25)\n",
    "    q3 = df_in[col_name].quantile(0.75)\n",
    "    iqr = q3 - q1\n",
    "    fence_low = q1 - 1.5 * iqr\n",
    "    fence_high = q3 + 1.5 * iqr\n",
    "    df_out = df_in.loc[(df_in[col_name] > fence_low) & (df_in[col_name] < fence_high)]\n",
    "    return df_out"
   ],
   "id": "9b1cb178",
   "outputs": [],
   "execution_count": 737
  },
  {
   "metadata": {
    "ExecuteTime": {
     "end_time": "2024-06-12T16:28:30.652962Z",
     "start_time": "2024-06-12T16:28:30.573677Z"
    }
   },
   "cell_type": "code",
   "source": [
    "# check outliers for Age\n",
    "sns.boxplot(train_set.Age)"
   ],
   "id": "596787bc",
   "outputs": [
    {
     "data": {
      "text/plain": [
       "<Axes: ylabel='Age'>"
      ]
     },
     "execution_count": 738,
     "metadata": {},
     "output_type": "execute_result"
    },
    {
     "data": {
      "text/plain": [
       "<Figure size 640x480 with 1 Axes>"
      ],
      "image/png": "[encoded data removed]"
     },
     "metadata": {},
     "output_type": "display_data"
    }
   ],
   "execution_count": 738
  },
  {
   "metadata": {
    "ExecuteTime": {
     "end_time": "2024-06-12T16:28:30.658658Z",
     "start_time": "2024-06-12T16:28:30.653967Z"
    }
   },
   "cell_type": "code",
   "source": [
    "train_set[\"Age\"].median()\n",
    "train_set[\"Age\"].describe()"
   ],
   "id": "c9369881",
   "outputs": [
    {
     "data": {
      "text/plain": [
       "count    712.000000\n",
       "mean      29.531213\n",
       "std       13.188028\n",
       "min        0.670000\n",
       "25%       22.000000\n",
       "50%       29.699118\n",
       "75%       35.000000\n",
       "max       80.000000\n",
       "Name: Age, dtype: float64"
      ]
     },
     "execution_count": 739,
     "metadata": {},
     "output_type": "execute_result"
    }
   ],
   "execution_count": 739
  },
  {
   "metadata": {
    "ExecuteTime": {
     "end_time": "2024-06-12T16:28:30.665149Z",
     "start_time": "2024-06-12T16:28:30.659733Z"
    }
   },
   "cell_type": "code",
   "source": [
    "train_set[\"Fare\"].median()\n",
    "train_set[\"Fare\"].describe()"
   ],
   "id": "55e74398",
   "outputs": [
    {
     "data": {
      "text/plain": [
       "count    712.000000\n",
       "mean      32.379429\n",
       "std       49.836074\n",
       "min        0.000000\n",
       "25%        7.925000\n",
       "50%       14.500000\n",
       "75%       31.275000\n",
       "max      512.329200\n",
       "Name: Fare, dtype: float64"
      ]
     },
     "execution_count": 740,
     "metadata": {},
     "output_type": "execute_result"
    }
   ],
   "execution_count": 740
  },
  {
   "metadata": {
    "ExecuteTime": {
     "end_time": "2024-06-12T16:28:30.671166Z",
     "start_time": "2024-06-12T16:28:30.666155Z"
    }
   },
   "cell_type": "code",
   "source": [
    "# Find Age outliers:\n",
    "outliersByIQR(\"Age\")\n",
    "outliersByIQR(\"Fare\")"
   ],
   "id": "872700f7",
   "outputs": [
    {
     "name": "stdout",
     "output_type": "stream",
     "text": [
      "Sum of Age_outliers: 54\n",
      "Sum of Age_outliers: 93\n"
     ]
    }
   ],
   "execution_count": 741
  },
  {
   "metadata": {
    "ExecuteTime": {
     "end_time": "2024-06-12T16:28:30.677078Z",
     "start_time": "2024-06-12T16:28:30.672171Z"
    }
   },
   "cell_type": "code",
   "source": [
    "#save the dataframe with the removed data\n",
    "updated_df = remove_outlier(train_set, \"Age\")\n",
    "print(updated_df.count())"
   ],
   "id": "2829fb6d3a2c4efc",
   "outputs": [
    {
     "name": "stdout",
     "output_type": "stream",
     "text": [
      "Pclass      658\n",
      "Sex         658\n",
      "Age         658\n",
      "SibSp       658\n",
      "Parch       658\n",
      "Fare        658\n",
      "Embarked    658\n",
      "Survived    658\n",
      "dtype: int64\n"
     ]
    }
   ],
   "execution_count": 742
  },
  {
   "metadata": {
    "ExecuteTime": {
     "end_time": "2024-06-12T16:28:30.683088Z",
     "start_time": "2024-06-12T16:28:30.678085Z"
    }
   },
   "cell_type": "code",
   "source": [
    "#save the dataframe with the removed data\n",
    "train_set = remove_outlier(train_set, \"Fare\")\n",
    "print(train_set.count())"
   ],
   "id": "4f92eaf7",
   "outputs": [
    {
     "name": "stdout",
     "output_type": "stream",
     "text": [
      "Pclass      619\n",
      "Sex         619\n",
      "Age         619\n",
      "SibSp       619\n",
      "Parch       619\n",
      "Fare        619\n",
      "Embarked    619\n",
      "Survived    619\n",
      "dtype: int64\n"
     ]
    }
   ],
   "execution_count": 743
  },
  {
   "metadata": {},
   "cell_type": "markdown",
   "source": [
    "#### For Numeric values:\n",
    "#### Descriptive statistics: min, max, percentile, mean, std etc for numeric values:"
   ],
   "id": "5024577c"
  },
  {
   "metadata": {},
   "cell_type": "markdown",
   "source": "### Check for missing Data - and fill when needed",
   "id": "a50169d4"
  },
  {
   "metadata": {
    "ExecuteTime": {
     "end_time": "2024-06-12T16:28:30.687931Z",
     "start_time": "2024-06-12T16:28:30.684093Z"
    }
   },
   "cell_type": "code",
   "source": [
    "# Let's start by finding the missing values\n",
    "def check_missing_data(df):\n",
    "    missing_data = df.isnull().sum()\n",
    "    missing_data = missing_data[missing_data > 0]  # Only show columns with missing data\n",
    "    return missing_data\n",
    "\n",
    "def fix_missing_values(data_frame):\n",
    "    fill_strategies = {\n",
    "        'Pclass': data_frame['Pclass'].mode()[0],\n",
    "        'Sex': data_frame['Sex'].mode()[0],\n",
    "        'Age': data_frame['Age'].mean(),\n",
    "        'SibSp': data_frame['SibSp'].mode()[0],\n",
    "        'Parch': data_frame['Parch'].mode()[0],\n",
    "        'Fare': data_frame['Fare'].median(),\n",
    "        'Embarked': data_frame['Embarked'].mode()[0],\n",
    "        'Survived': data_frame['Survived'].mode()[0]\n",
    "    }\n",
    "    \n",
    "    for column, fill_value in fill_strategies.items():\n",
    "        if column in data_frame.columns:\n",
    "            data_frame[column].fillna(fill_value, inplace=True)\n",
    "    \n",
    "    return data_frame"
   ],
   "id": "8c80158a",
   "outputs": [],
   "execution_count": 744
  },
  {
   "metadata": {
    "ExecuteTime": {
     "end_time": "2024-06-12T16:28:30.693568Z",
     "start_time": "2024-06-12T16:28:30.688937Z"
    }
   },
   "cell_type": "code",
   "source": [
    "missing_data = check_missing_data(train_set)\n",
    "# print(\"Missing data\",missing_data)\n",
    "\n",
    "if len(missing_data) > 0:\n",
    "    fix_missing_values(train_set)\n",
    "    # check_missing_data(train_set)\n",
    "    print(f\"Filled missing data ({missing_data})\")\n",
    "else:\n",
    "    print(\"No missing data\")"
   ],
   "id": "6bfe02d9",
   "outputs": [
    {
     "name": "stdout",
     "output_type": "stream",
     "text": [
      "No missing data\n"
     ]
    }
   ],
   "execution_count": 745
  },
  {
   "metadata": {
    "ExecuteTime": {
     "end_time": "2024-06-12T16:28:30.698835Z",
     "start_time": "2024-06-12T16:28:30.695576Z"
    }
   },
   "cell_type": "code",
   "source": [
    "# Use the NumPy percentile() method to find the percentiles\n",
    "def agePercentile(dataFrame):\n",
    "    x_age = np.percentile(dataFrame[\"Age\"], 75)\n",
    "    y_age = np.percentile(dataFrame[\"Age\"], 90)\n",
    "\n",
    "    print(f'x_age meaning that 75% of the people on the Titanic are {x_age} years old')\n",
    "    print(f'y_age meaning that 90% of the people on the Titanic are {y_age} years old')"
   ],
   "id": "d609803c",
   "outputs": [],
   "execution_count": 746
  },
  {
   "metadata": {
    "ExecuteTime": {
     "end_time": "2024-06-12T16:28:30.703792Z",
     "start_time": "2024-06-12T16:28:30.700354Z"
    }
   },
   "cell_type": "code",
   "source": "agePercentile(train_set)",
   "id": "af628545",
   "outputs": [
    {
     "name": "stdout",
     "output_type": "stream",
     "text": [
      "x_age meaning that 75% of the people on the Titanic are 34.0 years old\n",
      "y_age meaning that 90% of the people on the Titanic are 46.200000000000045 years old\n"
     ]
    }
   ],
   "execution_count": 747
  },
  {
   "cell_type": "markdown",
   "id": "5a72cef8",
   "metadata": {},
   "source": [
    "#### Feature engineering for Naive Bayes:"
   ]
  },
  {
   "metadata": {},
   "cell_type": "markdown",
   "source": "##### Basic train ,test function for naive bayes",
   "id": "5de596c7c282f9ba"
  },
  {
   "metadata": {
    "ExecuteTime": {
     "end_time": "2024-06-12T16:28:30.719956Z",
     "start_time": "2024-06-12T16:28:30.716448Z"
    }
   },
   "cell_type": "code",
   "source": [
    "def train_naive_bayes(x_train, y_train):\n",
    "    # Initialize the Gaussian Naive Bayes model\n",
    "    model = GaussianNB()\n",
    "    \n",
    "    # Fit the model to the training data\n",
    "    model.fit(x_train, y_train)\n",
    "    \n",
    "    return model\n",
    "\n",
    "def test_naive_bayes(model, X_test, y_test):\n",
    "    # Predict the target values for the test set\n",
    "    y_pred = model.predict(X_test)\n",
    "    \n",
    "    # Calculate the accuracy of the model\n",
    "    \n",
    "    accuracy = accuracy_score(y_test, y_pred)\n",
    "     # Generate a classification report\n",
    "    report = classification_report(y_test, y_pred)\n",
    "    \n",
    "    return accuracy, report"
   ],
   "id": "d72c80cd41374dde",
   "outputs": [],
   "execution_count": 748
  },
  {
   "metadata": {},
   "cell_type": "markdown",
   "source": "##### Feature engineering checks",
   "id": "985c1268d602b0e"
  },
  {
   "metadata": {
    "ExecuteTime": {
     "end_time": "2024-06-12T16:28:30.790699Z",
     "start_time": "2024-06-12T16:28:30.785688Z"
    }
   },
   "cell_type": "code",
   "source": [
    "def get_best_feature_engineering_techniques(X_train, X_test, y_train, y_test, max_pca_dim=5):\n",
    "    techniques = []\n",
    "    best_accuracy = 0\n",
    "    best_technique = ''\n",
    "    best_X_train = X_train\n",
    "    best_X_test = X_test\n",
    "\n",
    "    # No scaling or PCA (baseline)\n",
    "    techniques.append(('No Feature Engineering', X_train, X_test))\n",
    "\n",
    "    # Scaling only\n",
    "    scaler = StandardScaler()\n",
    "    X_train_scaled = scaler.fit_transform(X_train)\n",
    "    X_test_scaled = scaler.transform(X_test)\n",
    "    techniques.append(('Scaling Only', X_train_scaled, X_test_scaled))\n",
    "\n",
    "    # Scaling with PCA\n",
    "    for dim in range(1, max_pca_dim + 1):\n",
    "        pca = PCA(n_components=dim)\n",
    "        X_train_pca = pca.fit_transform(X_train_scaled)\n",
    "        X_test_pca = pca.transform(X_test_scaled)\n",
    "        techniques.append((f'Scaling + PCA with {dim} dimensions', X_train_pca, X_test_pca))\n",
    "\n",
    "    for name, X_train_transformed, X_test_transformed in techniques:\n",
    "        model = train_naive_bayes(X_train_transformed, y_train)\n",
    "        accuracy,_ = test_naive_bayes(model, X_test_transformed, y_test)\n",
    "        \n",
    "        if accuracy > best_accuracy:\n",
    "            best_accuracy = accuracy\n",
    "            best_technique = name\n",
    "            best_X_train = X_train_transformed\n",
    "            best_X_test = X_test_transformed\n",
    "\n",
    "    return best_accuracy, best_technique, best_X_train, best_X_test"
   ],
   "id": "baca56cea12ade78",
   "outputs": [],
   "execution_count": 749
  },
  {
   "metadata": {
    "ExecuteTime": {
     "end_time": "2024-06-12T16:28:30.863711Z",
     "start_time": "2024-06-12T16:28:30.830311Z"
    }
   },
   "cell_type": "code",
   "source": [
    "max_accuracy, best_technique, best_X_train, best_X_test = get_best_feature_engineering_techniques(x_train, x_test, y_train, y_test, max_pca_dim=5)\n",
    "print(f'Max Accuracy: {max_accuracy}')\n",
    "print(f'Best Feature Engineering Technique: {best_technique}')"
   ],
   "id": "5d2c65df95b1889d",
   "outputs": [
    {
     "name": "stdout",
     "output_type": "stream",
     "text": [
      "Max Accuracy: 0.8156424581005587\n",
      "Best Feature Engineering Technique: Scaling + PCA with 3 dimensions\n"
     ]
    }
   ],
   "execution_count": 750
  },
  {
   "cell_type": "markdown",
   "id": "67d97f11",
   "metadata": {},
   "source": [
    "## Part 3 - Training flow\n",
    "Use the best combination of feature engineering, model (algorithm and hyperparameters) from the experiment part (part 2)"
   ]
  },
  {
   "cell_type": "markdown",
   "id": "f2beb9f2",
   "metadata": {},
   "source": [
    "## KNN training:"
   ]
  },
  {
   "cell_type": "code",
   "id": "2122a400",
   "metadata": {
    "ExecuteTime": {
     "end_time": "2024-06-12T16:28:30.882506Z",
     "start_time": "2024-06-12T16:28:30.877229Z"
    }
   },
   "source": [
    "def train_KNN(x_train, y_train):\n",
    "    knn = KNeighborsClassifier(n_neighbors=11)\n",
    "    knn.fit(x_train, y_train)\n",
    "    return knn\n",
    "\n",
    "knn_trained = train_KNN(x_train,y_train)"
   ],
   "outputs": [],
   "execution_count": 751
  },
  {
   "cell_type": "markdown",
   "id": "d820924c",
   "metadata": {},
   "source": [
    "# Naive Bayes training:"
   ]
  },
  {
   "cell_type": "code",
   "id": "a45ef3a4d1ff30e2",
   "metadata": {
    "ExecuteTime": {
     "end_time": "2024-06-12T16:28:30.893354Z",
     "start_time": "2024-06-12T16:28:30.890015Z"
    }
   },
   "source": [
    "def train_best_model():\n",
    "    max_accuracy, best_technique, best_X_train, best_X_test = get_best_feature_engineering_techniques(x_train, x_test, y_train, y_test)\n",
    "    \n",
    "    # Train final model with the best feature engineering technique\n",
    "    final_model = train_naive_bayes(best_X_train, y_train)\n",
    "    final_accuracy,_ = test_naive_bayes(final_model, best_X_test, y_test)\n",
    "\n",
    "    return final_model, max_accuracy, best_technique, final_accuracy"
   ],
   "outputs": [],
   "execution_count": 752
  },
  {
   "metadata": {
    "ExecuteTime": {
     "end_time": "2024-06-12T16:28:30.946797Z",
     "start_time": "2024-06-12T16:28:30.907867Z"
    }
   },
   "cell_type": "code",
   "source": [
    "final_model, max_accuracy, best_technique, final_accuracy = train_best_model()\n",
    "print(f'Max Accuracy: {max_accuracy}')\n",
    "print(f'Best Feature Engineering Technique: {best_technique}')\n",
    "print(f'Final Model Accuracy: {final_accuracy}')"
   ],
   "id": "71369aa8",
   "outputs": [
    {
     "name": "stdout",
     "output_type": "stream",
     "text": [
      "Max Accuracy: 0.8156424581005587\n",
      "Best Feature Engineering Technique: Scaling + PCA with 3 dimensions\n",
      "Final Model Accuracy: 0.8156424581005587\n"
     ]
    }
   ],
   "execution_count": 753
  },
  {
   "cell_type": "markdown",
   "id": "259ab902",
   "metadata": {},
   "source": [
    "## Part 4 - Apply on test and show model performance estimation"
   ]
  },
  {
   "cell_type": "markdown",
   "id": "982fd267",
   "metadata": {},
   "source": [
    "## KNN algorithm testing:"
   ]
  },
  {
   "cell_type": "code",
   "id": "d9971aa5",
   "metadata": {
    "ExecuteTime": {
     "end_time": "2024-06-12T16:28:30.951647Z",
     "start_time": "2024-06-12T16:28:30.947802Z"
    }
   },
   "source": [
    "test_set = pd.read_csv(\"titanic_test.csv\")"
   ],
   "outputs": [],
   "execution_count": 754
  },
  {
   "cell_type": "code",
   "id": "686b0d71",
   "metadata": {
    "ExecuteTime": {
     "end_time": "2024-06-12T16:28:30.963313Z",
     "start_time": "2024-06-12T16:28:30.953654Z"
    }
   },
   "source": [
    "y_predict_knn = knn_trained.predict(x_test)\n",
    "accuracy = accuracy_score(y_test, y_predict_knn)\n",
    "print(\"accuracy: \", accuracy)"
   ],
   "outputs": [
    {
     "name": "stdout",
     "output_type": "stream",
     "text": [
      "accuracy:  0.7374301675977654\n"
     ]
    }
   ],
   "execution_count": 755
  },
  {
   "cell_type": "code",
   "id": "8a68001f",
   "metadata": {
    "ExecuteTime": {
     "end_time": "2024-06-12T16:28:31.433316Z",
     "start_time": "2024-06-12T16:28:30.964319Z"
    }
   },
   "source": [
    "def knn_test(x_train, y_train,x_test, y_test):\n",
    "    neighbors = np.arange(1, 50)\n",
    "    accuracy_scores = []\n",
    "    for n in neighbors:\n",
    "        knn = KNeighborsClassifier(n_neighbors=n)\n",
    "        knn.fit(x_train, y_train)\n",
    "        y_pred = knn.predict(x_test)\n",
    "        accuracy = accuracy_score(y_test, y_pred)\n",
    "        accuracy_scores.append(accuracy)\n",
    "    \n",
    "    return neighbors, accuracy_scores\n",
    "\n",
    "def plot_knn_test(neighbors, accuracy_scores):\n",
    "    plt.figure(figsize=(15, 10))\n",
    "    plt.plot(neighbors, accuracy_scores)\n",
    "    plt.xlabel('Number of Neighbors', fontsize=20)\n",
    "    plt.ylabel('Accuracy', fontsize=20)\n",
    "    plt.title('Accuracy vs. Number of Neighbors', fontsize=20)\n",
    "    \n",
    "    # Finding the maximum accuracy and its corresponding neighbor\n",
    "    max_index = np.argmax(accuracy_scores)\n",
    "    max_neighbor = neighbors[max_index]\n",
    "    max_accuracy = accuracy_scores[max_index]\n",
    "    \n",
    "    # Adding annotation\n",
    "    plt.annotate(f'Max Accuracy: {max_accuracy:.2f} ({max_neighbor} neighbors)',\n",
    "                 xy=(max_neighbor, max_accuracy),  # Arrowhead position\n",
    "                 xytext=(max_neighbor - 10, max_accuracy),  # Text position above the point\n",
    "                 arrowprops=dict(facecolor='orange', shrink=0.05),\n",
    "                 ha='right', fontsize=14, bbox=dict(facecolor='white', edgecolor='black', boxstyle='round,pad=0.5'))\n",
    "    plt.show()\n",
    "\n",
    "# Run the knn_test function and plot results\n",
    "neighbors, accuracy_scores = knn_test(x_train, y_train,x_test, y_test)\n",
    "plot_knn_test(neighbors, accuracy_scores)"
   ],
   "outputs": [
    {
     "data": {
      "text/plain": [
       "<Figure size 1500x1000 with 1 Axes>"
      ],
      "image/png": "[encoded data removed]"
     },
     "metadata": {},
     "output_type": "display_data"
    }
   ],
   "execution_count": 756
  },
  {
   "cell_type": "markdown",
   "id": "aa7b1f9b",
   "metadata": {},
   "source": [
    "## Naive Bayes algorithm testing:"
   ]
  },
  {
   "cell_type": "code",
   "id": "571697e9",
   "metadata": {
    "ExecuteTime": {
     "end_time": "2024-06-12T16:28:31.438824Z",
     "start_time": "2024-06-12T16:28:31.435325Z"
    }
   },
   "source": [
    "def train_best_model():\n",
    "    max_accuracy, best_technique, best_X_train, best_X_test = get_best_feature_engineering_techniques(x_train, x_test, y_train, y_test)\n",
    "    \n",
    "    # Train final model with the best feature engineering technique\n",
    "    final_model = train_naive_bayes(best_X_train, y_train)\n",
    "    final_accuracy, final_report = test_naive_bayes(final_model, best_X_test, y_test)\n",
    "\n",
    "    return final_model, max_accuracy, best_technique, final_accuracy, final_report\n",
    "\n",
    "def evaluate_model(model, X_test, y_test):\n",
    "    accuracy, report = test_naive_bayes(model, X_test, y_test)\n",
    "    print(f\"Accuracy: {accuracy}\")\n",
    "    print(\"Classification Report:\")\n",
    "    print(report)\n",
    "    return accuracy, report"
   ],
   "outputs": [],
   "execution_count": 757
  },
  {
   "metadata": {
    "ExecuteTime": {
     "end_time": "2024-06-12T16:28:31.476182Z",
     "start_time": "2024-06-12T16:28:31.439878Z"
    }
   },
   "cell_type": "code",
   "source": [
    "final_model, max_accuracy, best_technique, final_accuracy, final_report = train_best_model()\n",
    "print(f'Max Accuracy: {max_accuracy}')\n",
    "print(f'Best Feature Engineering Technique: {best_technique}')\n",
    "print(f'Final Model Accuracy: {final_accuracy}')\n",
    "print(\"Final Model Classification Report:\")\n",
    "print(final_report)"
   ],
   "id": "41ce4f65eb2f166e",
   "outputs": [
    {
     "name": "stdout",
     "output_type": "stream",
     "text": [
      "Max Accuracy: 0.8156424581005587\n",
      "Best Feature Engineering Technique: Scaling + PCA with 3 dimensions\n",
      "Final Model Accuracy: 0.8156424581005587\n",
      "Final Model Classification Report:\n",
      "              precision    recall  f1-score   support\n",
      "\n",
      "           0       0.85      0.88      0.86       118\n",
      "           1       0.75      0.69      0.72        61\n",
      "\n",
      "    accuracy                           0.82       179\n",
      "   macro avg       0.80      0.78      0.79       179\n",
      "weighted avg       0.81      0.82      0.81       179\n",
      "\n"
     ]
    }
   ],
   "execution_count": 758
  }
 ],
 "metadata": {
  "kernelspec": {
   "display_name": "Python 3 (ipykernel)",
   "language": "python",
   "name": "python3"
  },
  "language_info": {
   "codemirror_mode": {
    "name": "ipython",
    "version": 3
   },
   "file_extension": ".py",
   "mimetype": "text/x-python",
   "name": "python",
   "nbconvert_exporter": "python",
   "pygments_lexer": "ipython3",
   "version": "3.7.6"
  },
  "vscode": {
   "interpreter": {
    "hash": "49cb93f377a7abe7414b7b0f21fb3017538004a126cf690fb524202736b7fb92"
   }
  }
 },
 "nbformat": 4,
 "nbformat_minor": 5
}
