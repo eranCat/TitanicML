{
 "cells": [
  {
   "metadata": {},
   "cell_type": "markdown",
   "source": [
    "### Part 1 - Student details:\n",
    "* Please write the First Name and last 4 digits of the i.d. for each student. For example:\n",
    "<pre>Israel 7938</pre>"
   ],
   "id": "b06a2810"
  },
  {
   "cell_type": "code",
   "execution_count": null,
   "id": "ca16486b",
   "metadata": {},
   "outputs": [],
   "source": [
    "# student 1: Israel 7938\n",
    "# student 2: Eran 6215\n",
    "# student 3: Avihai 2474\n",
    "# student 4: Almog 8269\n",
    "# student 5: Liron 5068\n",
    "# student 6: Matan ####"
   ]
  },
  {
   "cell_type": "code",
   "execution_count": null,
   "id": "bac1a236",
   "metadata": {},
   "outputs": [],
   "source": []
  },
  {
   "cell_type": "markdown",
   "id": "fb36672a",
   "metadata": {},
   "source": [
    "## Part 2 - Experiments\n",
    "You could add as many code cells as needed"
   ]
  },
  {
   "cell_type": "code",
   "id": "b7098585",
   "metadata": {
    "ExecuteTime": {
     "end_time": "2024-06-02T13:21:43.699750Z",
     "start_time": "2024-06-02T13:21:43.697022Z"
    }
   },
   "source": [
    "import numpy as np\n",
    "import pandas as pd\n",
    "import matplotlib.pyplot as plt\n",
    "import sklearn as sklearn"
   ],
   "outputs": [],
   "execution_count": 8
  },
  {
   "metadata": {
    "ExecuteTime": {
     "end_time": "2024-06-03T08:34:39.729285Z",
     "start_time": "2024-06-03T08:34:39.720774Z"
    }
   },
   "cell_type": "code",
   "source": [
    "df_train = pd.read_csv('titanic_train.csv')\n",
    "survivedMan = df_train[(df_train['Sex'] == 1) & (df_train['Age'] > 18) & (df_train['Survived'] == 1)]\n",
    "survivedManCount = len(survivedMan)\n",
    "print(\"Survived man :\",survivedManCount)\n",
    "\n",
    "#Women\n",
    "survivedWomen = df_train[(df_train['Sex'] == 0) & (df_train['Age'] > 18) & (df_train['Survived'] == 1)]\n",
    "survivedWomenCount = len(survivedWomen)\n",
    "print(\"survived women:\",survivedWomenCount)\n",
    "\n",
    "survivedKids = df_train[(df_train['Age'] <= 18) & (df_train['Survived'] == 1)]\n",
    "survivedKidsCount = len(survivedKids)\n",
    "print(\"survived kids\",survivedKidsCount)\n",
    "\n",
    "survivedCount = len(df_train[df_train['Survived'] == 1])"
   ],
   "id": "2f80e4b19f01273d",
   "outputs": [
    {
     "name": "stdout",
     "output_type": "stream",
     "text": [
      "Survived man : 69\n",
      "survived women: 156\n",
      "survived kids 56\n"
     ]
    }
   ],
   "execution_count": 24
  },
  {
   "metadata": {},
   "cell_type": "markdown",
   "source": "## check if there's negative age",
   "id": "521bf486f46b876a"
  },
  {
   "metadata": {
    "ExecuteTime": {
     "end_time": "2024-06-03T08:33:46.899511Z",
     "start_time": "2024-06-03T08:33:46.896674Z"
    }
   },
   "cell_type": "code",
   "source": [
    "if (survivedCount == survivedManCount + survivedWomenCount + survivedKidsCount):\n",
    "    print(\"yes\")"
   ],
   "id": "b86144bfcf0a16e5",
   "outputs": [],
   "execution_count": 23
  },
  {
   "cell_type": "code",
   "id": "1fa9ec73",
   "metadata": {
    "ExecuteTime": {
     "end_time": "2024-06-03T08:27:28.668850Z",
     "start_time": "2024-06-03T08:27:28.663344Z"
    }
   },
   "source": "df_train.isnull().sum() ",
   "outputs": [
    {
     "data": {
      "text/plain": [
       "Pclass      0\n",
       "Sex         0\n",
       "Age         0\n",
       "SibSp       0\n",
       "Parch       0\n",
       "Fare        0\n",
       "Embarked    0\n",
       "Survived    0\n",
       "dtype: int64"
      ]
     },
     "execution_count": 22,
     "metadata": {},
     "output_type": "execute_result"
    }
   ],
   "execution_count": 22
  },
  {
   "metadata": {},
   "cell_type": "code",
   "outputs": [],
   "execution_count": null,
   "source": "",
   "id": "47f2412e58abea3c"
  },
  {
   "cell_type": "code",
   "execution_count": null,
   "id": "937b653d",
   "metadata": {},
   "outputs": [],
   "source": []
  },
  {
   "cell_type": "markdown",
   "id": "67d97f11",
   "metadata": {},
   "source": [
    "## Part 3 - Training flow\n",
    "Use the best combination of feature engineering, model (algorithm and hyperparameters) from the experiment part (part 2)"
   ]
  },
  {
   "cell_type": "code",
   "id": "93713ead",
   "metadata": {
    "ExecuteTime": {
     "end_time": "2024-06-03T08:16:18.578662Z",
     "start_time": "2024-06-03T08:16:18.512548Z"
    }
   },
   "source": "df_train = pd.read_csv('titanic_train.csv')",
   "outputs": [],
   "execution_count": 9
  },
  {
   "cell_type": "code",
   "id": "c0fc460d",
   "metadata": {
    "ExecuteTime": {
     "end_time": "2024-06-03T08:18:36.984593Z",
     "start_time": "2024-06-03T08:18:36.982467Z"
    }
   },
   "source": "",
   "outputs": [],
   "execution_count": 14
  },
  {
   "cell_type": "code",
   "execution_count": null,
   "id": "064ad0a0",
   "metadata": {},
   "outputs": [],
   "source": []
  },
  {
   "cell_type": "markdown",
   "id": "259ab902",
   "metadata": {},
   "source": [
    "## Part 4 - Apply on test and show model performance estimation"
   ]
  },
  {
   "cell_type": "code",
   "execution_count": null,
   "id": "d9971aa5",
   "metadata": {},
   "outputs": [],
   "source": "df_test = pd.read_csv('titanic_test.csv')"
  },
  {
   "cell_type": "code",
   "execution_count": null,
   "id": "00d8aa96",
   "metadata": {},
   "outputs": [],
   "source": []
  }
 ],
 "metadata": {
  "kernelspec": {
   "display_name": "Python 3 (ipykernel)",
   "language": "python",
   "name": "python3"
  },
  "language_info": {
   "codemirror_mode": {
    "name": "ipython",
    "version": 3
   },
   "file_extension": ".py",
   "mimetype": "text/x-python",
   "name": "python",
   "nbconvert_exporter": "python",
   "pygments_lexer": "ipython3",
   "version": "3.9.7"
  }
 },
 "nbformat": 4,
 "nbformat_minor": 5
}
