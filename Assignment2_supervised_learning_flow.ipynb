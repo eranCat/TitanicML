{
 "cells": [
  {
   "cell_type": "markdown",
   "id": "11302e92",
   "metadata": {
    "colab_type": "text",
    "id": "view-in-github"
   },
   "source": [
    "<a href=\"https://colab.research.google.com/github/eranCat/TitanicML/blob/dev/Assignment2_supervised_learning_flow.ipynb\" target=\"_parent\"><img src=\"https://colab.research.google.com/assets/colab-badge.svg\" alt=\"Open In Colab\"/></a>"
   ]
  },
  {
   "cell_type": "markdown",
   "id": "b06a2810",
   "metadata": {
    "id": "b06a2810"
   },
   "source": [
    "### Part 1 - Student details:\n",
    "* Please write the First Name and last 4 digits of the i.d. for each student. For example:\n",
    "<pre>Israel 7938</pre>"
   ]
  },
  {
   "cell_type": "code",
   "id": "ca16486b",
   "metadata": {
    "id": "ca16486b",
    "ExecuteTime": {
     "end_time": "2024-06-13T18:16:58.711604Z",
     "start_time": "2024-06-13T18:16:58.708673Z"
    }
   },
   "source": [
    "# student 1: Israel 7938\n",
    "# student 2: Eran 6215\n",
    "# student 3: Avihai 2474\n",
    "# student 4: Almog 8269\n",
    "# student 5: Liron 5068\n",
    "# student 6: Matan 9999"
   ],
   "outputs": [],
   "execution_count": 280
  },
  {
   "cell_type": "markdown",
   "id": "fb36672a",
   "metadata": {
    "id": "fb36672a"
   },
   "source": [
    "## Part 2 - Experiments\n",
    "You could add as many code cells as needed"
   ]
  },
  {
   "cell_type": "code",
   "id": "b7098585",
   "metadata": {
    "id": "b7098585",
    "ExecuteTime": {
     "end_time": "2024-06-13T18:16:58.901859Z",
     "start_time": "2024-06-13T18:16:58.897618Z"
    }
   },
   "source": [
    "import matplotlib.pyplot as plt\n",
    "import numpy as np\n",
    "import pandas as pd\n",
    "import seaborn as sns\n",
    "from sklearn.decomposition import PCA\n",
    "from sklearn.metrics import accuracy_score\n",
    "from sklearn.naive_bayes import GaussianNB\n",
    "from sklearn.metrics import accuracy_score, classification_report, recall_score, precision_score, confusion_matrix\n",
    "from sklearn.neighbors import KNeighborsClassifier\n",
    "from sklearn.pipeline import Pipeline\n",
    "from sklearn.preprocessing import StandardScaler\n",
    "from sklearn.model_selection import StratifiedShuffleSplit, cross_val_score\n",
    "from sklearn.utils.multiclass import unique_labels\n",
    "from sklearn.model_selection import GridSearchCV, KFold\n"
   ],
   "outputs": [],
   "execution_count": 281
  },
  {
   "cell_type": "code",
   "id": "3b63b9d3-65e3-4151-a240-8d7236e7d9f1",
   "metadata": {
    "id": "3b63b9d3-65e3-4151-a240-8d7236e7d9f1",
    "ExecuteTime": {
     "end_time": "2024-06-13T18:16:58.925824Z",
     "start_time": "2024-06-13T18:16:58.919928Z"
    }
   },
   "source": [
    "train_set = pd.read_csv('titanic_train.csv')\n",
    "test_set = pd.read_csv(\"titanic_test.csv\")"
   ],
   "outputs": [],
   "execution_count": 282
  },
  {
   "cell_type": "code",
   "id": "fad49cb1f89e16a6",
   "metadata": {
    "colab": {
     "base_uri": "https://localhost:8080/",
     "height": 206
    },
    "id": "fad49cb1f89e16a6",
    "outputId": "5acb7aaf-da96-46ee-c0c7-6482c39d22c7",
    "ExecuteTime": {
     "end_time": "2024-06-13T18:16:58.933198Z",
     "start_time": "2024-06-13T18:16:58.926828Z"
    }
   },
   "source": [
    "train_set.head(5)"
   ],
   "outputs": [
    {
     "data": {
      "text/plain": [
       "   Pclass  Sex   Age  SibSp  Parch     Fare  Embarked  Survived\n",
       "0       1    0  54.0      1      0  78.2667         1         1\n",
       "1       2    0  45.0      0      0  13.5000         0         1\n",
       "2       3    1  20.0      0      0   9.5000         0         0\n",
       "3       3    1  36.0      0      0   7.8958         0         0\n",
       "4       3    1  22.0      0      0   8.0500         0         0"
      ],
      "text/html": [
       "<div>\n",
       "<style scoped>\n",
       "    .dataframe tbody tr th:only-of-type {\n",
       "        vertical-align: middle;\n",
       "    }\n",
       "\n",
       "    .dataframe tbody tr th {\n",
       "        vertical-align: top;\n",
       "    }\n",
       "\n",
       "    .dataframe thead th {\n",
       "        text-align: right;\n",
       "    }\n",
       "</style>\n",
       "<table border=\"1\" class=\"dataframe\">\n",
       "  <thead>\n",
       "    <tr style=\"text-align: right;\">\n",
       "      <th></th>\n",
       "      <th>Pclass</th>\n",
       "      <th>Sex</th>\n",
       "      <th>Age</th>\n",
       "      <th>SibSp</th>\n",
       "      <th>Parch</th>\n",
       "      <th>Fare</th>\n",
       "      <th>Embarked</th>\n",
       "      <th>Survived</th>\n",
       "    </tr>\n",
       "  </thead>\n",
       "  <tbody>\n",
       "    <tr>\n",
       "      <th>0</th>\n",
       "      <td>1</td>\n",
       "      <td>0</td>\n",
       "      <td>54.0</td>\n",
       "      <td>1</td>\n",
       "      <td>0</td>\n",
       "      <td>78.2667</td>\n",
       "      <td>1</td>\n",
       "      <td>1</td>\n",
       "    </tr>\n",
       "    <tr>\n",
       "      <th>1</th>\n",
       "      <td>2</td>\n",
       "      <td>0</td>\n",
       "      <td>45.0</td>\n",
       "      <td>0</td>\n",
       "      <td>0</td>\n",
       "      <td>13.5000</td>\n",
       "      <td>0</td>\n",
       "      <td>1</td>\n",
       "    </tr>\n",
       "    <tr>\n",
       "      <th>2</th>\n",
       "      <td>3</td>\n",
       "      <td>1</td>\n",
       "      <td>20.0</td>\n",
       "      <td>0</td>\n",
       "      <td>0</td>\n",
       "      <td>9.5000</td>\n",
       "      <td>0</td>\n",
       "      <td>0</td>\n",
       "    </tr>\n",
       "    <tr>\n",
       "      <th>3</th>\n",
       "      <td>3</td>\n",
       "      <td>1</td>\n",
       "      <td>36.0</td>\n",
       "      <td>0</td>\n",
       "      <td>0</td>\n",
       "      <td>7.8958</td>\n",
       "      <td>0</td>\n",
       "      <td>0</td>\n",
       "    </tr>\n",
       "    <tr>\n",
       "      <th>4</th>\n",
       "      <td>3</td>\n",
       "      <td>1</td>\n",
       "      <td>22.0</td>\n",
       "      <td>0</td>\n",
       "      <td>0</td>\n",
       "      <td>8.0500</td>\n",
       "      <td>0</td>\n",
       "      <td>0</td>\n",
       "    </tr>\n",
       "  </tbody>\n",
       "</table>\n",
       "</div>"
      ]
     },
     "execution_count": 283,
     "metadata": {},
     "output_type": "execute_result"
    }
   ],
   "execution_count": 283
  },
  {
   "cell_type": "code",
   "id": "44e1892e76c7f660",
   "metadata": {
    "colab": {
     "base_uri": "https://localhost:8080/",
     "height": 206
    },
    "id": "44e1892e76c7f660",
    "outputId": "47a99d40-5649-493b-bb44-c3dfdedf3d9e",
    "ExecuteTime": {
     "end_time": "2024-06-13T18:16:58.970613Z",
     "start_time": "2024-06-13T18:16:58.963748Z"
    }
   },
   "source": [
    "test_set.head(5)"
   ],
   "outputs": [
    {
     "data": {
      "text/plain": [
       "   Pclass  Sex        Age  SibSp  Parch     Fare  Embarked  Survived\n",
       "0       3    1  35.000000      0      0   7.0500         0         0\n",
       "1       3    1  30.000000      0      0   7.2500         0         0\n",
       "2       3    1  29.699118      0      0  14.5000         0         0\n",
       "3       3    0  21.000000      0      0   7.7500         2         0\n",
       "4       3    1  32.000000      0      0  56.4958         0         1"
      ],
      "text/html": [
       "<div>\n",
       "<style scoped>\n",
       "    .dataframe tbody tr th:only-of-type {\n",
       "        vertical-align: middle;\n",
       "    }\n",
       "\n",
       "    .dataframe tbody tr th {\n",
       "        vertical-align: top;\n",
       "    }\n",
       "\n",
       "    .dataframe thead th {\n",
       "        text-align: right;\n",
       "    }\n",
       "</style>\n",
       "<table border=\"1\" class=\"dataframe\">\n",
       "  <thead>\n",
       "    <tr style=\"text-align: right;\">\n",
       "      <th></th>\n",
       "      <th>Pclass</th>\n",
       "      <th>Sex</th>\n",
       "      <th>Age</th>\n",
       "      <th>SibSp</th>\n",
       "      <th>Parch</th>\n",
       "      <th>Fare</th>\n",
       "      <th>Embarked</th>\n",
       "      <th>Survived</th>\n",
       "    </tr>\n",
       "  </thead>\n",
       "  <tbody>\n",
       "    <tr>\n",
       "      <th>0</th>\n",
       "      <td>3</td>\n",
       "      <td>1</td>\n",
       "      <td>35.000000</td>\n",
       "      <td>0</td>\n",
       "      <td>0</td>\n",
       "      <td>7.0500</td>\n",
       "      <td>0</td>\n",
       "      <td>0</td>\n",
       "    </tr>\n",
       "    <tr>\n",
       "      <th>1</th>\n",
       "      <td>3</td>\n",
       "      <td>1</td>\n",
       "      <td>30.000000</td>\n",
       "      <td>0</td>\n",
       "      <td>0</td>\n",
       "      <td>7.2500</td>\n",
       "      <td>0</td>\n",
       "      <td>0</td>\n",
       "    </tr>\n",
       "    <tr>\n",
       "      <th>2</th>\n",
       "      <td>3</td>\n",
       "      <td>1</td>\n",
       "      <td>29.699118</td>\n",
       "      <td>0</td>\n",
       "      <td>0</td>\n",
       "      <td>14.5000</td>\n",
       "      <td>0</td>\n",
       "      <td>0</td>\n",
       "    </tr>\n",
       "    <tr>\n",
       "      <th>3</th>\n",
       "      <td>3</td>\n",
       "      <td>0</td>\n",
       "      <td>21.000000</td>\n",
       "      <td>0</td>\n",
       "      <td>0</td>\n",
       "      <td>7.7500</td>\n",
       "      <td>2</td>\n",
       "      <td>0</td>\n",
       "    </tr>\n",
       "    <tr>\n",
       "      <th>4</th>\n",
       "      <td>3</td>\n",
       "      <td>1</td>\n",
       "      <td>32.000000</td>\n",
       "      <td>0</td>\n",
       "      <td>0</td>\n",
       "      <td>56.4958</td>\n",
       "      <td>0</td>\n",
       "      <td>1</td>\n",
       "    </tr>\n",
       "  </tbody>\n",
       "</table>\n",
       "</div>"
      ]
     },
     "execution_count": 284,
     "metadata": {},
     "output_type": "execute_result"
    }
   ],
   "execution_count": 284
  },
  {
   "cell_type": "code",
   "id": "097afb02",
   "metadata": {
    "id": "097afb02",
    "ExecuteTime": {
     "end_time": "2024-06-13T18:16:58.977185Z",
     "start_time": "2024-06-13T18:16:58.971616Z"
    }
   },
   "source": [
    "def showSurvivorsByGenderAndChildren():\n",
    "    survivors = train_set[train_set['Survived'] == 1]\n",
    "\n",
    "    #Men\n",
    "    survived_man = survivors[(survivors['Sex'] == 1) & (survivors['Age'] > 18)]\n",
    "    survived_man_count = len(survived_man)\n",
    "\n",
    "    #Women\n",
    "    survived_women = survivors[(survivors['Sex'] == 0) & (survivors['Age'] > 18)]\n",
    "    survived_women_count = len(survived_women)\n",
    "\n",
    "    #Kids\n",
    "    survived_kids = survivors[survivors['Age'] <= 18]\n",
    "    survived_kids_count = len(survived_kids)\n",
    "\n",
    "    survived_count = len(survivors)\n",
    "\n",
    "    return [survived_man_count, survived_women_count, survived_kids_count, survived_count]"
   ],
   "outputs": [],
   "execution_count": 285
  },
  {
   "cell_type": "code",
   "id": "bb935bb89ff5944a",
   "metadata": {
    "colab": {
     "base_uri": "https://localhost:8080/",
     "height": 196
    },
    "id": "bb935bb89ff5944a",
    "outputId": "a689b4d6-83dd-44e3-af8f-a2e8b1d24639",
    "ExecuteTime": {
     "end_time": "2024-06-13T18:16:58.991045Z",
     "start_time": "2024-06-13T18:16:58.986700Z"
    }
   },
   "source": [
    "display(train_set.isnull().sum())\n",
    "print(\"No missing values in train set\")"
   ],
   "outputs": [
    {
     "data": {
      "text/plain": [
       "Pclass      0\n",
       "Sex         0\n",
       "Age         0\n",
       "SibSp       0\n",
       "Parch       0\n",
       "Fare        0\n",
       "Embarked    0\n",
       "Survived    0\n",
       "dtype: int64"
      ]
     },
     "metadata": {},
     "output_type": "display_data"
    },
    {
     "name": "stdout",
     "output_type": "stream",
     "text": [
      "No missing values in train set\n"
     ]
    }
   ],
   "execution_count": 286
  },
  {
   "cell_type": "markdown",
   "id": "e37306794f874a57",
   "metadata": {
    "id": "e37306794f874a57"
   },
   "source": [
    "## Visualization"
   ]
  },
  {
   "cell_type": "code",
   "id": "fc8c19fde8f6d1a7",
   "metadata": {
    "id": "fc8c19fde8f6d1a7",
    "ExecuteTime": {
     "end_time": "2024-06-13T18:16:59.021027Z",
     "start_time": "2024-06-13T18:16:59.016581Z"
    }
   },
   "source": [
    "# Creating a dataframe for the pie plot using the given parameters\n",
    "def create_pie_table(population):\n",
    "    data = {'Category': ['Male', 'Female', 'Kids', 'Total'],\n",
    "            'Survived': population}\n",
    "\n",
    "    survivors_df = pd.DataFrame(data)\n",
    "    survived_count = population[-1]  #get last item\n",
    "\n",
    "    survivors_df['Percentage'] = survivors_df['Survived'].apply(lambda x: round((x / survived_count) * 100, 1))\n",
    "    return survivors_df\n",
    "\n",
    "\n",
    "def show_pie_survived(population_counts):\n",
    "    labels = ['Male', 'Female', 'Kids']\n",
    "    colors = ['#E91694', '#94E916', '#1694E9']\n",
    "    fig, ax = plt.subplots(figsize=(18, 10))\n",
    "    ax.pie(population_counts, labels=labels, autopct='%1.1f%%', colors=colors, textprops={'fontsize': 20})\n",
    "    plt.title('Survivors of the Titanic', fontsize=20)\n",
    "    fig.patch.set_facecolor('white')\n",
    "    plt.show()"
   ],
   "outputs": [],
   "execution_count": 287
  },
  {
   "cell_type": "code",
   "id": "3cf7c4e832f50405",
   "metadata": {
    "colab": {
     "base_uri": "https://localhost:8080/",
     "height": 995
    },
    "id": "3cf7c4e832f50405",
    "outputId": "3ae6f15f-e9c3-4e7d-fb12-d611025ae8c5",
    "ExecuteTime": {
     "end_time": "2024-06-13T18:16:59.150562Z",
     "start_time": "2024-06-13T18:16:59.080461Z"
    }
   },
   "source": [
    "population = showSurvivorsByGenderAndChildren()\n",
    "\n",
    "# Creating a data table for the pie plot\n",
    "survived_percentage_df = create_pie_table(population)\n",
    "display(survived_percentage_df)\n",
    "\n",
    "population.pop()  #remove last item - total count\n",
    "show_pie_survived(population)"
   ],
   "outputs": [
    {
     "data": {
      "text/plain": [
       "  Category  Survived  Percentage\n",
       "0     Male        69        24.6\n",
       "1   Female       156        55.5\n",
       "2     Kids        56        19.9\n",
       "3    Total       281       100.0"
      ],
      "text/html": [
       "<div>\n",
       "<style scoped>\n",
       "    .dataframe tbody tr th:only-of-type {\n",
       "        vertical-align: middle;\n",
       "    }\n",
       "\n",
       "    .dataframe tbody tr th {\n",
       "        vertical-align: top;\n",
       "    }\n",
       "\n",
       "    .dataframe thead th {\n",
       "        text-align: right;\n",
       "    }\n",
       "</style>\n",
       "<table border=\"1\" class=\"dataframe\">\n",
       "  <thead>\n",
       "    <tr style=\"text-align: right;\">\n",
       "      <th></th>\n",
       "      <th>Category</th>\n",
       "      <th>Survived</th>\n",
       "      <th>Percentage</th>\n",
       "    </tr>\n",
       "  </thead>\n",
       "  <tbody>\n",
       "    <tr>\n",
       "      <th>0</th>\n",
       "      <td>Male</td>\n",
       "      <td>69</td>\n",
       "      <td>24.6</td>\n",
       "    </tr>\n",
       "    <tr>\n",
       "      <th>1</th>\n",
       "      <td>Female</td>\n",
       "      <td>156</td>\n",
       "      <td>55.5</td>\n",
       "    </tr>\n",
       "    <tr>\n",
       "      <th>2</th>\n",
       "      <td>Kids</td>\n",
       "      <td>56</td>\n",
       "      <td>19.9</td>\n",
       "    </tr>\n",
       "    <tr>\n",
       "      <th>3</th>\n",
       "      <td>Total</td>\n",
       "      <td>281</td>\n",
       "      <td>100.0</td>\n",
       "    </tr>\n",
       "  </tbody>\n",
       "</table>\n",
       "</div>"
      ]
     },
     "metadata": {},
     "output_type": "display_data"
    },
    {
     "data": {
      "text/plain": [
       "<Figure size 1800x1000 with 1 Axes>"
      ],
      "image/png": "[encoded data removed]"
     },
     "metadata": {},
     "output_type": "display_data"
    }
   ],
   "execution_count": 288
  },
  {
   "cell_type": "code",
   "id": "9e5fbd1ece780578",
   "metadata": {
    "id": "9e5fbd1ece780578",
    "ExecuteTime": {
     "end_time": "2024-06-13T18:16:59.203299Z",
     "start_time": "2024-06-13T18:16:59.198990Z"
    }
   },
   "source": [
    "def plot_hist_gender_survivors():\n",
    "    fig, axes = plt.subplots(nrows=1, ncols=2, figsize=(20, 8))\n",
    "\n",
    "    genders = {'Female': 0, 'Male': 1}\n",
    "    colors = {'survived': [\"#76FF00\", \"#FF5100\"], 'not_survived': [\"#8900FF\", \"#00AEFF\"]}\n",
    "\n",
    "    #loop through the combinations of gender and survived status\n",
    "    for ax, (title, sex) in zip(axes, genders.items()):\n",
    "        for status, color in colors.items():\n",
    "            ages = train_set[(train_set['Sex'] == sex) & (train_set['Survived'] == (status == 'survived'))].Age\n",
    "            sns.histplot(ages, bins=10, label=status, ax=ax, kde=False, color=color[sex])\n",
    "\n",
    "        ax.legend()\n",
    "        ax.set_title(title)\n",
    "\n",
    "    plt.show()"
   ],
   "outputs": [],
   "execution_count": 289
  },
  {
   "cell_type": "code",
   "id": "f68ab96a",
   "metadata": {
    "id": "f68ab96a",
    "ExecuteTime": {
     "end_time": "2024-06-13T18:16:59.232684Z",
     "start_time": "2024-06-13T18:16:59.227620Z"
    }
   },
   "source": [
    "# Making DataFrame for the histogram above with age group\n",
    "def createHistTableAG(data_frame):\n",
    "    age_bins = [0, 10, 20, 30, 40, 50, 60, 70, 80]\n",
    "    age_labels = ['0-10', '11-20', '21-30', '31-40', '41-50', '51-60', '61-70', '71-80']\n",
    "\n",
    "    data_frame = data_frame.copy()\n",
    "    data_frame['AgeGroup'] = pd.cut(data_frame['Age'], bins=age_bins, labels=age_labels, right=False)\n",
    "\n",
    "    data = {\n",
    "        'AgeGroup': age_labels,\n",
    "        'Survived Women': [],\n",
    "        'Not Survived Women': [],\n",
    "        'Survived Men': [],\n",
    "        'Not Survived Men': []\n",
    "    }\n",
    "\n",
    "    for age_group in age_labels:\n",
    "        survived_women = len(data_frame[(data_frame['AgeGroup'] == age_group) & (data_frame['Sex'] == 0) & (\n",
    "                data_frame['Survived'] == 1)])\n",
    "        not_survived_women = len(data_frame[(data_frame['AgeGroup'] == age_group) & (data_frame['Sex'] == 0) & (\n",
    "                data_frame['Survived'] == 0)])\n",
    "        survived_men = len(data_frame[(data_frame['AgeGroup'] == age_group) & (data_frame['Sex'] == 1) & (\n",
    "                data_frame['Survived'] == 1)])\n",
    "        not_survived_men = len(data_frame[(data_frame['AgeGroup'] == age_group) & (data_frame['Sex'] == 1) & (\n",
    "                data_frame['Survived'] == 0)])\n",
    "\n",
    "        data['Survived Women'].append(survived_women)\n",
    "        data['Not Survived Women'].append(not_survived_women)\n",
    "        data['Survived Men'].append(survived_men)\n",
    "        data['Not Survived Men'].append(not_survived_men)\n",
    "\n",
    "    survivors_by_age = pd.DataFrame(data)\n",
    "\n",
    "    return survivors_by_age"
   ],
   "outputs": [],
   "execution_count": 290
  },
  {
   "cell_type": "code",
   "id": "ec27ace9",
   "metadata": {
    "colab": {
     "base_uri": "https://localhost:8080/",
     "height": 741
    },
    "id": "ec27ace9",
    "outputId": "bff99b52-0243-45fe-a683-2c33f35b76b4",
    "ExecuteTime": {
     "end_time": "2024-06-13T18:16:59.633170Z",
     "start_time": "2024-06-13T18:16:59.247717Z"
    }
   },
   "source": [
    "#Creating a data table for the histogram with age group\n",
    "histTableAges = createHistTableAG(train_set)\n",
    "display(histTableAges)\n",
    "\n",
    "plot_hist_gender_survivors()"
   ],
   "outputs": [
    {
     "data": {
      "text/plain": [
       "  AgeGroup  Survived Women  Not Survived Women  Survived Men  Not Survived Men\n",
       "0     0-10              16                   9            15                12\n",
       "1    11-20              28                   8             5                44\n",
       "2    21-30              75                  28            33               180\n",
       "3    31-40              44                   7            19                59\n",
       "4    41-50              18                   9             9                35\n",
       "5    51-60               9                   2             4                23\n",
       "6    61-70               3                   0             2                10\n",
       "7    71-80               0                   0             0                 5"
      ],
      "text/html": [
       "<div>\n",
       "<style scoped>\n",
       "    .dataframe tbody tr th:only-of-type {\n",
       "        vertical-align: middle;\n",
       "    }\n",
       "\n",
       "    .dataframe tbody tr th {\n",
       "        vertical-align: top;\n",
       "    }\n",
       "\n",
       "    .dataframe thead th {\n",
       "        text-align: right;\n",
       "    }\n",
       "</style>\n",
       "<table border=\"1\" class=\"dataframe\">\n",
       "  <thead>\n",
       "    <tr style=\"text-align: right;\">\n",
       "      <th></th>\n",
       "      <th>AgeGroup</th>\n",
       "      <th>Survived Women</th>\n",
       "      <th>Not Survived Women</th>\n",
       "      <th>Survived Men</th>\n",
       "      <th>Not Survived Men</th>\n",
       "    </tr>\n",
       "  </thead>\n",
       "  <tbody>\n",
       "    <tr>\n",
       "      <th>0</th>\n",
       "      <td>0-10</td>\n",
       "      <td>16</td>\n",
       "      <td>9</td>\n",
       "      <td>15</td>\n",
       "      <td>12</td>\n",
       "    </tr>\n",
       "    <tr>\n",
       "      <th>1</th>\n",
       "      <td>11-20</td>\n",
       "      <td>28</td>\n",
       "      <td>8</td>\n",
       "      <td>5</td>\n",
       "      <td>44</td>\n",
       "    </tr>\n",
       "    <tr>\n",
       "      <th>2</th>\n",
       "      <td>21-30</td>\n",
       "      <td>75</td>\n",
       "      <td>28</td>\n",
       "      <td>33</td>\n",
       "      <td>180</td>\n",
       "    </tr>\n",
       "    <tr>\n",
       "      <th>3</th>\n",
       "      <td>31-40</td>\n",
       "      <td>44</td>\n",
       "      <td>7</td>\n",
       "      <td>19</td>\n",
       "      <td>59</td>\n",
       "    </tr>\n",
       "    <tr>\n",
       "      <th>4</th>\n",
       "      <td>41-50</td>\n",
       "      <td>18</td>\n",
       "      <td>9</td>\n",
       "      <td>9</td>\n",
       "      <td>35</td>\n",
       "    </tr>\n",
       "    <tr>\n",
       "      <th>5</th>\n",
       "      <td>51-60</td>\n",
       "      <td>9</td>\n",
       "      <td>2</td>\n",
       "      <td>4</td>\n",
       "      <td>23</td>\n",
       "    </tr>\n",
       "    <tr>\n",
       "      <th>6</th>\n",
       "      <td>61-70</td>\n",
       "      <td>3</td>\n",
       "      <td>0</td>\n",
       "      <td>2</td>\n",
       "      <td>10</td>\n",
       "    </tr>\n",
       "    <tr>\n",
       "      <th>7</th>\n",
       "      <td>71-80</td>\n",
       "      <td>0</td>\n",
       "      <td>0</td>\n",
       "      <td>0</td>\n",
       "      <td>5</td>\n",
       "    </tr>\n",
       "  </tbody>\n",
       "</table>\n",
       "</div>"
      ]
     },
     "metadata": {},
     "output_type": "display_data"
    },
    {
     "data": {
      "text/plain": [
       "<Figure size 2000x800 with 2 Axes>"
      ],
      "image/png": "[encoded data removed]"
     },
     "metadata": {},
     "output_type": "display_data"
    }
   ],
   "execution_count": 291
  },
  {
   "cell_type": "code",
   "id": "3f155c28dca9db7c",
   "metadata": {
    "colab": {
     "base_uri": "https://localhost:8080/",
     "height": 711
    },
    "id": "3f155c28dca9db7c",
    "outputId": "4b40e51f-afc0-4e80-aa69-1cb66f7aa2c7",
    "ExecuteTime": {
     "end_time": "2024-06-13T18:16:59.850509Z",
     "start_time": "2024-06-13T18:16:59.634174Z"
    }
   },
   "source": [
    "# Create a figure with a specific size\n",
    "plt.figure(figsize=(10, 10))\n",
    "\n",
    "# Calculate the correlation matrix\n",
    "corr = train_set.corr()\n",
    "\n",
    "# Define a custom diverging color palette\n",
    "cmap = sns.diverging_palette(290, 205, as_cmap=True)\n",
    "\n",
    "# Create a heatmap of the correlation matrix\n",
    "sns.heatmap(corr,\n",
    "            cmap=cmap,       # Use the custom color palette\n",
    "            annot=True,      # Annotate cells with correlation coefficients\n",
    "            square=True,     # Force the cells to be square-shaped\n",
    "            linewidths=1.5,  # Set the width of the lines between cells\n",
    "            cbar_kws={\"shrink\": .8})  # Shrink the color bar to fit better\n",
    "\n",
    "# Set the title of the heatmap\n",
    "plt.title('Correlation Heatmap Visualization', fontsize=20)\n",
    "\n",
    "# Rotate y-axis tick labels to be horizontal\n",
    "plt.yticks(rotation=0)\n",
    "\n",
    "# Display the plot\n",
    "plt.show()"
   ],
   "outputs": [
    {
     "data": {
      "text/plain": [
       "<Figure size 1000x1000 with 2 Axes>"
      ],
      "image/png": "[encoded data removed]"
     },
     "metadata": {},
     "output_type": "display_data"
    }
   ],
   "execution_count": 292
  },
  {
   "cell_type": "markdown",
   "id": "9eabfd0cdcfcb8a1",
   "metadata": {
    "id": "9eabfd0cdcfcb8a1"
   },
   "source": [
    "## Extract x_train/test and y_train/test"
   ]
  },
  {
   "cell_type": "code",
   "id": "eb55838794f5c8d4",
   "metadata": {
    "id": "eb55838794f5c8d4",
    "ExecuteTime": {
     "end_time": "2024-06-13T18:16:59.856018Z",
     "start_time": "2024-06-13T18:16:59.851513Z"
    }
   },
   "source": [
    "features = ['Pclass', 'Sex', 'Age', 'SibSp', 'Parch', 'Fare']\n",
    "label = 'Survived'\n",
    "x_train = train_set[features]\n",
    "y_train = train_set[label]\n",
    "\n",
    "x_test = test_set[features]\n",
    "y_test = test_set[label]"
   ],
   "outputs": [],
   "execution_count": 293
  },
  {
   "cell_type": "markdown",
   "id": "1eae09fb",
   "metadata": {
    "id": "1eae09fb"
   },
   "source": [
    "# Feature engineering"
   ]
  },
  {
   "cell_type": "markdown",
   "id": "36f7d419",
   "metadata": {
    "id": "36f7d419"
   },
   "source": [
    "### Find Outliers"
   ]
  },
  {
   "cell_type": "markdown",
   "id": "e327ea55",
   "metadata": {
    "id": "e327ea55"
   },
   "source": [
    "#### let's check for Age outliers (using boxplot)"
   ]
  },
  {
   "cell_type": "code",
   "id": "fe24dce1",
   "metadata": {
    "colab": {
     "base_uri": "https://localhost:8080/",
     "height": 429
    },
    "id": "fe24dce1",
    "outputId": "d91270f3-8a4f-4594-9825-9c53968346ac",
    "ExecuteTime": {
     "end_time": "2024-06-13T18:17:00.056317Z",
     "start_time": "2024-06-13T18:16:59.856018Z"
    }
   },
   "source": [
    "# Fare outliers\n",
    "sns.boxplot(train_set.Fare)"
   ],
   "outputs": [
    {
     "data": {
      "text/plain": [
       "<Axes: ylabel='Fare'>"
      ]
     },
     "execution_count": 294,
     "metadata": {},
     "output_type": "execute_result"
    },
    {
     "data": {
      "text/plain": [
       "<Figure size 640x480 with 1 Axes>"
      ],
      "image/png": "[encoded data removed]"
     },
     "metadata": {},
     "output_type": "display_data"
    }
   ],
   "execution_count": 294
  },
  {
   "cell_type": "code",
   "id": "e814b84e",
   "metadata": {
    "colab": {
     "base_uri": "https://localhost:8080/"
    },
    "id": "e814b84e",
    "outputId": "1a1ca8ac-66df-4c33-d405-56d588134240",
    "ExecuteTime": {
     "end_time": "2024-06-13T18:17:00.061654Z",
     "start_time": "2024-06-13T18:17:00.057835Z"
    }
   },
   "source": [
    "train_set[\"Fare\"].median()"
   ],
   "outputs": [
    {
     "data": {
      "text/plain": [
       "14.5"
      ]
     },
     "execution_count": 295,
     "metadata": {},
     "output_type": "execute_result"
    }
   ],
   "execution_count": 295
  },
  {
   "cell_type": "code",
   "id": "7add523c",
   "metadata": {
    "colab": {
     "base_uri": "https://localhost:8080/"
    },
    "id": "7add523c",
    "outputId": "122d838d-8310-4103-9289-ad73bfd6d227",
    "ExecuteTime": {
     "end_time": "2024-06-13T18:17:00.069495Z",
     "start_time": "2024-06-13T18:17:00.061654Z"
    }
   },
   "source": [
    "train_set[\"Fare\"].describe()"
   ],
   "outputs": [
    {
     "data": {
      "text/plain": [
       "count    712.000000\n",
       "mean      32.379429\n",
       "std       49.836074\n",
       "min        0.000000\n",
       "25%        7.925000\n",
       "50%       14.500000\n",
       "75%       31.275000\n",
       "max      512.329200\n",
       "Name: Fare, dtype: float64"
      ]
     },
     "execution_count": 296,
     "metadata": {},
     "output_type": "execute_result"
    }
   ],
   "execution_count": 296
  },
  {
   "cell_type": "code",
   "id": "9b1cb178",
   "metadata": {
    "id": "9b1cb178",
    "ExecuteTime": {
     "end_time": "2024-06-13T18:17:00.074812Z",
     "start_time": "2024-06-13T18:17:00.069495Z"
    }
   },
   "source": [
    "# Find Fare outliers:\n",
    "\n",
    "# \"minimum\" = Q1 - 1.5 * IQR\n",
    "# \"maximum\" = Q3 + 1.5 * IQR\n",
    "def outliersByIQR(col_name):\n",
    "    Q1 = np.percentile(train_set[col_name], 25)\n",
    "    Q3 = np.percentile(train_set[col_name], 75)\n",
    "    IQR = Q3 - Q1\n",
    "\n",
    "    Fare_Outliers = train_set[(train_set[col_name] < Q1 - 1.5 * IQR) | (train_set[col_name] > Q3 + 1.5 * IQR)].index\n",
    "    print(f'Sum of Age_outliers: {len(Fare_Outliers)}')\n",
    "\n",
    "# remove outliers by column name\n",
    "def remove_outlier(df_in, col_name):\n",
    "    q1 = df_in[col_name].quantile(0.25)\n",
    "    q3 = df_in[col_name].quantile(0.75)\n",
    "    iqr = q3 - q1\n",
    "    fence_low = q1 - 1.5 * iqr\n",
    "    fence_high = q3 + 1.5 * iqr\n",
    "    df_out = df_in.loc[(df_in[col_name] > fence_low) & (df_in[col_name] < fence_high)]\n",
    "    return df_out"
   ],
   "outputs": [],
   "execution_count": 297
  },
  {
   "cell_type": "code",
   "id": "596787bc",
   "metadata": {
    "colab": {
     "base_uri": "https://localhost:8080/",
     "height": 429
    },
    "id": "596787bc",
    "outputId": "86a1d008-9fe3-49b2-aeb7-38964874c8bc",
    "ExecuteTime": {
     "end_time": "2024-06-13T18:17:00.157958Z",
     "start_time": "2024-06-13T18:17:00.075816Z"
    }
   },
   "source": [
    "# check outliers for Age\n",
    "sns.boxplot(train_set.Age)"
   ],
   "outputs": [
    {
     "data": {
      "text/plain": [
       "<Axes: ylabel='Age'>"
      ]
     },
     "execution_count": 298,
     "metadata": {},
     "output_type": "execute_result"
    },
    {
     "data": {
      "text/plain": [
       "<Figure size 640x480 with 1 Axes>"
      ],
      "image/png": "[encoded data removed]"
     },
     "metadata": {},
     "output_type": "display_data"
    }
   ],
   "execution_count": 298
  },
  {
   "cell_type": "code",
   "id": "c9369881",
   "metadata": {
    "colab": {
     "base_uri": "https://localhost:8080/"
    },
    "id": "c9369881",
    "outputId": "2301a92c-5e6d-48b0-9b6c-0e6f77385371",
    "ExecuteTime": {
     "end_time": "2024-06-13T18:17:00.164155Z",
     "start_time": "2024-06-13T18:17:00.158963Z"
    }
   },
   "source": [
    "train_set[\"Age\"].median()\n",
    "train_set[\"Age\"].describe()"
   ],
   "outputs": [
    {
     "data": {
      "text/plain": [
       "count    712.000000\n",
       "mean      29.531213\n",
       "std       13.188028\n",
       "min        0.670000\n",
       "25%       22.000000\n",
       "50%       29.699118\n",
       "75%       35.000000\n",
       "max       80.000000\n",
       "Name: Age, dtype: float64"
      ]
     },
     "execution_count": 299,
     "metadata": {},
     "output_type": "execute_result"
    }
   ],
   "execution_count": 299
  },
  {
   "cell_type": "code",
   "id": "55e74398",
   "metadata": {
    "colab": {
     "base_uri": "https://localhost:8080/"
    },
    "id": "55e74398",
    "outputId": "70dd9255-979b-4ee1-8369-12504469429f",
    "ExecuteTime": {
     "end_time": "2024-06-13T18:17:00.171502Z",
     "start_time": "2024-06-13T18:17:00.165159Z"
    }
   },
   "source": [
    "train_set[\"Fare\"].median()\n",
    "train_set[\"Fare\"].describe()"
   ],
   "outputs": [
    {
     "data": {
      "text/plain": [
       "count    712.000000\n",
       "mean      32.379429\n",
       "std       49.836074\n",
       "min        0.000000\n",
       "25%        7.925000\n",
       "50%       14.500000\n",
       "75%       31.275000\n",
       "max      512.329200\n",
       "Name: Fare, dtype: float64"
      ]
     },
     "execution_count": 300,
     "metadata": {},
     "output_type": "execute_result"
    }
   ],
   "execution_count": 300
  },
  {
   "cell_type": "code",
   "id": "872700f7",
   "metadata": {
    "colab": {
     "base_uri": "https://localhost:8080/"
    },
    "id": "872700f7",
    "outputId": "4657469c-9614-433c-e684-1ffee2e5bd17",
    "ExecuteTime": {
     "end_time": "2024-06-13T18:17:00.178045Z",
     "start_time": "2024-06-13T18:17:00.171502Z"
    }
   },
   "source": [
    "# Find Age outliers:\n",
    "outliersByIQR(\"Age\")\n",
    "outliersByIQR(\"Fare\")"
   ],
   "outputs": [
    {
     "name": "stdout",
     "output_type": "stream",
     "text": [
      "Sum of Age_outliers: 54\n",
      "Sum of Age_outliers: 93\n"
     ]
    }
   ],
   "execution_count": 301
  },
  {
   "cell_type": "code",
   "id": "2829fb6d3a2c4efc",
   "metadata": {
    "colab": {
     "base_uri": "https://localhost:8080/"
    },
    "id": "2829fb6d3a2c4efc",
    "outputId": "30d21d30-9d43-4411-8de1-c5b5f02d4c6f",
    "ExecuteTime": {
     "end_time": "2024-06-13T18:17:00.184585Z",
     "start_time": "2024-06-13T18:17:00.179049Z"
    }
   },
   "source": [
    "#save the dataframe with the removed data\n",
    "updated_df = remove_outlier(train_set, \"Age\")\n",
    "print(updated_df.count())"
   ],
   "outputs": [
    {
     "name": "stdout",
     "output_type": "stream",
     "text": [
      "Pclass      658\n",
      "Sex         658\n",
      "Age         658\n",
      "SibSp       658\n",
      "Parch       658\n",
      "Fare        658\n",
      "Embarked    658\n",
      "Survived    658\n",
      "dtype: int64\n"
     ]
    }
   ],
   "execution_count": 302
  },
  {
   "cell_type": "code",
   "id": "4f92eaf7",
   "metadata": {
    "colab": {
     "base_uri": "https://localhost:8080/"
    },
    "id": "4f92eaf7",
    "outputId": "f463b249-a6da-4c10-fdc5-cc93278f0a72",
    "ExecuteTime": {
     "end_time": "2024-06-13T18:17:00.190826Z",
     "start_time": "2024-06-13T18:17:00.185589Z"
    }
   },
   "source": [
    "#save the dataframe with the removed data\n",
    "train_set = remove_outlier(train_set, \"Fare\")\n",
    "print(train_set.count())"
   ],
   "outputs": [
    {
     "name": "stdout",
     "output_type": "stream",
     "text": [
      "Pclass      619\n",
      "Sex         619\n",
      "Age         619\n",
      "SibSp       619\n",
      "Parch       619\n",
      "Fare        619\n",
      "Embarked    619\n",
      "Survived    619\n",
      "dtype: int64\n"
     ]
    }
   ],
   "execution_count": 303
  },
  {
   "cell_type": "markdown",
   "id": "5024577c",
   "metadata": {
    "id": "5024577c"
   },
   "source": [
    "#### For Numeric values:\n",
    "#### Descriptive statistics: min, max, percentile, mean, std etc for numeric values:"
   ]
  },
  {
   "cell_type": "markdown",
   "id": "a50169d4",
   "metadata": {
    "id": "a50169d4"
   },
   "source": [
    "### Check for missing Data - and fill when needed"
   ]
  },
  {
   "cell_type": "code",
   "id": "8c80158a",
   "metadata": {
    "id": "8c80158a",
    "ExecuteTime": {
     "end_time": "2024-06-13T18:17:00.197830Z",
     "start_time": "2024-06-13T18:17:00.192830Z"
    }
   },
   "source": [
    "# Let's start by finding the missing values\n",
    "def check_missing_data(df):\n",
    "    missing_data = df.isnull().sum()\n",
    "    missing_data = missing_data[missing_data > 0]  # Only show columns with missing data\n",
    "    return missing_data\n",
    "\n",
    "def fix_missing_values(data_frame):\n",
    "    fill_strategies = {\n",
    "        'Pclass': data_frame['Pclass'].mode()[0],\n",
    "        'Sex': data_frame['Sex'].mode()[0],\n",
    "        'Age': data_frame['Age'].mean(),\n",
    "        'SibSp': data_frame['SibSp'].mode()[0],\n",
    "        'Parch': data_frame['Parch'].mode()[0],\n",
    "        'Fare': data_frame['Fare'].median(),\n",
    "        'Embarked': data_frame['Embarked'].mode()[0],\n",
    "        'Survived': data_frame['Survived'].mode()[0]\n",
    "    }\n",
    "\n",
    "    for column, fill_value in fill_strategies.items():\n",
    "        if column in data_frame.columns:\n",
    "            data_frame[column].fillna(fill_value, inplace=True)\n",
    "\n",
    "    return data_frame"
   ],
   "outputs": [],
   "execution_count": 304
  },
  {
   "cell_type": "code",
   "id": "6bfe02d9",
   "metadata": {
    "colab": {
     "base_uri": "https://localhost:8080/"
    },
    "id": "6bfe02d9",
    "outputId": "df20e6fb-0916-4fb8-8914-95fd62822b77",
    "ExecuteTime": {
     "end_time": "2024-06-13T18:17:00.205134Z",
     "start_time": "2024-06-13T18:17:00.198335Z"
    }
   },
   "source": [
    "missing_data = check_missing_data(train_set)\n",
    "# print(\"Missing data\",missing_data)\n",
    "\n",
    "if len(missing_data) > 0:\n",
    "    fix_missing_values(train_set)\n",
    "    # check_missing_data(train_set)\n",
    "    print(f\"Filled missing data ({missing_data})\")\n",
    "else:\n",
    "    print(\"No missing data\")"
   ],
   "outputs": [
    {
     "name": "stdout",
     "output_type": "stream",
     "text": [
      "No missing data\n"
     ]
    }
   ],
   "execution_count": 305
  },
  {
   "cell_type": "code",
   "id": "d609803c",
   "metadata": {
    "id": "d609803c",
    "ExecuteTime": {
     "end_time": "2024-06-13T18:17:00.211336Z",
     "start_time": "2024-06-13T18:17:00.206139Z"
    }
   },
   "source": [
    "# Use the NumPy percentile() method to find the percentiles\n",
    "def agePercentile(dataFrame):\n",
    "    x_age = np.percentile(dataFrame[\"Age\"], 75)\n",
    "    y_age = np.percentile(dataFrame[\"Age\"], 90)\n",
    "\n",
    "    print(f'x_age meaning that 75% of the people on the Titanic are {x_age} years old')\n",
    "    print(f'y_age meaning that 90% of the people on the Titanic are {y_age} years old')"
   ],
   "outputs": [],
   "execution_count": 306
  },
  {
   "cell_type": "code",
   "id": "af628545",
   "metadata": {
    "colab": {
     "base_uri": "https://localhost:8080/"
    },
    "id": "af628545",
    "outputId": "2ee54c9e-debc-4d78-8f07-8d842a9d266b",
    "ExecuteTime": {
     "end_time": "2024-06-13T18:17:00.218361Z",
     "start_time": "2024-06-13T18:17:00.212341Z"
    }
   },
   "source": [
    "agePercentile(train_set)"
   ],
   "outputs": [
    {
     "name": "stdout",
     "output_type": "stream",
     "text": [
      "x_age meaning that 75% of the people on the Titanic are 34.0 years old\n",
      "y_age meaning that 90% of the people on the Titanic are 46.200000000000045 years old\n"
     ]
    }
   ],
   "execution_count": 307
  },
  {
   "cell_type": "markdown",
   "id": "5a72cef8",
   "metadata": {
    "id": "5a72cef8"
   },
   "source": [
    "#### Feature engineering for Naive Bayes:"
   ]
  },
  {
   "cell_type": "markdown",
   "id": "5de596c7c282f9ba",
   "metadata": {
    "id": "5de596c7c282f9ba"
   },
   "source": [
    "##### Basic train ,test function for naive bayes"
   ]
  },
  {
   "cell_type": "code",
   "id": "d72c80cd41374dde",
   "metadata": {
    "id": "d72c80cd41374dde",
    "ExecuteTime": {
     "end_time": "2024-06-13T18:17:00.224471Z",
     "start_time": "2024-06-13T18:17:00.219366Z"
    }
   },
   "source": [
    "def train_naive_bayes(x_train, y_train):\n",
    "    # Initialize the Gaussian Naive Bayes model\n",
    "    model = GaussianNB()\n",
    "\n",
    "    # Fit the model to the training data\n",
    "    model.fit(x_train, y_train)\n",
    "\n",
    "    return model\n",
    "\n",
    "def test_naive_bayes(model, X_test, y_test):\n",
    "    # Predict the target values for the test set\n",
    "    y_pred = model.predict(X_test)\n",
    "\n",
    "    # Calculate the accuracy of the model\n",
    "\n",
    "    accuracy = accuracy_score(y_test, y_pred)\n",
    "     # Generate a classification report\n",
    "    report = classification_report(y_test, y_pred)\n",
    "\n",
    "    return accuracy, report"
   ],
   "outputs": [],
   "execution_count": 308
  },
  {
   "cell_type": "markdown",
   "id": "985c1268d602b0e",
   "metadata": {
    "id": "985c1268d602b0e"
   },
   "source": [
    "##### Feature engineering checks"
   ]
  },
  {
   "cell_type": "code",
   "id": "baca56cea12ade78",
   "metadata": {
    "id": "baca56cea12ade78",
    "ExecuteTime": {
     "end_time": "2024-06-13T18:17:00.231255Z",
     "start_time": "2024-06-13T18:17:00.225476Z"
    }
   },
   "source": [
    "def get_best_feature_engineering_techniques(X_train, X_test, y_train, y_test, max_pca_dim=5):\n",
    "    \"\"\"\n",
    "    Evaluate different feature engineering techniques and determine the best one based on accuracy.\n",
    "\n",
    "    Parameters:\n",
    "    X_train (numpy.ndarray): Training feature set.\n",
    "    X_test (numpy.ndarray): Testing feature set.\n",
    "    y_train (numpy.ndarray): Training labels.\n",
    "    y_test (numpy.ndarray): Testing labels.\n",
    "    max_pca_dim (int, optional): Maximum number of dimensions for PCA. Default is 5.\n",
    "\n",
    "    Returns:\n",
    "    tuple: A tuple containing:\n",
    "        - best_accuracy (float): The highest accuracy achieved.\n",
    "        - best_technique (str): The name of the best feature engineering technique.\n",
    "        - best_X_train (numpy.ndarray): The transformed training feature set corresponding to the best technique.\n",
    "        - best_X_test (numpy.ndarray): The transformed testing feature set corresponding to the best technique.\n",
    "    \"\"\"\n",
    "    techniques = []\n",
    "    best_accuracy = 0\n",
    "    best_technique = ''\n",
    "    best_X_train = X_train\n",
    "    best_X_test = X_test\n",
    "\n",
    "    # No scaling or PCA (baseline)\n",
    "    techniques.append(('No Feature Engineering', X_train, X_test))\n",
    "\n",
    "    # Scaling only\n",
    "    scaler = StandardScaler()\n",
    "    X_train_scaled = scaler.fit_transform(X_train)\n",
    "    X_test_scaled = scaler.transform(X_test)\n",
    "    techniques.append(('Scaling Only', X_train_scaled, X_test_scaled))\n",
    "\n",
    "    # Scaling with PCA\n",
    "    for dim in range(1, max_pca_dim + 1):\n",
    "        pca = PCA(n_components=dim)\n",
    "        X_train_pca = pca.fit_transform(X_train_scaled)\n",
    "        X_test_pca = pca.transform(X_test_scaled)\n",
    "        techniques.append((f'Scaling + PCA with {dim} dimensions', X_train_pca, X_test_pca))\n",
    "\n",
    "    # Perform 5-fold cross-validation with grid search\n",
    "    for name, X_train_transformed, X_test_transformed in techniques:\n",
    "        model = GaussianNB()  # Example: Naive Bayes classifier\n",
    "\n",
    "        # Perform grid search with cross-validation\n",
    "        grid_search = GridSearchCV(estimator=model, param_grid={}, cv=5, scoring='accuracy')\n",
    "        grid_search.fit(X_train_transformed, y_train)\n",
    "\n",
    "        # Get the best model from grid search\n",
    "        best_model = grid_search.best_estimator_\n",
    "\n",
    "        # Evaluate on test set\n",
    "        accuracy = best_model.score(X_test_transformed, y_test)\n",
    "\n",
    "        # Check if this technique gives better accuracy\n",
    "        if accuracy > best_accuracy:\n",
    "            best_accuracy = accuracy\n",
    "            best_technique = name\n",
    "            best_X_train = X_train_transformed\n",
    "            best_X_test = X_test_transformed\n",
    "\n",
    "    return best_accuracy, best_technique, best_X_train, best_X_test"
   ],
   "outputs": [],
   "execution_count": 309
  },
  {
   "cell_type": "code",
   "id": "5d2c65df95b1889d",
   "metadata": {
    "colab": {
     "base_uri": "https://localhost:8080/"
    },
    "id": "5d2c65df95b1889d",
    "outputId": "3e7c67ed-a561-4d35-bfdc-ef4c3b0ab72f",
    "ExecuteTime": {
     "end_time": "2024-06-13T18:17:00.296203Z",
     "start_time": "2024-06-13T18:17:00.232259Z"
    }
   },
   "source": [
    "max_accuracy, best_technique, best_X_train, best_X_test = get_best_feature_engineering_techniques(x_train, x_test, y_train, y_test, max_pca_dim=5)\n",
    "print(f'Max Accuracy: {max_accuracy}')\n",
    "print(f'Best Feature Engineering Technique: {best_technique}')"
   ],
   "outputs": [
    {
     "name": "stdout",
     "output_type": "stream",
     "text": [
      "Max Accuracy: 0.8156424581005587\n",
      "Best Feature Engineering Technique: Scaling + PCA with 3 dimensions\n"
     ]
    }
   ],
   "execution_count": 310
  },
  {
   "cell_type": "markdown",
   "id": "f2beb9f2",
   "metadata": {
    "id": "f2beb9f2"
   },
   "source": [
    "## KNN training:"
   ]
  },
  {
   "cell_type": "code",
   "id": "2122a400",
   "metadata": {
    "id": "2122a400",
    "ExecuteTime": {
     "end_time": "2024-06-13T18:17:00.301262Z",
     "start_time": "2024-06-13T18:17:00.296203Z"
    }
   },
   "source": [
    "def train_KNN(x_train, y_train):\n",
    "    knn = KNeighborsClassifier(n_neighbors=11)\n",
    "    knn.fit(x_train, y_train)\n",
    "    return knn\n",
    "\n",
    "knn_trained = train_KNN(x_train,y_train)"
   ],
   "outputs": [],
   "execution_count": 311
  },
  {
   "cell_type": "code",
   "id": "K-ObIoAUu__T",
   "metadata": {
    "id": "K-ObIoAUu__T",
    "ExecuteTime": {
     "end_time": "2024-06-13T18:17:00.307850Z",
     "start_time": "2024-06-13T18:17:00.301262Z"
    }
   },
   "source": [
    "def grid_search_cv(classifier,hyperparameters):\n",
    "    GSCV = GridSearchCV(classifier,hyperparameters,cv = 5)\n",
    "    model = GSCV.fit(x_test,y_test)\n",
    "    print(model)\n",
    "    print('HIGHEST ACCURACY : ','{0:.2%}'.format(model.best_score_))\n",
    "    print('BEST PARAMETERS : ',model.best_params_)"
   ],
   "outputs": [],
   "execution_count": 312
  },
  {
   "cell_type": "code",
   "id": "rms3LPZeu5av",
   "metadata": {
    "id": "rms3LPZeu5av",
    "ExecuteTime": {
     "end_time": "2024-06-13T18:17:00.313555Z",
     "start_time": "2024-06-13T18:17:00.308855Z"
    }
   },
   "source": [
    "classifier_knn = KNeighborsClassifier(leaf_size = 7, n_neighbors = 3,p = 1)"
   ],
   "outputs": [],
   "execution_count": 313
  },
  {
   "cell_type": "code",
   "id": "C7ca8yMJu65y",
   "metadata": {
    "colab": {
     "base_uri": "https://localhost:8080/"
    },
    "id": "C7ca8yMJu65y",
    "outputId": "980f973d-2ee8-4566-8084-e0c0b1525d78",
    "ExecuteTime": {
     "end_time": "2024-06-13T18:17:02.906296Z",
     "start_time": "2024-06-13T18:17:00.314559Z"
    }
   },
   "source": [
    "leaf_size = list(range(1,10))\n",
    "n_neighbors = list(range(1,10))\n",
    "p=[1,2]\n",
    "hyperparameters = dict(leaf_size=leaf_size, n_neighbors=n_neighbors, p=p)\n",
    "grid_search_cv(classifier_knn,hyperparameters)"
   ],
   "outputs": [
    {
     "name": "stdout",
     "output_type": "stream",
     "text": [
      "GridSearchCV(cv=5,\n",
      "             estimator=KNeighborsClassifier(leaf_size=7, n_neighbors=3, p=1),\n",
      "             param_grid={'leaf_size': [1, 2, 3, 4, 5, 6, 7, 8, 9],\n",
      "                         'n_neighbors': [1, 2, 3, 4, 5, 6, 7, 8, 9],\n",
      "                         'p': [1, 2]})\n",
      "HIGHEST ACCURACY :  74.89%\n",
      "BEST PARAMETERS :  {'leaf_size': 3, 'n_neighbors': 6, 'p': 1}\n"
     ]
    }
   ],
   "execution_count": 314
  },
  {
   "cell_type": "code",
   "id": "nbpCkY0cpdsE",
   "metadata": {
    "colab": {
     "base_uri": "https://localhost:8080/"
    },
    "id": "nbpCkY0cpdsE",
    "outputId": "61b121f3-b868-4a3c-a3bb-55e2b285be65",
    "ExecuteTime": {
     "end_time": "2024-06-13T18:17:02.978546Z",
     "start_time": "2024-06-13T18:17:02.906296Z"
    }
   },
   "source": [
    "\n",
    "## calling on the model oject.\n",
    "knn = KNeighborsClassifier(metric='manhattan')\n",
    "## knn classifier works by doing euclidian distance\n",
    "\n",
    "\n",
    "## doing 10 fold staratified-shuffle-split cross validation\n",
    "cv = StratifiedShuffleSplit(n_splits=10, test_size=.25, random_state=2)\n",
    "\n",
    "accuracies = cross_val_score(knn, x_train, y_train, cv = cv, scoring='accuracy')\n",
    "print (\"Cross-Validation accuracy scores:{}\".format(accuracies))\n",
    "print (\"Mean Cross-Validation accuracy score: {}\".format(round(accuracies.mean(),3)))"
   ],
   "outputs": [
    {
     "name": "stdout",
     "output_type": "stream",
     "text": [
      "Cross-Validation accuracy scores:[0.73033708 0.78651685 0.63483146 0.75280899 0.69662921 0.6741573\n",
      " 0.6741573  0.67977528 0.73033708 0.71348315]\n",
      "Mean Cross-Validation accuracy score: 0.707\n"
     ]
    }
   ],
   "execution_count": 315
  },
  {
   "metadata": {},
   "cell_type": "markdown",
   "source": [
    "## Part 3 - Training flow\n",
    "Use the best combination of feature engineering, model (algorithm and hyperparameters) from the experiment part (part 2)"
   ],
   "id": "67d97f11"
  },
  {
   "cell_type": "markdown",
   "id": "d820924c",
   "metadata": {
    "id": "d820924c"
   },
   "source": [
    "# Naive Bayes training:"
   ]
  },
  {
   "cell_type": "code",
   "id": "a45ef3a4d1ff30e2",
   "metadata": {
    "id": "a45ef3a4d1ff30e2",
    "ExecuteTime": {
     "end_time": "2024-06-13T18:17:02.982348Z",
     "start_time": "2024-06-13T18:17:02.979550Z"
    }
   },
   "source": [
    "def train_best_model():\n",
    "    max_accuracy, best_technique, best_X_train, best_X_test = get_best_feature_engineering_techniques(x_train, x_test, y_train, y_test)\n",
    "\n",
    "    # Train final model with the best feature engineering technique\n",
    "    final_model = train_naive_bayes(best_X_train, y_train)\n",
    "    final_accuracy,_ = test_naive_bayes(final_model, best_X_test, y_test)\n",
    "\n",
    "    return final_model, max_accuracy, best_technique, final_accuracy"
   ],
   "outputs": [],
   "execution_count": 316
  },
  {
   "cell_type": "code",
   "id": "71369aa8",
   "metadata": {
    "id": "71369aa8",
    "outputId": "0a604959-81bb-4559-dbf0-248f4342c249",
    "ExecuteTime": {
     "end_time": "2024-06-13T18:17:03.061709Z",
     "start_time": "2024-06-13T18:17:02.982348Z"
    }
   },
   "source": [
    "final_model, max_accuracy, best_technique, final_accuracy = train_best_model()\n",
    "print(f'Max Accuracy: {max_accuracy}')\n",
    "print(f'Best Feature Engineering Technique: {best_technique}')\n",
    "print(f'Final Model Accuracy: {final_accuracy}')"
   ],
   "outputs": [
    {
     "name": "stdout",
     "output_type": "stream",
     "text": [
      "Max Accuracy: 0.8156424581005587\n",
      "Best Feature Engineering Technique: Scaling + PCA with 3 dimensions\n",
      "Final Model Accuracy: 0.8156424581005587\n"
     ]
    }
   ],
   "execution_count": 317
  },
  {
   "cell_type": "markdown",
   "id": "259ab902",
   "metadata": {
    "id": "259ab902"
   },
   "source": [
    "## Part 4 - Apply on test and show model performance estimation"
   ]
  },
  {
   "cell_type": "markdown",
   "id": "982fd267",
   "metadata": {
    "id": "982fd267"
   },
   "source": [
    "## KNN algorithm testing:"
   ]
  },
  {
   "cell_type": "code",
   "id": "d9971aa5",
   "metadata": {
    "id": "d9971aa5",
    "ExecuteTime": {
     "end_time": "2024-06-13T18:17:03.066406Z",
     "start_time": "2024-06-13T18:17:03.062714Z"
    }
   },
   "source": [
    "test_set = pd.read_csv(\"titanic_test.csv\")"
   ],
   "outputs": [],
   "execution_count": 318
  },
  {
   "cell_type": "code",
   "id": "686b0d71",
   "metadata": {
    "id": "686b0d71",
    "outputId": "a1f1727d-d16c-4a31-b44d-cd3b4a5f0d69",
    "ExecuteTime": {
     "end_time": "2024-06-13T18:17:03.078445Z",
     "start_time": "2024-06-13T18:17:03.066406Z"
    }
   },
   "source": [
    "y_predict_knn = knn_trained.predict(x_test)\n",
    "accuracy = accuracy_score(y_test, y_predict_knn)\n",
    "print(\"accuracy: \", accuracy)"
   ],
   "outputs": [
    {
     "name": "stdout",
     "output_type": "stream",
     "text": [
      "accuracy:  0.7374301675977654\n"
     ]
    }
   ],
   "execution_count": 319
  },
  {
   "cell_type": "code",
   "id": "8a68001f",
   "metadata": {
    "id": "8a68001f",
    "outputId": "9d5a9cf5-26d3-42e3-866a-e094300c5264",
    "ExecuteTime": {
     "end_time": "2024-06-13T18:17:03.503572Z",
     "start_time": "2024-06-13T18:17:03.079449Z"
    }
   },
   "source": [
    "def knn_test(x_train, y_train,x_test, y_test):\n",
    "    neighbors = np.arange(1, 50)\n",
    "    accuracy_scores = []\n",
    "    for n in neighbors:\n",
    "        knn = KNeighborsClassifier(n_neighbors=n)\n",
    "        knn.fit(x_train, y_train)\n",
    "        y_pred = knn.predict(x_test)\n",
    "        accuracy = accuracy_score(y_test, y_pred)\n",
    "        accuracy_scores.append(accuracy)\n",
    "\n",
    "    return neighbors, accuracy_scores\n",
    "\n",
    "def plot_knn_test(neighbors, accuracy_scores):\n",
    "    plt.figure(figsize=(15, 10))\n",
    "    plt.plot(neighbors, accuracy_scores)\n",
    "    plt.xlabel('Number of Neighbors', fontsize=20)\n",
    "    plt.ylabel('Accuracy', fontsize=20)\n",
    "    plt.title('Accuracy vs. Number of Neighbors', fontsize=20)\n",
    "\n",
    "    # Finding the maximum accuracy and its corresponding neighbor\n",
    "    max_index = np.argmax(accuracy_scores)\n",
    "    max_neighbor = neighbors[max_index]\n",
    "    max_accuracy = accuracy_scores[max_index]\n",
    "\n",
    "    # Adding annotation\n",
    "    plt.annotate(f'Max Accuracy: {max_accuracy:.2f} ({max_neighbor} neighbors)',\n",
    "                 xy=(max_neighbor, max_accuracy),  # Arrowhead position\n",
    "                 xytext=(max_neighbor - 10, max_accuracy),  # Text position above the point\n",
    "                 arrowprops=dict(facecolor='orange', shrink=0.05),\n",
    "                 ha='right', fontsize=14, bbox=dict(facecolor='white', edgecolor='black', boxstyle='round,pad=0.5'))\n",
    "    plt.show()\n",
    "\n",
    "# Run the knn_test function and plot results\n",
    "neighbors, accuracy_scores = knn_test(x_train, y_train,x_test, y_test)\n",
    "plot_knn_test(neighbors, accuracy_scores)"
   ],
   "outputs": [
    {
     "data": {
      "text/plain": [
       "<Figure size 1500x1000 with 1 Axes>"
      ],
      "image/png": "[encoded data removed]"
     },
     "metadata": {},
     "output_type": "display_data"
    }
   ],
   "execution_count": 320
  },
  {
   "cell_type": "markdown",
   "id": "aa7b1f9b",
   "metadata": {
    "id": "aa7b1f9b"
   },
   "source": [
    "## Naive Bayes algorithm testing:"
   ]
  },
  {
   "cell_type": "code",
   "id": "571697e9",
   "metadata": {
    "id": "571697e9",
    "ExecuteTime": {
     "end_time": "2024-06-13T18:17:03.508310Z",
     "start_time": "2024-06-13T18:17:03.503572Z"
    }
   },
   "source": [
    "def train_best_model():\n",
    "    max_accuracy, best_technique, best_X_train, best_X_test = get_best_feature_engineering_techniques(x_train, x_test, y_train, y_test)\n",
    "\n",
    "    # Train final model with the best feature engineering technique\n",
    "    final_model = train_naive_bayes(best_X_train, y_train)\n",
    "    final_accuracy, final_report = test_naive_bayes(final_model, best_X_test, y_test)\n",
    "\n",
    "    return final_model, max_accuracy, best_technique, final_accuracy, final_report\n",
    "\n",
    "def evaluate_model(model, X_test, y_test):\n",
    "    accuracy, report = test_naive_bayes(model, X_test, y_test)\n",
    "    print(f\"Accuracy: {accuracy}\")\n",
    "    print(\"Classification Report:\")\n",
    "    print(report)\n",
    "    return accuracy, report"
   ],
   "outputs": [],
   "execution_count": 321
  },
  {
   "cell_type": "code",
   "id": "41ce4f65eb2f166e",
   "metadata": {
    "id": "41ce4f65eb2f166e",
    "outputId": "fe35d12c-3bca-4432-e463-7f08dd4b6aeb",
    "ExecuteTime": {
     "end_time": "2024-06-13T18:17:03.591407Z",
     "start_time": "2024-06-13T18:17:03.509316Z"
    }
   },
   "source": [
    "final_model, max_accuracy, best_technique, final_accuracy, final_report = train_best_model()\n",
    "print(f'Max Accuracy: {max_accuracy}')\n",
    "print(f'Best Feature Engineering Technique: {best_technique}')\n",
    "print(f'Final Model Accuracy: {final_accuracy}')\n",
    "print(\"Final Model Classification Report:\")\n",
    "print(final_report)"
   ],
   "outputs": [
    {
     "name": "stdout",
     "output_type": "stream",
     "text": [
      "Max Accuracy: 0.8156424581005587\n",
      "Best Feature Engineering Technique: Scaling + PCA with 3 dimensions\n",
      "Final Model Accuracy: 0.8156424581005587\n",
      "Final Model Classification Report:\n",
      "              precision    recall  f1-score   support\n",
      "\n",
      "           0       0.85      0.88      0.86       118\n",
      "           1       0.75      0.69      0.72        61\n",
      "\n",
      "    accuracy                           0.82       179\n",
      "   macro avg       0.80      0.78      0.79       179\n",
      "weighted avg       0.81      0.82      0.81       179\n",
      "\n"
     ]
    }
   ],
   "execution_count": 322
  }
 ],
 "metadata": {
  "colab": {
   "include_colab_link": true,
   "provenance": []
  },
  "kernelspec": {
   "display_name": "Python 3 (ipykernel)",
   "language": "python",
   "name": "python3"
  },
  "language_info": {
   "codemirror_mode": {
    "name": "ipython",
    "version": 3
   },
   "file_extension": ".py",
   "mimetype": "text/x-python",
   "name": "python",
   "nbconvert_exporter": "python",
   "pygments_lexer": "ipython3",
   "version": "3.7.6"
  },
  "vscode": {
   "interpreter": {
    "hash": "49cb93f377a7abe7414b7b0f21fb3017538004a126cf690fb524202736b7fb92"
   }
  }
 },
 "nbformat": 4,
 "nbformat_minor": 5
}
