{
 "cells": [
  {
   "cell_type": "markdown",
   "metadata": {
    "colab_type": "text",
    "id": "view-in-github"
   },
   "source": [
    "<a href=\"https://colab.research.google.com/github/eranCat/TitanicML/blob/main/TitanicMLDemo.ipynb\" target=\"_parent\"><img src=\"https://colab.research.google.com/assets/colab-badge.svg\" alt=\"Open In Colab\"/></a>"
   ]
  },
  {
   "cell_type": "code",
   "execution_count": 86,
   "metadata": {
    "id": "8KzplaLL7Kc5"
   },
   "outputs": [],
   "source": [
    "import numpy as np\n",
    "import pandas as pd\n",
    "from sklearn.preprocessing import StandardScaler\n",
    "from sklearn.neighbors import KNeighborsClassifier\n",
    "from sklearn.metrics import accuracy_score, confusion_matrix, classification_report\n",
    "import matplotlib.pyplot as plt"
   ]
  },
  {
   "cell_type": "code",
   "execution_count": 54,
   "metadata": {
    "id": "5FLgqoXN7Vo1"
   },
   "outputs": [],
   "source": [
    "df_train = pd.read_csv('titanic_train.csv')"
   ]
  },
  {
   "cell_type": "code",
   "execution_count": 55,
   "metadata": {
    "colab": {
     "base_uri": "https://localhost:8080/"
    },
    "id": "4GVxCdlp7c2K",
    "outputId": "34163d6e-9e3e-463e-dd5e-3871d06a1dac"
   },
   "outputs": [
    {
     "data": {
      "text/plain": [
       "Sex\n",
       "1    456\n",
       "0    256\n",
       "Name: count, dtype: int64"
      ]
     },
     "execution_count": 55,
     "metadata": {},
     "output_type": "execute_result"
    }
   ],
   "source": [
    "df_train['Sex'].value_counts()"
   ]
  },
  {
   "cell_type": "markdown",
   "metadata": {
    "id": "xGgXQMGiBXpt"
   },
   "source": [
    "#בדיקת סוגי משתנים\n",
    "נבדוק אילו איזה סוגי משתנים יש לנו"
   ]
  },
  {
   "cell_type": "code",
   "execution_count": 56,
   "metadata": {
    "colab": {
     "base_uri": "https://localhost:8080/"
    },
    "id": "UiTWxlHi9Lt5",
    "outputId": "d67238b5-113a-4f9d-8c1c-60d08ca37cf7"
   },
   "outputs": [
    {
     "name": "stdout",
     "output_type": "stream",
     "text": [
      "<class 'pandas.core.frame.DataFrame'>\n",
      "RangeIndex: 712 entries, 0 to 711\n",
      "Data columns (total 8 columns):\n",
      " #   Column    Non-Null Count  Dtype  \n",
      "---  ------    --------------  -----  \n",
      " 0   Pclass    712 non-null    int64  \n",
      " 1   Sex       712 non-null    int64  \n",
      " 2   Age       712 non-null    float64\n",
      " 3   SibSp     712 non-null    int64  \n",
      " 4   Parch     712 non-null    int64  \n",
      " 5   Fare      712 non-null    float64\n",
      " 6   Embarked  712 non-null    int64  \n",
      " 7   Survived  712 non-null    int64  \n",
      "dtypes: float64(2), int64(6)\n",
      "memory usage: 44.6 KB\n"
     ]
    }
   ],
   "source": [
    "df_train.info()"
   ]
  },
  {
   "cell_type": "code",
   "execution_count": 57,
   "metadata": {
    "colab": {
     "base_uri": "https://localhost:8080/"
    },
    "id": "ZVAmmav37sGB",
    "outputId": "c745cd43-f9d4-4c02-f354-3f06ad41e9ac"
   },
   "outputs": [
    {
     "name": "stdout",
     "output_type": "stream",
     "text": [
      "pclass:  [1 2 3]\n",
      "sibsp:  [0 1 2 3 4 5 8]\n",
      "parch:  [0 1 2 3 4 5 6]\n"
     ]
    }
   ],
   "source": [
    "pclass = df_train['Pclass'].unique()\n",
    "sibsp = df_train['SibSp'].unique()\n",
    "parch = df_train['Parch'].unique()\n",
    "sibsp.sort()\n",
    "print(\"pclass: \", pclass)\n",
    "print(\"sibsp: \", sibsp)\n",
    "print(\"parch: \", parch)"
   ]
  },
  {
   "cell_type": "markdown",
   "metadata": {
    "id": "lN4BBBeZB4Ty"
   },
   "source": [
    "סוגי המשתנים:\n",
    "\n",
    "\n",
    "*   Pclass - משתנה שמי\n",
    "*   SibSp - משתנה רווח\n",
    "*   Parch - משתנה רווח\n",
    "\n"
   ]
  },
  {
   "cell_type": "markdown",
   "metadata": {
    "id": "JXPc2hEWD-lP"
   },
   "source": [
    "#בדיקת חריגות\n",
    "\n",
    "נבדוק אם אין לנו נתונים חסרים על ידי בדיקה בפונקציית describe"
   ]
  },
  {
   "cell_type": "code",
   "execution_count": 58,
   "metadata": {
    "colab": {
     "base_uri": "https://localhost:8080/",
     "height": 300
    },
    "id": "kMyHxPMXES-_",
    "outputId": "ded20b82-1ea8-4a78-e3e7-7ba534712106"
   },
   "outputs": [
    {
     "data": {
      "text/html": [
       "<div>\n",
       "<style scoped>\n",
       "    .dataframe tbody tr th:only-of-type {\n",
       "        vertical-align: middle;\n",
       "    }\n",
       "\n",
       "    .dataframe tbody tr th {\n",
       "        vertical-align: top;\n",
       "    }\n",
       "\n",
       "    .dataframe thead th {\n",
       "        text-align: right;\n",
       "    }\n",
       "</style>\n",
       "<table border=\"1\" class=\"dataframe\">\n",
       "  <thead>\n",
       "    <tr style=\"text-align: right;\">\n",
       "      <th></th>\n",
       "      <th>Pclass</th>\n",
       "      <th>Sex</th>\n",
       "      <th>Age</th>\n",
       "      <th>SibSp</th>\n",
       "      <th>Parch</th>\n",
       "      <th>Fare</th>\n",
       "      <th>Embarked</th>\n",
       "      <th>Survived</th>\n",
       "    </tr>\n",
       "  </thead>\n",
       "  <tbody>\n",
       "    <tr>\n",
       "      <th>count</th>\n",
       "      <td>712.000000</td>\n",
       "      <td>712.000000</td>\n",
       "      <td>712.000000</td>\n",
       "      <td>712.000000</td>\n",
       "      <td>712.000000</td>\n",
       "      <td>712.000000</td>\n",
       "      <td>712.000000</td>\n",
       "      <td>712.000000</td>\n",
       "    </tr>\n",
       "    <tr>\n",
       "      <th>mean</th>\n",
       "      <td>2.294944</td>\n",
       "      <td>0.640449</td>\n",
       "      <td>29.531213</td>\n",
       "      <td>0.528090</td>\n",
       "      <td>0.384831</td>\n",
       "      <td>32.379429</td>\n",
       "      <td>0.372191</td>\n",
       "      <td>0.394663</td>\n",
       "    </tr>\n",
       "    <tr>\n",
       "      <th>std</th>\n",
       "      <td>0.841990</td>\n",
       "      <td>0.480206</td>\n",
       "      <td>13.188028</td>\n",
       "      <td>1.055052</td>\n",
       "      <td>0.803085</td>\n",
       "      <td>49.836074</td>\n",
       "      <td>0.649970</td>\n",
       "      <td>0.489122</td>\n",
       "    </tr>\n",
       "    <tr>\n",
       "      <th>min</th>\n",
       "      <td>1.000000</td>\n",
       "      <td>0.000000</td>\n",
       "      <td>0.670000</td>\n",
       "      <td>0.000000</td>\n",
       "      <td>0.000000</td>\n",
       "      <td>0.000000</td>\n",
       "      <td>0.000000</td>\n",
       "      <td>0.000000</td>\n",
       "    </tr>\n",
       "    <tr>\n",
       "      <th>25%</th>\n",
       "      <td>1.750000</td>\n",
       "      <td>0.000000</td>\n",
       "      <td>22.000000</td>\n",
       "      <td>0.000000</td>\n",
       "      <td>0.000000</td>\n",
       "      <td>7.925000</td>\n",
       "      <td>0.000000</td>\n",
       "      <td>0.000000</td>\n",
       "    </tr>\n",
       "    <tr>\n",
       "      <th>50%</th>\n",
       "      <td>3.000000</td>\n",
       "      <td>1.000000</td>\n",
       "      <td>29.699118</td>\n",
       "      <td>0.000000</td>\n",
       "      <td>0.000000</td>\n",
       "      <td>14.500000</td>\n",
       "      <td>0.000000</td>\n",
       "      <td>0.000000</td>\n",
       "    </tr>\n",
       "    <tr>\n",
       "      <th>75%</th>\n",
       "      <td>3.000000</td>\n",
       "      <td>1.000000</td>\n",
       "      <td>35.000000</td>\n",
       "      <td>1.000000</td>\n",
       "      <td>0.000000</td>\n",
       "      <td>31.275000</td>\n",
       "      <td>1.000000</td>\n",
       "      <td>1.000000</td>\n",
       "    </tr>\n",
       "    <tr>\n",
       "      <th>max</th>\n",
       "      <td>3.000000</td>\n",
       "      <td>1.000000</td>\n",
       "      <td>80.000000</td>\n",
       "      <td>8.000000</td>\n",
       "      <td>6.000000</td>\n",
       "      <td>512.329200</td>\n",
       "      <td>3.000000</td>\n",
       "      <td>1.000000</td>\n",
       "    </tr>\n",
       "  </tbody>\n",
       "</table>\n",
       "</div>"
      ],
      "text/plain": [
       "           Pclass         Sex         Age       SibSp       Parch        Fare  \\\n",
       "count  712.000000  712.000000  712.000000  712.000000  712.000000  712.000000   \n",
       "mean     2.294944    0.640449   29.531213    0.528090    0.384831   32.379429   \n",
       "std      0.841990    0.480206   13.188028    1.055052    0.803085   49.836074   \n",
       "min      1.000000    0.000000    0.670000    0.000000    0.000000    0.000000   \n",
       "25%      1.750000    0.000000   22.000000    0.000000    0.000000    7.925000   \n",
       "50%      3.000000    1.000000   29.699118    0.000000    0.000000   14.500000   \n",
       "75%      3.000000    1.000000   35.000000    1.000000    0.000000   31.275000   \n",
       "max      3.000000    1.000000   80.000000    8.000000    6.000000  512.329200   \n",
       "\n",
       "         Embarked    Survived  \n",
       "count  712.000000  712.000000  \n",
       "mean     0.372191    0.394663  \n",
       "std      0.649970    0.489122  \n",
       "min      0.000000    0.000000  \n",
       "25%      0.000000    0.000000  \n",
       "50%      0.000000    0.000000  \n",
       "75%      1.000000    1.000000  \n",
       "max      3.000000    1.000000  "
      ]
     },
     "execution_count": 58,
     "metadata": {},
     "output_type": "execute_result"
    }
   ],
   "source": [
    "df_train.describe()"
   ]
  },
  {
   "cell_type": "code",
   "execution_count": 59,
   "metadata": {
    "colab": {
     "base_uri": "https://localhost:8080/"
    },
    "id": "g7Pg2BEy7zPY",
    "outputId": "be01dd92-295d-492e-b18c-d80ae15f9f15"
   },
   "outputs": [
    {
     "name": "stdout",
     "output_type": "stream",
     "text": [
      "56\n"
     ]
    }
   ],
   "source": [
    "kidsSurvived=0\n",
    "for i in range(712):\n",
    "    if (df_train['Age'][i]<=18) and (df_train['Survived'][i]==1):\n",
    "        kidsSurvived+=1\n",
    "print(kidsSurvived)"
   ]
  },
  {
   "cell_type": "code",
   "execution_count": 60,
   "metadata": {
    "colab": {
     "base_uri": "https://localhost:8080/"
    },
    "id": "tglqYPFm_rEe",
    "outputId": "834e3b68-5eeb-4a4c-8204-b966f04ed038"
   },
   "outputs": [
    {
     "name": "stdout",
     "output_type": "stream",
     "text": [
      "69\n"
     ]
    }
   ],
   "source": [
    "menSurvived=0\n",
    "for i in range(712):\n",
    "    if (df_train['Sex'][i] == 1)and (df_train['Age'][i]>18) and (df_train['Survived'][i]==1):\n",
    "        menSurvived+=1\n",
    "print(menSurvived)"
   ]
  },
  {
   "cell_type": "code",
   "execution_count": 61,
   "metadata": {
    "colab": {
     "base_uri": "https://localhost:8080/"
    },
    "id": "WZkAQFkqABh-",
    "outputId": "aea2ba7c-2e02-43fd-b6f6-984c3191f39d"
   },
   "outputs": [
    {
     "name": "stdout",
     "output_type": "stream",
     "text": [
      "156\n"
     ]
    }
   ],
   "source": [
    "womenSurvived=0\n",
    "for i in range(712):\n",
    "    if (df_train['Sex'][i] == 0)and (df_train['Age'][i]>18) and (df_train['Survived'][i]==1):\n",
    "        womenSurvived+=1\n",
    "print(womenSurvived)"
   ]
  },
  {
   "cell_type": "code",
   "execution_count": 62,
   "metadata": {
    "colab": {
     "base_uri": "https://localhost:8080/"
    },
    "id": "-nmPiXDdAR6-",
    "outputId": "83e431eb-a451-400b-97c4-45dd9971ebc4"
   },
   "outputs": [
    {
     "name": "stdout",
     "output_type": "stream",
     "text": [
      "sum:  281\n",
      "True\n"
     ]
    }
   ],
   "source": [
    "sum = womenSurvived+menSurvived+kidsSurvived\n",
    "print(\"sum: \",sum)\n",
    "if sum == (df_train['Survived']==1).sum():\n",
    "    print(\"True\")\n",
    "else:\n",
    "    print(\"False\")"
   ]
  },
  {
   "cell_type": "code",
   "execution_count": 63,
   "metadata": {
    "colab": {
     "base_uri": "https://localhost:8080/"
    },
    "id": "747ApJI0-hi_",
    "outputId": "ab36bcb2-a527-4143-de85-a7e77866e7e6"
   },
   "outputs": [
    {
     "data": {
      "text/plain": [
       "Survived\n",
       "0    431\n",
       "1    281\n",
       "Name: count, dtype: int64"
      ]
     },
     "execution_count": 63,
     "metadata": {},
     "output_type": "execute_result"
    }
   ],
   "source": [
    "df_train['Survived'].value_counts()"
   ]
  },
  {
   "cell_type": "code",
   "execution_count": 64,
   "metadata": {},
   "outputs": [
    {
     "data": {
      "text/plain": [
       "'def min_max_scale(series, feature_range=(1, -1)):\\n    min_val = series.min()\\n    max_val = series.max()\\n    scale = (feature_range[1] - feature_range[0]) / (max_val - min_val)\\n    scaled_series = scale * (series - min_val) + feature_range[0]\\n    return scaled_series'"
      ]
     },
     "execution_count": 64,
     "metadata": {},
     "output_type": "execute_result"
    }
   ],
   "source": [
    "'''def min_max_scale(series, feature_range=(1, -1)):\n",
    "    min_val = series.min()\n",
    "    max_val = series.max()\n",
    "    scale = (feature_range[1] - feature_range[0]) / (max_val - min_val)\n",
    "    scaled_series = scale * (series - min_val) + feature_range[0]\n",
    "    return scaled_series'''"
   ]
  },
  {
   "cell_type": "code",
   "execution_count": 19,
   "metadata": {},
   "outputs": [
    {
     "data": {
      "text/html": [
       "<div>\n",
       "<style scoped>\n",
       "    .dataframe tbody tr th:only-of-type {\n",
       "        vertical-align: middle;\n",
       "    }\n",
       "\n",
       "    .dataframe tbody tr th {\n",
       "        vertical-align: top;\n",
       "    }\n",
       "\n",
       "    .dataframe thead th {\n",
       "        text-align: right;\n",
       "    }\n",
       "</style>\n",
       "<table border=\"1\" class=\"dataframe\">\n",
       "  <thead>\n",
       "    <tr style=\"text-align: right;\">\n",
       "      <th></th>\n",
       "      <th>Pclass</th>\n",
       "      <th>Sex</th>\n",
       "      <th>Age</th>\n",
       "      <th>SibSp</th>\n",
       "      <th>Parch</th>\n",
       "      <th>Fare</th>\n",
       "      <th>Embarked</th>\n",
       "      <th>Survived</th>\n",
       "    </tr>\n",
       "  </thead>\n",
       "  <tbody>\n",
       "    <tr>\n",
       "      <th>0</th>\n",
       "      <td>1</td>\n",
       "      <td>0</td>\n",
       "      <td>-0.344510</td>\n",
       "      <td>1</td>\n",
       "      <td>0</td>\n",
       "      <td>-0.694467</td>\n",
       "      <td>1</td>\n",
       "      <td>1</td>\n",
       "    </tr>\n",
       "    <tr>\n",
       "      <th>1</th>\n",
       "      <td>2</td>\n",
       "      <td>0</td>\n",
       "      <td>-0.117610</td>\n",
       "      <td>0</td>\n",
       "      <td>0</td>\n",
       "      <td>-0.947300</td>\n",
       "      <td>0</td>\n",
       "      <td>1</td>\n",
       "    </tr>\n",
       "    <tr>\n",
       "      <th>2</th>\n",
       "      <td>3</td>\n",
       "      <td>1</td>\n",
       "      <td>0.512669</td>\n",
       "      <td>0</td>\n",
       "      <td>0</td>\n",
       "      <td>-0.962914</td>\n",
       "      <td>0</td>\n",
       "      <td>0</td>\n",
       "    </tr>\n",
       "    <tr>\n",
       "      <th>3</th>\n",
       "      <td>3</td>\n",
       "      <td>1</td>\n",
       "      <td>0.109290</td>\n",
       "      <td>0</td>\n",
       "      <td>0</td>\n",
       "      <td>-0.969177</td>\n",
       "      <td>0</td>\n",
       "      <td>0</td>\n",
       "    </tr>\n",
       "    <tr>\n",
       "      <th>4</th>\n",
       "      <td>3</td>\n",
       "      <td>1</td>\n",
       "      <td>0.462246</td>\n",
       "      <td>0</td>\n",
       "      <td>0</td>\n",
       "      <td>-0.968575</td>\n",
       "      <td>0</td>\n",
       "      <td>0</td>\n",
       "    </tr>\n",
       "    <tr>\n",
       "      <th>...</th>\n",
       "      <td>...</td>\n",
       "      <td>...</td>\n",
       "      <td>...</td>\n",
       "      <td>...</td>\n",
       "      <td>...</td>\n",
       "      <td>...</td>\n",
       "      <td>...</td>\n",
       "      <td>...</td>\n",
       "    </tr>\n",
       "    <tr>\n",
       "      <th>707</th>\n",
       "      <td>1</td>\n",
       "      <td>1</td>\n",
       "      <td>-0.344510</td>\n",
       "      <td>0</td>\n",
       "      <td>0</td>\n",
       "      <td>-0.797542</td>\n",
       "      <td>0</td>\n",
       "      <td>0</td>\n",
       "    </tr>\n",
       "    <tr>\n",
       "      <th>708</th>\n",
       "      <td>3</td>\n",
       "      <td>1</td>\n",
       "      <td>0.663935</td>\n",
       "      <td>5</td>\n",
       "      <td>2</td>\n",
       "      <td>-0.816915</td>\n",
       "      <td>0</td>\n",
       "      <td>0</td>\n",
       "    </tr>\n",
       "    <tr>\n",
       "      <th>709</th>\n",
       "      <td>2</td>\n",
       "      <td>0</td>\n",
       "      <td>0.865625</td>\n",
       "      <td>0</td>\n",
       "      <td>1</td>\n",
       "      <td>-0.871177</td>\n",
       "      <td>0</td>\n",
       "      <td>1</td>\n",
       "    </tr>\n",
       "    <tr>\n",
       "      <th>710</th>\n",
       "      <td>2</td>\n",
       "      <td>1</td>\n",
       "      <td>0.268143</td>\n",
       "      <td>0</td>\n",
       "      <td>0</td>\n",
       "      <td>-1.000000</td>\n",
       "      <td>0</td>\n",
       "      <td>0</td>\n",
       "    </tr>\n",
       "    <tr>\n",
       "      <th>711</th>\n",
       "      <td>1</td>\n",
       "      <td>0</td>\n",
       "      <td>0.386613</td>\n",
       "      <td>1</td>\n",
       "      <td>2</td>\n",
       "      <td>-0.408388</td>\n",
       "      <td>0</td>\n",
       "      <td>0</td>\n",
       "    </tr>\n",
       "  </tbody>\n",
       "</table>\n",
       "<p>712 rows × 8 columns</p>\n",
       "</div>"
      ],
      "text/plain": [
       "     Pclass  Sex       Age  SibSp  Parch      Fare  Embarked  Survived\n",
       "0         1    0 -0.344510      1      0 -0.694467         1         1\n",
       "1         2    0 -0.117610      0      0 -0.947300         0         1\n",
       "2         3    1  0.512669      0      0 -0.962914         0         0\n",
       "3         3    1  0.109290      0      0 -0.969177         0         0\n",
       "4         3    1  0.462246      0      0 -0.968575         0         0\n",
       "..      ...  ...       ...    ...    ...       ...       ...       ...\n",
       "707       1    1 -0.344510      0      0 -0.797542         0         0\n",
       "708       3    1  0.663935      5      2 -0.816915         0         0\n",
       "709       2    0  0.865625      0      1 -0.871177         0         1\n",
       "710       2    1  0.268143      0      0 -1.000000         0         0\n",
       "711       1    0  0.386613      1      2 -0.408388         0         0\n",
       "\n",
       "[712 rows x 8 columns]"
      ]
     },
     "execution_count": 19,
     "metadata": {},
     "output_type": "execute_result"
    }
   ],
   "source": [
    "df_train['Age'] = min_max_scale(df_train['Age'])\n",
    "df_train['Fare'] = min_max_scale(df_train['Fare'])\n",
    "df_train"
   ]
  },
  {
   "cell_type": "code",
   "execution_count": 21,
   "metadata": {},
   "outputs": [],
   "source": [
    "def EuclideanDist(pointA,PointB):\n",
    "    vector_len=len(pointA)\n",
    "    sum=0\n",
    "    for i in range(vector_len):\n",
    "        diff = pointA[i]-pointB[i]\n",
    "        diff**2\n",
    "        sum+=diff\n",
    "    return np.sqrt(sum)"
   ]
  },
  {
   "cell_type": "code",
   "execution_count": 22,
   "metadata": {},
   "outputs": [],
   "source": [
    "def ManhattanDist(pointA,pointB):\n",
    "    vector_len=len(pointA)\n",
    "    sum=0\n",
    "    for i in range(vector_len):\n",
    "        diff = np.abs(pointA[i]-pointB[i])\n",
    "        sum+=diff\n",
    "    return sum"
   ]
  },
  {
   "cell_type": "code",
   "execution_count": 32,
   "metadata": {},
   "outputs": [],
   "source": [
    "def ChebyshevDist(pointA,pointB):\n",
    "    vector_len = len(pointA)\n",
    "    d=[]\n",
    "    for i in range(vector_len):\n",
    "        diff = pointA[i]-pointB[i]\n",
    "        d.append(diff)\n",
    "    return min(d)"
   ]
  },
  {
   "cell_type": "code",
   "execution_count": 34,
   "metadata": {},
   "outputs": [],
   "source": [
    "def KNN(pointA, Dataset, metric, data_label, label, k):\n",
    "    dist_vector = pd.Series(Dataset.index)\n",
    "    sum=0\n",
    "    if metric == 1:\n",
    "        for i in Dataset.index:\n",
    "            dist_vector[i] = ManhattanDist(pointA,Dataset.loc[i])\n",
    "    elif metric == 2:\n",
    "        for i in Dataset.index:\n",
    "            dist_vector[i] = EuclideanDist(pointA,Dataset.loc[i])\n",
    "    else:\n",
    "        for i in Dataset.index:\n",
    "            dist_vector[i] = ChebyshevDist(pointA,Dataset.loc[i])\n",
    "    k_nearest = dist_vector.sort_values()[:k]\n",
    "    for i in k_nearest.index:\n",
    "        sum += data_label[label][i]\n",
    "    if sum >= k/2:\n",
    "        return 1\n",
    "    else:\n",
    "        return 0"
   ]
  },
  {
   "cell_type": "code",
   "execution_count": 66,
   "metadata": {},
   "outputs": [
    {
     "data": {
      "text/plain": [
       "0      1\n",
       "1      1\n",
       "2      0\n",
       "3      0\n",
       "4      0\n",
       "      ..\n",
       "707    0\n",
       "708    0\n",
       "709    1\n",
       "710    0\n",
       "711    0\n",
       "Name: Survived, Length: 712, dtype: int64"
      ]
     },
     "execution_count": 66,
     "metadata": {},
     "output_type": "execute_result"
    }
   ],
   "source": [
    "x_feature = df_train[['Age','Sex','Fare','Embarked']]\n",
    "y_label = df_train['Survived']\n",
    "y_label"
   ]
  },
  {
   "cell_type": "code",
   "execution_count": 45,
   "metadata": {},
   "outputs": [
    {
     "data": {
      "text/html": [
       "<div>\n",
       "<style scoped>\n",
       "    .dataframe tbody tr th:only-of-type {\n",
       "        vertical-align: middle;\n",
       "    }\n",
       "\n",
       "    .dataframe tbody tr th {\n",
       "        vertical-align: top;\n",
       "    }\n",
       "\n",
       "    .dataframe thead th {\n",
       "        text-align: right;\n",
       "    }\n",
       "</style>\n",
       "<table border=\"1\" class=\"dataframe\">\n",
       "  <thead>\n",
       "    <tr style=\"text-align: right;\">\n",
       "      <th></th>\n",
       "      <th>Pclass</th>\n",
       "      <th>Sex</th>\n",
       "      <th>Age</th>\n",
       "      <th>SibSp</th>\n",
       "      <th>Parch</th>\n",
       "      <th>Fare</th>\n",
       "      <th>Embarked</th>\n",
       "      <th>Survived</th>\n",
       "    </tr>\n",
       "  </thead>\n",
       "  <tbody>\n",
       "    <tr>\n",
       "      <th>0</th>\n",
       "      <td>1</td>\n",
       "      <td>0</td>\n",
       "      <td>-0.344510</td>\n",
       "      <td>1</td>\n",
       "      <td>0</td>\n",
       "      <td>-0.694467</td>\n",
       "      <td>1</td>\n",
       "      <td>1</td>\n",
       "    </tr>\n",
       "    <tr>\n",
       "      <th>1</th>\n",
       "      <td>2</td>\n",
       "      <td>0</td>\n",
       "      <td>-0.117610</td>\n",
       "      <td>0</td>\n",
       "      <td>0</td>\n",
       "      <td>-0.947300</td>\n",
       "      <td>0</td>\n",
       "      <td>1</td>\n",
       "    </tr>\n",
       "    <tr>\n",
       "      <th>2</th>\n",
       "      <td>3</td>\n",
       "      <td>1</td>\n",
       "      <td>0.512669</td>\n",
       "      <td>0</td>\n",
       "      <td>0</td>\n",
       "      <td>-0.962914</td>\n",
       "      <td>0</td>\n",
       "      <td>0</td>\n",
       "    </tr>\n",
       "    <tr>\n",
       "      <th>3</th>\n",
       "      <td>3</td>\n",
       "      <td>1</td>\n",
       "      <td>0.109290</td>\n",
       "      <td>0</td>\n",
       "      <td>0</td>\n",
       "      <td>-0.969177</td>\n",
       "      <td>0</td>\n",
       "      <td>0</td>\n",
       "    </tr>\n",
       "    <tr>\n",
       "      <th>4</th>\n",
       "      <td>3</td>\n",
       "      <td>1</td>\n",
       "      <td>0.462246</td>\n",
       "      <td>0</td>\n",
       "      <td>0</td>\n",
       "      <td>-0.968575</td>\n",
       "      <td>0</td>\n",
       "      <td>0</td>\n",
       "    </tr>\n",
       "  </tbody>\n",
       "</table>\n",
       "</div>"
      ],
      "text/plain": [
       "   Pclass  Sex       Age  SibSp  Parch      Fare  Embarked  Survived\n",
       "0       1    0 -0.344510      1      0 -0.694467         1         1\n",
       "1       2    0 -0.117610      0      0 -0.947300         0         1\n",
       "2       3    1  0.512669      0      0 -0.962914         0         0\n",
       "3       3    1  0.109290      0      0 -0.969177         0         0\n",
       "4       3    1  0.462246      0      0 -0.968575         0         0"
      ]
     },
     "execution_count": 45,
     "metadata": {},
     "output_type": "execute_result"
    }
   ],
   "source": [
    "df_train.head()"
   ]
  },
  {
   "cell_type": "code",
   "execution_count": 82,
   "metadata": {},
   "outputs": [],
   "source": [
    "df_test = pd.read_csv('titanic_test.csv')\n",
    "x_test = df_test[['Age','Sex','Fare','Embarked']]\n",
    "y_test = df_test['Survived']"
   ]
  },
  {
   "cell_type": "code",
   "execution_count": 83,
   "metadata": {},
   "outputs": [
    {
     "name": "stdout",
     "output_type": "stream",
     "text": [
      "accuracy:  0.7486033519553073\n"
     ]
    }
   ],
   "source": [
    "knn = KNeighborsClassifier(n_neighbors=11)\n",
    "knn.fit(x_feature,y_label)\n",
    "y_predict = knn.predict(x_test)\n",
    "accuracy = accuracy_score(y_test,y_predict)\n",
    "print(\"accuracy: \", accuracy)"
   ]
  },
  {
   "cell_type": "code",
   "execution_count": 88,
   "metadata": {},
   "outputs": [],
   "source": [
    "neighbors = np.arange(1, 100)\n",
    "accuracy_scores=[]\n",
    "for n in neighboars:\n",
    "    knn = KNeighborsClassifier(n_neighbors=n)\n",
    "    knn.fit(x_feature,y_label)\n",
    "    y_pred = knn.predict(x_test)\n",
    "    accuracy = accuracy_score(y_test, y_pred)\n",
    "    accuracy_scores.append(accuracy)"
   ]
  },
  {
   "cell_type": "code",
   "execution_count": 90,
   "metadata": {},
   "outputs": [
    {
     "data": {
      "image/png": "[encoded data removed]",
      "text/plain": [
       "<Figure size 640x480 with 1 Axes>"
      ]
     },
     "metadata": {},
     "output_type": "display_data"
    }
   ],
   "source": [
    "plt.plot(neighbors, accuracy_scores)\n",
    "plt.xlabel('Number of Neighbors')\n",
    "plt.ylabel('Accuracy')\n",
    "plt.title('Accuracy vs. Number of Neighbors')\n",
    "plt.show()"
   ]
  }
 ],
 "metadata": {
  "colab": {
   "authorship_tag": "ABX9TyNIipSItBwxs/BORl3pVkbP",
   "include_colab_link": true,
   "provenance": []
  },
  "kernelspec": {
   "display_name": "Python 3 (ipykernel)",
   "language": "python",
   "name": "python3"
  },
  "language_info": {
   "codemirror_mode": {
    "name": "ipython",
    "version": 3
   },
   "file_extension": ".py",
   "mimetype": "text/x-python",
   "name": "python",
   "nbconvert_exporter": "python",
   "pygments_lexer": "ipython3",
   "version": "3.11.7"
  }
 },
 "nbformat": 4,
 "nbformat_minor": 4
}
